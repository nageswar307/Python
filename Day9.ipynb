{
  "nbformat": 4,
  "nbformat_minor": 0,
  "metadata": {
    "colab": {
      "provenance": [],
      "authorship_tag": "ABX9TyPkN9Jvi0k1Ty5Ia/5GmicE",
      "include_colab_link": true
    },
    "kernelspec": {
      "name": "python3",
      "display_name": "Python 3"
    },
    "language_info": {
      "name": "python"
    }
  },
  "cells": [
    {
      "cell_type": "markdown",
      "metadata": {
        "id": "view-in-github",
        "colab_type": "text"
      },
      "source": [
        "<a href=\"https://colab.research.google.com/github/nageswar307/Python/blob/main/Day9.ipynb\" target=\"_parent\"><img src=\"https://colab.research.google.com/assets/colab-badge.svg\" alt=\"Open In Colab\"/></a>"
      ]
    },
    {
      "cell_type": "code",
      "execution_count": 2,
      "metadata": {
        "colab": {
          "base_uri": "https://localhost:8080/"
        },
        "id": "Ir1T8DVMSJvh",
        "outputId": "c94e72f3-6280-4051-b330-adec9c6654ec"
      },
      "outputs": [
        {
          "name": "stdout",
          "output_type": "stream",
          "text": [
            "what's your namedfjsknnc\n"
          ]
        }
      ],
      "source": [
        "name = input(\"what's your name\")"
      ]
    },
    {
      "cell_type": "code",
      "source": [
        "x = 100\n",
        "y = 200\n",
        "z = 300"
      ],
      "metadata": {
        "id": "8UE-zi__TJdO"
      },
      "execution_count": 12,
      "outputs": []
    },
    {
      "cell_type": "code",
      "source": [
        "print(x,y)"
      ],
      "metadata": {
        "colab": {
          "base_uri": "https://localhost:8080/"
        },
        "id": "eHdVwoWOSqwm",
        "outputId": "827db864-a943-4684-814b-2c82cc8e02e5"
      },
      "execution_count": 13,
      "outputs": [
        {
          "output_type": "stream",
          "name": "stdout",
          "text": [
            "100 200\n"
          ]
        }
      ]
    },
    {
      "cell_type": "code",
      "source": [
        "print(x,y,sep = \"|\")"
      ],
      "metadata": {
        "colab": {
          "base_uri": "https://localhost:8080/"
        },
        "id": "ldv5fxZWUD_N",
        "outputId": "5f174b31-eac7-4f67-9e4b-8d69c8820ea7"
      },
      "execution_count": 19,
      "outputs": [
        {
          "output_type": "stream",
          "name": "stdout",
          "text": [
            "100|200\n"
          ]
        }
      ]
    },
    {
      "cell_type": "code",
      "source": [
        "print(x,y,end = \" \")\n",
        "print(z)\n"
      ],
      "metadata": {
        "colab": {
          "base_uri": "https://localhost:8080/"
        },
        "id": "cPG4letPTQJH",
        "outputId": "364c4459-3d30-4c13-e45b-327eb78fe748"
      },
      "execution_count": 18,
      "outputs": [
        {
          "output_type": "stream",
          "name": "stdout",
          "text": [
            "100 200 300\n"
          ]
        }
      ]
    },
    {
      "cell_type": "code",
      "source": [
        "name = input(\"what's your name\")\n",
        "print(f\"hi {name} how you are doing\")"
      ],
      "metadata": {
        "colab": {
          "base_uri": "https://localhost:8080/"
        },
        "id": "XlgEV_WoTovz",
        "outputId": "d745cd0c-2426-46df-e2dd-fe442949873b"
      },
      "execution_count": 22,
      "outputs": [
        {
          "output_type": "stream",
          "name": "stdout",
          "text": [
            "what's your namenageswar\n",
            "hi nageswar how you are doing\n"
          ]
        }
      ]
    },
    {
      "cell_type": "code",
      "source": [
        "print(\"hi this item \\\"XYZ\\\" very important\")"
      ],
      "metadata": {
        "colab": {
          "base_uri": "https://localhost:8080/"
        },
        "id": "F_HSLmTLVBVE",
        "outputId": "0fe95690-c6dc-4098-b85c-576dd8158287"
      },
      "execution_count": 24,
      "outputs": [
        {
          "output_type": "stream",
          "name": "stdout",
          "text": [
            "hi this item \"XYZ\" very important\n"
          ]
        }
      ]
    },
    {
      "cell_type": "code",
      "source": [
        "print('hi this item \"XYZ\" very important')"
      ],
      "metadata": {
        "colab": {
          "base_uri": "https://localhost:8080/"
        },
        "id": "5GlSeE-UVXVg",
        "outputId": "bf09d77d-25bf-429e-8795-25958174a695"
      },
      "execution_count": 25,
      "outputs": [
        {
          "output_type": "stream",
          "name": "stdout",
          "text": [
            "hi this item \"XYZ\" very important\n"
          ]
        }
      ]
    },
    {
      "cell_type": "code",
      "source": [
        "print(\"hi this item 'XYZ' very important\")"
      ],
      "metadata": {
        "colab": {
          "base_uri": "https://localhost:8080/"
        },
        "id": "UXyLnRLYVe5I",
        "outputId": "2c3583be-0bbd-472b-9183-8f985d661e6b"
      },
      "execution_count": 26,
      "outputs": [
        {
          "output_type": "stream",
          "name": "stdout",
          "text": [
            "hi this item 'XYZ' very important\n"
          ]
        }
      ]
    },
    {
      "cell_type": "code",
      "source": [
        "print('hi this item \\'XYZ\\' very important')"
      ],
      "metadata": {
        "colab": {
          "base_uri": "https://localhost:8080/"
        },
        "id": "OS7LYhvvVk6h",
        "outputId": "a0b5ecb0-41e4-47fe-92e5-7340ba388829"
      },
      "execution_count": 27,
      "outputs": [
        {
          "output_type": "stream",
          "name": "stdout",
          "text": [
            "hi this item 'XYZ' very important\n"
          ]
        }
      ]
    },
    {
      "cell_type": "code",
      "source": [
        "int,float.str,boolean"
      ],
      "metadata": {
        "id": "mflJ6MK3Vpw3"
      },
      "execution_count": null,
      "outputs": []
    },
    {
      "cell_type": "code",
      "source": [
        "name = \"xyz\"\n",
        "age = 10\n",
        "price = 10.5\n",
        "exists = True\n",
        "does_not_exist = False"
      ],
      "metadata": {
        "id": "DlwMkuQJV1Z0"
      },
      "execution_count": 28,
      "outputs": []
    },
    {
      "cell_type": "code",
      "source": [
        "age = input(\"enter your age\")\n",
        "print(age)\n",
        "print(type(age))"
      ],
      "metadata": {
        "colab": {
          "base_uri": "https://localhost:8080/"
        },
        "id": "P-RJ2lxuWNt7",
        "outputId": "809ed636-e6b8-40f5-b780-c1f0735955ca"
      },
      "execution_count": 34,
      "outputs": [
        {
          "output_type": "stream",
          "name": "stdout",
          "text": [
            "enter your age10\n",
            "10\n",
            "<class 'str'>\n"
          ]
        }
      ]
    },
    {
      "cell_type": "code",
      "source": [
        "type(age)"
      ],
      "metadata": {
        "colab": {
          "base_uri": "https://localhost:8080/"
        },
        "id": "Skmt08mjWYYf",
        "outputId": "2b55d962-8e1b-4601-988a-7c29e28361bd"
      },
      "execution_count": 30,
      "outputs": [
        {
          "output_type": "execute_result",
          "data": {
            "text/plain": [
              "str"
            ]
          },
          "metadata": {},
          "execution_count": 30
        }
      ]
    },
    {
      "cell_type": "code",
      "source": [
        "age = input(\"enter your age\")\n",
        "age = int(age)\n",
        "print(age)\n",
        "print(type(age))"
      ],
      "metadata": {
        "colab": {
          "base_uri": "https://localhost:8080/"
        },
        "id": "MLpCTZseWfRt",
        "outputId": "3af03605-8c86-4d62-c149-9e6f0d7884b2"
      },
      "execution_count": 33,
      "outputs": [
        {
          "output_type": "stream",
          "name": "stdout",
          "text": [
            "enter your age10\n",
            "10\n",
            "<class 'int'>\n"
          ]
        }
      ]
    },
    {
      "cell_type": "code",
      "source": [
        "age = input(\"enter your age\")\n",
        "age = float(age)\n",
        "print(age)\n",
        "print(type(age))"
      ],
      "metadata": {
        "colab": {
          "base_uri": "https://localhost:8080/"
        },
        "id": "mrgzb-TnWxwQ",
        "outputId": "6dc7d1ec-e9c9-4ce9-da9c-714357436777"
      },
      "execution_count": 35,
      "outputs": [
        {
          "output_type": "stream",
          "name": "stdout",
          "text": [
            "enter your age10\n",
            "10.0\n",
            "<class 'float'>\n"
          ]
        }
      ]
    },
    {
      "cell_type": "code",
      "source": [
        "100**3"
      ],
      "metadata": {
        "colab": {
          "base_uri": "https://localhost:8080/"
        },
        "id": "fV4NehtXXuzI",
        "outputId": "0e56ea6b-0298-4244-982b-afeb07dd350d"
      },
      "execution_count": 41,
      "outputs": [
        {
          "output_type": "execute_result",
          "data": {
            "text/plain": [
              "1000000"
            ]
          },
          "metadata": {},
          "execution_count": 41
        }
      ]
    },
    {
      "cell_type": "code",
      "source": [
        "## Basic Arithmetic opearations\n",
        "p = 100\n",
        "q = 9\n",
        "print(\"summation of p & q is \", p+q)\n",
        "print(\"subtraction of p & q is \", p-q)\n",
        "print(\"multiplication of p & q is \", p*q)\n",
        "print(\"division of p & q is \", p/q)\n",
        "print(\"floor division of p & q is \", p//q)\n",
        "print(\"modulus of p & q is \", p%q)\n",
        "print(\"power of p & q is \", p**q)"
      ],
      "metadata": {
        "colab": {
          "base_uri": "https://localhost:8080/"
        },
        "id": "qqjn0YTBXDGc",
        "outputId": "3f13eeb1-9166-44f3-fefa-5272f684df37"
      },
      "execution_count": 36,
      "outputs": [
        {
          "output_type": "stream",
          "name": "stdout",
          "text": [
            "summation of p & q is  109\n",
            "subtraction of p & q is  91\n",
            "multiplication of p & q is  900\n",
            "division of p & q is  11.11111111111111\n",
            "floor division of p & q is  11\n",
            "modulus of p & q is  1\n",
            "power of p & q is  1000000000000000000\n"
          ]
        }
      ]
    },
    {
      "cell_type": "code",
      "source": [
        "# if condition1 :\n"
      ],
      "metadata": {
        "id": "Khhcth5hYid_"
      },
      "execution_count": null,
      "outputs": []
    },
    {
      "cell_type": "code",
      "source": [
        "z = 10\n",
        "q = 20\n",
        "\n",
        "num = input(\"enter a number\")\n",
        "num = int(num)\n",
        "\n",
        "\n",
        "# if --> elif(can check multiple conditions) ---> else\n",
        "if num < z:\n",
        "    print(f\"{num} is less than {z}\")\n",
        "elif num == z or num ==q :\n",
        "    print(f\"{num} is equal to either z or q\")\n",
        "elif num > q:\n",
        "    print(f\"{num} is greater than {z}\")\n",
        "else:\n",
        "    print(f\"it is in the range of {z} and {20}\")\n"
      ],
      "metadata": {
        "colab": {
          "base_uri": "https://localhost:8080/"
        },
        "id": "GtWQbYQGXXvK",
        "outputId": "a4826290-638d-4703-aa51-776e05a6097a"
      },
      "execution_count": 56,
      "outputs": [
        {
          "output_type": "stream",
          "name": "stdout",
          "text": [
            "enter a number10\n",
            "10 is equal to either z or q\n"
          ]
        }
      ]
    }
  ]
}