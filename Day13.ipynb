{
  "nbformat": 4,
  "nbformat_minor": 0,
  "metadata": {
    "colab": {
      "provenance": [],
      "authorship_tag": "ABX9TyOTkeA9wgEo4Oo2ZLZNxA5m",
      "include_colab_link": true
    },
    "kernelspec": {
      "name": "python3",
      "display_name": "Python 3"
    },
    "language_info": {
      "name": "python"
    }
  },
  "cells": [
    {
      "cell_type": "markdown",
      "metadata": {
        "id": "view-in-github",
        "colab_type": "text"
      },
      "source": [
        "<a href=\"https://colab.research.google.com/github/nageswar307/Python/blob/main/Day13.ipynb\" target=\"_parent\"><img src=\"https://colab.research.google.com/assets/colab-badge.svg\" alt=\"Open In Colab\"/></a>"
      ]
    },
    {
      "cell_type": "code",
      "execution_count": 2,
      "metadata": {
        "id": "mCw648nnF5yg"
      },
      "outputs": [],
      "source": [
        "## Dictionaries\n",
        "\n",
        "# dict's are collection of key-value pairs\n",
        "# they are unordered i.e we can't use indexing to access elements\n",
        "# keys should be immutable i.e we can't use lists as keys\n"
      ]
    },
    {
      "cell_type": "code",
      "source": [
        "dict1 = {}\n",
        "dict1 = dict()\n"
      ],
      "metadata": {
        "id": "1zmdc7P1JMfQ"
      },
      "execution_count": 1,
      "outputs": []
    },
    {
      "cell_type": "code",
      "source": [
        "dict1 = {\"name\":\"Alice\",\n",
        "         \"age\" : 25}"
      ],
      "metadata": {
        "id": "P8aSL2YfJRBc"
      },
      "execution_count": 3,
      "outputs": []
    },
    {
      "cell_type": "code",
      "source": [
        "dict1 = {\"name\":\"Alice\", # duplicate keys\n",
        "         \"age\" : 25,\n",
        "         }"
      ],
      "metadata": {
        "id": "yfzw9fo0Jgj2"
      },
      "execution_count": 4,
      "outputs": []
    },
    {
      "cell_type": "code",
      "source": [
        "dict1[\"name\"] # accessing elements"
      ],
      "metadata": {
        "colab": {
          "base_uri": "https://localhost:8080/",
          "height": 35
        },
        "id": "l45lnu03JnyB",
        "outputId": "07c695c8-7106-4fbb-c1f7-4bfc9cb0f9b8"
      },
      "execution_count": 5,
      "outputs": [
        {
          "output_type": "execute_result",
          "data": {
            "text/plain": [
              "'Bob'"
            ],
            "application/vnd.google.colaboratory.intrinsic+json": {
              "type": "string"
            }
          },
          "metadata": {},
          "execution_count": 5
        }
      ]
    },
    {
      "cell_type": "code",
      "source": [
        "dict1 = {\"name\":\"Alice\",\n",
        "         \"age\" : 25}\n",
        "\n",
        "dict1[\"education\"]"
      ],
      "metadata": {
        "colab": {
          "base_uri": "https://localhost:8080/",
          "height": 176
        },
        "id": "kSffibh4JwAx",
        "outputId": "fd591807-441b-4f6b-b279-b6375c9704c5"
      },
      "execution_count": 6,
      "outputs": [
        {
          "output_type": "error",
          "ename": "KeyError",
          "evalue": "'education'",
          "traceback": [
            "\u001b[0;31m---------------------------------------------------------------------------\u001b[0m",
            "\u001b[0;31mKeyError\u001b[0m                                  Traceback (most recent call last)",
            "\u001b[0;32m<ipython-input-6-0f93c10628a2>\u001b[0m in \u001b[0;36m<cell line: 4>\u001b[0;34m()\u001b[0m\n\u001b[1;32m      2\u001b[0m          \"age\" : 25}\n\u001b[1;32m      3\u001b[0m \u001b[0;34m\u001b[0m\u001b[0m\n\u001b[0;32m----> 4\u001b[0;31m \u001b[0mdict1\u001b[0m\u001b[0;34m[\u001b[0m\u001b[0;34m\"education\"\u001b[0m\u001b[0;34m]\u001b[0m\u001b[0;34m\u001b[0m\u001b[0;34m\u001b[0m\u001b[0m\n\u001b[0m",
            "\u001b[0;31mKeyError\u001b[0m: 'education'"
          ]
        }
      ]
    },
    {
      "cell_type": "code",
      "source": [
        "dict1 = {\"name\":\"Alice\",\n",
        "         \"age\" : 25}\n",
        "dict1.get(\"education\",\"Not Available\")"
      ],
      "metadata": {
        "colab": {
          "base_uri": "https://localhost:8080/",
          "height": 35
        },
        "id": "5G7gyDnDKoy_",
        "outputId": "8c4fb626-e9ea-4d89-a755-7d03d4ff5969"
      },
      "execution_count": 13,
      "outputs": [
        {
          "output_type": "execute_result",
          "data": {
            "text/plain": [
              "'Not Available'"
            ],
            "application/vnd.google.colaboratory.intrinsic+json": {
              "type": "string"
            }
          },
          "metadata": {},
          "execution_count": 13
        }
      ]
    },
    {
      "cell_type": "code",
      "source": [
        "dict1 = {\"name\":\"Alice\",\n",
        "         \"age\" : 25}\n",
        "dict1.setdefault(\"education\",\"Not Available\")\n",
        "dict1"
      ],
      "metadata": {
        "colab": {
          "base_uri": "https://localhost:8080/"
        },
        "id": "WSPnXLbyKvWQ",
        "outputId": "914f99d0-ab28-41b1-a41f-f4f77e5b585d"
      },
      "execution_count": 18,
      "outputs": [
        {
          "output_type": "execute_result",
          "data": {
            "text/plain": [
              "{'name': 'Alice', 'age': 25, 'education': 'Not Available'}"
            ]
          },
          "metadata": {},
          "execution_count": 18
        }
      ]
    },
    {
      "cell_type": "code",
      "source": [
        "dict1.setdefault(\"education\",\"NA\")\n",
        "dict1"
      ],
      "metadata": {
        "colab": {
          "base_uri": "https://localhost:8080/"
        },
        "id": "2LRl9RtoLQiR",
        "outputId": "723739af-1782-456f-af4d-20d5ea831e8e"
      },
      "execution_count": 17,
      "outputs": [
        {
          "output_type": "execute_result",
          "data": {
            "text/plain": [
              "{'name': 'Alice', 'age': 25, 'education': 'Not Available'}"
            ]
          },
          "metadata": {},
          "execution_count": 17
        }
      ]
    },
    {
      "cell_type": "code",
      "source": [
        "dict1.keys()"
      ],
      "metadata": {
        "colab": {
          "base_uri": "https://localhost:8080/"
        },
        "id": "L_zleMm6LwvE",
        "outputId": "e6077609-ef07-4c3c-b1a1-8c63b97b404b"
      },
      "execution_count": 19,
      "outputs": [
        {
          "output_type": "execute_result",
          "data": {
            "text/plain": [
              "dict_keys(['name', 'age', 'education'])"
            ]
          },
          "metadata": {},
          "execution_count": 19
        }
      ]
    },
    {
      "cell_type": "code",
      "source": [
        "dict1.values()"
      ],
      "metadata": {
        "colab": {
          "base_uri": "https://localhost:8080/"
        },
        "id": "8BATCgmUL2_w",
        "outputId": "3c4b24b5-1a93-4b30-9703-0448d398e714"
      },
      "execution_count": 20,
      "outputs": [
        {
          "output_type": "execute_result",
          "data": {
            "text/plain": [
              "dict_values(['Alice', 25, 'Not Available'])"
            ]
          },
          "metadata": {},
          "execution_count": 20
        }
      ]
    },
    {
      "cell_type": "code",
      "source": [
        "dict1.items()"
      ],
      "metadata": {
        "colab": {
          "base_uri": "https://localhost:8080/"
        },
        "id": "AlNUpn9GL5Vk",
        "outputId": "6e6af91c-6f0f-4231-eacf-3c177bbe6bf0"
      },
      "execution_count": 21,
      "outputs": [
        {
          "output_type": "execute_result",
          "data": {
            "text/plain": [
              "dict_items([('name', 'Alice'), ('age', 25), ('education', 'Not Available')])"
            ]
          },
          "metadata": {},
          "execution_count": 21
        }
      ]
    },
    {
      "cell_type": "code",
      "source": [
        "dict1 = {\"name\":\"Alice\",\n",
        "         \"age\" : 25}\n",
        "\n",
        "dict1[\"instutute\"] = \"ABC\"\n",
        "\n",
        "dict1"
      ],
      "metadata": {
        "colab": {
          "base_uri": "https://localhost:8080/"
        },
        "id": "ko9ZKFtIL7Bx",
        "outputId": "218cce26-ab6e-42a1-8720-f69c2f2ec5f8"
      },
      "execution_count": 22,
      "outputs": [
        {
          "output_type": "execute_result",
          "data": {
            "text/plain": [
              "{'name': 'Alice', 'age': 25, 'instutute': 'ABC'}"
            ]
          },
          "metadata": {},
          "execution_count": 22
        }
      ]
    },
    {
      "cell_type": "code",
      "source": [
        "del dict1[\"instutute\"]\n",
        "dict1"
      ],
      "metadata": {
        "colab": {
          "base_uri": "https://localhost:8080/"
        },
        "id": "0sf_yk6oML-L",
        "outputId": "4297b883-e31c-4e8a-e087-d8951872eb4a"
      },
      "execution_count": 23,
      "outputs": [
        {
          "output_type": "execute_result",
          "data": {
            "text/plain": [
              "{'name': 'Alice', 'age': 25}"
            ]
          },
          "metadata": {},
          "execution_count": 23
        }
      ]
    },
    {
      "cell_type": "code",
      "source": [
        "dict1.pop(\"age\")"
      ],
      "metadata": {
        "colab": {
          "base_uri": "https://localhost:8080/"
        },
        "id": "WXK3Yt2tMTAW",
        "outputId": "84fec321-ef4c-4b01-d72b-12db4d2e2aef"
      },
      "execution_count": 24,
      "outputs": [
        {
          "output_type": "execute_result",
          "data": {
            "text/plain": [
              "25"
            ]
          },
          "metadata": {},
          "execution_count": 24
        }
      ]
    },
    {
      "cell_type": "code",
      "source": [
        "dict1"
      ],
      "metadata": {
        "colab": {
          "base_uri": "https://localhost:8080/"
        },
        "id": "Os342bdQMXen",
        "outputId": "aa1bedc2-e294-440a-c63d-2e7b1d86065a"
      },
      "execution_count": 25,
      "outputs": [
        {
          "output_type": "execute_result",
          "data": {
            "text/plain": [
              "{'name': 'Alice'}"
            ]
          },
          "metadata": {},
          "execution_count": 25
        }
      ]
    },
    {
      "cell_type": "code",
      "source": [
        "# return integer values present in a dict and delete them from original\n",
        "\n",
        "dict1 = {\"name\":\"Alice\",\n",
        "         \"age\" : 25}\n",
        "\n",
        "for key,value in dict1.items():\n",
        "  print(key,value)\n",
        "  if isinstance(value,int):\n",
        "    print(key,value)"
      ],
      "metadata": {
        "colab": {
          "base_uri": "https://localhost:8080/"
        },
        "id": "KpEKwz8iMYrO",
        "outputId": "41194803-a8de-4736-95a6-347efddd430b"
      },
      "execution_count": 31,
      "outputs": [
        {
          "output_type": "stream",
          "name": "stdout",
          "text": [
            "name Alice\n",
            "age 25\n",
            "age 25\n"
          ]
        }
      ]
    },
    {
      "cell_type": "code",
      "source": [
        "for key,value in dict1.items():\n",
        "  print(key,value)"
      ],
      "metadata": {
        "colab": {
          "base_uri": "https://localhost:8080/"
        },
        "id": "D0eCQIgpOAR0",
        "outputId": "b0315a6d-5a00-4175-f61f-73aba11c7af7"
      },
      "execution_count": 32,
      "outputs": [
        {
          "output_type": "stream",
          "name": "stdout",
          "text": [
            "name Alice\n",
            "age 25\n"
          ]
        }
      ]
    },
    {
      "cell_type": "code",
      "source": [
        "for key in dict1.keys():\n",
        "  print(key)"
      ],
      "metadata": {
        "colab": {
          "base_uri": "https://localhost:8080/"
        },
        "id": "Bu_x5vYcON-R",
        "outputId": "8a31622b-7296-4e06-925e-3c66ee4b5943"
      },
      "execution_count": 33,
      "outputs": [
        {
          "output_type": "stream",
          "name": "stdout",
          "text": [
            "name\n",
            "age\n"
          ]
        }
      ]
    },
    {
      "cell_type": "code",
      "source": [
        "for v in dict1.values():\n",
        "  print(v)"
      ],
      "metadata": {
        "colab": {
          "base_uri": "https://localhost:8080/"
        },
        "id": "JCnk4aeJOSf2",
        "outputId": "ff6ac51f-ff76-4e75-b1c4-04e4e5fa8b05"
      },
      "execution_count": 34,
      "outputs": [
        {
          "output_type": "stream",
          "name": "stdout",
          "text": [
            "Alice\n",
            "25\n"
          ]
        }
      ]
    },
    {
      "cell_type": "code",
      "source": [
        "# Nested Dictionaries\n",
        "\n",
        "\n",
        "dept = {\"ABC\" : {\"name\" : \"Alice\",\"Age\":25},\n",
        "        \"EFG\" : {\"name\" : \"Bob\",\"Age\":26}}"
      ],
      "metadata": {
        "id": "wEFLBRRyOcwm"
      },
      "execution_count": 35,
      "outputs": []
    },
    {
      "cell_type": "code",
      "source": [
        "dept[\"EFG\"][\"name\"]"
      ],
      "metadata": {
        "colab": {
          "base_uri": "https://localhost:8080/",
          "height": 35
        },
        "id": "MjqkBqoVO11z",
        "outputId": "e8a1f3e1-b22e-4411-f398-225a3bff1f22"
      },
      "execution_count": 36,
      "outputs": [
        {
          "output_type": "execute_result",
          "data": {
            "text/plain": [
              "'Bob'"
            ],
            "application/vnd.google.colaboratory.intrinsic+json": {
              "type": "string"
            }
          },
          "metadata": {},
          "execution_count": 36
        }
      ]
    },
    {
      "cell_type": "code",
      "source": [
        "dept[\"EFG\"][\"Age\"]"
      ],
      "metadata": {
        "colab": {
          "base_uri": "https://localhost:8080/"
        },
        "id": "0BF0ISogO988",
        "outputId": "c10c2592-b46d-480b-8b75-a0bd2c6df22d"
      },
      "execution_count": 37,
      "outputs": [
        {
          "output_type": "execute_result",
          "data": {
            "text/plain": [
              "26"
            ]
          },
          "metadata": {},
          "execution_count": 37
        }
      ]
    },
    {
      "cell_type": "code",
      "source": [
        "squares[1] = 1**2"
      ],
      "metadata": {
        "id": "aJRqbzwXPBhQ"
      },
      "execution_count": null,
      "outputs": []
    },
    {
      "cell_type": "code",
      "source": [
        "# Dictionary Comprehensions\n",
        "\n",
        "squares = {1:1,2:4,3:9,4:16,5:25}\n",
        "\n",
        "squares = {}\n",
        "\n",
        "for num in range(1,6):\n",
        "  squares[num] = num**2\n",
        "\n",
        "squares"
      ],
      "metadata": {
        "colab": {
          "base_uri": "https://localhost:8080/"
        },
        "id": "Wnn_y3oIPJ0W",
        "outputId": "9a9185b9-76fb-4533-94e7-422458be1dc5"
      },
      "execution_count": 43,
      "outputs": [
        {
          "output_type": "execute_result",
          "data": {
            "text/plain": [
              "{1: 1, 2: 4, 3: 9, 4: 16, 5: 25}"
            ]
          },
          "metadata": {},
          "execution_count": 43
        }
      ]
    },
    {
      "cell_type": "code",
      "source": [
        "squares = {num:num**2 for num in range(1,6)}\n",
        "squares"
      ],
      "metadata": {
        "colab": {
          "base_uri": "https://localhost:8080/"
        },
        "id": "ZMOa_IP-P9uM",
        "outputId": "280f5bbb-82d0-4a50-ee2d-69b9474e06b6"
      },
      "execution_count": 41,
      "outputs": [
        {
          "output_type": "execute_result",
          "data": {
            "text/plain": [
              "{1: 1, 2: 4, 3: 9, 4: 16, 5: 25}"
            ]
          },
          "metadata": {},
          "execution_count": 41
        }
      ]
    },
    {
      "cell_type": "code",
      "source": [
        "25 in squares"
      ],
      "metadata": {
        "colab": {
          "base_uri": "https://localhost:8080/"
        },
        "id": "aEGUahPIQNNR",
        "outputId": "82825a7b-02cf-42de-b88e-47ee79efa41e"
      },
      "execution_count": 47,
      "outputs": [
        {
          "output_type": "execute_result",
          "data": {
            "text/plain": [
              "False"
            ]
          },
          "metadata": {},
          "execution_count": 47
        }
      ]
    },
    {
      "cell_type": "code",
      "source": [
        "vowel_dict = {\"a\":1,\"e\":5,\"i\":9,\"o\":15,\"u\":23}\n",
        "\n",
        "input = \"hello world\"\n",
        "reversed_str = input[::-1]\n",
        "output = \"\"\n",
        "for char in reversed_str:\n",
        "  if char in vowel_dict:\n",
        "    output = output + str(vowel_dict[char])\n",
        "  else:\n",
        "    output = output + char\n",
        "\n",
        "output\n",
        ""
      ],
      "metadata": {
        "colab": {
          "base_uri": "https://localhost:8080/",
          "height": 35
        },
        "id": "oVoi9dfuRau4",
        "outputId": "9f03cad7-396a-445d-8258-0826db1c2659"
      },
      "execution_count": 49,
      "outputs": [
        {
          "output_type": "execute_result",
          "data": {
            "text/plain": [
              "'dlr15w 15ll5h'"
            ],
            "application/vnd.google.colaboratory.intrinsic+json": {
              "type": "string"
            }
          },
          "metadata": {},
          "execution_count": 49
        }
      ]
    },
    {
      "cell_type": "code",
      "source": [
        "s=\"hello world\"\n",
        "m=s[::-1]\n",
        "output = m.replace(\"e\",\"5\")\n",
        "output = output.replace(\"o\",\"15\")\n",
        "output"
      ],
      "metadata": {
        "colab": {
          "base_uri": "https://localhost:8080/",
          "height": 35
        },
        "id": "qVVREV-PSFYo",
        "outputId": "3c19c800-b8e9-4443-d18c-79dd80722da3"
      },
      "execution_count": 60,
      "outputs": [
        {
          "output_type": "execute_result",
          "data": {
            "text/plain": [
              "'dlr15w 15ll5h'"
            ],
            "application/vnd.google.colaboratory.intrinsic+json": {
              "type": "string"
            }
          },
          "metadata": {},
          "execution_count": 60
        }
      ]
    },
    {
      "cell_type": "code",
      "source": [
        "str1 = \"agcdhsvca\""
      ],
      "metadata": {
        "id": "8PnohgxOT4uS"
      },
      "execution_count": 56,
      "outputs": []
    },
    {
      "cell_type": "code",
      "source": [
        "str1.replace(\"a\",\"*\")"
      ],
      "metadata": {
        "colab": {
          "base_uri": "https://localhost:8080/",
          "height": 35
        },
        "id": "9N1GazVPTkz8",
        "outputId": "34bcee0a-6b67-40f5-8d2b-23b8a8ec7521"
      },
      "execution_count": 57,
      "outputs": [
        {
          "output_type": "execute_result",
          "data": {
            "text/plain": [
              "'*gcdhsvc*'"
            ],
            "application/vnd.google.colaboratory.intrinsic+json": {
              "type": "string"
            }
          },
          "metadata": {},
          "execution_count": 57
        }
      ]
    },
    {
      "cell_type": "code",
      "source": [
        "str1"
      ],
      "metadata": {
        "colab": {
          "base_uri": "https://localhost:8080/",
          "height": 35
        },
        "id": "5LR8l4OpUFfm",
        "outputId": "cef73f76-5f3d-4a47-94a7-c7e89ff72592"
      },
      "execution_count": 58,
      "outputs": [
        {
          "output_type": "execute_result",
          "data": {
            "text/plain": [
              "'agcdhsvca'"
            ],
            "application/vnd.google.colaboratory.intrinsic+json": {
              "type": "string"
            }
          },
          "metadata": {},
          "execution_count": 58
        }
      ]
    },
    {
      "cell_type": "code",
      "source": [],
      "metadata": {
        "id": "IyOGygHDUGCK"
      },
      "execution_count": null,
      "outputs": []
    },
    {
      "cell_type": "code",
      "source": [
        "input = \"A man, a plan, #a canal: Panama\""
      ],
      "metadata": {
        "id": "oc2ANHtdVFuU"
      },
      "execution_count": 61,
      "outputs": []
    },
    {
      "cell_type": "code",
      "source": [
        "input= input.replace(\" \",\"\").replace(\",\",\"\").replace(\":\",\"\").lower()"
      ],
      "metadata": {
        "id": "_3dzVHXUWKUc"
      },
      "execution_count": null,
      "outputs": []
    },
    {
      "cell_type": "code",
      "source": [
        "special_char = \"'~!@#$%^&*_-\"\n",
        "for sp_char in special_char:\n",
        "  input = input.replace(sp_char,\"\")\n",
        "\n",
        "input"
      ],
      "metadata": {
        "colab": {
          "base_uri": "https://localhost:8080/",
          "height": 35
        },
        "id": "p4FIjlMMWRfL",
        "outputId": "58d4ed16-ffd7-44ab-d6fc-7af19a951571"
      },
      "execution_count": 68,
      "outputs": [
        {
          "output_type": "execute_result",
          "data": {
            "text/plain": [
              "'amanaplanacanalpanama'"
            ],
            "application/vnd.google.colaboratory.intrinsic+json": {
              "type": "string"
            }
          },
          "metadata": {},
          "execution_count": 68
        }
      ]
    },
    {
      "cell_type": "code",
      "source": [
        "txt = \"1Madam\"\n",
        "\n",
        "for i in txt:\n",
        "  print(type(i))"
      ],
      "metadata": {
        "colab": {
          "base_uri": "https://localhost:8080/"
        },
        "id": "mnd9Wm0zYg0Q",
        "outputId": "6ca146f2-99d9-424a-85b9-fab45885b23e"
      },
      "execution_count": 85,
      "outputs": [
        {
          "output_type": "stream",
          "name": "stdout",
          "text": [
            "<class 'str'>\n",
            "<class 'str'>\n",
            "<class 'str'>\n",
            "<class 'str'>\n",
            "<class 'str'>\n",
            "<class 'str'>\n"
          ]
        }
      ]
    },
    {
      "cell_type": "code",
      "source": [
        "input = \"Madam, #in Eden, I'm Adam.\"\n",
        "\n",
        "for char in input:\n",
        "  if char.isalpha():\n",
        "    continue\n",
        "  else:\n",
        "    print(\"----------------\",char)\n",
        "    input = input.replace(char,\"\")\n",
        "\n",
        "input"
      ],
      "metadata": {
        "colab": {
          "base_uri": "https://localhost:8080/",
          "height": 192
        },
        "id": "z8W_Kig3Wmd2",
        "outputId": "61d5556c-da91-494b-81b7-6716edaae2fd"
      },
      "execution_count": 87,
      "outputs": [
        {
          "output_type": "stream",
          "name": "stdout",
          "text": [
            "---------------- ,\n",
            "----------------  \n",
            "---------------- #\n",
            "----------------  \n",
            "---------------- ,\n",
            "----------------  \n",
            "---------------- '\n",
            "----------------  \n",
            "---------------- .\n"
          ]
        },
        {
          "output_type": "execute_result",
          "data": {
            "text/plain": [
              "'MadaminEdenImAdam'"
            ],
            "application/vnd.google.colaboratory.intrinsic+json": {
              "type": "string"
            }
          },
          "metadata": {},
          "execution_count": 87
        }
      ]
    },
    {
      "cell_type": "code",
      "source": [
        "input= input.replace(\" \",\"\")\n",
        "input = input.replace(\",\",\"\")\n",
        "input = input.replace(\":\",\"\")\n",
        "input = input.lower()\n",
        "rev_input = input[::-1]\n",
        "if rev_input == input:\n",
        "  print(\"Palindrome\")\n",
        "else:\n",
        "  print(\"Not Palindrome\")"
      ],
      "metadata": {
        "colab": {
          "base_uri": "https://localhost:8080/"
        },
        "id": "KlmC1dB2VKJB",
        "outputId": "3384f20a-b83a-4cce-dad9-9b5421bca11a"
      },
      "execution_count": 67,
      "outputs": [
        {
          "output_type": "stream",
          "name": "stdout",
          "text": [
            "Palindrome\n"
          ]
        }
      ]
    },
    {
      "cell_type": "code",
      "source": [
        "a=\"Madam, in Eden, I'm Adam.\"\n",
        "b=a.replace(\" \",\"\")\n",
        "c=b.replace(\",\",\"\")\n",
        "d = c.lower()\n",
        "rev = d[::-1]\n",
        "if d ==rev:\n",
        "  print(\"palindrome\")\n",
        "else:\n",
        "  print(\"not palindrome\")"
      ],
      "metadata": {
        "colab": {
          "base_uri": "https://localhost:8080/"
        },
        "id": "dm2jr2rgWI4e",
        "outputId": "6f80bf6f-a9fc-4af1-b611-2460c3bd77a8"
      },
      "execution_count": 79,
      "outputs": [
        {
          "output_type": "stream",
          "name": "stdout",
          "text": [
            "not palindrome\n"
          ]
        }
      ]
    },
    {
      "cell_type": "code",
      "source": [
        "import re"
      ],
      "metadata": {
        "id": "PSwUcv_HaB3M"
      },
      "execution_count": 88,
      "outputs": []
    },
    {
      "cell_type": "code",
      "source": [
        "string = \"Madam, in Eden, I'm Adam.\"\n",
        "\n",
        "cleaned = re.sub(r'[^a-zA-Z]', '', string)\n",
        "cleaned"
      ],
      "metadata": {
        "colab": {
          "base_uri": "https://localhost:8080/",
          "height": 35
        },
        "id": "YyOsdc3zaCLe",
        "outputId": "f1fe2789-dc62-43d8-dd6e-12a1cbdbbf5e"
      },
      "execution_count": 90,
      "outputs": [
        {
          "output_type": "execute_result",
          "data": {
            "text/plain": [
              "'MadaminEdenImAdam'"
            ],
            "application/vnd.google.colaboratory.intrinsic+json": {
              "type": "string"
            }
          },
          "metadata": {},
          "execution_count": 90
        }
      ]
    }
  ]
}