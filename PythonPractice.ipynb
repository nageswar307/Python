{
  "nbformat": 4,
  "nbformat_minor": 0,
  "metadata": {
    "colab": {
      "provenance": [],
      "authorship_tag": "ABX9TyPP+LBRHc2WK2m1fBMZkFYa",
      "include_colab_link": true
    },
    "kernelspec": {
      "name": "python3",
      "display_name": "Python 3"
    },
    "language_info": {
      "name": "python"
    }
  },
  "cells": [
    {
      "cell_type": "markdown",
      "metadata": {
        "id": "view-in-github",
        "colab_type": "text"
      },
      "source": [
        "<a href=\"https://colab.research.google.com/github/nageswar307/Python/blob/main/PythonPractice.ipynb\" target=\"_parent\"><img src=\"https://colab.research.google.com/assets/colab-badge.svg\" alt=\"Open In Colab\"/></a>"
      ]
    },
    {
      "cell_type": "markdown",
      "source": [
        "1.Write a function that takes a string and prints it in reverse, but with a twist: every vowel (a, e, i, o, u) in the reversed string should be replaced by its position in the alphabet (e.g., a → 1, e → 5, etc.).\n",
        "\n",
        "Example:\n",
        "\n",
        "Input: \"Hello World\"\n",
        "\n",
        "Output: \"dlroW 15ll5\""
      ],
      "metadata": {
        "id": "3Rrte_KICLYP"
      }
    },
    {
      "cell_type": "code",
      "source": [],
      "metadata": {
        "id": "CGVnkuUFCPeJ"
      },
      "execution_count": null,
      "outputs": []
    },
    {
      "cell_type": "code",
      "source": [],
      "metadata": {
        "id": "GlcX_rgYCPz0"
      },
      "execution_count": null,
      "outputs": []
    },
    {
      "cell_type": "code",
      "source": [],
      "metadata": {
        "id": "nM8B2Rk7CUKs"
      },
      "execution_count": null,
      "outputs": []
    },
    {
      "cell_type": "markdown",
      "source": [
        "2.Palindrome Checker with a Twist\n",
        "\n",
        "Write a function that checks if a string is a palindrome (reads the same forward and backward). However, it should ignore spaces, punctuation, and case.\n",
        "\n",
        "Example:\n",
        "\n",
        "Input: \"A man, a plan, a canal, Panama\"\n",
        "\n",
        "Output: True (it's a palindrome)\n"
      ],
      "metadata": {
        "id": "xY6HoLraCX4Q"
      }
    },
    {
      "cell_type": "code",
      "source": [],
      "metadata": {
        "id": "SPqVJAQICZQO"
      },
      "execution_count": null,
      "outputs": []
    },
    {
      "cell_type": "markdown",
      "source": [
        "3.Fibonacci Sequence with a Catch\n",
        "\n",
        "Write a function to generate the first n Fibonacci numbers, but instead of the usual 0 and 1 starting the sequence, you start with two random numbers between 1 and 10.\n",
        "\n",
        "Example:\n",
        "\n",
        "Input: n=5\n",
        "\n",
        "Output: starting with 3, 8 -> [3, 8, 11, 19, 30]"
      ],
      "metadata": {
        "id": "2VnFchtBCarM"
      }
    },
    {
      "cell_type": "code",
      "source": [],
      "metadata": {
        "id": "y_Y1EyVGCeJk"
      },
      "execution_count": null,
      "outputs": []
    },
    {
      "cell_type": "markdown",
      "source": [
        "4.Guess the Number Game (with Python Code)\n",
        "\n",
        "Create a Python program that picks a random number between 1 and 100 and then lets the user guess it. The program should give hints whether the guess is too high, too low, or correct."
      ],
      "metadata": {
        "id": "SNOyJXyWCio6"
      }
    },
    {
      "cell_type": "code",
      "source": [],
      "metadata": {
        "id": "NZz_GAP0CkLk"
      },
      "execution_count": null,
      "outputs": []
    },
    {
      "cell_type": "markdown",
      "source": [
        "5.Reverse Words in a Sentence\n",
        "\n",
        "Write a function that reverses the words in a sentence, but leaves the characters in each word in the original order.\n",
        "\n",
        "Example:\n",
        "\n",
        "Input: \"Hello World\"\n",
        "\n",
        "Output: \"World Hello\""
      ],
      "metadata": {
        "id": "v3PeitVjCoDI"
      }
    },
    {
      "cell_type": "code",
      "source": [],
      "metadata": {
        "id": "WvGK1Y65CpGB"
      },
      "execution_count": null,
      "outputs": []
    },
    {
      "cell_type": "markdown",
      "source": [
        "6.Unique Character String\n",
        "\n",
        "Write a function that checks if all characters in a string are unique (i.e., no character appears more than once).\n",
        "\n",
        "Example:\n",
        "\n",
        "Input: \"abcdef\"\n",
        "\n",
        "Output: True (all characters are unique)\n",
        "\n",
        "Input: \"aab\"\n",
        "\n",
        "Output: False (repeated 'a')"
      ],
      "metadata": {
        "id": "Ui9FGvaoCsGo"
      }
    },
    {
      "cell_type": "code",
      "source": [],
      "metadata": {
        "id": "Vawu8wmJCyD4"
      },
      "execution_count": null,
      "outputs": []
    },
    {
      "cell_type": "markdown",
      "source": [
        "7.Counting Vowels and Consonants\n",
        "\n",
        "Write a function that counts the number of vowels and consonants in a string and returns them as a tuple.\n",
        "\n",
        "Example:\n",
        "\n",
        "Input: \"Hello World\"\n",
        "\n",
        "Output: (3, 7) (3 vowels: 'e', 'o', 'o'; 7 consonants)"
      ],
      "metadata": {
        "id": "btQFDiwSDBOo"
      }
    },
    {
      "cell_type": "code",
      "source": [],
      "metadata": {
        "id": "NPkXgfCUDCiX"
      },
      "execution_count": null,
      "outputs": []
    },
    {
      "cell_type": "markdown",
      "source": [
        "8.Anagram Checker\n",
        "\n",
        "Write a function to check whether two strings are anagrams of each other (contain the same characters in the same frequency).\n",
        "\n",
        "Example:\n",
        "\n",
        "Input: \"listen\", \"silent\"\n",
        "\n",
        "Output: True (They are anagrams)"
      ],
      "metadata": {
        "id": "OjVwHNLsDF88"
      }
    },
    {
      "cell_type": "code",
      "source": [],
      "metadata": {
        "id": "Z7CfwTGMDHF4"
      },
      "execution_count": null,
      "outputs": []
    },
    {
      "cell_type": "markdown",
      "source": [
        "9.Custom Sort (Sorting with Custom Rule)\n",
        "\n",
        "Write a function that sorts a list of strings, but the sorting rule is to prioritize strings with more vowels first, and then sort alphabetically for strings with the same number of vowels.\n",
        "\n",
        "Example:\n",
        "\n",
        "Input: ['banana', 'apple', 'kiwi', 'pear']\n",
        "\n",
        "Output: ['banana', 'apple', 'kiwi', 'pear'] (banana and apple come before pear because they have more vowels)"
      ],
      "metadata": {
        "id": "fyn0HCgGDQvN"
      }
    },
    {
      "cell_type": "code",
      "source": [],
      "metadata": {
        "id": "-SvEpIIDDSpJ"
      },
      "execution_count": null,
      "outputs": []
    },
    {
      "cell_type": "code",
      "source": [],
      "metadata": {
        "id": "aofzRN1bDd-R"
      },
      "execution_count": null,
      "outputs": []
    },
    {
      "cell_type": "code",
      "source": [
        "'''\n",
        "Q10.\n",
        "\n",
        "FizzBuzz with a Twist\n",
        "\n",
        "Write a Python program that prints the numbers from 1 to 50.\n",
        "But for multiples of 3, print \"Fizz\" instead of the number, and for multiples of 5, print \"Buzz\".\n",
        "For numbers that are multiples of both 3 and 5, print \"FizzBuzz\".\n",
        "For all other numbers, print their square.\n",
        "\n",
        "Expected Output (Partial):\n",
        "\n",
        "1\n",
        "4\n",
        "Fizz\n",
        "16\n",
        "Buzz\n",
        "Fizz\n",
        "49\n",
        "'''"
      ],
      "metadata": {
        "colab": {
          "base_uri": "https://localhost:8080/",
          "height": 70
        },
        "id": "KB4rOiqHDknZ",
        "outputId": "464518fc-191c-4983-d53d-3c700d67f617"
      },
      "execution_count": null,
      "outputs": [
        {
          "output_type": "execute_result",
          "data": {
            "text/plain": [
              "'\\n10.\\nFizzBuzz with a Twist\\n\\nWrite a Python program that prints the numbers from 1 to 50.\\nBut for multiples of 3, print \"Fizz\" instead of the number, and for multiples of 5, print \"Buzz\".\\nFor numbers that are multiples of both 3 and 5, print \"FizzBuzz\".\\nFor all other numbers, print their square.\\n\\nExpected Output (Partial):\\n\\n1\\n4\\nFizz\\n16\\nBuzz\\nFizz\\n49\\n'"
            ],
            "application/vnd.google.colaboratory.intrinsic+json": {
              "type": "string"
            }
          },
          "metadata": {},
          "execution_count": 2
        }
      ]
    },
    {
      "cell_type": "code",
      "source": [],
      "metadata": {
        "id": "e8QUXvf3Do1P"
      },
      "execution_count": null,
      "outputs": []
    },
    {
      "cell_type": "code",
      "source": [],
      "metadata": {
        "id": "rhBe2XafDwsB"
      },
      "execution_count": null,
      "outputs": []
    },
    {
      "cell_type": "code",
      "source": [
        "'''\n",
        "Q11.\n",
        "Write a function diagonal_sum(matrix) that takes a 2D list (matrix) as input and returns the sum of its diagonal elements. Assume the matrix is square (NxN).\n",
        "\n",
        "Example Input:\n",
        "\n",
        "matrix = [\n",
        "    [1, 2, 3],\n",
        "    [4, 5, 6],\n",
        "    [7, 8, 9]\n",
        "]\n",
        "diagonal_sum(matrix)\n",
        "\n",
        "Expected Output:\n",
        "\n",
        "15  # (1 + 5 + 9)\n",
        "'''"
      ],
      "metadata": {
        "colab": {
          "base_uri": "https://localhost:8080/",
          "height": 53
        },
        "id": "8Khhl6d4Dwbg",
        "outputId": "215692ff-ea58-43c9-b6aa-4bf526c18407"
      },
      "execution_count": null,
      "outputs": [
        {
          "output_type": "execute_result",
          "data": {
            "text/plain": [
              "'\\nQ11.\\nWrite a function diagonal_sum(matrix) that takes a 2D list (matrix) as input and returns the sum of its diagonal elements. Assume the matrix is square (NxN).\\n\\nExample Input:\\n\\nmatrix = [\\n    [1, 2, 3],\\n    [4, 5, 6],\\n    [7, 8, 9]\\n]\\ndiagonal_sum(matrix)\\n\\nExpected Output:\\n\\n15  # (1 + 5 + 9)\\n'"
            ],
            "application/vnd.google.colaboratory.intrinsic+json": {
              "type": "string"
            }
          },
          "metadata": {},
          "execution_count": 3
        }
      ]
    },
    {
      "cell_type": "code",
      "source": [],
      "metadata": {
        "id": "LUhLfdRhDzxz"
      },
      "execution_count": null,
      "outputs": []
    },
    {
      "cell_type": "code",
      "source": [
        "'''\n",
        "Q12.\n",
        "\n",
        "Find the Second Largest Element\n",
        "\n",
        "Write a function second_largest(lst) that takes a list of integers and returns the second largest element.\n",
        "Handle edge cases where the list has fewer than 2 unique elements.\n",
        "\n",
        "Example Input:\n",
        "\n",
        "second_largest([3, 1, 4, 1, 5, 9, 2])\n",
        "\n",
        "Expected Output:\n",
        "\n",
        "5\n",
        "\n",
        "'''"
      ],
      "metadata": {
        "colab": {
          "base_uri": "https://localhost:8080/",
          "height": 53
        },
        "id": "QaDFFtNqD085",
        "outputId": "99392a7c-4b8b-4ae0-8e30-0dd15bc9ca90"
      },
      "execution_count": null,
      "outputs": [
        {
          "output_type": "execute_result",
          "data": {
            "text/plain": [
              "'\\nQ12.\\n\\nFind the Second Largest Element\\n\\nWrite a function second_largest(lst) that takes a list of integers and returns the second largest element.\\nHandle edge cases where the list has fewer than 2 unique elements.\\n\\nExample Input:\\n\\nsecond_largest([3, 1, 4, 1, 5, 9, 2])\\n\\nExpected Output:\\n\\n5\\n\\n'"
            ],
            "application/vnd.google.colaboratory.intrinsic+json": {
              "type": "string"
            }
          },
          "metadata": {},
          "execution_count": 4
        }
      ]
    },
    {
      "cell_type": "code",
      "source": [],
      "metadata": {
        "id": "agxDKM_mD72B"
      },
      "execution_count": null,
      "outputs": []
    },
    {
      "cell_type": "code",
      "source": [
        "'''\n",
        "Q13\n",
        "Flatten a Nested List\n",
        "\n",
        "Write a function flatten_list(nested_list) that takes a list, which may contain nested lists, and returns a flattened version of the list.\n",
        "\n",
        "Example Input:\n",
        "\n",
        "flatten_list([1, [2, 3, [4]], 5])\n",
        "\n",
        "Expected Output:\n",
        "\n",
        "[1, 2, 3, 4, 5]\n",
        "'''"
      ],
      "metadata": {
        "colab": {
          "base_uri": "https://localhost:8080/",
          "height": 53
        },
        "id": "OYCb0kN6D_19",
        "outputId": "eee188f0-9ee8-4163-84bb-85d9a493e7b6"
      },
      "execution_count": null,
      "outputs": [
        {
          "output_type": "execute_result",
          "data": {
            "text/plain": [
              "'\\nFlatten a Nested List\\n\\nWrite a function flatten_list(nested_list) that takes a list, which may contain nested lists, and returns a flattened version of the list.\\n\\nExample Input:\\n\\nflatten_list([1, [2, 3, [4]], 5])\\n\\nExpected Output:\\n\\n[1, 2, 3, 4, 5]\\n'"
            ],
            "application/vnd.google.colaboratory.intrinsic+json": {
              "type": "string"
            }
          },
          "metadata": {},
          "execution_count": 5
        }
      ]
    },
    {
      "cell_type": "code",
      "source": [],
      "metadata": {
        "id": "TIZp_QqKEBoz"
      },
      "execution_count": null,
      "outputs": []
    },
    {
      "cell_type": "code",
      "source": [
        "'''\n",
        "Q14\n",
        "Count Words in a Sentence\n",
        "\n",
        "Write a function count_words(sentence) that takes a string and returns a dictionary with each unique word as the key and its frequency as the value. Ignore punctuation and case.\n",
        "\n",
        "Example Input:\n",
        "\n",
        "count_words(\"This is a test. This test is fun!\")\n",
        "\n",
        "Expected Output:\n",
        "\n",
        "{'this': 2, 'is': 2, 'a': 1, 'test': 2, 'fun': 1}\n",
        "'''"
      ],
      "metadata": {
        "colab": {
          "base_uri": "https://localhost:8080/",
          "height": 70
        },
        "id": "rx0VwlxHEFLE",
        "outputId": "ab1b9d0a-f6ca-4700-aa16-8d068066155c"
      },
      "execution_count": null,
      "outputs": [
        {
          "output_type": "execute_result",
          "data": {
            "text/plain": [
              "'\\nCount Words in a Sentence\\n\\nWrite a function count_words(sentence) that takes a string and returns a dictionary with each unique word as the key and its frequency as the value. Ignore punctuation and case.\\n\\nExample Input:\\n\\ncount_words(\"This is a test. This test is fun!\")\\n\\nExpected Output:\\n\\n{\\'this\\': 2, \\'is\\': 2, \\'a\\': 1, \\'test\\': 2, \\'fun\\': 1}\\n'"
            ],
            "application/vnd.google.colaboratory.intrinsic+json": {
              "type": "string"
            }
          },
          "metadata": {},
          "execution_count": 6
        }
      ]
    },
    {
      "cell_type": "code",
      "source": [],
      "metadata": {
        "id": "Fiuh-90UEG2l"
      },
      "execution_count": null,
      "outputs": []
    },
    {
      "cell_type": "code",
      "source": [],
      "metadata": {
        "id": "Luo06OlTEJK-"
      },
      "execution_count": null,
      "outputs": []
    },
    {
      "cell_type": "code",
      "source": [
        "'''\n",
        "Q15.\n",
        "\n",
        "Find the Longest Substring Without Repeating Characters\n",
        "Write a function longest_unique_substring(s) that takes a string and returns the length of the longest substring with all unique characters.\n",
        "\n",
        "Example Input:\n",
        "longest_unique_substring(\"abcabcbb\")\n",
        "\n",
        "Expected Output:\n",
        "3  # \"abc\"\n",
        "\n",
        "'''"
      ],
      "metadata": {
        "colab": {
          "base_uri": "https://localhost:8080/",
          "height": 53
        },
        "id": "PW4d24DGESqr",
        "outputId": "5c68ad1f-6e92-4e25-d7e5-be3c1024c4bd"
      },
      "execution_count": null,
      "outputs": [
        {
          "output_type": "execute_result",
          "data": {
            "text/plain": [
              "'\\nQ15.\\n\\nFind the Longest Substring Without Repeating Characters\\nWrite a function longest_unique_substring(s) that takes a string and returns the length of the longest substring with all unique characters.\\n\\nExample Input:\\nlongest_unique_substring(\"abcabcbb\")\\n\\nExpected Output:\\n3  # \"abc\"\\n\\n'"
            ],
            "application/vnd.google.colaboratory.intrinsic+json": {
              "type": "string"
            }
          },
          "metadata": {},
          "execution_count": 7
        }
      ]
    },
    {
      "cell_type": "code",
      "source": [],
      "metadata": {
        "id": "Ff_9465BEhOv"
      },
      "execution_count": null,
      "outputs": []
    },
    {
      "cell_type": "code",
      "source": [
        "'''\n",
        "Q16.\n",
        "\n",
        "Find the Missing Number in a List\n",
        "Write a function find_missing_number(nums) that takes a list of numbers from 1 to\n",
        "𝑛\n",
        "n with one number missing, and returns the missing number.\n",
        "\n",
        "Example Input:\n",
        "find_missing_number([1, 2, 4, 5, 6])\n",
        "Expected Output:\n",
        "3\n",
        "'''"
      ],
      "metadata": {
        "colab": {
          "base_uri": "https://localhost:8080/",
          "height": 53
        },
        "id": "4XedqsPAElIT",
        "outputId": "2feaaab7-7e78-4d79-daa1-800e59d79a75"
      },
      "execution_count": null,
      "outputs": [
        {
          "output_type": "execute_result",
          "data": {
            "text/plain": [
              "'\\nQ16.\\n\\nFind the Missing Number in a List\\nWrite a function find_missing_number(nums) that takes a list of numbers from 1 to \\n𝑛\\nn with one number missing, and returns the missing number.\\n\\nExample Input:\\nfind_missing_number([1, 2, 4, 5, 6])\\nExpected Output:\\n3\\n'"
            ],
            "application/vnd.google.colaboratory.intrinsic+json": {
              "type": "string"
            }
          },
          "metadata": {},
          "execution_count": 8
        }
      ]
    },
    {
      "cell_type": "code",
      "source": [],
      "metadata": {
        "id": "VXa7W-IlErLw"
      },
      "execution_count": null,
      "outputs": []
    },
    {
      "cell_type": "code",
      "source": [],
      "metadata": {
        "id": "EugKjAQbEu3h"
      },
      "execution_count": null,
      "outputs": []
    },
    {
      "cell_type": "code",
      "source": [
        "'''\n",
        "Q17.\n",
        "\n",
        "Sort a List of Tuples by the Second Element\n",
        "Write a function sort_by_second_element(lst) that takes a list of tuples and sorts them based on the second element of each tuple.\n",
        "\n",
        "Example Input:\n",
        "sort_by_second_element([(1, 3), (4, 2), (2, 5)])\n",
        "Expected Output:\n",
        "[(4, 2), (1, 3), (2, 5)]\n",
        "\n",
        "'''"
      ],
      "metadata": {
        "colab": {
          "base_uri": "https://localhost:8080/",
          "height": 53
        },
        "id": "PRKhVz_ZEuh1",
        "outputId": "383b5547-d417-4741-ba00-66c61d2e877c"
      },
      "execution_count": null,
      "outputs": [
        {
          "output_type": "execute_result",
          "data": {
            "text/plain": [
              "'\\nQ17.\\n\\nSort a List of Tuples by the Second Element\\nWrite a function sort_by_second_element(lst) that takes a list of tuples and sorts them based on the second element of each tuple.\\n\\nExample Input:\\nsort_by_second_element([(1, 3), (4, 2), (2, 5)])\\nExpected Output:\\n[(4, 2), (1, 3), (2, 5)]\\n\\n'"
            ],
            "application/vnd.google.colaboratory.intrinsic+json": {
              "type": "string"
            }
          },
          "metadata": {},
          "execution_count": 9
        }
      ]
    },
    {
      "cell_type": "code",
      "source": [],
      "metadata": {
        "id": "wDDgEUnYE2gJ"
      },
      "execution_count": null,
      "outputs": []
    },
    {
      "cell_type": "code",
      "source": [
        "'''\n",
        "Q18.\n",
        "\n",
        "Find All Prime Numbers in a Range\n",
        "Write a function find_primes_in_range(start, end) that returns a list of all prime numbers in the range [start, end].\n",
        "\n",
        "Example Input:\n",
        "find_primes_in_range(10, 30)\n",
        "Expected Output:\n",
        "[11, 13, 17, 19, 23, 29]\n",
        "\n",
        "'''"
      ],
      "metadata": {
        "colab": {
          "base_uri": "https://localhost:8080/",
          "height": 53
        },
        "id": "H-Ozi7_9E2c1",
        "outputId": "b1d7c6a5-4fa6-4f9f-f17b-cfb17b50442e"
      },
      "execution_count": null,
      "outputs": [
        {
          "output_type": "execute_result",
          "data": {
            "text/plain": [
              "'\\nQ18.\\n\\nFind All Prime Numbers in a Range\\nWrite a function find_primes_in_range(start, end) that returns a list of all prime numbers in the range [start, end].\\n\\nExample Input:\\nfind_primes_in_range(10, 30)\\nExpected Output:\\n[11, 13, 17, 19, 23, 29]\\n\\n'"
            ],
            "application/vnd.google.colaboratory.intrinsic+json": {
              "type": "string"
            }
          },
          "metadata": {},
          "execution_count": 10
        }
      ]
    },
    {
      "cell_type": "code",
      "source": [],
      "metadata": {
        "id": "4qZaNamsFU5J"
      },
      "execution_count": null,
      "outputs": []
    },
    {
      "cell_type": "code",
      "source": [
        "'''\n",
        "Q19.\n",
        "Find the First Non-Repeating Character\n",
        "Write a function first_non_repeating_char(s) that takes a string and returns the first character that does not repeat. If all characters repeat, return None.\n",
        "\n",
        "Example Input:\n",
        "first_non_repeating_char(\"swiss\")\n",
        "Expected Output:\n",
        "'w'\n",
        "\n",
        "'''"
      ],
      "metadata": {
        "colab": {
          "base_uri": "https://localhost:8080/",
          "height": 53
        },
        "id": "R3OLy-uKFVTV",
        "outputId": "57556b48-2a95-4480-cb79-f9ca2c42bb8e"
      },
      "execution_count": null,
      "outputs": [
        {
          "output_type": "execute_result",
          "data": {
            "text/plain": [
              "'\\nQ19.\\nFind the First Non-Repeating Character\\nWrite a function first_non_repeating_char(s) that takes a string and returns the first character that does not repeat. If all characters repeat, return None.\\n\\nExample Input:\\nfirst_non_repeating_char(\"swiss\")\\nExpected Output:\\n\\'w\\'\\n\\n'"
            ],
            "application/vnd.google.colaboratory.intrinsic+json": {
              "type": "string"
            }
          },
          "metadata": {},
          "execution_count": 11
        }
      ]
    },
    {
      "cell_type": "code",
      "source": [
        "# iterate - chars\n",
        "# find count - for each char\n",
        "# count ==1\n",
        "# store\n",
        "\n"
      ],
      "metadata": {
        "id": "TZNqVkvpk4Ej"
      },
      "execution_count": null,
      "outputs": []
    },
    {
      "cell_type": "code",
      "source": [
        "string = \"swwiissz\"\n",
        "\n",
        "for char in string:\n",
        "  if string.count(char) == 1:\n",
        "    print(\"first non repeating character is \",char)\n",
        "    break"
      ],
      "metadata": {
        "id": "GIqoY6vukeZ1"
      },
      "execution_count": null,
      "outputs": []
    },
    {
      "cell_type": "code",
      "source": [],
      "metadata": {
        "id": "bwghIH6jkeAS"
      },
      "execution_count": null,
      "outputs": []
    },
    {
      "cell_type": "code",
      "source": [],
      "metadata": {
        "id": "xeNS9rhIFlUh"
      },
      "execution_count": null,
      "outputs": []
    },
    {
      "cell_type": "code",
      "source": [
        "'''\n",
        "Q20\n",
        "\n",
        "Check for a Pangram\n",
        "Write a function is_pangram(sentence) that checks if a given sentence contains every letter of the English alphabet at least once (case insensitive).\n",
        "\n",
        "Example Input:\n",
        "is_pangram(\"The quick brown fox jumps over the lazy dog\")\n",
        "\n",
        "Expected Output:\n",
        "True\n",
        "\n",
        "'''"
      ],
      "metadata": {
        "colab": {
          "base_uri": "https://localhost:8080/",
          "height": 53
        },
        "id": "eD7F0nwvFlLC",
        "outputId": "af9b2d7a-47e1-48fa-b732-4848c8d36787"
      },
      "execution_count": null,
      "outputs": [
        {
          "output_type": "execute_result",
          "data": {
            "text/plain": [
              "'\\nQ20\\n\\nCheck for a Pangram\\nWrite a function is_pangram(sentence) that checks if a given sentence contains every letter of the English alphabet at least once (case insensitive).\\n\\nExample Input:\\nis_pangram(\"The quick brown fox jumps over the lazy dog\")\\n\\nExpected Output:\\nTrue\\n\\n'"
            ],
            "application/vnd.google.colaboratory.intrinsic+json": {
              "type": "string"
            }
          },
          "metadata": {},
          "execution_count": 12
        }
      ]
    },
    {
      "cell_type": "code",
      "source": [],
      "metadata": {
        "id": "_CfwRUo0xojU"
      },
      "execution_count": null,
      "outputs": []
    },
    {
      "cell_type": "code",
      "source": [
        "'''\n",
        "Q21\n",
        "\n",
        "Sum of digits in a number\n",
        "\n",
        "Problem: Write a function to calculate the sum of the digits of a number.\n",
        "Input: 1234\n",
        "Output: 10 (1+2+3+4)\n",
        "Hint: Convert the number to a string or use the\n",
        "modulo operator % to extract digits.\n",
        "\n",
        "'''"
      ],
      "metadata": {
        "id": "wWxfcxogxpFq"
      },
      "execution_count": null,
      "outputs": []
    },
    {
      "cell_type": "code",
      "source": [],
      "metadata": {
        "id": "zcQ6195pxzvz"
      },
      "execution_count": null,
      "outputs": []
    },
    {
      "cell_type": "code",
      "source": [
        "'''\n",
        "Q22\n",
        "\n",
        "Check if a list is sorted\n",
        "\n",
        "Problem: Write a function to check if a list of numbers is sorted in ascending order.\n",
        "Input: [1, 2, 3, 4, 5]\n",
        "Output: True\n",
        "Input: [5, 3, 2, 1]\n",
        "Output: False\n",
        "Hint: Use a loop or compare the list to its sorted version.\n",
        "\n",
        "'''"
      ],
      "metadata": {
        "id": "LAD1_YVex1KI"
      },
      "execution_count": null,
      "outputs": []
    },
    {
      "cell_type": "code",
      "source": [],
      "metadata": {
        "id": "2b7fuZbJzdvT"
      },
      "execution_count": null,
      "outputs": []
    },
    {
      "cell_type": "code",
      "source": [
        "'''\n",
        "Q23\n",
        "\n",
        "Find all the duplicate elements in a given list without using the collections module.\n",
        "# Input\n",
        "nums = [4, 3, 2, 7, 8, 2, 3, 1]\n",
        "# Output\n",
        "print(find_duplicates(nums))  # [3, 2]\n",
        "\n",
        "'''"
      ],
      "metadata": {
        "id": "RAtxS1gMzelF"
      },
      "execution_count": null,
      "outputs": []
    },
    {
      "cell_type": "code",
      "source": [],
      "metadata": {
        "id": "dmOfOBkCXQy6"
      },
      "execution_count": null,
      "outputs": []
    },
    {
      "cell_type": "code",
      "source": [
        "'''\n",
        "Q24\n",
        "\n",
        "Rotate a given n x n matrix 90 degrees clockwise in place.\n",
        "# Input\n",
        "matrix = [\n",
        "    [1, 2, 3],\n",
        "    [4, 5, 6],\n",
        "    [7, 8, 9]\n",
        "            ]\n",
        "rotate_matrix(matrix)\n",
        "\n",
        "    Output\n",
        "    print(matrix)\n",
        "    [\n",
        "      [7, 4, 1],\n",
        "      [8, 5, 2],\n",
        "      [9, 6, 3]\n",
        "    ]\n",
        "\n",
        "'''"
      ],
      "metadata": {
        "id": "3qp5yy8xXY1y"
      },
      "execution_count": null,
      "outputs": []
    },
    {
      "cell_type": "code",
      "source": [],
      "metadata": {
        "id": "2pxwoPtNYPms"
      },
      "execution_count": null,
      "outputs": []
    },
    {
      "cell_type": "code",
      "source": [
        "'''\n",
        "Q25\n",
        "Alien Dictionary\n",
        "Problem Statement:\n",
        "Aliens have a unique alphabetical order for their language.\n",
        "Given a list of words in this order, write a function to validate whether the list is sorted.\n",
        "\n",
        "Input:\n",
        "A list of words, e.g., [\"gak\", \"gaj\", \"kam\"]\n",
        "A string representing the alien order, e.g., \"gkajmxyz\"\n",
        "Output:\n",
        "True (if sorted) or False (if not).\n",
        "\n",
        "\n",
        "'''"
      ],
      "metadata": {
        "id": "9jgyPJvWXccI"
      },
      "execution_count": null,
      "outputs": []
    },
    {
      "cell_type": "code",
      "source": [],
      "metadata": {
        "id": "KG2uSigPYS0c"
      },
      "execution_count": null,
      "outputs": []
    },
    {
      "cell_type": "code",
      "source": [
        "'''\n",
        "Q26\n",
        "\n",
        "Sentence Encryption Game\n",
        "Problem Statement:\n",
        "Create a program to encrypt a sentence using the following rules:\n",
        "\n",
        "Reverse each word.\n",
        "Replace all vowels with the next vowel in \"aeiou\" (cyclic).\n",
        "Maintain the word order.\n",
        "Input:\n",
        "A string, e.g., \"hello world\"\n",
        "\n",
        "Output:\n",
        "A string, e.g., \"hillu werld\"\n",
        "\n",
        "'''"
      ],
      "metadata": {
        "id": "pQ_nS8zbXgdw"
      },
      "execution_count": null,
      "outputs": []
    },
    {
      "cell_type": "code",
      "source": [],
      "metadata": {
        "id": "osOkGjnhb-sS"
      },
      "execution_count": null,
      "outputs": []
    },
    {
      "cell_type": "code",
      "source": [
        "'''\n",
        "Q27\n",
        "Event Scheduler\n",
        "Problem Statement:\n",
        "You are building a scheduling app. Write a program to check if a new event can fit into an existing schedule without overlapping.\n",
        "\n",
        "Input:\n",
        "\n",
        "A list of tuples representing current events, e.g., [(1, 3), (5, 6), (8, 10)]\n",
        "A tuple representing the new event, e.g., (4, 5)\n",
        "Output:\n",
        "True\n",
        "\n",
        "Input:\n",
        "Current events: [(2, 4), (7, 10), (12, 15)]\n",
        "New event: (5, 8)\n",
        "\n",
        "Output:\n",
        "False\n",
        "'''"
      ],
      "metadata": {
        "id": "C8g4LGNub-iM"
      },
      "execution_count": null,
      "outputs": []
    },
    {
      "cell_type": "code",
      "source": [],
      "metadata": {
        "id": "mRevJvJ8c9FF"
      },
      "execution_count": null,
      "outputs": []
    },
    {
      "cell_type": "code",
      "source": [
        "'''\n",
        "Q28\n",
        "\n",
        "Digital Safe Cracker\n",
        "You are trying to crack a digital safe.\n",
        "The safe opens when the sum of all digits in a 6-digit code equals a given number.\n",
        "Write a program to generate all possible valid 6-digit codes that satisfy the sum condition.\n",
        "\n",
        "Input:\n",
        "An integer representing the required sum, e.g., 15.\n",
        "Output:\n",
        "A list of 6-digit codes where the sum of the digits equals the given number, e.g., [\"159951\", \"357951\", ...]\n",
        "'''"
      ],
      "metadata": {
        "id": "hG0SURmPc85k"
      },
      "execution_count": null,
      "outputs": []
    },
    {
      "cell_type": "code",
      "source": [],
      "metadata": {
        "id": "oxJe7QrRd9Pd"
      },
      "execution_count": null,
      "outputs": []
    },
    {
      "cell_type": "code",
      "source": [
        "'''\n",
        "Q29\n",
        "\n",
        "Merge Intervals\n",
        "Given a collection of intervals, merge all overlapping intervals.\n",
        "\n",
        "Example:\n",
        "Input: intervals = [[1, 3], [2, 6], [8, 10], [15, 18]]\n",
        "Output: [[1, 6], [8, 10], [15, 18]]\n",
        "Explanation: The intervals [1, 3] and [2, 6] overlap, so they are merged into [1, 6].\n",
        "'''"
      ],
      "metadata": {
        "id": "Mq559T-Bd9FD"
      },
      "execution_count": null,
      "outputs": []
    },
    {
      "cell_type": "code",
      "source": [],
      "metadata": {
        "id": "r-lB3CeJd80r"
      },
      "execution_count": null,
      "outputs": []
    },
    {
      "cell_type": "code",
      "source": [
        "'''\n",
        "Q30\n",
        "Valid Parentheses\n",
        "Given a string s containing just the characters '(', ')', '{', '}', '[', ']', determine if the input string is valid. An input string is valid if:\n",
        "\n",
        "Open brackets must be closed by the same type of brackets.\n",
        "Open brackets must be closed in the correct order.\n",
        "Example 1:\n",
        "Input:\n",
        "s = \"()\"\n",
        "\n",
        "Output:\n",
        "True\n",
        "\n",
        "Example 2:\n",
        "Input:\n",
        "s = \"()[]{}\"\n",
        "\n",
        "Output:\n",
        "True\n",
        "\n",
        "Example 3:\n",
        "Input:\n",
        "s = \"(]\"\n",
        "\n",
        "Output:\n",
        "False\n",
        "\n",
        "Example 4:\n",
        "Input:\n",
        "s = \"([)]\"\n",
        "\n",
        "Output:\n",
        "False\n",
        "\n",
        "'''"
      ],
      "metadata": {
        "id": "RFo4t_jLhOBU"
      },
      "execution_count": null,
      "outputs": []
    },
    {
      "cell_type": "code",
      "source": [],
      "metadata": {
        "id": "eve0brrrhY6r"
      },
      "execution_count": null,
      "outputs": []
    },
    {
      "cell_type": "code",
      "source": [
        "'''\n",
        "Q31\n",
        "Group Anagrams\n",
        "Given an array of strings strs, group the anagrams together. You can return the answer in any order.\n",
        "\n",
        "Example 1:\n",
        "Input:\n",
        "strs = [\"eat\", \"tea\", \"tan\", \"ate\", \"nat\", \"bat\"]\n",
        "\n",
        "Output:\n",
        "[[\"eat\", \"tea\", \"ate\"], [\"tan\", \"nat\"], [\"bat\"]]\n",
        "\n",
        "Example 2:\n",
        "Input:\n",
        "strs = [\"\"]\n",
        "\n",
        "Output:\n",
        "[[\"\"]]\n",
        "\n",
        "Example 3:\n",
        "Input:\n",
        "strs = [\"a\"]\n",
        "\n",
        "Output:\n",
        "[[\"a\"]]\n",
        "'''"
      ],
      "metadata": {
        "id": "izeXcba2hYxd"
      },
      "execution_count": null,
      "outputs": []
    },
    {
      "cell_type": "code",
      "source": [],
      "metadata": {
        "id": "ljGgErOZheaL"
      },
      "execution_count": null,
      "outputs": []
    },
    {
      "cell_type": "code",
      "source": [
        "'''\n",
        "Q32\n",
        "\n",
        "Permutations\n",
        "Given a collection of distinct integers, return all possible permutations.\n",
        "\n",
        "Example 1:\n",
        "Input:\n",
        "nums = [1, 2, 3]\n",
        "\n",
        "Output:\n",
        "[[1, 2, 3], [1, 3, 2], [2, 1, 3], [2, 3, 1], [3, 1, 2], [3, 2, 1]]\n",
        "\n",
        "Example 2:\n",
        "Input:\n",
        "nums = [0, 1]\n",
        "\n",
        "Output:\n",
        "[[0, 1], [1, 0]]\n",
        "\n",
        "Example 3:\n",
        "Input:\n",
        "nums = [1]\n",
        "\n",
        "Output:\n",
        "[[1]]\n",
        "'''"
      ],
      "metadata": {
        "id": "4Rd45KM9heQM"
      },
      "execution_count": null,
      "outputs": []
    },
    {
      "cell_type": "code",
      "source": [
        "'''\n",
        "Q33\n",
        "Maximum Subarray\n",
        "Given an integer array nums, find the contiguous subarray (containing at least one number) which has the largest sum and return its sum.\n",
        "\n",
        "Example 1:\n",
        "Input:\n",
        "nums = [-2, 1, -3, 4, -1, 2, 1, -5, 4]\n",
        "\n",
        "Output:\n",
        "6\n",
        "Explanation: The subarray [4, -1, 2, 1] has the largest sum = 6.\n",
        "\n",
        "Example 2:\n",
        "Input:\n",
        "nums = [1]\n",
        "\n",
        "Output:\n",
        "1\n",
        "Explanation: The subarray [1] has the largest sum = 1.\n",
        "\n",
        "Example 3:\n",
        "Input:\n",
        "nums = [5, 4, -1, 7, 8]\n",
        "\n",
        "Output:\n",
        "23\n",
        "Explanation: The subarray [5, 4, -1, 7, 8] has the largest sum = 23.\n",
        "'''"
      ],
      "metadata": {
        "id": "YBrlPUQfiDV0"
      },
      "execution_count": null,
      "outputs": []
    },
    {
      "cell_type": "code",
      "source": [
        "'''\n",
        "Q34\n",
        "\n",
        "Sum of Digits\n",
        "Write a recursive function that calculates the sum of digits of a given non-negative integer n.\n",
        "The function should keep calling itself recursively until it reduces the number to 0.\n",
        "\n",
        "Example 1:\n",
        "Input:\n",
        "n = 123\n",
        "\n",
        "Output:\n",
        "6\n",
        "Explanation: The sum of digits is 1 + 2 + 3 = 6.\n",
        "\n",
        "Example 2:\n",
        "Input:\n",
        "n = 98765\n",
        "\n",
        "Output:\n",
        "35\n",
        "Explanation: The sum of digits is 9 + 8 + 7 + 6 + 5 = 35.\n",
        "\n",
        "Example 3:\n",
        "Input:\n",
        "n = 0\n",
        "\n",
        "Output:\n",
        "0\n",
        "Explanation: The sum of digits is 0.\n",
        "'''"
      ],
      "metadata": {
        "id": "C9N_eMZPingm"
      },
      "execution_count": null,
      "outputs": []
    },
    {
      "cell_type": "code",
      "source": [],
      "metadata": {
        "id": "KoyMh72bjY6L"
      },
      "execution_count": null,
      "outputs": []
    },
    {
      "cell_type": "code",
      "source": [
        "'''\n",
        "Q35\n",
        "Normalize Scores (USE Map & Filter)\n",
        "You are given a list of students' scores on a test. The task is to:\n",
        "Filter out the scores that are below a passing score of 50.\n",
        "Map the remaining scores to a normalized score in the range of 0 to 1. The normalized score can be calculated as:\n",
        "normalized score = (score − min score) / (max score − min score)\n",
        "​\n",
        "Write a function that returns the list of normalized scores.\n",
        "\n",
        "Example 1:\n",
        "Input:\n",
        "scores = [65, 48, 55, 78, 32, 45, 99]\n",
        "\n",
        "Output:\n",
        "[0.25, 0.1, 0.18, 0.61, 0.94]\n",
        "Explanation:\n",
        "\n",
        "First, filter out scores below 50: [65, 55, 78, 99]\n",
        "Then, calculate the normalized scores using the formula.\n",
        "Example 2:\n",
        "Input:\n",
        "scores = [40, 60, 80, 100, 20]\n",
        "\n",
        "Output:\n",
        "[0.0, 0.25, 0.75, 1.0]\n",
        "Explanation:\n",
        "\n",
        "After filtering: [60, 80, 100]\n",
        "The normalized scores are calculated using the formula.\n",
        "Example 3:\n",
        "Input:\n",
        "scores = [20, 30, 40]\n",
        "\n",
        "Output:\n",
        "[]\n",
        "Explanation: All scores are below the passing mark of 50, so the result is an empty list.\n",
        "\n",
        "'''"
      ],
      "metadata": {
        "id": "6cZpv-GIjYuK"
      },
      "execution_count": null,
      "outputs": []
    },
    {
      "cell_type": "code",
      "source": [],
      "metadata": {
        "id": "YVYIyUeajYhk"
      },
      "execution_count": null,
      "outputs": []
    }
  ]
}