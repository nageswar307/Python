{
  "nbformat": 4,
  "nbformat_minor": 0,
  "metadata": {
    "colab": {
      "provenance": [],
      "authorship_tag": "ABX9TyNwy38qvcYBxvbZRRKRAtn+",
      "include_colab_link": true
    },
    "kernelspec": {
      "name": "python3",
      "display_name": "Python 3"
    },
    "language_info": {
      "name": "python"
    }
  },
  "cells": [
    {
      "cell_type": "markdown",
      "metadata": {
        "id": "view-in-github",
        "colab_type": "text"
      },
      "source": [
        "<a href=\"https://colab.research.google.com/github/nageswar307/Python/blob/main/Day5.ipynb\" target=\"_parent\"><img src=\"https://colab.research.google.com/assets/colab-badge.svg\" alt=\"Open In Colab\"/></a>"
      ]
    },
    {
      "cell_type": "code",
      "execution_count": 60,
      "metadata": {
        "id": "IWdaS7RJPhOZ"
      },
      "outputs": [],
      "source": [
        "spam_keyword_list = [\"offer\",\"congratulations\",\"prize\",\"jockpot\",\"loans\",\"free\",\"lottery\",\"urgent\",\"risk-free\"]\n"
      ]
    },
    {
      "cell_type": "code",
      "source": [
        "mail_text = '''\n",
        "Subject: 🎉 Congratulations! You've Won a FREE iPhone 15!\n",
        "\n",
        "From: rewardcenter@freeprize.com\n",
        "\n",
        "To: your-email@example.com\n",
        "\n",
        "Body:\n",
        "Hi [Your Name],\n",
        "\n",
        "🎁 Good News!\n",
        "You’ve been randomly selected to receive a brand new iPhone 15 – absolutely FREE! This is a limited-time offer, and you must act now to claim your prize.\n",
        "\n",
        "🔒 To confirm your prize, simply click the link below and fill out the quick survey:\n",
        "👉 Claim Your iPhone Now\n",
        "\n",
        "But hurry! discussion meeting. This offer expires in 24 hours and is only available to a handful of lucky winners.\n",
        "Don’t miss out on this once-in-a-lifetime opportunity.\n",
        "\n",
        "Best regards,\n",
        "The Rewards Team\n",
        "rewardcenter@freeprize.com\n",
        "\n",
        "'''"
      ],
      "metadata": {
        "id": "frbXP-SMQ6ef"
      },
      "execution_count": 61,
      "outputs": []
    },
    {
      "cell_type": "code",
      "source": [
        "# Pre processing\n",
        "mail_text = mail_text.lower()\n",
        "mail_text"
      ],
      "metadata": {
        "colab": {
          "base_uri": "https://localhost:8080/",
          "height": 105
        },
        "id": "b4wJVjwSRQ8Z",
        "outputId": "e656bf47-ae38-42ff-f30a-1c52fbc5ac26"
      },
      "execution_count": 62,
      "outputs": [
        {
          "output_type": "execute_result",
          "data": {
            "text/plain": [
              "\"\\nsubject: 🎉 congratulations! you've won a free iphone 15!\\n\\nfrom: rewardcenter@freeprize.com\\n\\nto: your-email@example.com\\n\\nbody:\\nhi [your name],\\n\\n🎁 good news!\\nyou’ve been randomly selected to receive a brand new iphone 15 – absolutely free! this is a limited-time offer, and you must act now to claim your prize.\\n\\n🔒 to confirm your prize, simply click the link below and fill out the quick survey:\\n👉 claim your iphone now\\n\\nbut hurry! discussion meeting. this offer expires in 24 hours and is only available to a handful of lucky winners.\\ndon’t miss out on this once-in-a-lifetime opportunity.\\n\\nbest regards,\\nthe rewards team\\nrewardcenter@freeprize.com\\n\\n\""
            ],
            "application/vnd.google.colaboratory.intrinsic+json": {
              "type": "string"
            }
          },
          "metadata": {},
          "execution_count": 62
        }
      ]
    },
    {
      "cell_type": "code",
      "source": [],
      "metadata": {
        "id": "L075L7nta0Lc"
      },
      "execution_count": null,
      "outputs": []
    },
    {
      "cell_type": "code",
      "source": [
        "mail_text = mail_text.replace('\\n','')\n",
        "mail_text"
      ],
      "metadata": {
        "colab": {
          "base_uri": "https://localhost:8080/",
          "height": 87
        },
        "id": "ezAccjV4RgO3",
        "outputId": "695fe56f-4d72-4b2d-c77f-f04f04761c97"
      },
      "execution_count": 63,
      "outputs": [
        {
          "output_type": "execute_result",
          "data": {
            "text/plain": [
              "\"subject: 🎉 congratulations! you've won a free iphone 15!from: rewardcenter@freeprize.comto: your-email@example.combody:hi [your name],🎁 good news!you’ve been randomly selected to receive a brand new iphone 15 – absolutely free! this is a limited-time offer, and you must act now to claim your prize.🔒 to confirm your prize, simply click the link below and fill out the quick survey:👉 claim your iphone nowbut hurry! discussion meeting. this offer expires in 24 hours and is only available to a handful of lucky winners.don’t miss out on this once-in-a-lifetime opportunity.best regards,the rewards teamrewardcenter@freeprize.com\""
            ],
            "application/vnd.google.colaboratory.intrinsic+json": {
              "type": "string"
            }
          },
          "metadata": {},
          "execution_count": 63
        }
      ]
    },
    {
      "cell_type": "code",
      "source": [
        "mail_text = mail_text.replace(':','').replace(\"!\",\" \")\n",
        "mail_text"
      ],
      "metadata": {
        "colab": {
          "base_uri": "https://localhost:8080/",
          "height": 87
        },
        "id": "RDBo3zupRks3",
        "outputId": "966948f1-f748-4fa1-9e75-875402856fee"
      },
      "execution_count": 64,
      "outputs": [
        {
          "output_type": "execute_result",
          "data": {
            "text/plain": [
              "\"subject 🎉 congratulations  you've won a free iphone 15 from rewardcenter@freeprize.comto your-email@example.combodyhi [your name],🎁 good news you’ve been randomly selected to receive a brand new iphone 15 – absolutely free  this is a limited-time offer, and you must act now to claim your prize.🔒 to confirm your prize, simply click the link below and fill out the quick survey👉 claim your iphone nowbut hurry  discussion meeting. this offer expires in 24 hours and is only available to a handful of lucky winners.don’t miss out on this once-in-a-lifetime opportunity.best regards,the rewards teamrewardcenter@freeprize.com\""
            ],
            "application/vnd.google.colaboratory.intrinsic+json": {
              "type": "string"
            }
          },
          "metadata": {},
          "execution_count": 64
        }
      ]
    },
    {
      "cell_type": "code",
      "source": [
        "word_list = mail_text.split(\" \")\n",
        "word_list"
      ],
      "metadata": {
        "colab": {
          "base_uri": "https://localhost:8080/"
        },
        "id": "e8ji6cVESF-9",
        "outputId": "fc17696d-9a8b-471a-b1a5-555fcb78828c"
      },
      "execution_count": 65,
      "outputs": [
        {
          "output_type": "execute_result",
          "data": {
            "text/plain": [
              "['subject',\n",
              " '🎉',\n",
              " 'congratulations',\n",
              " '',\n",
              " \"you've\",\n",
              " 'won',\n",
              " 'a',\n",
              " 'free',\n",
              " 'iphone',\n",
              " '15',\n",
              " 'from',\n",
              " 'rewardcenter@freeprize.comto',\n",
              " 'your-email@example.combodyhi',\n",
              " '[your',\n",
              " 'name],🎁',\n",
              " 'good',\n",
              " 'news',\n",
              " 'you’ve',\n",
              " 'been',\n",
              " 'randomly',\n",
              " 'selected',\n",
              " 'to',\n",
              " 'receive',\n",
              " 'a',\n",
              " 'brand',\n",
              " 'new',\n",
              " 'iphone',\n",
              " '15',\n",
              " '–',\n",
              " 'absolutely',\n",
              " 'free',\n",
              " '',\n",
              " 'this',\n",
              " 'is',\n",
              " 'a',\n",
              " 'limited-time',\n",
              " 'offer,',\n",
              " 'and',\n",
              " 'you',\n",
              " 'must',\n",
              " 'act',\n",
              " 'now',\n",
              " 'to',\n",
              " 'claim',\n",
              " 'your',\n",
              " 'prize.🔒',\n",
              " 'to',\n",
              " 'confirm',\n",
              " 'your',\n",
              " 'prize,',\n",
              " 'simply',\n",
              " 'click',\n",
              " 'the',\n",
              " 'link',\n",
              " 'below',\n",
              " 'and',\n",
              " 'fill',\n",
              " 'out',\n",
              " 'the',\n",
              " 'quick',\n",
              " 'survey👉',\n",
              " 'claim',\n",
              " 'your',\n",
              " 'iphone',\n",
              " 'nowbut',\n",
              " 'hurry',\n",
              " '',\n",
              " 'discussion',\n",
              " 'meeting.',\n",
              " 'this',\n",
              " 'offer',\n",
              " 'expires',\n",
              " 'in',\n",
              " '24',\n",
              " 'hours',\n",
              " 'and',\n",
              " 'is',\n",
              " 'only',\n",
              " 'available',\n",
              " 'to',\n",
              " 'a',\n",
              " 'handful',\n",
              " 'of',\n",
              " 'lucky',\n",
              " 'winners.don’t',\n",
              " 'miss',\n",
              " 'out',\n",
              " 'on',\n",
              " 'this',\n",
              " 'once-in-a-lifetime',\n",
              " 'opportunity.best',\n",
              " 'regards,the',\n",
              " 'rewards',\n",
              " 'teamrewardcenter@freeprize.com']"
            ]
          },
          "metadata": {},
          "execution_count": 65
        }
      ]
    },
    {
      "cell_type": "code",
      "source": [
        "word_list_new = []\n",
        "\n",
        "\n",
        "for word in word_list:\n",
        "    word = word.strip()\n",
        "    word_list_new.append(word)\n",
        "\n",
        "word_list_new"
      ],
      "metadata": {
        "colab": {
          "base_uri": "https://localhost:8080/"
        },
        "id": "ZV06yWmhSVpY",
        "outputId": "378d1a62-09ea-4c51-b5e5-d233984721de"
      },
      "execution_count": 66,
      "outputs": [
        {
          "output_type": "execute_result",
          "data": {
            "text/plain": [
              "['subject',\n",
              " '🎉',\n",
              " 'congratulations',\n",
              " '',\n",
              " \"you've\",\n",
              " 'won',\n",
              " 'a',\n",
              " 'free',\n",
              " 'iphone',\n",
              " '15',\n",
              " 'from',\n",
              " 'rewardcenter@freeprize.comto',\n",
              " 'your-email@example.combodyhi',\n",
              " '[your',\n",
              " 'name],🎁',\n",
              " 'good',\n",
              " 'news',\n",
              " 'you’ve',\n",
              " 'been',\n",
              " 'randomly',\n",
              " 'selected',\n",
              " 'to',\n",
              " 'receive',\n",
              " 'a',\n",
              " 'brand',\n",
              " 'new',\n",
              " 'iphone',\n",
              " '15',\n",
              " '–',\n",
              " 'absolutely',\n",
              " 'free',\n",
              " '',\n",
              " 'this',\n",
              " 'is',\n",
              " 'a',\n",
              " 'limited-time',\n",
              " 'offer,',\n",
              " 'and',\n",
              " 'you',\n",
              " 'must',\n",
              " 'act',\n",
              " 'now',\n",
              " 'to',\n",
              " 'claim',\n",
              " 'your',\n",
              " 'prize.🔒',\n",
              " 'to',\n",
              " 'confirm',\n",
              " 'your',\n",
              " 'prize,',\n",
              " 'simply',\n",
              " 'click',\n",
              " 'the',\n",
              " 'link',\n",
              " 'below',\n",
              " 'and',\n",
              " 'fill',\n",
              " 'out',\n",
              " 'the',\n",
              " 'quick',\n",
              " 'survey👉',\n",
              " 'claim',\n",
              " 'your',\n",
              " 'iphone',\n",
              " 'nowbut',\n",
              " 'hurry',\n",
              " '',\n",
              " 'discussion',\n",
              " 'meeting.',\n",
              " 'this',\n",
              " 'offer',\n",
              " 'expires',\n",
              " 'in',\n",
              " '24',\n",
              " 'hours',\n",
              " 'and',\n",
              " 'is',\n",
              " 'only',\n",
              " 'available',\n",
              " 'to',\n",
              " 'a',\n",
              " 'handful',\n",
              " 'of',\n",
              " 'lucky',\n",
              " 'winners.don’t',\n",
              " 'miss',\n",
              " 'out',\n",
              " 'on',\n",
              " 'this',\n",
              " 'once-in-a-lifetime',\n",
              " 'opportunity.best',\n",
              " 'regards,the',\n",
              " 'rewards',\n",
              " 'teamrewardcenter@freeprize.com']"
            ]
          },
          "metadata": {},
          "execution_count": 66
        }
      ]
    },
    {
      "cell_type": "code",
      "source": [
        "word_list = [word.strip() for word in word_list]\n",
        "word_list"
      ],
      "metadata": {
        "colab": {
          "base_uri": "https://localhost:8080/"
        },
        "id": "0pXHzVu_Sui_",
        "outputId": "ab4a0220-ea7a-43b7-81c2-f553a1044bd7"
      },
      "execution_count": 67,
      "outputs": [
        {
          "output_type": "execute_result",
          "data": {
            "text/plain": [
              "['subject',\n",
              " '🎉',\n",
              " 'congratulations',\n",
              " '',\n",
              " \"you've\",\n",
              " 'won',\n",
              " 'a',\n",
              " 'free',\n",
              " 'iphone',\n",
              " '15',\n",
              " 'from',\n",
              " 'rewardcenter@freeprize.comto',\n",
              " 'your-email@example.combodyhi',\n",
              " '[your',\n",
              " 'name],🎁',\n",
              " 'good',\n",
              " 'news',\n",
              " 'you’ve',\n",
              " 'been',\n",
              " 'randomly',\n",
              " 'selected',\n",
              " 'to',\n",
              " 'receive',\n",
              " 'a',\n",
              " 'brand',\n",
              " 'new',\n",
              " 'iphone',\n",
              " '15',\n",
              " '–',\n",
              " 'absolutely',\n",
              " 'free',\n",
              " '',\n",
              " 'this',\n",
              " 'is',\n",
              " 'a',\n",
              " 'limited-time',\n",
              " 'offer,',\n",
              " 'and',\n",
              " 'you',\n",
              " 'must',\n",
              " 'act',\n",
              " 'now',\n",
              " 'to',\n",
              " 'claim',\n",
              " 'your',\n",
              " 'prize.🔒',\n",
              " 'to',\n",
              " 'confirm',\n",
              " 'your',\n",
              " 'prize,',\n",
              " 'simply',\n",
              " 'click',\n",
              " 'the',\n",
              " 'link',\n",
              " 'below',\n",
              " 'and',\n",
              " 'fill',\n",
              " 'out',\n",
              " 'the',\n",
              " 'quick',\n",
              " 'survey👉',\n",
              " 'claim',\n",
              " 'your',\n",
              " 'iphone',\n",
              " 'nowbut',\n",
              " 'hurry',\n",
              " '',\n",
              " 'discussion',\n",
              " 'meeting.',\n",
              " 'this',\n",
              " 'offer',\n",
              " 'expires',\n",
              " 'in',\n",
              " '24',\n",
              " 'hours',\n",
              " 'and',\n",
              " 'is',\n",
              " 'only',\n",
              " 'available',\n",
              " 'to',\n",
              " 'a',\n",
              " 'handful',\n",
              " 'of',\n",
              " 'lucky',\n",
              " 'winners.don’t',\n",
              " 'miss',\n",
              " 'out',\n",
              " 'on',\n",
              " 'this',\n",
              " 'once-in-a-lifetime',\n",
              " 'opportunity.best',\n",
              " 'regards,the',\n",
              " 'rewards',\n",
              " 'teamrewardcenter@freeprize.com']"
            ]
          },
          "metadata": {},
          "execution_count": 67
        }
      ]
    },
    {
      "cell_type": "code",
      "source": [
        "spam_score = 0\n",
        "inmail_spam_list = []\n",
        "\n",
        "\n",
        "for word in word_list:\n",
        "    if word in spam_keyword_list:\n",
        "        inmail_spam_list.append(word)\n",
        "        spam_score = spam_score + 1\n",
        "\n",
        "spam_score"
      ],
      "metadata": {
        "colab": {
          "base_uri": "https://localhost:8080/"
        },
        "id": "gPRh7WRgTNE4",
        "outputId": "f4ab97c1-0594-4b89-f882-658341704a97"
      },
      "execution_count": 68,
      "outputs": [
        {
          "output_type": "execute_result",
          "data": {
            "text/plain": [
              "4"
            ]
          },
          "metadata": {},
          "execution_count": 68
        }
      ]
    },
    {
      "cell_type": "code",
      "source": [
        "inmail_spam_list"
      ],
      "metadata": {
        "colab": {
          "base_uri": "https://localhost:8080/"
        },
        "id": "3MhwOCSpTwVc",
        "outputId": "90eec54a-9f81-451f-c780-bee154305892"
      },
      "execution_count": 69,
      "outputs": [
        {
          "output_type": "execute_result",
          "data": {
            "text/plain": [
              "['congratulations', 'free', 'free', 'offer']"
            ]
          },
          "metadata": {},
          "execution_count": 69
        }
      ]
    },
    {
      "cell_type": "code",
      "source": [
        "# spam_keyword_list = [\"offer\",\"congratulations\",\"prize\",\"jockpot\",\"loans\",\"free\",\"lottery\",\"urgent\",\"risk-free\"]\n",
        "\n",
        "\n",
        "spam_key_dict = {\n",
        "    \"jockpot\" : 10,\n",
        "    \"congratulations\" : 9,\n",
        "    \"offer\" : 8,\n",
        "    \"prize\" : 8,\n",
        "    \"lottery\" : 7,\n",
        "    \"loan\" : 6,\n",
        "    \"urgent\" : 5,\n",
        "    \"risk_free\" : 4,\n",
        "    \"free\" :3\n",
        "}\n",
        "\n",
        "non_spam_dict = {\n",
        "    \"meeting\" : 10,\n",
        "    \"discussion\" : 9,\n",
        "    \"confidential\" : 8,\n",
        "    \"agenda\" : 7,\n",
        "    \"presentation\" : 6,\n",
        "    \"approval\" : 5,\n",
        "    \"review\" : 4\n",
        "}"
      ],
      "metadata": {
        "id": "mdaEUtCJVgrc"
      },
      "execution_count": 70,
      "outputs": []
    },
    {
      "cell_type": "code",
      "source": [
        "spam_score = 0\n",
        "non_spam_score = 0\n",
        "\n",
        "spam_key_words = []\n",
        "non_spam_key_words = []\n",
        "\n",
        "for word in word_list:\n",
        "    if word in spam_key_dict:\n",
        "      spam_score = spam_score + spam_key_dict[word]\n",
        "      spam_key_words.append(word)\n",
        "    elif word in non_spam_dict:\n",
        "      non_spam_score = non_spam_score + non_spam_dict[word]\n",
        "      non_spam_key_words.append(word)\n",
        "\n",
        "spam_score, non_spam_score, spam_key_words, non_spam_key_words"
      ],
      "metadata": {
        "colab": {
          "base_uri": "https://localhost:8080/"
        },
        "id": "LPTJ6IioXKIh",
        "outputId": "210fc962-c7f5-476c-f0d8-72de8fcc216b"
      },
      "execution_count": 71,
      "outputs": [
        {
          "output_type": "execute_result",
          "data": {
            "text/plain": [
              "(23, 9, ['congratulations', 'free', 'free', 'offer'], ['discussion'])"
            ]
          },
          "metadata": {},
          "execution_count": 71
        }
      ]
    },
    {
      "cell_type": "code",
      "source": [
        "if spam_score > non_spam_score:\n",
        "  print(\"Spam Mail\")\n",
        "else:\n",
        "  print(\"Non-Spam Mail\")"
      ],
      "metadata": {
        "colab": {
          "base_uri": "https://localhost:8080/"
        },
        "id": "FacLHgfbXxyy",
        "outputId": "4e46551d-7ec4-4e10-d14c-04e08f48aa4a"
      },
      "execution_count": 72,
      "outputs": [
        {
          "output_type": "stream",
          "name": "stdout",
          "text": [
            "Spam Mail\n"
          ]
        }
      ]
    }
  ]
}