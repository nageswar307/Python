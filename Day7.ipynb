{
  "nbformat": 4,
  "nbformat_minor": 0,
  "metadata": {
    "colab": {
      "provenance": [],
      "authorship_tag": "ABX9TyPDRVQJOHOARxOq5kVFv8RG",
      "include_colab_link": true
    },
    "kernelspec": {
      "name": "python3",
      "display_name": "Python 3"
    },
    "language_info": {
      "name": "python"
    }
  },
  "cells": [
    {
      "cell_type": "markdown",
      "metadata": {
        "id": "view-in-github",
        "colab_type": "text"
      },
      "source": [
        "<a href=\"https://colab.research.google.com/github/nageswar307/Python/blob/main/Day7.ipynb\" target=\"_parent\"><img src=\"https://colab.research.google.com/assets/colab-badge.svg\" alt=\"Open In Colab\"/></a>"
      ]
    },
    {
      "cell_type": "code",
      "execution_count": 1,
      "metadata": {
        "colab": {
          "base_uri": "https://localhost:8080/",
          "height": 53
        },
        "id": "wv0G9GTEaWDf",
        "outputId": "2518a427-2131-4600-ec63-cb8b76756c6f"
      },
      "outputs": [
        {
          "output_type": "execute_result",
          "data": {
            "text/plain": [
              "'Sales Report\\n\\nPrepared by: ABC\\nDate: December 28, 2024\\n\\nTotal Revenue: $5.2 million (Up 15% from Q3)\\n\\nTop-Selling Product: Product X (32% of total sales)\\n\\nHighest-Growth Region: North America (Growth of 18%)\\n\\nNew Clients Acquired: 45\\n\\nCustomer Retention Rate: 92%'"
            ],
            "application/vnd.google.colaboratory.intrinsic+json": {
              "type": "string"
            }
          },
          "metadata": {},
          "execution_count": 1
        }
      ],
      "source": [
        "'''Sales Report\n",
        "\n",
        "Prepared by: ABC\n",
        "Date: December 28, 2024\n",
        "\n",
        "Total Revenue: $5.2 million (Up 15% from Q3)\n",
        "\n",
        "Top-Selling Product: Product X (32% of total sales)\n",
        "\n",
        "Highest-Growth Region: North America (Growth of 18%)\n",
        "\n",
        "New Clients Acquired: 45\n",
        "\n",
        "Customer Retention Rate: 92%'''"
      ]
    },
    {
      "cell_type": "code",
      "source": [
        "title = \"Sales Report\"\n",
        "file_details = { \"Prepared by\": \"ABC\",\n",
        "                \"Date\": \"December 28, 2024\"}\n",
        "content = [\"Total Revenue: $5.2 million (Up 15% from Q3)\",\n",
        "           \"Top-Selling Product: Product X (32% of total sales)\",\n",
        "           \"Highest-Growth Region: North America (Growth of 18%)\",\n",
        "            \"New Clients Acquired: 45\",\n",
        "          \"Customer Retention Rate: 92%\"]"
      ],
      "metadata": {
        "id": "n3VR8BdaeEV2"
      },
      "execution_count": 2,
      "outputs": []
    },
    {
      "cell_type": "code",
      "source": [
        "file_content = title + \"\\n\"\n",
        "for key, value in file_details.items():\n",
        "    file_content = file_content + f\"{key}: {value}\\n\"\n",
        "file_content = file_content + \"\\n\".join(content)\n",
        "\n",
        "\n",
        "print(file_content)"
      ],
      "metadata": {
        "colab": {
          "base_uri": "https://localhost:8080/"
        },
        "id": "TRFC4HIge4a4",
        "outputId": "24f76d21-455b-4232-9293-bd8e419a863a"
      },
      "execution_count": 3,
      "outputs": [
        {
          "output_type": "stream",
          "name": "stdout",
          "text": [
            "Sales Report\n",
            "Prepared by: ABC\n",
            "Date: December 28, 2024\n",
            "Total Revenue: $5.2 million (Up 15% from Q3)\n",
            "Top-Selling Product: Product X (32% of total sales)\n",
            "Highest-Growth Region: North America (Growth of 18%)\n",
            "New Clients Acquired: 45\n",
            "Customer Retention Rate: 92%\n"
          ]
        }
      ]
    },
    {
      "cell_type": "code",
      "source": [
        "\n",
        "\n",
        "\n",
        "def report_creation(title, *content, **file_details):\n",
        "  file_content = \"\"\n",
        "  file_content = title + \"\\n\"\n",
        "  for key, value in file_details.items():\n",
        "    file_content = file_content + f\"{key}: {value}\\n\"\n",
        "  file_content = file_content + \"\\n\".join(content)\n",
        "  #  print(file_content)\n",
        "  return file_content"
      ],
      "metadata": {
        "id": "gE4SGI6jfbbe"
      },
      "execution_count": 4,
      "outputs": []
    },
    {
      "cell_type": "code",
      "source": [
        "print(report_creation(title, *content, **file_details))"
      ],
      "metadata": {
        "colab": {
          "base_uri": "https://localhost:8080/"
        },
        "id": "y0-FWYTAh-qA",
        "outputId": "5c40098d-a451-4190-d11e-c5cd08cfc650"
      },
      "execution_count": 5,
      "outputs": [
        {
          "output_type": "stream",
          "name": "stdout",
          "text": [
            "Sales Report\n",
            "Prepared by: ABC\n",
            "Date: December 28, 2024\n",
            "Total Revenue: $5.2 million (Up 15% from Q3)\n",
            "Top-Selling Product: Product X (32% of total sales)\n",
            "Highest-Growth Region: North America (Growth of 18%)\n",
            "New Clients Acquired: 45\n",
            "Customer Retention Rate: 92%\n"
          ]
        }
      ]
    },
    {
      "cell_type": "code",
      "source": [
        "print(report_creation(title, *content, Prepared_by= \"ABC\", Date = \"December 28, 2024\",))"
      ],
      "metadata": {
        "colab": {
          "base_uri": "https://localhost:8080/"
        },
        "id": "bdQhYER2jFLZ",
        "outputId": "75afc71b-e4d0-4e88-fed8-91aa328d0d6c"
      },
      "execution_count": 6,
      "outputs": [
        {
          "output_type": "stream",
          "name": "stdout",
          "text": [
            "Sales Report\n",
            "Prepared_by: ABC\n",
            "Date: December 28, 2024\n",
            "Total Revenue: $5.2 million (Up 15% from Q3)\n",
            "Top-Selling Product: Product X (32% of total sales)\n",
            "Highest-Growth Region: North America (Growth of 18%)\n",
            "New Clients Acquired: 45\n",
            "Customer Retention Rate: 92%\n"
          ]
        }
      ]
    },
    {
      "cell_type": "code",
      "source": [
        "# modes - read \"r\" \"r+\", write \"w\" \"w+\", append \"a\"\n"
      ],
      "metadata": {
        "id": "YARdo4k5koWW"
      },
      "execution_count": 7,
      "outputs": []
    },
    {
      "cell_type": "code",
      "source": [
        "with open(\"report.txt\", \"w\") as file:\n",
        "  text_to_save = report_creation(title, *content, **file_details)\n",
        "  file.write(text_to_save)"
      ],
      "metadata": {
        "id": "3_WiHwXEjrzn"
      },
      "execution_count": 8,
      "outputs": []
    },
    {
      "cell_type": "code",
      "source": [
        "with open(\"/content/report.txt\", \"r\") as file:\n",
        "  print(file.read())"
      ],
      "metadata": {
        "colab": {
          "base_uri": "https://localhost:8080/"
        },
        "id": "KGs73wajlOjD",
        "outputId": "7004d366-7fdd-4c0c-d337-1f5a3eb1f1b6"
      },
      "execution_count": 9,
      "outputs": [
        {
          "output_type": "stream",
          "name": "stdout",
          "text": [
            "Sales Report\n",
            "Prepared by: ABC\n",
            "Date: December 28, 2024\n",
            "Total Revenue: $5.2 million (Up 15% from Q3)\n",
            "Top-Selling Product: Product X (32% of total sales)\n",
            "Highest-Growth Region: North America (Growth of 18%)\n",
            "New Clients Acquired: 45\n",
            "Customer Retention Rate: 92%\n"
          ]
        }
      ]
    },
    {
      "cell_type": "code",
      "source": [],
      "metadata": {
        "id": "cvbzEtsfpVBb"
      },
      "execution_count": 9,
      "outputs": []
    },
    {
      "cell_type": "code",
      "source": [
        "with open(\"/content/report.txt\", \"a\") as file:\n",
        "  file.seek(0)\n",
        "  file.write(\"\\n I love python\")"
      ],
      "metadata": {
        "id": "yRuaH9hdlavV"
      },
      "execution_count": 10,
      "outputs": []
    },
    {
      "cell_type": "code",
      "source": [],
      "metadata": {
        "id": "y0vxuvkJpE6b"
      },
      "execution_count": 10,
      "outputs": []
    },
    {
      "cell_type": "code",
      "source": [
        "file_details = { \"Prepared by\": \"ABC\",\n",
        "                \"Date\": \"December 28, 2024\"}"
      ],
      "metadata": {
        "id": "XHYAh7LCnqu-"
      },
      "execution_count": 11,
      "outputs": []
    },
    {
      "cell_type": "code",
      "source": [
        "import json\n",
        "\n",
        "with open(\"test.json\",\"w\") as file:\n",
        "  json.dump(file_details, file)"
      ],
      "metadata": {
        "id": "6_d7iePhns_E"
      },
      "execution_count": 12,
      "outputs": []
    },
    {
      "cell_type": "code",
      "source": [],
      "metadata": {
        "id": "P9S0o6whoiTr"
      },
      "execution_count": 12,
      "outputs": []
    },
    {
      "cell_type": "code",
      "source": [],
      "metadata": {
        "id": "e4_PVmp3oiDw"
      },
      "execution_count": 12,
      "outputs": []
    },
    {
      "cell_type": "code",
      "source": [],
      "metadata": {
        "id": "LRtkWAxorwei"
      },
      "execution_count": 12,
      "outputs": []
    },
    {
      "cell_type": "markdown",
      "source": [
        "## Lambda Functions\n",
        "lambda inputs:return"
      ],
      "metadata": {
        "id": "zQ33IgcPsDEi"
      }
    },
    {
      "cell_type": "code",
      "source": [
        "square = lambda y:y**2\n",
        "\n",
        "square(20)"
      ],
      "metadata": {
        "colab": {
          "base_uri": "https://localhost:8080/"
        },
        "id": "YXtbqO_UsPC6",
        "outputId": "5987e1a6-e69f-4e87-af7f-8b506b78fd8a"
      },
      "execution_count": 13,
      "outputs": [
        {
          "output_type": "execute_result",
          "data": {
            "text/plain": [
              "400"
            ]
          },
          "metadata": {},
          "execution_count": 13
        }
      ]
    },
    {
      "cell_type": "code",
      "source": [
        "add = lambda x,y,z:x+y+z\n",
        "\n",
        "add(2,3,5)"
      ],
      "metadata": {
        "colab": {
          "base_uri": "https://localhost:8080/"
        },
        "id": "YHLhEzQSsrcB",
        "outputId": "1c73e635-fcdc-46a2-d8e0-c4d12e2c956d"
      },
      "execution_count": 14,
      "outputs": [
        {
          "output_type": "execute_result",
          "data": {
            "text/plain": [
              "10"
            ]
          },
          "metadata": {},
          "execution_count": 14
        }
      ]
    },
    {
      "cell_type": "code",
      "source": [
        "even = lambda x:\"Even\" if x%2==0 else \"Odd\"\n",
        "\n",
        "even(20)"
      ],
      "metadata": {
        "colab": {
          "base_uri": "https://localhost:8080/",
          "height": 35
        },
        "id": "QRRgCoWytFAY",
        "outputId": "b0bb4be5-8a57-4b65-9819-eb28a9f448e3"
      },
      "execution_count": 15,
      "outputs": [
        {
          "output_type": "execute_result",
          "data": {
            "text/plain": [
              "'Even'"
            ],
            "application/vnd.google.colaboratory.intrinsic+json": {
              "type": "string"
            }
          },
          "metadata": {},
          "execution_count": 15
        }
      ]
    },
    {
      "cell_type": "code",
      "source": [
        "even = lambda x:\"Even\" if x%2==0 else x+1\n",
        "\n",
        "even(21)"
      ],
      "metadata": {
        "colab": {
          "base_uri": "https://localhost:8080/"
        },
        "id": "W1BHCe9st1w2",
        "outputId": "687fb6a9-c575-41ca-b0e7-2391bd378a69"
      },
      "execution_count": 16,
      "outputs": [
        {
          "output_type": "execute_result",
          "data": {
            "text/plain": [
              "22"
            ]
          },
          "metadata": {},
          "execution_count": 16
        }
      ]
    },
    {
      "cell_type": "markdown",
      "source": [
        "## higher order functions"
      ],
      "metadata": {
        "id": "DUe1HENyvJxT"
      }
    },
    {
      "cell_type": "code",
      "source": [
        "def higher_order_function(x,func):\n",
        "  result = x + func(x)\n",
        "  print(result)\n",
        "  return result\n",
        "\n",
        "higher_order_function(20, square)"
      ],
      "metadata": {
        "colab": {
          "base_uri": "https://localhost:8080/"
        },
        "id": "A9tCi4onuMGL",
        "outputId": "7a6a9bc1-fbd3-4127-99ee-47a1fb491861"
      },
      "execution_count": 17,
      "outputs": [
        {
          "output_type": "stream",
          "name": "stdout",
          "text": [
            "420\n"
          ]
        },
        {
          "output_type": "execute_result",
          "data": {
            "text/plain": [
              "420"
            ]
          },
          "metadata": {},
          "execution_count": 17
        }
      ]
    },
    {
      "cell_type": "code",
      "source": [
        "lst = [1,2,3,4,5,6,7,8,9,10]\n",
        "\n",
        "# output = [11,12,13,.....]\n",
        "output =[]\n",
        "for i in lst:\n",
        "  j = i+10\n",
        "  output.append(j)\n",
        "\n",
        "output"
      ],
      "metadata": {
        "colab": {
          "base_uri": "https://localhost:8080/"
        },
        "id": "jCrqc5nwvyX5",
        "outputId": "28589ec0-b11a-4e78-9415-c8ed839e035a"
      },
      "execution_count": 18,
      "outputs": [
        {
          "output_type": "execute_result",
          "data": {
            "text/plain": [
              "[11, 12, 13, 14, 15, 16, 17, 18, 19, 20]"
            ]
          },
          "metadata": {},
          "execution_count": 18
        }
      ]
    },
    {
      "cell_type": "code",
      "source": [
        "def add_10(num):\n",
        "  return num+10\n",
        "\n",
        "list(map(add_10,lst))"
      ],
      "metadata": {
        "colab": {
          "base_uri": "https://localhost:8080/"
        },
        "id": "iYdDe-HKwPkN",
        "outputId": "90f36014-753a-4261-ac08-f22f2eb7bef0"
      },
      "execution_count": 19,
      "outputs": [
        {
          "output_type": "execute_result",
          "data": {
            "text/plain": [
              "[11, 12, 13, 14, 15, 16, 17, 18, 19, 20]"
            ]
          },
          "metadata": {},
          "execution_count": 19
        }
      ]
    },
    {
      "cell_type": "code",
      "source": [
        "list(map(lambda x:x+10, lst))"
      ],
      "metadata": {
        "colab": {
          "base_uri": "https://localhost:8080/"
        },
        "id": "dL-wGKklwxPf",
        "outputId": "63f975f6-71d2-48e9-f6f4-487c652dbb30"
      },
      "execution_count": 20,
      "outputs": [
        {
          "output_type": "execute_result",
          "data": {
            "text/plain": [
              "[11, 12, 13, 14, 15, 16, 17, 18, 19, 20]"
            ]
          },
          "metadata": {},
          "execution_count": 20
        }
      ]
    },
    {
      "cell_type": "code",
      "source": [
        "side_length_list = [11,14,16,18]"
      ],
      "metadata": {
        "id": "p8wZR3jtw8zO"
      },
      "execution_count": 21,
      "outputs": []
    },
    {
      "cell_type": "code",
      "source": [],
      "metadata": {
        "id": "SuYSGBLEx2OW"
      },
      "execution_count": 21,
      "outputs": []
    },
    {
      "cell_type": "code",
      "source": [
        "lst = [1,2,3,4,5,6,7,8,9,10]\n",
        "even_list = []\n",
        "for i in lst:\n",
        "  if i%2==0:\n",
        "    even_list.append(i)\n",
        "\n",
        "\n",
        "even_list"
      ],
      "metadata": {
        "colab": {
          "base_uri": "https://localhost:8080/"
        },
        "id": "AoHiNPZfyOtw",
        "outputId": "075d274f-a8fe-408b-b02b-daff14dca69c"
      },
      "execution_count": 22,
      "outputs": [
        {
          "output_type": "execute_result",
          "data": {
            "text/plain": [
              "[2, 4, 6, 8, 10]"
            ]
          },
          "metadata": {},
          "execution_count": 22
        }
      ]
    },
    {
      "cell_type": "code",
      "source": [
        "def even_check(num):\n",
        "  if num%2==0:\n",
        "    return True\n",
        "  else:\n",
        "    return False\n",
        "\n",
        "list(filter(even_check,lst))"
      ],
      "metadata": {
        "colab": {
          "base_uri": "https://localhost:8080/"
        },
        "id": "uOcKgYbQymDs",
        "outputId": "50a0f180-d455-4eba-f370-18deb172df5b"
      },
      "execution_count": 23,
      "outputs": [
        {
          "output_type": "execute_result",
          "data": {
            "text/plain": [
              "[2, 4, 6, 8, 10]"
            ]
          },
          "metadata": {},
          "execution_count": 23
        }
      ]
    },
    {
      "cell_type": "code",
      "source": [
        "list(filter(lambda x:x%2==0, lst))"
      ],
      "metadata": {
        "colab": {
          "base_uri": "https://localhost:8080/"
        },
        "id": "tjPBdjDjzrHC",
        "outputId": "b86b0794-5b7d-4c12-d2ee-b422f302cd6c"
      },
      "execution_count": 24,
      "outputs": [
        {
          "output_type": "execute_result",
          "data": {
            "text/plain": [
              "[2, 4, 6, 8, 10]"
            ]
          },
          "metadata": {},
          "execution_count": 24
        }
      ]
    },
    {
      "cell_type": "code",
      "source": [
        "list(filter(lambda x:x%2!=0, lst))"
      ],
      "metadata": {
        "colab": {
          "base_uri": "https://localhost:8080/"
        },
        "id": "cOkgjpHzz27o",
        "outputId": "9e99de6e-7f7a-4284-9e00-aa51e9b9b54a"
      },
      "execution_count": 25,
      "outputs": [
        {
          "output_type": "execute_result",
          "data": {
            "text/plain": [
              "[1, 3, 5, 7, 9]"
            ]
          },
          "metadata": {},
          "execution_count": 25
        }
      ]
    },
    {
      "cell_type": "code",
      "source": [
        "lst = [1,2,3,4,5,6,7,8,9,10]\n",
        "list(map(lambda x:x%2==0, lst))"
      ],
      "metadata": {
        "colab": {
          "base_uri": "https://localhost:8080/"
        },
        "id": "4CAffwSh076A",
        "outputId": "47886414-43f2-4278-bcab-0b647fdb4f32"
      },
      "execution_count": 26,
      "outputs": [
        {
          "output_type": "execute_result",
          "data": {
            "text/plain": [
              "[False, True, False, True, False, True, False, True, False, True]"
            ]
          },
          "metadata": {},
          "execution_count": 26
        }
      ]
    },
    {
      "cell_type": "code",
      "source": [
        "lst = [1,2,3,4,5,6,7,8,9,10]\n",
        "list(filter(lambda x:x%2==0, lst))"
      ],
      "metadata": {
        "colab": {
          "base_uri": "https://localhost:8080/"
        },
        "id": "J-OMXycVz_Pi",
        "outputId": "dab0a2aa-2023-483c-bc39-ae11b732e1d8"
      },
      "execution_count": 27,
      "outputs": [
        {
          "output_type": "execute_result",
          "data": {
            "text/plain": [
              "[2, 4, 6, 8, 10]"
            ]
          },
          "metadata": {},
          "execution_count": 27
        }
      ]
    },
    {
      "cell_type": "code",
      "source": [
        "from functools import reduce\n",
        "\n",
        "lst = [1,2,3,4,5,6,7,8,9,10]\n",
        "\n",
        "\n",
        "reduce(lambda x,y:x+y,lst)"
      ],
      "metadata": {
        "colab": {
          "base_uri": "https://localhost:8080/"
        },
        "id": "hcJekqs_1AHT",
        "outputId": "ffafc2e6-9737-47ba-9aeb-ee9ed8de50be"
      },
      "execution_count": 28,
      "outputs": [
        {
          "output_type": "execute_result",
          "data": {
            "text/plain": [
              "55"
            ]
          },
          "metadata": {},
          "execution_count": 28
        }
      ]
    },
    {
      "cell_type": "code",
      "source": [
        "lst = [1,2,3,4,5,6,7,8,9,10]\n",
        "\n",
        "reduce(lambda x,y:x*y,lst)"
      ],
      "metadata": {
        "colab": {
          "base_uri": "https://localhost:8080/"
        },
        "id": "NnWHBNhG1k9s",
        "outputId": "79c9d46d-85fe-4de6-a304-f73515274937"
      },
      "execution_count": 29,
      "outputs": [
        {
          "output_type": "execute_result",
          "data": {
            "text/plain": [
              "3628800"
            ]
          },
          "metadata": {},
          "execution_count": 29
        }
      ]
    },
    {
      "cell_type": "code",
      "source": [
        "lst = [1,22,3,4,55,6,7,8,9,10]\n",
        "\n",
        "reduce(lambda x,y:x if x>y else y, lst)"
      ],
      "metadata": {
        "colab": {
          "base_uri": "https://localhost:8080/"
        },
        "id": "rh7_57zf1qET",
        "outputId": "c234aec1-e41c-4fe1-e9af-a4811fd60f3a"
      },
      "execution_count": 30,
      "outputs": [
        {
          "output_type": "execute_result",
          "data": {
            "text/plain": [
              "55"
            ]
          },
          "metadata": {},
          "execution_count": 30
        }
      ]
    },
    {
      "cell_type": "code",
      "source": [
        "lst = [-1,\n",
        "       -22,\n",
        "       -3,\n",
        "       -4,\n",
        "       -55,\n",
        "       -6,\n",
        "       -7,\n",
        "       -8,\n",
        "       -9,\n",
        "       -10]\n",
        "\n",
        "max(lst)"
      ],
      "metadata": {
        "colab": {
          "base_uri": "https://localhost:8080/",
          "height": 176
        },
        "id": "Ib7by1Ao2Il6",
        "outputId": "ed859459-c040-4fc7-ec1b-bcce262eb381"
      },
      "execution_count": 34,
      "outputs": [
        {
          "output_type": "error",
          "ename": "TypeError",
          "evalue": "'int' object is not callable",
          "traceback": [
            "\u001b[0;31m---------------------------------------------------------------------------\u001b[0m",
            "\u001b[0;31mTypeError\u001b[0m                                 Traceback (most recent call last)",
            "\u001b[0;32m<ipython-input-34-1729780c520f>\u001b[0m in \u001b[0;36m<cell line: 12>\u001b[0;34m()\u001b[0m\n\u001b[1;32m     10\u001b[0m        -10]\n\u001b[1;32m     11\u001b[0m \u001b[0;34m\u001b[0m\u001b[0m\n\u001b[0;32m---> 12\u001b[0;31m \u001b[0mmax\u001b[0m\u001b[0;34m(\u001b[0m\u001b[0mlst\u001b[0m\u001b[0;34m)\u001b[0m\u001b[0;34m\u001b[0m\u001b[0;34m\u001b[0m\u001b[0m\n\u001b[0m",
            "\u001b[0;31mTypeError\u001b[0m: 'int' object is not callable"
          ]
        }
      ]
    },
    {
      "cell_type": "code",
      "source": [
        "max = 0\n",
        "for i in lst:\n",
        "  if i>maxi:\n",
        "    maxi =i\n",
        "  else:\n",
        "    maxi = maxi\n",
        "\n",
        "maxi"
      ],
      "metadata": {
        "colab": {
          "base_uri": "https://localhost:8080/"
        },
        "id": "n8LnzGdj2JBh",
        "outputId": "bc193e9b-c0ca-42df-9ee1-acdc0cd5e8f3"
      },
      "execution_count": 33,
      "outputs": [
        {
          "output_type": "execute_result",
          "data": {
            "text/plain": [
              "0"
            ]
          },
          "metadata": {},
          "execution_count": 33
        }
      ]
    },
    {
      "cell_type": "code",
      "source": [
        "import keyword\n",
        "keyword.kwlist"
      ],
      "metadata": {
        "colab": {
          "base_uri": "https://localhost:8080/"
        },
        "id": "8Vm212S25Nca",
        "outputId": "4d68724d-8abc-4c3a-f28d-718522ec83c2"
      },
      "execution_count": 38,
      "outputs": [
        {
          "output_type": "execute_result",
          "data": {
            "text/plain": [
              "['False',\n",
              " 'None',\n",
              " 'True',\n",
              " 'and',\n",
              " 'as',\n",
              " 'assert',\n",
              " 'async',\n",
              " 'await',\n",
              " 'break',\n",
              " 'class',\n",
              " 'continue',\n",
              " 'def',\n",
              " 'del',\n",
              " 'elif',\n",
              " 'else',\n",
              " 'except',\n",
              " 'finally',\n",
              " 'for',\n",
              " 'from',\n",
              " 'global',\n",
              " 'if',\n",
              " 'import',\n",
              " 'in',\n",
              " 'is',\n",
              " 'lambda',\n",
              " 'nonlocal',\n",
              " 'not',\n",
              " 'or',\n",
              " 'pass',\n",
              " 'raise',\n",
              " 'return',\n",
              " 'try',\n",
              " 'while',\n",
              " 'with',\n",
              " 'yield']"
            ]
          },
          "metadata": {},
          "execution_count": 38
        }
      ]
    },
    {
      "cell_type": "code",
      "source": [
        "'''He ran and ran, faster and faster, until his legs burned and his breath came quicker and quicker.\n",
        "faster and'''"
      ],
      "metadata": {
        "id": "DoBXH74q6HQw"
      },
      "execution_count": null,
      "outputs": []
    }
  ]
}