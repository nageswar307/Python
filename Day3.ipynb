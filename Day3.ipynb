{
  "nbformat": 4,
  "nbformat_minor": 0,
  "metadata": {
    "colab": {
      "provenance": [],
      "authorship_tag": "ABX9TyM1UU2tTuUww91gQFGp8kft",
      "include_colab_link": true
    },
    "kernelspec": {
      "name": "python3",
      "display_name": "Python 3"
    },
    "language_info": {
      "name": "python"
    }
  },
  "cells": [
    {
      "cell_type": "markdown",
      "metadata": {
        "id": "view-in-github",
        "colab_type": "text"
      },
      "source": [
        "<a href=\"https://colab.research.google.com/github/nageswar307/Python/blob/main/Day3.ipynb\" target=\"_parent\"><img src=\"https://colab.research.google.com/assets/colab-badge.svg\" alt=\"Open In Colab\"/></a>"
      ]
    },
    {
      "cell_type": "code",
      "execution_count": 9,
      "metadata": {
        "colab": {
          "base_uri": "https://localhost:8080/"
        },
        "id": "a0tFmjhP34B5",
        "outputId": "6c201e44-35a1-4d73-cfdc-b022439cd71e"
      },
      "outputs": [
        {
          "output_type": "stream",
          "name": "stdout",
          "text": [
            "6069\n",
            "5555\n",
            "1\n"
          ]
        }
      ],
      "source": [
        "lst = [1,77,8,94,278,56,5555]\n",
        "\n",
        "print(sum(lst))\n",
        "print(max(lst))\n",
        "print(min(lst))\n"
      ]
    },
    {
      "cell_type": "code",
      "source": [
        "# to get the average\n",
        "\n",
        "avg = sum(lst)/len(lst)\n",
        "print(avg)\n",
        "\n",
        "# if you want to change it to int, we can typecast it to int\n",
        "print(int(avg))\n",
        "\n",
        "x = 1.578\n",
        "# if you have to round it off to some length\n",
        "\n",
        "round(x,2)"
      ],
      "metadata": {
        "colab": {
          "base_uri": "https://localhost:8080/"
        },
        "id": "oukcpInS4XQX",
        "outputId": "97d60a31-a19f-4ce7-dcf8-2daae536071a"
      },
      "execution_count": 11,
      "outputs": [
        {
          "output_type": "stream",
          "name": "stdout",
          "text": [
            "867.0\n",
            "867\n"
          ]
        },
        {
          "output_type": "execute_result",
          "data": {
            "text/plain": [
              "1.58"
            ]
          },
          "metadata": {},
          "execution_count": 11
        }
      ]
    },
    {
      "cell_type": "code",
      "source": [
        "# range, enumerate\n",
        "\n",
        "for num in range(5):\n",
        "  print(num)"
      ],
      "metadata": {
        "colab": {
          "base_uri": "https://localhost:8080/"
        },
        "id": "sFMyHZdX4u7S",
        "outputId": "5a505315-df46-4e26-bae3-3c6bdd33dca7"
      },
      "execution_count": 14,
      "outputs": [
        {
          "output_type": "stream",
          "name": "stdout",
          "text": [
            "0\n",
            "1\n",
            "2\n",
            "3\n",
            "4\n"
          ]
        }
      ]
    },
    {
      "cell_type": "code",
      "source": [
        "# range(start,end,step) - range starts from start and till end but not including end with step of value step\n",
        "\n",
        "for num in range(2,8):\n",
        "  print(num)"
      ],
      "metadata": {
        "colab": {
          "base_uri": "https://localhost:8080/"
        },
        "id": "me_tgIBH6Fxa",
        "outputId": "3f9adec4-97b9-4917-e5c1-f64af9ca5ee3"
      },
      "execution_count": 16,
      "outputs": [
        {
          "output_type": "stream",
          "name": "stdout",
          "text": [
            "2\n",
            "3\n",
            "4\n",
            "5\n",
            "6\n",
            "7\n"
          ]
        }
      ]
    },
    {
      "cell_type": "code",
      "source": [
        "for num in range(2,8,2):\n",
        "  print(num)"
      ],
      "metadata": {
        "colab": {
          "base_uri": "https://localhost:8080/"
        },
        "id": "18LehyN76MQE",
        "outputId": "62032040-88d2-4ccb-b6d6-898e913b83ee"
      },
      "execution_count": 17,
      "outputs": [
        {
          "output_type": "stream",
          "name": "stdout",
          "text": [
            "2\n",
            "4\n",
            "6\n"
          ]
        }
      ]
    },
    {
      "cell_type": "code",
      "source": [
        "enumerate(lst)"
      ],
      "metadata": {
        "colab": {
          "base_uri": "https://localhost:8080/"
        },
        "id": "Umm6rGSq7ZsK",
        "outputId": "8ce8c3ba-4489-467b-a2ad-27ea692aea52"
      },
      "execution_count": 21,
      "outputs": [
        {
          "output_type": "execute_result",
          "data": {
            "text/plain": [
              "<enumerate at 0x7cc4211432c0>"
            ]
          },
          "metadata": {},
          "execution_count": 21
        }
      ]
    },
    {
      "cell_type": "code",
      "source": [
        "lst = [10,20,30,40,50,60]\n",
        "\n",
        "for index,value in enumerate(lst):\n",
        "  print(index,value)"
      ],
      "metadata": {
        "colab": {
          "base_uri": "https://localhost:8080/"
        },
        "id": "IrRP7Q_e6hTO",
        "outputId": "7bc28bab-699c-442a-8922-3f324ddeb761"
      },
      "execution_count": 22,
      "outputs": [
        {
          "output_type": "stream",
          "name": "stdout",
          "text": [
            "0 10\n",
            "1 20\n",
            "2 30\n",
            "3 40\n",
            "4 50\n",
            "5 60\n"
          ]
        }
      ]
    },
    {
      "cell_type": "code",
      "source": [
        "lst = [10,20,30,40,50,60]\n",
        "\n",
        "index_lst = []\n",
        "\n",
        "for item in lst:\n",
        "  if item % 15 ==0:\n",
        "    idx = lst.index(item)\n",
        "    index_lst.append(idx)\n",
        "\n",
        "index_lst"
      ],
      "metadata": {
        "colab": {
          "base_uri": "https://localhost:8080/"
        },
        "id": "h3HraFKY7os8",
        "outputId": "d504dcf2-db3f-41ca-f295-2221818111b1"
      },
      "execution_count": 23,
      "outputs": [
        {
          "output_type": "execute_result",
          "data": {
            "text/plain": [
              "[2, 5]"
            ]
          },
          "metadata": {},
          "execution_count": 23
        }
      ]
    },
    {
      "cell_type": "code",
      "source": [
        "lst = [10,20,30,40,50,60]\n",
        "\n",
        "output = []\n",
        "for index,value in enumerate(lst):\n",
        "  if value % 15 ==0:\n",
        "    output.append((value,index))\n",
        "\n",
        "output\n",
        ""
      ],
      "metadata": {
        "colab": {
          "base_uri": "https://localhost:8080/"
        },
        "id": "J8fWNIMR8a9T",
        "outputId": "abc5b278-2e83-4768-c0fc-9ffd7976277e"
      },
      "execution_count": 29,
      "outputs": [
        {
          "output_type": "execute_result",
          "data": {
            "text/plain": [
              "[(30, 2), (60, 5)]"
            ]
          },
          "metadata": {},
          "execution_count": 29
        }
      ]
    },
    {
      "cell_type": "markdown",
      "source": [
        "## Tuples"
      ],
      "metadata": {
        "id": "3YSn65Z_9NO2"
      }
    },
    {
      "cell_type": "code",
      "source": [
        "list1 = [1,2,3,4,5,6]\n",
        "tuple1 = (1,2,3,4,5,6)\n",
        "tuple1"
      ],
      "metadata": {
        "colab": {
          "base_uri": "https://localhost:8080/"
        },
        "id": "edUSlNlW9QWl",
        "outputId": "da360772-c8d3-47af-b549-859758d2a45d"
      },
      "execution_count": 30,
      "outputs": [
        {
          "output_type": "execute_result",
          "data": {
            "text/plain": [
              "(1, 2, 3, 4, 5, 6)"
            ]
          },
          "metadata": {},
          "execution_count": 30
        }
      ]
    },
    {
      "cell_type": "code",
      "source": [
        "empty_tuple = ()\n",
        "empty_tuple = tuple()\n",
        "empty_tuple"
      ],
      "metadata": {
        "colab": {
          "base_uri": "https://localhost:8080/"
        },
        "id": "1ED0C6uj9aQZ",
        "outputId": "d8ac1c33-9504-40f1-fb76-bb937991f9e9"
      },
      "execution_count": 32,
      "outputs": [
        {
          "output_type": "execute_result",
          "data": {
            "text/plain": [
              "()"
            ]
          },
          "metadata": {},
          "execution_count": 32
        }
      ]
    },
    {
      "cell_type": "code",
      "source": [
        "# lists are mutable ordered collection of items\n",
        "# tuples are immutable ordered collection of items\n",
        "\n",
        "\n",
        "lst = [1,2,3]"
      ],
      "metadata": {
        "id": "qo6JXIEe9ur3"
      },
      "execution_count": 33,
      "outputs": []
    },
    {
      "cell_type": "code",
      "source": [
        "lst[0] = 10\n",
        "print(lst)"
      ],
      "metadata": {
        "colab": {
          "base_uri": "https://localhost:8080/"
        },
        "id": "T1QTf_qn99Um",
        "outputId": "a8602fcb-e992-440b-e068-77ef0e67fd16"
      },
      "execution_count": 36,
      "outputs": [
        {
          "output_type": "stream",
          "name": "stdout",
          "text": [
            "[10, 2, 3]\n"
          ]
        }
      ]
    },
    {
      "cell_type": "code",
      "source": [
        "tuple1 = (1,2,3)\n",
        "tuple1[0] = 10"
      ],
      "metadata": {
        "colab": {
          "base_uri": "https://localhost:8080/",
          "height": 159
        },
        "id": "HobTs3dz-GQH",
        "outputId": "99ad8833-5531-4f85-8fe4-1439a2cee6f5"
      },
      "execution_count": 39,
      "outputs": [
        {
          "output_type": "error",
          "ename": "TypeError",
          "evalue": "'tuple' object does not support item assignment",
          "traceback": [
            "\u001b[0;31m---------------------------------------------------------------------------\u001b[0m",
            "\u001b[0;31mTypeError\u001b[0m                                 Traceback (most recent call last)",
            "\u001b[0;32m<ipython-input-39-fb73f6e6db70>\u001b[0m in \u001b[0;36m<cell line: 2>\u001b[0;34m()\u001b[0m\n\u001b[1;32m      1\u001b[0m \u001b[0mtuple1\u001b[0m \u001b[0;34m=\u001b[0m \u001b[0;34m(\u001b[0m\u001b[0;36m1\u001b[0m\u001b[0;34m,\u001b[0m\u001b[0;36m2\u001b[0m\u001b[0;34m,\u001b[0m\u001b[0;36m3\u001b[0m\u001b[0;34m)\u001b[0m\u001b[0;34m\u001b[0m\u001b[0;34m\u001b[0m\u001b[0m\n\u001b[0;32m----> 2\u001b[0;31m \u001b[0mtuple1\u001b[0m\u001b[0;34m[\u001b[0m\u001b[0;36m0\u001b[0m\u001b[0;34m]\u001b[0m \u001b[0;34m=\u001b[0m \u001b[0;36m10\u001b[0m\u001b[0;34m\u001b[0m\u001b[0;34m\u001b[0m\u001b[0m\n\u001b[0m",
            "\u001b[0;31mTypeError\u001b[0m: 'tuple' object does not support item assignment"
          ]
        }
      ]
    },
    {
      "cell_type": "code",
      "source": [
        "converted_lst = list(tuple1)\n",
        "print(\"converted_lst is \",converted_lst)\n",
        "converted_lst[0] = 10\n",
        "converted_lst"
      ],
      "metadata": {
        "colab": {
          "base_uri": "https://localhost:8080/"
        },
        "id": "hNzrqOkQ-aSj",
        "outputId": "409d4113-4e9b-4ca4-cb46-089504531080"
      },
      "execution_count": 40,
      "outputs": [
        {
          "output_type": "stream",
          "name": "stdout",
          "text": [
            "converted_lst is  [1, 2, 3]\n"
          ]
        },
        {
          "output_type": "execute_result",
          "data": {
            "text/plain": [
              "[10, 2, 3]"
            ]
          },
          "metadata": {},
          "execution_count": 40
        }
      ]
    },
    {
      "cell_type": "code",
      "source": [
        "tuple1  = (1,2,3)\n",
        "tuple2 = (4,5,6)\n",
        "tuple3 = tuple1 + tuple2\n",
        "tuple3"
      ],
      "metadata": {
        "colab": {
          "base_uri": "https://localhost:8080/"
        },
        "id": "RzbKIJH3-qpO",
        "outputId": "40d47d3c-91bd-4a92-bdc1-0caa0a12b004"
      },
      "execution_count": 42,
      "outputs": [
        {
          "output_type": "execute_result",
          "data": {
            "text/plain": [
              "(1, 2, 3, 4, 5, 6)"
            ]
          },
          "metadata": {},
          "execution_count": 42
        }
      ]
    },
    {
      "cell_type": "code",
      "source": [],
      "metadata": {
        "id": "BHAvFHFW_GM4"
      },
      "execution_count": null,
      "outputs": []
    },
    {
      "cell_type": "markdown",
      "source": [
        "## Sets"
      ],
      "metadata": {
        "id": "MXCyfu-g_HLd"
      }
    },
    {
      "cell_type": "code",
      "source": [
        "# sets are mutable unordered collection of items\n",
        "\n",
        "set1 = {1,2,3,4,5}\n",
        "set1"
      ],
      "metadata": {
        "colab": {
          "base_uri": "https://localhost:8080/"
        },
        "id": "XZLT2UIU_Jq9",
        "outputId": "39eb848b-2bd0-4e59-cfa0-36089f8fbcd4"
      },
      "execution_count": 43,
      "outputs": [
        {
          "output_type": "execute_result",
          "data": {
            "text/plain": [
              "{1, 2, 3, 4, 5}"
            ]
          },
          "metadata": {},
          "execution_count": 43
        }
      ]
    },
    {
      "cell_type": "code",
      "source": [
        "set1 = {}\n",
        "set1 = set()"
      ],
      "metadata": {
        "id": "iZEvyNp2_WCd"
      },
      "execution_count": 44,
      "outputs": []
    },
    {
      "cell_type": "code",
      "source": [
        "set1 = {1,2,3,4,5,1,2,2,3}\n",
        "\n",
        "set1"
      ],
      "metadata": {
        "colab": {
          "base_uri": "https://localhost:8080/"
        },
        "id": "ZX2Nbblm_eo4",
        "outputId": "ce1d75c0-4ef0-4854-e9c6-77264cfcefa8"
      },
      "execution_count": 47,
      "outputs": [
        {
          "output_type": "execute_result",
          "data": {
            "text/plain": [
              "{1, 2, 3, 4, 5}"
            ]
          },
          "metadata": {},
          "execution_count": 47
        }
      ]
    },
    {
      "cell_type": "code",
      "source": [
        "set1[0] #can't perform indexing"
      ],
      "metadata": {
        "colab": {
          "base_uri": "https://localhost:8080/",
          "height": 141
        },
        "id": "-UVn8UCu_rkv",
        "outputId": "bc7ea810-7895-4dd3-955c-1e64a9bba10d"
      },
      "execution_count": 48,
      "outputs": [
        {
          "output_type": "error",
          "ename": "TypeError",
          "evalue": "'set' object is not subscriptable",
          "traceback": [
            "\u001b[0;31m---------------------------------------------------------------------------\u001b[0m",
            "\u001b[0;31mTypeError\u001b[0m                                 Traceback (most recent call last)",
            "\u001b[0;32m<ipython-input-48-c38563f1af7a>\u001b[0m in \u001b[0;36m<cell line: 1>\u001b[0;34m()\u001b[0m\n\u001b[0;32m----> 1\u001b[0;31m \u001b[0mset1\u001b[0m\u001b[0;34m[\u001b[0m\u001b[0;36m0\u001b[0m\u001b[0;34m]\u001b[0m\u001b[0;34m\u001b[0m\u001b[0;34m\u001b[0m\u001b[0m\n\u001b[0m",
            "\u001b[0;31mTypeError\u001b[0m: 'set' object is not subscriptable"
          ]
        }
      ]
    },
    {
      "cell_type": "code",
      "source": [
        "set1 = {1,2,3,4,5,6}\n",
        "set2 = {3,4,5,10}\n",
        "\n",
        "# to merge both sets\n",
        "\n",
        "union_set = set1 | set2\n",
        "print(\"union of set1 and set2 is \",(union_set))\n",
        "\n",
        "\n",
        "# to difference in two sets\n",
        "diff_set = set1 - set2\n",
        "print(\"diff of set1 and set2 is \",diff_set)\n",
        "diff_set = set2 - set1\n",
        "print(\"diff of set2 and set1 \", diff_set)\n",
        "\n",
        "\n",
        "# to find intersection\n",
        "\n",
        "intersection_set = set1 & set2\n",
        "intersection_set"
      ],
      "metadata": {
        "colab": {
          "base_uri": "https://localhost:8080/"
        },
        "id": "NDbfyOJ3_yYS",
        "outputId": "be17bd06-3bda-4a8c-e832-7224fdacb5f8"
      },
      "execution_count": 61,
      "outputs": [
        {
          "output_type": "stream",
          "name": "stdout",
          "text": [
            "union of set1 and set2 is  {1, 2, 3, 4, 5, 6, 10}\n",
            "diff of set1 and set2 is  {1, 2, 6}\n",
            "diff of set2 and set1  {10}\n"
          ]
        },
        {
          "output_type": "execute_result",
          "data": {
            "text/plain": [
              "{3, 4, 5}"
            ]
          },
          "metadata": {},
          "execution_count": 61
        }
      ]
    },
    {
      "cell_type": "code",
      "source": [
        "set1.intersection()"
      ],
      "metadata": {
        "colab": {
          "base_uri": "https://localhost:8080/"
        },
        "id": "nT6cUc9i_9Qj",
        "outputId": "59f3f99f-9624-44c0-d2f5-222489ab1b67"
      },
      "execution_count": 62,
      "outputs": [
        {
          "output_type": "execute_result",
          "data": {
            "text/plain": [
              "{1, 2, 3, 4, 5, 6}"
            ]
          },
          "metadata": {},
          "execution_count": 62
        }
      ]
    },
    {
      "cell_type": "code",
      "source": [
        "set1.intersection(set2)"
      ],
      "metadata": {
        "colab": {
          "base_uri": "https://localhost:8080/"
        },
        "id": "NtVjD-TKBQaL",
        "outputId": "f6006328-f6c0-4ebd-cced-dd5c5ab56025"
      },
      "execution_count": 63,
      "outputs": [
        {
          "output_type": "execute_result",
          "data": {
            "text/plain": [
              "{3, 4, 5}"
            ]
          },
          "metadata": {},
          "execution_count": 63
        }
      ]
    },
    {
      "cell_type": "markdown",
      "source": [
        "## Strings"
      ],
      "metadata": {
        "id": "NvHe4eczHc8Z"
      }
    },
    {
      "cell_type": "code",
      "source": [
        "string = 'hi'\n",
        "string2 = \"hello world\"\n",
        "print(\"string is --\", string)\n",
        "print(\"string2 is --\",string2)"
      ],
      "metadata": {
        "colab": {
          "base_uri": "https://localhost:8080/"
        },
        "id": "VO6BF1PWHgYI",
        "outputId": "b28db279-b5e8-4e97-a1da-60e648e7fe9d"
      },
      "execution_count": 85,
      "outputs": [
        {
          "output_type": "stream",
          "name": "stdout",
          "text": [
            "string is -- hi\n",
            "string2 is -- hello world\n"
          ]
        }
      ]
    },
    {
      "cell_type": "code",
      "source": [
        "string3 = '''I love pthon\n",
        "I love ML'''\n",
        "\n",
        "\n",
        "string3"
      ],
      "metadata": {
        "colab": {
          "base_uri": "https://localhost:8080/",
          "height": 35
        },
        "id": "MbG_60-DH9EK",
        "outputId": "d2e8e344-7eae-412a-ac16-01caecb0ff0e"
      },
      "execution_count": 90,
      "outputs": [
        {
          "output_type": "execute_result",
          "data": {
            "text/plain": [
              "'I love pthon\\nI love ML'"
            ],
            "application/vnd.google.colaboratory.intrinsic+json": {
              "type": "string"
            }
          },
          "metadata": {},
          "execution_count": 90
        }
      ]
    },
    {
      "cell_type": "code",
      "source": [
        "string4 = 'I\\'m going home'\n",
        "string4"
      ],
      "metadata": {
        "colab": {
          "base_uri": "https://localhost:8080/",
          "height": 35
        },
        "id": "72irJ-M1IZYv",
        "outputId": "c4aa1139-5157-4f73-af48-bf0fb2f0d7b0"
      },
      "execution_count": 93,
      "outputs": [
        {
          "output_type": "execute_result",
          "data": {
            "text/plain": [
              "\"I'm going home\""
            ],
            "application/vnd.google.colaboratory.intrinsic+json": {
              "type": "string"
            }
          },
          "metadata": {},
          "execution_count": 93
        }
      ]
    },
    {
      "cell_type": "code",
      "source": [
        "string5 = \"I'm going home\"\n",
        "string5"
      ],
      "metadata": {
        "colab": {
          "base_uri": "https://localhost:8080/",
          "height": 35
        },
        "id": "kHNHXhmBIw0F",
        "outputId": "c35751a2-8370-4fcc-ff45-b68bb46fab12"
      },
      "execution_count": 94,
      "outputs": [
        {
          "output_type": "execute_result",
          "data": {
            "text/plain": [
              "\"I'm going home\""
            ],
            "application/vnd.google.colaboratory.intrinsic+json": {
              "type": "string"
            }
          },
          "metadata": {},
          "execution_count": 94
        }
      ]
    },
    {
      "cell_type": "code",
      "source": [
        "string6 = 'Here\\'s is \\\" what i have'\n",
        "string6"
      ],
      "metadata": {
        "colab": {
          "base_uri": "https://localhost:8080/",
          "height": 35
        },
        "id": "e2Wf_103I7MS",
        "outputId": "672691e0-df8d-4d5d-eba8-a6c6aa74fb84"
      },
      "execution_count": 97,
      "outputs": [
        {
          "output_type": "execute_result",
          "data": {
            "text/plain": [
              "'Here\\'s is \" what i have'"
            ],
            "application/vnd.google.colaboratory.intrinsic+json": {
              "type": "string"
            }
          },
          "metadata": {},
          "execution_count": 97
        }
      ]
    },
    {
      "cell_type": "code",
      "source": [
        "string7 = \"I love python /n I love ML\"\n",
        "string7"
      ],
      "metadata": {
        "colab": {
          "base_uri": "https://localhost:8080/",
          "height": 35
        },
        "id": "OkNbzdg_JP7K",
        "outputId": "92528190-e872-4efa-91be-dfb4e38c4efc"
      },
      "execution_count": 102,
      "outputs": [
        {
          "output_type": "execute_result",
          "data": {
            "text/plain": [
              "'I love python /n I love ML'"
            ],
            "application/vnd.google.colaboratory.intrinsic+json": {
              "type": "string"
            }
          },
          "metadata": {},
          "execution_count": 102
        }
      ]
    },
    {
      "cell_type": "code",
      "source": [],
      "metadata": {
        "id": "uhPnKiNCJsZb"
      },
      "execution_count": null,
      "outputs": []
    },
    {
      "cell_type": "markdown",
      "source": [
        "## String Methods"
      ],
      "metadata": {
        "id": "nbh-vsa6J2Zp"
      }
    },
    {
      "cell_type": "code",
      "source": [
        "txt = \"Shakespeare in Love is a 1998 period romantic comedy film directed by John Madden\"\n",
        "\n",
        "txt[1] #indexing of strings"
      ],
      "metadata": {
        "colab": {
          "base_uri": "https://localhost:8080/",
          "height": 35
        },
        "id": "0XO-2rvTJ41o",
        "outputId": "c76f90c9-a283-4173-965c-b4a3e07e0c6a"
      },
      "execution_count": 105,
      "outputs": [
        {
          "output_type": "execute_result",
          "data": {
            "text/plain": [
              "'h'"
            ],
            "application/vnd.google.colaboratory.intrinsic+json": {
              "type": "string"
            }
          },
          "metadata": {},
          "execution_count": 105
        }
      ]
    },
    {
      "cell_type": "code",
      "source": [
        "txt[0:10] #slicing of strings"
      ],
      "metadata": {
        "colab": {
          "base_uri": "https://localhost:8080/",
          "height": 35
        },
        "id": "xyg4VE2pKKXk",
        "outputId": "431bf0b3-c275-47d8-cb32-cefbbd2df12a"
      },
      "execution_count": 106,
      "outputs": [
        {
          "output_type": "execute_result",
          "data": {
            "text/plain": [
              "'Shakespear'"
            ],
            "application/vnd.google.colaboratory.intrinsic+json": {
              "type": "string"
            }
          },
          "metadata": {},
          "execution_count": 106
        }
      ]
    },
    {
      "cell_type": "code",
      "source": [
        "txt[0:10:2] #slicing of strings"
      ],
      "metadata": {
        "colab": {
          "base_uri": "https://localhost:8080/",
          "height": 35
        },
        "id": "bvO22slyKQKD",
        "outputId": "7a4cbe57-6c19-4a1f-dfd1-b0514902e92d"
      },
      "execution_count": 107,
      "outputs": [
        {
          "output_type": "execute_result",
          "data": {
            "text/plain": [
              "'Saepa'"
            ],
            "application/vnd.google.colaboratory.intrinsic+json": {
              "type": "string"
            }
          },
          "metadata": {},
          "execution_count": 107
        }
      ]
    },
    {
      "cell_type": "code",
      "source": [
        "txt[:20]     #slicing of strings"
      ],
      "metadata": {
        "colab": {
          "base_uri": "https://localhost:8080/",
          "height": 35
        },
        "id": "dh6N9vZ4Kdre",
        "outputId": "4db3d7a6-4aa2-4802-aed8-55bdf65c891f"
      },
      "execution_count": 108,
      "outputs": [
        {
          "output_type": "execute_result",
          "data": {
            "text/plain": [
              "'Shakespeare in Love '"
            ],
            "application/vnd.google.colaboratory.intrinsic+json": {
              "type": "string"
            }
          },
          "metadata": {},
          "execution_count": 108
        }
      ]
    },
    {
      "cell_type": "code",
      "source": [
        "txt[-10] #negative indexing"
      ],
      "metadata": {
        "colab": {
          "base_uri": "https://localhost:8080/",
          "height": 35
        },
        "id": "W71WwARkKiol",
        "outputId": "4f9570ea-0e67-412f-8b89-bdd8ac9a7580"
      },
      "execution_count": 110,
      "outputs": [
        {
          "output_type": "execute_result",
          "data": {
            "text/plain": [
              "'o'"
            ],
            "application/vnd.google.colaboratory.intrinsic+json": {
              "type": "string"
            }
          },
          "metadata": {},
          "execution_count": 110
        }
      ]
    },
    {
      "cell_type": "code",
      "source": [
        "txt[-20:-10]"
      ],
      "metadata": {
        "colab": {
          "base_uri": "https://localhost:8080/",
          "height": 35
        },
        "id": "9q1V3QkpKrYO",
        "outputId": "5b5a99f8-ec30-4365-c96d-65a6dc088cbf"
      },
      "execution_count": 111,
      "outputs": [
        {
          "output_type": "execute_result",
          "data": {
            "text/plain": [
              "'ected by J'"
            ],
            "application/vnd.google.colaboratory.intrinsic+json": {
              "type": "string"
            }
          },
          "metadata": {},
          "execution_count": 111
        }
      ]
    },
    {
      "cell_type": "code",
      "source": [
        "txt = \"Shakespeare in Love is a 1998 period romantic comedy film directed by John Madden\"\n",
        "print(txt.count(\"s\")) # single character count\n",
        "txt.count(\"is\") # multi character count"
      ],
      "metadata": {
        "colab": {
          "base_uri": "https://localhost:8080/"
        },
        "id": "E_LvMVK5K7e-",
        "outputId": "8f0888c8-b44d-4852-c7e7-30bd4ae1c5b7"
      },
      "execution_count": 113,
      "outputs": [
        {
          "output_type": "execute_result",
          "data": {
            "text/plain": [
              "1"
            ]
          },
          "metadata": {},
          "execution_count": 113
        }
      ]
    },
    {
      "cell_type": "code",
      "source": [
        "txt = \"Shakespeare in Love is a 1998 period \\n romantic \\n comedy film directed by \\n John Madden\"\n",
        "txt.replace(\"\\n\",\"\")"
      ],
      "metadata": {
        "colab": {
          "base_uri": "https://localhost:8080/",
          "height": 35
        },
        "id": "CPJtk2zPLc7D",
        "outputId": "cf9bd9ce-ca51-44b3-8aae-3e5fc7db3393"
      },
      "execution_count": 115,
      "outputs": [
        {
          "output_type": "execute_result",
          "data": {
            "text/plain": [
              "'Shakespeare in Love is a 1998 period  romantic  comedy film directed by  John Madden'"
            ],
            "application/vnd.google.colaboratory.intrinsic+json": {
              "type": "string"
            }
          },
          "metadata": {},
          "execution_count": 115
        }
      ]
    },
    {
      "cell_type": "code",
      "source": [
        "txt = \"I love Python\"\n",
        "\n",
        "txt.replace(\"Python\",\"Java\")"
      ],
      "metadata": {
        "colab": {
          "base_uri": "https://localhost:8080/",
          "height": 35
        },
        "id": "JmEDDZ6nLwan",
        "outputId": "755a08b7-ee4f-46c0-c34f-5c30034b4ae9"
      },
      "execution_count": 116,
      "outputs": [
        {
          "output_type": "execute_result",
          "data": {
            "text/plain": [
              "'I love Java'"
            ],
            "application/vnd.google.colaboratory.intrinsic+json": {
              "type": "string"
            }
          },
          "metadata": {},
          "execution_count": 116
        }
      ]
    },
    {
      "cell_type": "code",
      "source": [
        "txt.lower()"
      ],
      "metadata": {
        "colab": {
          "base_uri": "https://localhost:8080/",
          "height": 35
        },
        "id": "GwerBlh7L7qN",
        "outputId": "cd4bdbd3-4cb0-43a3-e648-bec9e09f62d1"
      },
      "execution_count": 117,
      "outputs": [
        {
          "output_type": "execute_result",
          "data": {
            "text/plain": [
              "'i love python'"
            ],
            "application/vnd.google.colaboratory.intrinsic+json": {
              "type": "string"
            }
          },
          "metadata": {},
          "execution_count": 117
        }
      ]
    },
    {
      "cell_type": "code",
      "source": [
        "txt.upper()"
      ],
      "metadata": {
        "colab": {
          "base_uri": "https://localhost:8080/",
          "height": 35
        },
        "id": "tvU-JxpCMCv6",
        "outputId": "fb7c02b4-a80d-470d-a46c-aa3de9919f27"
      },
      "execution_count": 118,
      "outputs": [
        {
          "output_type": "execute_result",
          "data": {
            "text/plain": [
              "'I LOVE PYTHON'"
            ],
            "application/vnd.google.colaboratory.intrinsic+json": {
              "type": "string"
            }
          },
          "metadata": {},
          "execution_count": 118
        }
      ]
    },
    {
      "cell_type": "code",
      "source": [
        "txt.title()"
      ],
      "metadata": {
        "colab": {
          "base_uri": "https://localhost:8080/",
          "height": 35
        },
        "id": "mE1Igt5hMFnk",
        "outputId": "dd670fa0-2b04-470b-c40a-bda4511d7810"
      },
      "execution_count": 119,
      "outputs": [
        {
          "output_type": "execute_result",
          "data": {
            "text/plain": [
              "'I Love Python'"
            ],
            "application/vnd.google.colaboratory.intrinsic+json": {
              "type": "string"
            }
          },
          "metadata": {},
          "execution_count": 119
        }
      ]
    },
    {
      "cell_type": "code",
      "source": [
        "txt = \"         I love Python          \"\n",
        "\n",
        "txt.lstrip()"
      ],
      "metadata": {
        "colab": {
          "base_uri": "https://localhost:8080/",
          "height": 35
        },
        "id": "S2cHwc3tMRZ6",
        "outputId": "f4b1f832-0c8f-410d-e885-7202cf597265"
      },
      "execution_count": 120,
      "outputs": [
        {
          "output_type": "execute_result",
          "data": {
            "text/plain": [
              "'I love Python          '"
            ],
            "application/vnd.google.colaboratory.intrinsic+json": {
              "type": "string"
            }
          },
          "metadata": {},
          "execution_count": 120
        }
      ]
    },
    {
      "cell_type": "code",
      "source": [
        "txt.rstrip()"
      ],
      "metadata": {
        "colab": {
          "base_uri": "https://localhost:8080/",
          "height": 35
        },
        "id": "e_w9UtBtMgjW",
        "outputId": "b7ba8994-5f70-433d-e432-04e758d0529c"
      },
      "execution_count": 121,
      "outputs": [
        {
          "output_type": "execute_result",
          "data": {
            "text/plain": [
              "'         I love Python'"
            ],
            "application/vnd.google.colaboratory.intrinsic+json": {
              "type": "string"
            }
          },
          "metadata": {},
          "execution_count": 121
        }
      ]
    },
    {
      "cell_type": "code",
      "source": [
        "txt.strip()"
      ],
      "metadata": {
        "colab": {
          "base_uri": "https://localhost:8080/",
          "height": 35
        },
        "id": "r1zRLzq9Mko4",
        "outputId": "dd0c486a-6a7f-4c56-eb5a-c7ebf4902123"
      },
      "execution_count": 122,
      "outputs": [
        {
          "output_type": "execute_result",
          "data": {
            "text/plain": [
              "'I love Python'"
            ],
            "application/vnd.google.colaboratory.intrinsic+json": {
              "type": "string"
            }
          },
          "metadata": {},
          "execution_count": 122
        }
      ]
    },
    {
      "cell_type": "code",
      "source": [
        "txt.find(\"Python\")"
      ],
      "metadata": {
        "colab": {
          "base_uri": "https://localhost:8080/"
        },
        "id": "_17-g9ZBMpF5",
        "outputId": "06d50ed9-964e-476b-def4-568dd3748df8"
      },
      "execution_count": 123,
      "outputs": [
        {
          "output_type": "execute_result",
          "data": {
            "text/plain": [
              "16"
            ]
          },
          "metadata": {},
          "execution_count": 123
        }
      ]
    },
    {
      "cell_type": "code",
      "source": [
        "txt.endswith(\" \")"
      ],
      "metadata": {
        "colab": {
          "base_uri": "https://localhost:8080/"
        },
        "id": "LgdnXsAMM67w",
        "outputId": "4e04d411-d196-4e56-d11c-577ded1c6a53"
      },
      "execution_count": 125,
      "outputs": [
        {
          "output_type": "execute_result",
          "data": {
            "text/plain": [
              "True"
            ]
          },
          "metadata": {},
          "execution_count": 125
        }
      ]
    },
    {
      "cell_type": "code",
      "source": [
        "txt = \"abc\"\n",
        "\n",
        "txt.isalnum()"
      ],
      "metadata": {
        "colab": {
          "base_uri": "https://localhost:8080/"
        },
        "id": "aAiAX_-WND-b",
        "outputId": "95bf4c59-c691-4189-a41a-22f1312643e7"
      },
      "execution_count": 129,
      "outputs": [
        {
          "output_type": "execute_result",
          "data": {
            "text/plain": [
              "True"
            ]
          },
          "metadata": {},
          "execution_count": 129
        }
      ]
    },
    {
      "cell_type": "code",
      "source": [
        "txt = \"abc1\"\n",
        "\n",
        "txt.isalpha()"
      ],
      "metadata": {
        "colab": {
          "base_uri": "https://localhost:8080/"
        },
        "id": "DE4CiFWWNNU2",
        "outputId": "b62fb1e6-9ff6-4181-d828-5f877e963d80"
      },
      "execution_count": 130,
      "outputs": [
        {
          "output_type": "execute_result",
          "data": {
            "text/plain": [
              "False"
            ]
          },
          "metadata": {},
          "execution_count": 130
        }
      ]
    },
    {
      "cell_type": "code",
      "source": [
        "string1 = \"I love Python\"\n",
        "string2 = \"I love Java\"\n",
        "\n",
        "string3 = string1 + \" \" + string2 #string concatenation\n",
        "\n",
        "string3"
      ],
      "metadata": {
        "colab": {
          "base_uri": "https://localhost:8080/",
          "height": 35
        },
        "id": "U7UjJn1WNlY1",
        "outputId": "edd64bc6-2ff7-4638-89c9-1ce7b5261add"
      },
      "execution_count": 135,
      "outputs": [
        {
          "output_type": "execute_result",
          "data": {
            "text/plain": [
              "'I love Python I love Java'"
            ],
            "application/vnd.google.colaboratory.intrinsic+json": {
              "type": "string"
            }
          },
          "metadata": {},
          "execution_count": 135
        }
      ]
    },
    {
      "cell_type": "code",
      "source": [
        "txt = \"abc\"\n",
        "\n",
        "txt*3"
      ],
      "metadata": {
        "colab": {
          "base_uri": "https://localhost:8080/",
          "height": 35
        },
        "id": "_Y-iY2SWN9RY",
        "outputId": "3c8ee4ce-72be-40f7-f8c9-d440b99cb644"
      },
      "execution_count": 136,
      "outputs": [
        {
          "output_type": "execute_result",
          "data": {
            "text/plain": [
              "'abcabcabc'"
            ],
            "application/vnd.google.colaboratory.intrinsic+json": {
              "type": "string"
            }
          },
          "metadata": {},
          "execution_count": 136
        }
      ]
    },
    {
      "cell_type": "code",
      "source": [
        "txt = \"I Love Python\"\n",
        "\n",
        "word_lst = txt.split(\" \")\n",
        "word_lst"
      ],
      "metadata": {
        "colab": {
          "base_uri": "https://localhost:8080/"
        },
        "id": "eP5xWD77OIdX",
        "outputId": "a6188202-47b7-4243-c135-cca272b4abec"
      },
      "execution_count": 155,
      "outputs": [
        {
          "output_type": "execute_result",
          "data": {
            "text/plain": [
              "['I', 'Love', 'Python']"
            ]
          },
          "metadata": {},
          "execution_count": 155
        }
      ]
    },
    {
      "cell_type": "code",
      "source": [
        "\"\".join(word_lst)"
      ],
      "metadata": {
        "colab": {
          "base_uri": "https://localhost:8080/",
          "height": 35
        },
        "id": "6sx5nc5EOYws",
        "outputId": "96d2d49d-7450-400b-de87-58fb3527ef70"
      },
      "execution_count": 142,
      "outputs": [
        {
          "output_type": "execute_result",
          "data": {
            "text/plain": [
              "'ILovePython'"
            ],
            "application/vnd.google.colaboratory.intrinsic+json": {
              "type": "string"
            }
          },
          "metadata": {},
          "execution_count": 142
        }
      ]
    },
    {
      "cell_type": "code",
      "source": [
        "\" \".join(word_lst)"
      ],
      "metadata": {
        "colab": {
          "base_uri": "https://localhost:8080/",
          "height": 35
        },
        "id": "SW90UrsROqAr",
        "outputId": "8dac901b-b396-4603-836f-bec8e05f7cef"
      },
      "execution_count": 143,
      "outputs": [
        {
          "output_type": "execute_result",
          "data": {
            "text/plain": [
              "'I Love Python'"
            ],
            "application/vnd.google.colaboratory.intrinsic+json": {
              "type": "string"
            }
          },
          "metadata": {},
          "execution_count": 143
        }
      ]
    },
    {
      "cell_type": "code",
      "source": [
        "\" | \".join(word_lst)"
      ],
      "metadata": {
        "colab": {
          "base_uri": "https://localhost:8080/",
          "height": 35
        },
        "id": "XBphXHsUOvaR",
        "outputId": "3116d962-5c28-499b-eea1-80515fca7f5a"
      },
      "execution_count": 145,
      "outputs": [
        {
          "output_type": "execute_result",
          "data": {
            "text/plain": [
              "'I | Love | Python'"
            ],
            "application/vnd.google.colaboratory.intrinsic+json": {
              "type": "string"
            }
          },
          "metadata": {},
          "execution_count": 145
        }
      ]
    },
    {
      "cell_type": "code",
      "source": [
        "lst = [1,4,2,3]\n",
        "print(lst.sort())\n"
      ],
      "metadata": {
        "colab": {
          "base_uri": "https://localhost:8080/"
        },
        "id": "xwvd52mRPXds",
        "outputId": "adaeb33a-8e3a-4afb-b063-5f66bfbbeae9"
      },
      "execution_count": 164,
      "outputs": [
        {
          "output_type": "stream",
          "name": "stdout",
          "text": [
            "None\n"
          ]
        }
      ]
    },
    {
      "cell_type": "code",
      "source": [
        "lst = [1,4,2,3]\n",
        "\n",
        "print(sorted(lst))\n",
        "\n",
        "sorted_lst = sorted(lst)\n",
        "sorted_lst"
      ],
      "metadata": {
        "colab": {
          "base_uri": "https://localhost:8080/"
        },
        "id": "MoJ9di75PqU0",
        "outputId": "1e2af185-a6f9-48f4-9b62-cbe2ffc0ba25"
      },
      "execution_count": 172,
      "outputs": [
        {
          "output_type": "stream",
          "name": "stdout",
          "text": [
            "[1, 2, 3, 4]\n"
          ]
        },
        {
          "output_type": "execute_result",
          "data": {
            "text/plain": [
              "[1, 2, 3, 4]"
            ]
          },
          "metadata": {},
          "execution_count": 172
        }
      ]
    },
    {
      "cell_type": "code",
      "source": [
        "lst = [1,2,3]\n",
        "\n",
        "print(lst.reverse())\n",
        "lst"
      ],
      "metadata": {
        "colab": {
          "base_uri": "https://localhost:8080/"
        },
        "id": "pGjU7A3UO2xP",
        "outputId": "4afdaa43-e46f-4c01-8e01-0a029e15775a"
      },
      "execution_count": 166,
      "outputs": [
        {
          "output_type": "stream",
          "name": "stdout",
          "text": [
            "None\n"
          ]
        },
        {
          "output_type": "execute_result",
          "data": {
            "text/plain": [
              "[3, 2, 1]"
            ]
          },
          "metadata": {},
          "execution_count": 166
        }
      ]
    },
    {
      "cell_type": "code",
      "source": [
        "lst[::-1]"
      ],
      "metadata": {
        "colab": {
          "base_uri": "https://localhost:8080/"
        },
        "id": "ORqxF-R1QMj2",
        "outputId": "d8a4fc48-2054-4145-a8b3-c73bfc49cecb"
      },
      "execution_count": 167,
      "outputs": [
        {
          "output_type": "execute_result",
          "data": {
            "text/plain": [
              "[1, 2, 3]"
            ]
          },
          "metadata": {},
          "execution_count": 167
        }
      ]
    },
    {
      "cell_type": "code",
      "source": [
        "string = \"abc\"\n",
        "string[::-1]"
      ],
      "metadata": {
        "colab": {
          "base_uri": "https://localhost:8080/",
          "height": 35
        },
        "id": "P0QCY5cUQSV2",
        "outputId": "4b3d6afb-b031-47d8-e24d-a3041b3b1873"
      },
      "execution_count": 168,
      "outputs": [
        {
          "output_type": "execute_result",
          "data": {
            "text/plain": [
              "'cba'"
            ],
            "application/vnd.google.colaboratory.intrinsic+json": {
              "type": "string"
            }
          },
          "metadata": {},
          "execution_count": 168
        }
      ]
    },
    {
      "cell_type": "code",
      "source": [
        "test_txt = '''\n",
        "Shakespeare in Love is a 1998 period romantic comedy film directed by John Madden, written by Marc Norman and Tom Stoppard, and produced by Harvey Weinstein. It stars Gwyneth Paltrow, Joseph Fiennes, Geoffrey Rush, Colin Firth, Ben Affleck and Judi Dench. The film depicts a fictional love affair involving playwright William Shakespeare (Fiennes) and Viola de Lesseps (Paltrow) while Shakespeare was writing Romeo and Juliet. Several characters are based on historical figures, and many of the characters, lines, and plot devices allude to Shakespeare's plays.\n",
        "\n",
        "Shakespeare in Love received acclaim from cri\n",
        "'''"
      ],
      "metadata": {
        "id": "tvnF6jF1QkfG"
      },
      "execution_count": 169,
      "outputs": []
    },
    {
      "cell_type": "code",
      "source": [
        "test_txt[::-1]"
      ],
      "metadata": {
        "colab": {
          "base_uri": "https://localhost:8080/",
          "height": 87
        },
        "id": "MAQesoxgQqYU",
        "outputId": "77a2df46-43ef-4d2b-b2be-1a3c0df296f3"
      },
      "execution_count": 170,
      "outputs": [
        {
          "output_type": "execute_result",
          "data": {
            "text/plain": [
              "\"\\nirc morf mialcca deviecer evoL ni eraepsekahS\\n\\n.syalp s'eraepsekahS ot edulla secived tolp dna ,senil ,sretcarahc eht fo ynam dna ,serugif lacirotsih no desab era sretcarahc lareveS .teiluJ dna oemoR gnitirw saw eraepsekahS elihw )wortlaP( spesseL ed aloiV dna )senneiF( eraepsekahS mailliW thgirwyalp gnivlovni riaffa evol lanoitcif a stciped mlif ehT .hcneD iduJ dna kcelffA neB ,htriF niloC ,hsuR yerffoeG ,senneiF hpesoJ ,wortlaP htenywG srats tI .nietsnieW yevraH yb decudorp dna ,drappotS moT dna namroN craM yb nettirw ,neddaM nhoJ yb detcerid mlif ydemoc citnamor doirep 8991 a si evoL ni eraepsekahS\\n\""
            ],
            "application/vnd.google.colaboratory.intrinsic+json": {
              "type": "string"
            }
          },
          "metadata": {},
          "execution_count": 170
        }
      ]
    },
    {
      "cell_type": "code",
      "source": [
        "text = '''\n",
        "Shakespeare in Love is a 1998 period romantic comedy film directed by John Madden, written by Marc Norman and Tom Stoppard, and produced by Harvey Weinstein. It stars Gwyneth Paltrow, Joseph Fiennes, Geoffrey Rush, Colin Firth, Ben Affleck and Judi Dench. The film depicts a fictional love affair involving playwright William Shakespeare (Fiennes) and Viola de Lesseps (Paltrow) while Shakespeare was writing Romeo and Juliet. Several characters are based on historical figures, and many of the characters, lines, and plot devices allude to Shakespeare's plays.\n",
        "\n",
        "Shakespeare in Love received acclaim from critics and was a box-office success, grossing $289 million worldwide and becoming the ninth-highest-grossing film of 1998. The film was noted for its highly skilled plotting and balancing of comedy and drama and for the high quality of its dialogue, performances, and production design. It received numerous accolades; it won three Golden Globe Awards (including Best Motion Picture - Musical or Comedy and Best Actress - Motion Picture Comedy or Musical for Paltrow), two Screen Actors Guild Awards (Outstanding Performance by a Cast in a Motion Picture and Outstanding Performance by a Female Actor in a Leading Role for Paltrow), and four British Academy Film Awards (including Best Film).[5][6][7] The film ultimately won a leading seven Oscars out of thirteen nominations at the 71st Academy Awards: Best Picture (Parfitt, Gigliotti, Weinstein, Zwick, & Norman), Best Actress (Paltrow), Best Supporting Actress (Dench), Best Screenplay Written Directly for the Screen (Norman & Stoppard), Best Original Musical or Comedy Score (Warbeck), Best Art Direction (Childs & Quertier), and Best Costume Design (Powell).[8]\n",
        "\n",
        "Plot\n",
        "In 1593 London, William Shakespeare is a sometime player in the Lord Chamberlain's Men and playwright for Philip Henslowe, owner of The Rose Theatre. Suffering from writer's block with a new comedy, Romeo and Ethel, the Pirate's Daughter, Shakespeare attempts to seduce Rosaline, mistress of Richard Burbage, owner of the rival Curtain Theatre, and to convince Burbage to buy the play from Henslowe. Shakespeare receives advice from rival playwright Christopher Marlowe, but is despondent to learn Rosaline is sleeping with Master of the Revels Edmund Tilney. The desperate Henslowe, in debt to ruthless moneylender Fennyman, begins auditions anyway.\n",
        "\n",
        "Viola de Lesseps, daughter of a wealthy merchant, who has seen Shakespeare's plays at court, disguises herself as a man named Thomas Kent to audition. Kent gains Shakespeare's interest with a speech from Two Gentlemen of Verona, but runs away when Shakespeare questions her. He pursues Kent to Viola's house and leaves a note with her nurse, asking Kent to begin rehearsals at the Rose.\n",
        "\n",
        "Shakespeare sneaks into a ball at the house, where Viola's parents arrange her betrothal to Lord Wessex, an aristocrat in need of money. Dancing with Viola, Shakespeare is struck speechless. Confronted by Wessex, Shakespeare introduces himself as Christopher Marlowe. Wessex ejects \"Marlowe\" and threatens to kill him. Shakespeare finds Viola on her balcony, where they confess their mutual attraction before he is discovered by her nurse and flees.\n",
        "\n",
        "Inspired by Viola, Shakespeare quickly transforms the play into what will become Romeo and Juliet. Rehearsals begin, with Thomas Kent as Romeo, the leading tragedian Ned Alleyn as Mercutio, and the stagestruck Fennyman in a small role. After Shakespeare discovers Viola's true identity, they begin a secret affair.\n",
        "\n",
        "Viola is summoned to court to receive approval for her proposed marriage to Wessex. Shakespeare accompanies her, disguised as her nurse's female cousin, and anonymously persuades Wessex in public to wager £50 that a play can capture the true nature of love, the amount Shakespeare requires to buy a share in the Chamberlain's Men. Queen Elizabeth I declares that she will judge the matter.\n",
        "\n",
        "Burbage learns Shakespeare has seduced Rosaline and cheated him out of payment for the play, and starts a brawl at the Rose with his company. The Rose players repel Burbage and his men and celebrate at the pub, where a drunken Henslowe lets slip to Viola that Shakespeare is married, albeit separated from his wife. News arrives that Marlowe has been murdered. A guilt-ridden Shakespeare assumes Wessex had Marlowe killed, believing him to be Viola's lover, while Viola believes Shakespeare to be the victim. Shakespeare appears at her church, allaying Viola's fears and terrifying Wessex, who believes he is a ghost. Viola confesses her love for Shakespeare, but both recognize she cannot escape her duty to marry Wessex.\n",
        "\n",
        "John Webster, an unpleasant boy who hangs around the theatre, spies on Shakespeare and Viola making love and informs Tilney, who closes the Rose for breaking the ban on women actors. Viola's identity is exposed, leaving Shakespeare without a stage or a lead actor, until Burbage offers his theatre and the heartbroken Shakespeare takes the role of Romeo. Following her wedding, Viola learns the play will be performed that day, and runs away to the Curtain. She overhears that the boy playing Juliet cannot perform, his voice having broken, and Henslowe asks her to replace him. She plays Juliet to Shakespeare's Romeo to an enthralled audience.\n",
        "\n",
        "Just after the play has concluded, Tilney arrives to arrest everyone for indecency due to Viola's presence, but the Queen reveals herself in attendance and restrains him, pretending that Kent is a man with a \"remarkable resemblance\" to a woman. Powerless to end a lawful marriage, she orders Viola to sail with Wessex to Virginia. The Queen also tells Wessex, who followed Viola to the theatre, that Romeo and Juliet has won the bet for Shakespeare, and has Kent deliver his £50 to Shakespeare with instructions to write \"something more cheerful next time, for Twelfth Night\".\n",
        "\n",
        "Viola and Shakespeare say their goodbyes, and he vows to immortalize her, as he imagines the beginning of Twelfth Night, in character as a castaway disguised as a man after a voyage to a strange land.\n",
        "\n",
        "Cast\n",
        "Joseph Fiennes as William Shakespeare\n",
        "Gwyneth Paltrow as Viola de Lesseps\n",
        "Geoffrey Rush as Philip Henslowe\n",
        "Colin Firth as Lord Wessex\n",
        "Ben Affleck as Ned Alleyn\n",
        "Judi Dench as Queen Elizabeth I\n",
        "Simon Callow as Edmund Tilney\n",
        "Jim Carter as Ralph Bashford\n",
        "Martin Clunes as Richard Burbage\n",
        "Antony Sher as Dr. Moth\n",
        "Imelda Staunton as Nurse\n",
        "Tom Wilkinson as Hugh Fennyman\n",
        "Mark Williams as Wabash\n",
        "Daniel Brocklebank as Sam Gosse\n",
        "Nicholas Le Prevost as Sir Robert de Lesseps\n",
        "Jill Baker as Lady de Lesseps\n",
        "Patrick Barlow as Will Kempe\n",
        "Joe Roberts as John Webster\n",
        "Rupert Everett as Christopher \"Kit\" Marlowe\n",
        "John Inman as Lady Capulet in play\n",
        "Sandra Reinton as Rosaline\n",
        "Paul Bigley as Peter\n",
        "Production\n",
        "The original idea for Shakespeare in Love was suggested to screenwriter Marc Norman in the late 1980s by his son Zachary.[9] Norman wrote a draft screenplay which he presented to director Edward Zwick, which attracted Julia Roberts, who agreed to play Viola. However, Zwick disliked Norman's screenplay and hired the playwright Tom Stoppard to improve it (Stoppard's first major success had been with the Shakespeare-themed play Rosencrantz and Guildenstern Are Dead).[10]\n",
        "\n",
        "The film went into production in 1991 at Universal, with Zwick as director, but although sets and costumes were in construction, Shakespeare had not yet been cast, because Roberts insisted that only Daniel Day-Lewis could play the role. Day-Lewis was uninterested, and when Roberts failed to persuade him, she withdrew from the film, six weeks before shooting was due to begin.[11] Zwick and the studio had tried to hold chemistry tests between Roberts and several then-unknown actors, including Hugh Grant, Ralph Fiennes, Jeremy Northam, Rupert Graves, Colin Firth, and Sean Bean, but Roberts either skipped the meetings or found faults with them all. After one last screen test with Paul McGann, Roberts pulled out of the production, which Zwick attributed to insecurity about the pressure she was under to succeed in the role.[12][13] The production went into turnaround, and Zwick was unable to persuade other studios to take up the screenplay. Canceling the film cost Universal $6 million.[10]\n",
        "\n",
        "Eventually, Zwick got Miramax Films interested in the screenplay, but Miramax Films chose John Madden as director. Miramax Films boss Harvey Weinstein acted as producer. For the president of a studio to have given himself a producer credit created a firestorm within the industry that resulted in what has come to be known as “the Harvey Rule,” which stipulates that to earn the Producers Guild credit, a producer must have performed some real role in making the finished film.[14] To justify his producer credit, Harvey claimed he took a leave of absence from his executive duties at Miramax Films to work on this movie, which longtime Miramax Films senior executive, Mark Gill, dismissed as “complete bullshit.”[15]\n",
        "\n",
        "Weinstein persuaded Ben Affleck to take a small role as Ned Alleyn.[16] Kate Winslet was offered the role of Viola after the success of Titanic, but she rejected it to pursue independent films.[17] Winona Ryder, Diane Lane and Robin Wright were also considered for the lead role.\n",
        "\n",
        "Principal photography began on March 2, 1998, and ended on June 10, 1998.[18]\n",
        "\n",
        "The film was considerably reworked after the first test screenings. The scene with Shakespeare and Viola in the punt was re-shot, to make it more emotional, and some lines were re-recorded to clarify the reasons why Viola had to marry Wessex. The ending was re-shot several times, until Stoppard eventually came up with the idea of Viola suggesting to Shakespeare that their parting could inspire his next play.[19]\n",
        "\n",
        "Among the locations used in the production were Hatfield House, Hertfordshire (for the fireworks scene), Broughton Castle, Oxfordshire (which played the role of the de Lesseps mansion), the beach at Holkham in Norfolk, the chapel at Eton College, Berkshire, and the Great Hall of Middle Temple, London.[20]\n",
        "\n",
        "References to Elizabethan literature\n",
        "Much of the action of the film echoes that of Romeo and Juliet. Will and Viola play out the famous balcony and bedroom scenes; like Juliet, Viola has a witty nurse, and is separated from Will by a gulf of duty (although not the family enmity of the play: the \"two households\" of Romeo and Juliet are supposedly inspired by the two rival playhouses). In addition, the two lovers are equally \"star-crossed\" – they are not ultimately destined to be together (since Viola is of rich and socially ambitious merchant stock and is promised to marry Lord Wessex, while Shakespeare himself is poor and already married). Rosaline, with whom Will is in love at the beginning of the film, is a namesake of Romeo's love-interest at the beginning of the play. There are references to earlier cinematic versions of Shakespeare, such as the balcony scene pastiching the Zeffirelli Romeo and Juliet.[21]\n",
        "\n",
        "Many other plot devices used in the film are common in Shakespearean comedies and other plays of the Elizabethan era: the monarch moving unrecognized among the common people (cf. Henry V), the cross-dressing disguises, mistaken identities, the sword fight, the suspicion of adultery, the ostensible appearance of a ghost (cf. Hamlet and Macbeth), and the \"play within a play\". According to Douglas Brode, the film deftly portrays many of these devices as though the events depicted were the inspiration for Shakespeare's own use of them in his plays.[22]\n",
        "\n",
        "Christopher Marlowe is presented in the film as the master playwright whom the characters consider the greatest English dramatist of that time – this is historically accurate, yet also humorous, since the film's audience knows what will eventually happen to Shakespeare's reputation. Marlowe gives Shakespeare a plot for his next play, \"Romeo and Ethel the Pirate's Daughter\" (\"Romeo is Italian...always in and out of love...until he meets...Ethel. The daughter of his enemy! His best friend is killed in a duel by Ethel's brother or something. His name is Mercutio.\")[23] Marlowe's Doctor Faustus is quoted repeatedly: \"Was this the face that launched a thousand ships/ And burned the topless towers of Ilium?\" A reference is also made to Marlowe's final, unfinished play The Massacre at Paris in a scene wherein Marlowe (Rupert Everett) seeks payment for the final act of the play from Richard Burbage (Martin Clunes). Burbage promises the payment the next day, so Marlowe refuses to part with the pages and departs for Deptford, where he is killed.[24][25] The only surviving text of The Massacre at Paris is an undated octavo that is probably too short to represent the complete original play. It has been suggested that it is a memorial reconstruction by the actors who performed the work.[26]\n",
        "\n",
        "The child John Webster (Joe Roberts), who plays with rats, is a reference to a leading figure in the next, Jacobean, generation of playwrights. His plays (The Duchess of Malfi, The White Devil) are known for their 'blood and gore', which is humorously referred to by the child saying that he enjoys Titus Andronicus, and also saying of Romeo and Juliet, when asked his opinion by the Queen, \"I liked it when she stabbed herself.\"[27] Likewise, the Thames waterman who ferries Shakespeare to the estate of Robert de Lesseps, and tries to get Shakespeare's opinion of his own writing, references John Taylor.[28]\n",
        "\n",
        "When the clown Will Kempe (Patrick Barlow) says to Shakespeare that he would like to play in a drama, he is told that \"they would laugh at Seneca if you played it\", a reference to the Roman tragedian renowned for his sombre and bloody plot lines which were a major influence on the development of English tragedy.[29]\n",
        "\n",
        "Will is shown signing a paper repeatedly, with many relatively illegible signatures visible. This is a reference to the fact that several versions of Shakespeare's signature exist, and in each one he spelled his name differently.[30]\n",
        "\n",
        "Plot precedents and similarities\n",
        "After the film's release, certain publications, including Private Eye, noted strong similarities between the film and the 1941 novel No Bed for Bacon, by Caryl Brahms and S. J. Simon, which also features Shakespeare falling in love and finding inspiration for his later plays. In a foreword to a subsequent edition of No Bed for Bacon (which traded on the association by declaring itself \"A Story of Shakespeare and Lady Viola in Love\") Ned Sherrin, Private Eye insider and former writing partner of Brahms', confirmed that he had lent a copy of the novel to Stoppard after he joined the writing team,[31] but that the basic plot of the film had been independently developed by Marc Norman, who was unaware of the earlier work.\n",
        "\n",
        "The film's plot can claim a tradition in fiction reaching back to Alexandre Duval's \"Shakespeare amoureux ou la Piece a l'Etude\" (1804), in which Shakespeare falls in love with an actress who is playing Richard III.[32]\n",
        "\n",
        "The writers of Shakespeare in Love were sued in 1999 by bestselling author Faye Kellerman. She claimed that the plotline was stolen from her 1989 novel The Quality of Mercy, in which Shakespeare romances a Jewish woman who dresses as a man, and attempts to solve a murder. Miramax Films spokesman Andrew Stengel derided the claim, filed in the US District Court six days before the 1999 Academy Awards, as \"absurd\", and argued that the timing \"suggests a publicity stunt\".[33][34] An out-of-court settlement was reached, but the sum agreed between the parties indicates that the claim was \"unwarranted\".[35]\n",
        "\n",
        "Historical inaccuracies\n",
        "The film is \"not constrained by worries about literary or historical accuracy\" and includes anachronisms such as a reference to Virginia tobacco plantations, at a time before the Colony of Virginia existed.[36] Queen Elizabeth I never entered a public theatre, as she does in the film. Between Romeo and Juliet and Twelfth Night, Shakespeare wrote ten other plays over a period of six years.[37] Another historical liberty concerns the central theme of Shakespeare struggling to create the story of Romeo and Juliet, as in real life he simply adapted an existing story for theatre. Arthur Brooke translated the Italian verse tale The Tragical History of Romeus and Juliet into English in 1562, 32 years before Shakespeare's Romeo and Juliet.[38]\n",
        "\n",
        "A leading character is an Earl of Wessex, a title which in Shakespeare's time had not existed for over 500 years. The Sunday Telegraph reported that Prince Edward, Elizabeth II's third son, was drawn to the earldom of Wessex, which became his title upon marriage, after watching the film and seeing the character.[39]\n",
        "\n",
        "'''"
      ],
      "metadata": {
        "id": "E8LZ8HBBBpCe"
      },
      "execution_count": 64,
      "outputs": []
    },
    {
      "cell_type": "code",
      "source": [
        "lst_words = text.replace(\"\\n\",\" \").split(\" \")\n",
        "clean_word_lst = []\n",
        "for word in lst_words:\n",
        "  word = word.strip()\n",
        "  clean_word_lst.append(word)\n",
        "\n",
        "\n",
        "len(clean_word_lst)"
      ],
      "metadata": {
        "colab": {
          "base_uri": "https://localhost:8080/"
        },
        "id": "QMCN-qSVB94u",
        "outputId": "7141082e-f676-45b5-c2ce-a9b0c9c7353a"
      },
      "execution_count": 80,
      "outputs": [
        {
          "output_type": "execute_result",
          "data": {
            "text/plain": [
              "2712"
            ]
          },
          "metadata": {},
          "execution_count": 80
        }
      ]
    },
    {
      "cell_type": "code",
      "source": [
        "len(set(clean_word_lst))"
      ],
      "metadata": {
        "colab": {
          "base_uri": "https://localhost:8080/"
        },
        "id": "2yCR4PCLC1Hy",
        "outputId": "2e0aed5f-b132-4037-97f7-df8f0d6484bd"
      },
      "execution_count": 79,
      "outputs": [
        {
          "output_type": "execute_result",
          "data": {
            "text/plain": [
              "1241"
            ]
          },
          "metadata": {},
          "execution_count": 79
        }
      ]
    },
    {
      "cell_type": "code",
      "source": [],
      "metadata": {
        "id": "d2lIyctcDX__"
      },
      "execution_count": null,
      "outputs": []
    }
  ]
}