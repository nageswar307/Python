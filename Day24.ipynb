{
  "nbformat": 4,
  "nbformat_minor": 0,
  "metadata": {
    "colab": {
      "provenance": [],
      "authorship_tag": "ABX9TyPOGlC/EsqUqURdnM1bWQYy",
      "include_colab_link": true
    },
    "kernelspec": {
      "name": "python3",
      "display_name": "Python 3"
    },
    "language_info": {
      "name": "python"
    }
  },
  "cells": [
    {
      "cell_type": "markdown",
      "metadata": {
        "id": "view-in-github",
        "colab_type": "text"
      },
      "source": [
        "<a href=\"https://colab.research.google.com/github/nageswar307/Python/blob/main/Day24.ipynb\" target=\"_parent\"><img src=\"https://colab.research.google.com/assets/colab-badge.svg\" alt=\"Open In Colab\"/></a>"
      ]
    },
    {
      "cell_type": "code",
      "source": [],
      "metadata": {
        "id": "deqg7aF1NDBP"
      },
      "execution_count": null,
      "outputs": []
    },
    {
      "cell_type": "markdown",
      "source": [
        "### Basic Terminolgy"
      ],
      "metadata": {
        "id": "WuYh_3HZNDca"
      }
    },
    {
      "cell_type": "code",
      "execution_count": null,
      "metadata": {
        "id": "dMBsXZdgHG7P"
      },
      "outputs": [],
      "source": [
        "# Probability\n",
        "# Sample Space - set of all possible outcomes\n",
        "# Event - one particular observation in which you are interested to calculate probability for\n",
        "# Prob of an Event P(E) = (no of favvorable outcomes ) / (total no of possible outcomes)\n"
      ]
    },
    {
      "cell_type": "code",
      "source": [
        "# Probability - chances occurance or it quantifies the uncertenity\n",
        "# Event - an observation or experiment -ex tossing a coin\n"
      ],
      "metadata": {
        "id": "nf2w2U8pISiT"
      },
      "execution_count": null,
      "outputs": []
    },
    {
      "cell_type": "code",
      "source": [
        "# experiment - tossing a coin\n",
        "# sample space - H,T - set of all possible outcomes\n",
        "# event - getting a head or getting a tail\n",
        "# probability - first decide event - we calculate how many favourable ooutcomes for that event\n",
        "\n",
        "# no of facvourable outcomes = 1\n",
        "# total number of outcomes = 2\n",
        "# probability of getting a Head = (no of favvorable outcomes for Head i.e  1) / (total no of possible outcomes i.e 2) = 0.5"
      ],
      "metadata": {
        "id": "dRZu27LpJGPQ"
      },
      "execution_count": 1,
      "outputs": []
    },
    {
      "cell_type": "code",
      "source": [
        "# experiment - rolling a dice\n",
        "# sample space - 1-6\n",
        "# event - getting 1 or 2 or any number till 6, getting an even number or odd\n",
        "\n",
        "# to claculate prob of getting odd number\n",
        "# no of facvourable outcomes = 3,5 i.e\n",
        "# total number of outcomes = 6\n",
        "# probability of getting a Head = (no of favourable outcomes for odd i.e  2) / (total no of possible outcomes i.e 6) = 2/6 = 0.333"
      ],
      "metadata": {
        "id": "wMMwSKSEJTMo"
      },
      "execution_count": null,
      "outputs": []
    },
    {
      "cell_type": "code",
      "source": [
        "# when I roll two dice what's the probabilty of getting a sum of 5\n",
        "\n",
        "# event - getting a sum of 5\n",
        "# sample space - 1,1 1,2 1,3 ......1,6\n",
        "#                2,1 ,2,2 2,3 ............. 2,2  ----- total 36 possibilities\n",
        "# favourable outcomes --- 1,4 , 2,3, 4,1, 3,2 ---- total 4\n",
        "\n",
        "# probability = 4/36 = 0.11111\n",
        "\n"
      ],
      "metadata": {
        "id": "L5N6rbqhLviP"
      },
      "execution_count": null,
      "outputs": []
    },
    {
      "cell_type": "code",
      "source": [],
      "metadata": {
        "id": "b-0kcJyzM2vM"
      },
      "execution_count": null,
      "outputs": []
    },
    {
      "cell_type": "code",
      "source": [
        "import random"
      ],
      "metadata": {
        "id": "9v3BaCtNNsLZ"
      },
      "execution_count": 3,
      "outputs": []
    },
    {
      "cell_type": "code",
      "source": [
        "random.choice(['H','T'])"
      ],
      "metadata": {
        "colab": {
          "base_uri": "https://localhost:8080/",
          "height": 35
        },
        "id": "Iyu2-yThN03I",
        "outputId": "26a0f4ed-a4bc-4f6a-e14e-5aa3c8ce48ca"
      },
      "execution_count": 10,
      "outputs": [
        {
          "output_type": "execute_result",
          "data": {
            "text/plain": [
              "'T'"
            ],
            "application/vnd.google.colaboratory.intrinsic+json": {
              "type": "string"
            }
          },
          "metadata": {},
          "execution_count": 10
        }
      ]
    },
    {
      "cell_type": "code",
      "source": [
        "random.choice([\"a\",\"b\",\"c\",\"d\",\"e\",\"f\",\"g\",\"h\"])"
      ],
      "metadata": {
        "colab": {
          "base_uri": "https://localhost:8080/",
          "height": 35
        },
        "id": "Uul8npSmOiiK",
        "outputId": "16da5727-5a82-45ea-c320-6c5e445be08e"
      },
      "execution_count": 17,
      "outputs": [
        {
          "output_type": "execute_result",
          "data": {
            "text/plain": [
              "'f'"
            ],
            "application/vnd.google.colaboratory.intrinsic+json": {
              "type": "string"
            }
          },
          "metadata": {},
          "execution_count": 17
        }
      ]
    },
    {
      "cell_type": "code",
      "source": [
        "no_trails = 10000000\n",
        "\n",
        "no_heads = 0\n",
        "no_tails = 0\n",
        "for _ in range(no_trails):\n",
        "\n",
        "  if random.choice(['H','T']) == 'H':\n",
        "        no_heads += 1\n",
        "  else:\n",
        "        no_tails += 1\n",
        "\n",
        "# print(no_heads/no_trails)"
      ],
      "metadata": {
        "id": "a_UDV-pAN-BD"
      },
      "execution_count": 39,
      "outputs": []
    },
    {
      "cell_type": "code",
      "source": [
        "no_heads,no_tails"
      ],
      "metadata": {
        "colab": {
          "base_uri": "https://localhost:8080/"
        },
        "id": "irjkO62pOU46",
        "outputId": "e11a2be3-adbb-434f-f424-87291695bf74"
      },
      "execution_count": 40,
      "outputs": [
        {
          "output_type": "execute_result",
          "data": {
            "text/plain": [
              "(4999283, 5000717)"
            ]
          },
          "metadata": {},
          "execution_count": 40
        }
      ]
    },
    {
      "cell_type": "code",
      "source": [
        "4999283/10000000"
      ],
      "metadata": {
        "colab": {
          "base_uri": "https://localhost:8080/"
        },
        "id": "T6p-W0jeQFXx",
        "outputId": "f58ca49f-9fab-49ed-c413-4b7f9a16dc8d"
      },
      "execution_count": 41,
      "outputs": [
        {
          "output_type": "execute_result",
          "data": {
            "text/plain": [
              "0.4999283"
            ]
          },
          "metadata": {},
          "execution_count": 41
        }
      ]
    },
    {
      "cell_type": "code",
      "source": [
        "random.choice([1,2,3,4,5,6])"
      ],
      "metadata": {
        "colab": {
          "base_uri": "https://localhost:8080/"
        },
        "id": "H7KnyCQaPjpJ",
        "outputId": "e2fe1780-9b55-499d-e81f-ab976ac37615"
      },
      "execution_count": 27,
      "outputs": [
        {
          "output_type": "execute_result",
          "data": {
            "text/plain": [
              "2"
            ]
          },
          "metadata": {},
          "execution_count": 27
        }
      ]
    },
    {
      "cell_type": "code",
      "source": [
        "no_trails = 100\n",
        "\n",
        "no_heads = 0\n",
        "no_tails = 0\n",
        "for _ in range(no_trails):\n",
        "\n",
        "  if random.choice(['H','T']) == 'H':\n",
        "        no_heads += 1\n",
        "  else:\n",
        "        no_tails += 1\n",
        "\n",
        "# print(no_heads/no_trails)"
      ],
      "metadata": {
        "id": "4Z5cTgrqPymh"
      },
      "execution_count": null,
      "outputs": []
    },
    {
      "cell_type": "code",
      "source": [],
      "metadata": {
        "id": "nrzlhsdmQi9l"
      },
      "execution_count": null,
      "outputs": []
    },
    {
      "cell_type": "code",
      "source": [
        "P(A/E) = P(E/A) * P(A) / P(E)"
      ],
      "metadata": {
        "id": "gAKU5_gmQnYH"
      },
      "execution_count": null,
      "outputs": []
    },
    {
      "cell_type": "code",
      "source": [
        "cat drinks milk cat sits on mat cat is running cat is eating"
      ],
      "metadata": {
        "id": "-Zff93pRRJfJ"
      },
      "execution_count": null,
      "outputs": []
    },
    {
      "cell_type": "code",
      "source": [
        "cat - milk,mat, running\n",
        "cat - milk 2 mat 4 running 5"
      ],
      "metadata": {
        "id": "pW1QgYntRfPN"
      },
      "execution_count": null,
      "outputs": []
    },
    {
      "cell_type": "code",
      "source": [
        "P(milk) = P(milk|drinks) * P(drinks)\n",
        "\n",
        "P(cat) = P(cat|milk) *  P(milk|drinks) * P(drinks)\n",
        "\n",
        "P(sits) = P(sits|cat) * P(cat|milk) *  P(milk|drinks) * P(drinks)\n",
        "\n",
        "# P(running) = P(running|cat) *  P(cat|milk) *  P(milk|drinks) * P(drinks)\n",
        "\n"
      ],
      "metadata": {
        "id": "6iPNVjIeR65p"
      },
      "execution_count": null,
      "outputs": []
    }
  ]
}