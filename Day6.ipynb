{
  "nbformat": 4,
  "nbformat_minor": 0,
  "metadata": {
    "colab": {
      "provenance": [],
      "authorship_tag": "ABX9TyOjW3/bGYYi8GLtsejxJ77a",
      "include_colab_link": true
    },
    "kernelspec": {
      "name": "python3",
      "display_name": "Python 3"
    },
    "language_info": {
      "name": "python"
    }
  },
  "cells": [
    {
      "cell_type": "markdown",
      "metadata": {
        "id": "view-in-github",
        "colab_type": "text"
      },
      "source": [
        "<a href=\"https://colab.research.google.com/github/nageswar307/Python/blob/main/Day6.ipynb\" target=\"_parent\"><img src=\"https://colab.research.google.com/assets/colab-badge.svg\" alt=\"Open In Colab\"/></a>"
      ]
    },
    {
      "cell_type": "code",
      "execution_count": 34,
      "metadata": {
        "id": "GEEWBH-SR0hf"
      },
      "outputs": [],
      "source": [
        "company = {\n",
        "    \"employees\": {\n",
        "        \"JohnDoe\": {\n",
        "            \"position\": \"Software Engineer\",\n",
        "            \"department\": \"IT\",\n",
        "            \"skills\": [\"Python\", \"JavaScript\", \"SQL\"],\n",
        "            \"salary\": 85000\n",
        "                    },\n",
        "        \"JaneSmith\": {\n",
        "            \"position\": \"Project Manager\",\n",
        "            \"department\": \"Operations\",\n",
        "            \"skills\": [\"Leadership\", \"Scrum\", \"Budgeting\"],\n",
        "            \"salary\": 95000\n",
        "                    },\n",
        "    \"departments\": [\"IT\", \"Operations\", \"Data Analysis\"],\n",
        "    \"location\": \"New York\",\n",
        "    \"founded\": 2010,\n",
        "              },\n",
        "    \"infra\" : {\n",
        "        \"servers\": \"abc\"\n",
        "              }\n",
        "    }\n"
      ]
    },
    {
      "cell_type": "code",
      "source": [
        "company[\"employees\"][\"JohnDoe\"][\"skills\"].append(\"Devops\")"
      ],
      "metadata": {
        "id": "lapgh_FdVA15"
      },
      "execution_count": 35,
      "outputs": []
    },
    {
      "cell_type": "code",
      "source": [
        "company"
      ],
      "metadata": {
        "colab": {
          "base_uri": "https://localhost:8080/"
        },
        "id": "JFPWvdApTiu3",
        "outputId": "7f5557f9-b867-4f2c-d456-a6e98f3c8f05"
      },
      "execution_count": 36,
      "outputs": [
        {
          "output_type": "execute_result",
          "data": {
            "text/plain": [
              "{'employees': {'JohnDoe': {'position': 'Software Engineer',\n",
              "   'department': 'IT',\n",
              "   'skills': ['Python', 'JavaScript', 'SQL', 'Devops'],\n",
              "   'salary': 85000},\n",
              "  'JaneSmith': {'position': 'Project Manager',\n",
              "   'department': 'Operations',\n",
              "   'skills': ['Leadership', 'Scrum', 'Budgeting'],\n",
              "   'salary': 95000},\n",
              "  'departments': ['IT', 'Operations', 'Data Analysis'],\n",
              "  'location': 'New York',\n",
              "  'founded': 2010},\n",
              " 'infra': {'servers': 'abc'}}"
            ]
          },
          "metadata": {},
          "execution_count": 36
        }
      ]
    },
    {
      "cell_type": "code",
      "source": [
        "dict1.update(\"skills\": \"Devops\")"
      ],
      "metadata": {
        "colab": {
          "base_uri": "https://localhost:8080/",
          "height": 111
        },
        "id": "UCxHT0a-WAyr",
        "outputId": "0cd55c41-fdb8-433b-8918-124bcd4f7350"
      },
      "execution_count": 37,
      "outputs": [
        {
          "output_type": "error",
          "ename": "SyntaxError",
          "evalue": "invalid syntax (<ipython-input-37-5a83fc9930d6>, line 1)",
          "traceback": [
            "\u001b[0;36m  File \u001b[0;32m\"<ipython-input-37-5a83fc9930d6>\"\u001b[0;36m, line \u001b[0;32m1\u001b[0m\n\u001b[0;31m    dict1.update(\"skills\": \"Devops\")\u001b[0m\n\u001b[0m                         ^\u001b[0m\n\u001b[0;31mSyntaxError\u001b[0m\u001b[0;31m:\u001b[0m invalid syntax\n"
          ]
        }
      ]
    },
    {
      "cell_type": "code",
      "source": [
        "lst = list(company)"
      ],
      "metadata": {
        "id": "exkAyhm9Wfr_"
      },
      "execution_count": 38,
      "outputs": []
    },
    {
      "cell_type": "code",
      "source": [
        "company[\"employees\"][\"JaneSmith\"].keys()"
      ],
      "metadata": {
        "colab": {
          "base_uri": "https://localhost:8080/"
        },
        "id": "QK3hoBbsW9oR",
        "outputId": "cbbfd13e-a39f-4436-df7e-505929ea022f"
      },
      "execution_count": 39,
      "outputs": [
        {
          "output_type": "execute_result",
          "data": {
            "text/plain": [
              "dict_keys(['position', 'department', 'skills', 'salary'])"
            ]
          },
          "metadata": {},
          "execution_count": 39
        }
      ]
    },
    {
      "cell_type": "code",
      "source": [
        "for key,value in company.items():\n",
        "  print(\"keys-----\",key)\n",
        "  print(\"values-----\",value)"
      ],
      "metadata": {
        "colab": {
          "base_uri": "https://localhost:8080/"
        },
        "id": "nF7zDb0fXaI0",
        "outputId": "ca65fe1d-5709-4a27-f283-b2f7be37d8dd"
      },
      "execution_count": 45,
      "outputs": [
        {
          "output_type": "stream",
          "name": "stdout",
          "text": [
            "keys----- employees\n",
            "values----- {'JohnDoe': {'position': 'Software Engineer', 'department': 'IT', 'skills': ['Python', 'JavaScript', 'SQL', 'Devops'], 'salary': 85000}, 'JaneSmith': {'position': 'Project Manager', 'department': 'Operations', 'skills': ['Leadership', 'Scrum', 'Budgeting'], 'salary': 95000}, 'departments': ['IT', 'Operations', 'Data Analysis'], 'location': 'New York', 'founded': 2010}\n",
            "keys----- infra\n",
            "values----- {'servers': 'abc'}\n"
          ]
        }
      ]
    },
    {
      "cell_type": "code",
      "source": [
        "company.items()"
      ],
      "metadata": {
        "colab": {
          "base_uri": "https://localhost:8080/"
        },
        "id": "d5qQI0GvZtJt",
        "outputId": "0ee64b7e-b02f-4661-bcdc-8d6facd59874"
      },
      "execution_count": 43,
      "outputs": [
        {
          "output_type": "execute_result",
          "data": {
            "text/plain": [
              "dict_items([('employees', {'JohnDoe': {'position': 'Software Engineer', 'department': 'IT', 'skills': ['Python', 'JavaScript', 'SQL', 'Devops'], 'salary': 85000}, 'JaneSmith': {'position': 'Project Manager', 'department': 'Operations', 'skills': ['Leadership', 'Scrum', 'Budgeting'], 'salary': 95000}, 'departments': ['IT', 'Operations', 'Data Analysis'], 'location': 'New York', 'founded': 2010}), ('infra', {'servers': 'abc'})])"
            ]
          },
          "metadata": {},
          "execution_count": 43
        }
      ]
    },
    {
      "cell_type": "code",
      "source": [
        "lst = [\"abc\",12,12.5,True]"
      ],
      "metadata": {
        "id": "udug0RcHaTso"
      },
      "execution_count": null,
      "outputs": []
    },
    {
      "cell_type": "code",
      "source": [
        "nums = [3,2,4]\n",
        "output=[]\n",
        "number=0\n",
        "for index,values in enumerate(nums):\n",
        "  number=number+values\n",
        "  #sum of list\n",
        "  if number==6:\n",
        "    output.append(index-1)\n",
        "    output.append(index)\n",
        "\n",
        "    print(output)\n",
        "    output=[]\n",
        "  number=nums[index]"
      ],
      "metadata": {
        "colab": {
          "base_uri": "https://localhost:8080/"
        },
        "id": "R3dqcz2qagXX",
        "outputId": "f289fab4-b096-463d-cffc-ca9b00729f91"
      },
      "execution_count": 50,
      "outputs": [
        {
          "output_type": "stream",
          "name": "stdout",
          "text": [
            "[1, 2]\n"
          ]
        }
      ]
    },
    {
      "cell_type": "code",
      "source": [
        "nums = [3,2,4]\n",
        "\n",
        "for i in range(len(nums)):\n",
        "  for j in range(i+1,len(nums)):\n",
        "    if nums[i]+nums[j]==6:\n",
        "      print([i,j])"
      ],
      "metadata": {
        "id": "gyPnwJMocG2A"
      },
      "execution_count": null,
      "outputs": []
    },
    {
      "cell_type": "markdown",
      "source": [
        "## User Defined Functions"
      ],
      "metadata": {
        "id": "_w5gZBYEagyk"
      }
    },
    {
      "cell_type": "code",
      "source": [
        "lst = [1,2,3,4]\n",
        "sq_lst = [x**2 for x in lst]\n",
        "\n",
        "sq_lst"
      ],
      "metadata": {
        "colab": {
          "base_uri": "https://localhost:8080/"
        },
        "id": "RUZHqJ6Gas1-",
        "outputId": "78813bb4-acb6-49f3-e8f8-5c56f7020735"
      },
      "execution_count": 53,
      "outputs": [
        {
          "output_type": "execute_result",
          "data": {
            "text/plain": [
              "[1, 4, 9, 16]"
            ]
          },
          "metadata": {},
          "execution_count": 53
        }
      ]
    },
    {
      "cell_type": "code",
      "source": [
        "lst = [1,2,3,4]\n",
        "lst2 = [\"a\",\"b\",\"c\"]\n",
        "lst3 = [\"q\",\"w\",\"r\",\"t\"]\n",
        "\n",
        "list(zip(lst,lst2,lst3))"
      ],
      "metadata": {
        "colab": {
          "base_uri": "https://localhost:8080/"
        },
        "id": "rRL03P66dVbV",
        "outputId": "6ad4b74f-5da6-4ffc-89a6-9dedc8d90729"
      },
      "execution_count": 65,
      "outputs": [
        {
          "output_type": "execute_result",
          "data": {
            "text/plain": [
              "[(1, 'a', 'q'), (2, 'b', 'w'), (3, 'c', 'r')]"
            ]
          },
          "metadata": {},
          "execution_count": 65
        }
      ]
    },
    {
      "cell_type": "markdown",
      "source": [
        "1. Type Conversion Functions\n",
        "int() – Converts to integer\n",
        "float() – Converts to float\n",
        "str() – Converts to string\n",
        "list() – Converts to list\n",
        "tuple() – Converts to tuple\n",
        "dict() – Converts to dictionary\n",
        "set() – Converts to set\n",
        "bool() – Converts to boolean\n",
        "complex() – Creates a complex number\n",
        "2. Math and Numeric Functions\n",
        "abs(x) – Absolute value\n",
        "pow(x, y) – Raises x to the power y\n",
        "round(x, n) – Rounds x to n decimal places\n",
        "min() – Returns the smallest value\n",
        "max() – Returns the largest value\n",
        "sum() – Sums items in an iterable\n",
        "divmod(x, y) – Returns quotient and remainder\n",
        "bin(x) – Converts to binary\n",
        "hex(x) – Converts to hexadecimal\n",
        "oct(x) – Converts to octal\n",
        "3. Sequence and Iterable Functions\n",
        "len() – Returns the length of an object\n",
        "range() – Generates a sequence of numbers\n",
        "enumerate() – Returns index and value pairs\n",
        "sorted() – Returns a sorted list\n",
        "reversed() – Reverses an iterable\n",
        "zip() – Combines iterables element-wise\n",
        "map() – Applies a function to each element\n",
        "filter() – Filters elements based on a condition\n",
        "4. String Functions\n",
        "chr(x) – Converts an ASCII value to a character\n",
        "ord(x) – Converts a character to its ASCII value\n",
        "format() – Formats a value\n",
        "repr() – Returns a string representation\n",
        "5. Input/Output Functions\n",
        "print() – Prints to the console\n",
        "input() – Takes user input\n",
        "open() – Opens a file\n",
        "6. Object and Type Functions\n",
        "type() – Returns the type of an object\n",
        "id() – Returns the memory address of an object\n",
        "isinstance() – Checks if an object is of a certain type\n",
        "issubclass() – Checks subclass relationship\n",
        "7. Logic and Comparison\n",
        "all() – Returns True if all elements are True\n",
        "any() – Returns True if any element is True\n",
        "bool() – Returns the boolean value of an object\n",
        "8. Miscellaneous Functions\n",
        "help() – Displays help information\n",
        "dir() – Lists attributes of an object\n",
        "eval() – Evaluates a string as Python code\n",
        "exec() – Executes Python code\n",
        "globals() – Returns the global symbol table\n",
        "locals() – Returns the local symbol table"
      ],
      "metadata": {
        "id": "l1Lpd101eIBB"
      }
    },
    {
      "cell_type": "code",
      "source": [
        "lst = [1,2,3,4]\n",
        "lst."
      ],
      "metadata": {
        "id": "rUSreX_yfwhl"
      },
      "execution_count": null,
      "outputs": []
    },
    {
      "cell_type": "markdown",
      "source": [],
      "metadata": {
        "id": "j2bm9RWVheoo"
      }
    },
    {
      "cell_type": "code",
      "source": [
        "# functions can return any object in python i.e int,string, another fun, or list, dict,\n",
        "# and also you can return multiple objects as well"
      ],
      "metadata": {
        "id": "Qhzp9G6jg4fC"
      },
      "execution_count": 75,
      "outputs": []
    },
    {
      "cell_type": "code",
      "source": [
        "def add(a,b):\n",
        "  sum = a+b\n",
        "  return sum"
      ],
      "metadata": {
        "id": "v3BYE7Owf8kz"
      },
      "execution_count": 68,
      "outputs": []
    },
    {
      "cell_type": "code",
      "source": [
        "def func_call(params):\n",
        "  # statements\n",
        "  # operations\n",
        "  return return_value"
      ],
      "metadata": {
        "id": "CQumCU4kgJPR"
      },
      "execution_count": null,
      "outputs": []
    },
    {
      "cell_type": "code",
      "source": [
        "def greet(name):\n",
        "  print(\"Hello\",name)\n",
        "  return \"\""
      ],
      "metadata": {
        "id": "4rSZt9ofgTR-"
      },
      "execution_count": 70,
      "outputs": []
    },
    {
      "cell_type": "code",
      "source": [
        "def squraed_list(lst):\n",
        "  sq_lst = []\n",
        "  for num in lst:\n",
        "    sq_lst.append(num**2)\n",
        "  return lst, sq_lst"
      ],
      "metadata": {
        "id": "nYyFsU0phAt0"
      },
      "execution_count": 76,
      "outputs": []
    },
    {
      "cell_type": "code",
      "source": [
        "x = [10,20,30,40]\n",
        "\n",
        "x_squared = squraed_list(x)\n",
        "x_squared[0]"
      ],
      "metadata": {
        "colab": {
          "base_uri": "https://localhost:8080/"
        },
        "id": "7qAaQyWJhPpR",
        "outputId": "f0844668-0f67-42c6-d5d7-cf6369cd0086"
      },
      "execution_count": 84,
      "outputs": [
        {
          "output_type": "execute_result",
          "data": {
            "text/plain": [
              "[10, 20, 30, 40]"
            ]
          },
          "metadata": {},
          "execution_count": 84
        }
      ]
    },
    {
      "cell_type": "code",
      "source": [
        "x_squared"
      ],
      "metadata": {
        "colab": {
          "base_uri": "https://localhost:8080/"
        },
        "id": "_5mico6tiMKu",
        "outputId": "83610822-2f25-420d-baec-bd8190ae26fd"
      },
      "execution_count": 80,
      "outputs": [
        {
          "output_type": "execute_result",
          "data": {
            "text/plain": [
              "[100, 400, 900, 1600]"
            ]
          },
          "metadata": {},
          "execution_count": 80
        }
      ]
    },
    {
      "cell_type": "code",
      "source": [],
      "metadata": {
        "id": "u233RQPgib-y"
      },
      "execution_count": null,
      "outputs": []
    },
    {
      "cell_type": "code",
      "source": [
        "def add(a,b):\n",
        "  sum = a+b\n",
        "  return sum"
      ],
      "metadata": {
        "id": "Z3qa8IaDlq7Y"
      },
      "execution_count": 106,
      "outputs": []
    },
    {
      "cell_type": "code",
      "source": [
        "add(2,3)"
      ],
      "metadata": {
        "id": "S0rYqWI1l2dV"
      },
      "execution_count": null,
      "outputs": []
    },
    {
      "cell_type": "code",
      "source": [
        "def add(a,b=10):\n",
        "  sum = a+b\n",
        "  return sum"
      ],
      "metadata": {
        "id": "gJ1CbUaiiphF"
      },
      "execution_count": 89,
      "outputs": []
    },
    {
      "cell_type": "code",
      "source": [
        "add(15)"
      ],
      "metadata": {
        "colab": {
          "base_uri": "https://localhost:8080/"
        },
        "id": "HOONGtx7jRhT",
        "outputId": "dc16b053-122e-473e-b51b-cc3d33df9de0"
      },
      "execution_count": 91,
      "outputs": [
        {
          "output_type": "execute_result",
          "data": {
            "text/plain": [
              "25"
            ]
          },
          "metadata": {},
          "execution_count": 91
        }
      ]
    },
    {
      "cell_type": "code",
      "source": [
        "add(12,19)"
      ],
      "metadata": {
        "colab": {
          "base_uri": "https://localhost:8080/"
        },
        "id": "vhgxDPjji5T3",
        "outputId": "d450d81f-b835-46ad-83cd-2f514036df84"
      },
      "execution_count": 90,
      "outputs": [
        {
          "output_type": "execute_result",
          "data": {
            "text/plain": [
              "31"
            ]
          },
          "metadata": {},
          "execution_count": 90
        }
      ]
    },
    {
      "cell_type": "code",
      "source": [
        "def multiply(*args):\n",
        "  output = 1\n",
        "  # print(\"type of args ----\", type(args))\n",
        "  for num in args:\n",
        "    output = output*num\n",
        "  return output"
      ],
      "metadata": {
        "id": "Zsvhg228i-PO"
      },
      "execution_count": 101,
      "outputs": []
    },
    {
      "cell_type": "code",
      "source": [
        "multiply(1,2,3,4,5,6,7)"
      ],
      "metadata": {
        "colab": {
          "base_uri": "https://localhost:8080/"
        },
        "id": "fHMon4L0j9vJ",
        "outputId": "7ac2729e-e796-4a51-e58b-11db305be493"
      },
      "execution_count": 102,
      "outputs": [
        {
          "output_type": "stream",
          "name": "stdout",
          "text": [
            "type of args ---- <class 'tuple'>\n"
          ]
        },
        {
          "output_type": "execute_result",
          "data": {
            "text/plain": [
              "5040"
            ]
          },
          "metadata": {},
          "execution_count": 102
        }
      ]
    },
    {
      "cell_type": "code",
      "source": [
        "def kwargs_func(**kwargs):\n",
        "  print(\"kwargs -----\",kwargs)\n",
        "  for key,value in kwargs.items():\n",
        "    print(key,value)"
      ],
      "metadata": {
        "id": "Fz-7loMskp80"
      },
      "execution_count": 113,
      "outputs": []
    },
    {
      "cell_type": "code",
      "source": [
        "kwargs_func(name=\"abc\",job=\"engineer\")"
      ],
      "metadata": {
        "colab": {
          "base_uri": "https://localhost:8080/"
        },
        "id": "0tZ0F8DFlMxD",
        "outputId": "cb159071-d72c-4af7-9b36-f72c2cfd94d7"
      },
      "execution_count": 114,
      "outputs": [
        {
          "output_type": "stream",
          "name": "stdout",
          "text": [
            "kwargs ----- {'name': 'abc', 'job': 'engineer'}\n",
            "name abc\n",
            "job engineer\n"
          ]
        }
      ]
    }
  ]
}