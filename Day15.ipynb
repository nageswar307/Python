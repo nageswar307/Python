{
  "nbformat": 4,
  "nbformat_minor": 0,
  "metadata": {
    "colab": {
      "provenance": [],
      "authorship_tag": "ABX9TyPdzy/OTomBQhhPcZintEBp",
      "include_colab_link": true
    },
    "kernelspec": {
      "name": "python3",
      "display_name": "Python 3"
    },
    "language_info": {
      "name": "python"
    }
  },
  "cells": [
    {
      "cell_type": "markdown",
      "metadata": {
        "id": "view-in-github",
        "colab_type": "text"
      },
      "source": [
        "<a href=\"https://colab.research.google.com/github/nageswar307/Python/blob/main/Day15.ipynb\" target=\"_parent\"><img src=\"https://colab.research.google.com/assets/colab-badge.svg\" alt=\"Open In Colab\"/></a>"
      ]
    },
    {
      "cell_type": "code",
      "execution_count": 1,
      "metadata": {
        "colab": {
          "base_uri": "https://localhost:8080/",
          "height": 35
        },
        "id": "NhzY0QPOUT_I",
        "outputId": "eecd4455-5ffc-4834-aaec-9e59ef52441e"
      },
      "outputs": [
        {
          "output_type": "execute_result",
          "data": {
            "text/plain": [
              "'i love python'"
            ],
            "application/vnd.google.colaboratory.intrinsic+json": {
              "type": "string"
            }
          },
          "metadata": {},
          "execution_count": 1
        }
      ],
      "source": [
        "string = \"I Love Python\"\n",
        "string.lower()"
      ]
    },
    {
      "cell_type": "code",
      "source": [
        "lst = [1,2,3,4,5]\n",
        "\n",
        "sq_lst = [1,4,9,16,25]"
      ],
      "metadata": {
        "id": "1b0jsT0PXMec"
      },
      "execution_count": 3,
      "outputs": []
    },
    {
      "cell_type": "code",
      "source": [
        "sq_lst = []\n",
        "\n",
        "for item in lst:\n",
        "  sq_lst.append(item**2)\n",
        "\n",
        "\n",
        "sq_lst"
      ],
      "metadata": {
        "colab": {
          "base_uri": "https://localhost:8080/"
        },
        "id": "FWA4SYFFXQGf",
        "outputId": "f92b3a43-e981-4a42-dab1-14d8404167ce"
      },
      "execution_count": 5,
      "outputs": [
        {
          "output_type": "execute_result",
          "data": {
            "text/plain": [
              "[1, 4, 9, 16, 25]"
            ]
          },
          "metadata": {},
          "execution_count": 5
        }
      ]
    },
    {
      "cell_type": "code",
      "source": [
        "def fun_name(arg1,arg2):\n",
        "  \"\"\"\n",
        "  docstring\n",
        "  \"\"\"\n",
        "  # statements & operations\n",
        "\n",
        "  return return_value"
      ],
      "metadata": {
        "id": "OZEcL-jrXl5E"
      },
      "execution_count": null,
      "outputs": []
    },
    {
      "cell_type": "code",
      "source": [
        "def sq_lst(lst):\n",
        "  sq_lst = []\n",
        "\n",
        "  for item in lst:\n",
        "    sq_lst.append(item**2)\n",
        "\n",
        "  return sq_lst"
      ],
      "metadata": {
        "id": "8UtR7Tk7Xzr-"
      },
      "execution_count": 6,
      "outputs": []
    },
    {
      "cell_type": "code",
      "source": [
        "lst2 = [1,4,5,90,34]\n",
        "sq_lst2 = sq_lst(lst2)\n",
        "sq_lst2"
      ],
      "metadata": {
        "colab": {
          "base_uri": "https://localhost:8080/"
        },
        "id": "xH4O3GATYP2Q",
        "outputId": "baab2474-a4b4-45e9-ddfe-7df6542d26ff"
      },
      "execution_count": 9,
      "outputs": [
        {
          "output_type": "execute_result",
          "data": {
            "text/plain": [
              "[1, 16, 25, 8100, 1156]"
            ]
          },
          "metadata": {},
          "execution_count": 9
        }
      ]
    },
    {
      "cell_type": "code",
      "source": [
        "num = [3, 1, 4, 1, 5,6,9,9,9,2] #get 2nd highest element\n",
        "\n",
        "num_set = set(num)\n",
        "num_set = list(num_set)\n",
        "num_set[-2]"
      ],
      "metadata": {
        "colab": {
          "base_uri": "https://localhost:8080/"
        },
        "id": "eliIQrpmYfeF",
        "outputId": "6b7d8c71-d758-44e5-f129-6819091ff7b2"
      },
      "execution_count": 18,
      "outputs": [
        {
          "output_type": "execute_result",
          "data": {
            "text/plain": [
              "6"
            ]
          },
          "metadata": {},
          "execution_count": 18
        }
      ]
    },
    {
      "cell_type": "code",
      "source": [
        "def second_highest(lst):\n",
        "  num_set = set(lst)\n",
        "  num_set = list(num_set)\n",
        "  max_num = num_set[-2]\n",
        "  return max_num"
      ],
      "metadata": {
        "id": "OnX-bqVgYuwV"
      },
      "execution_count": 21,
      "outputs": []
    },
    {
      "cell_type": "code",
      "source": [
        "x = 10\n",
        "y =12\n",
        "z = x+y"
      ],
      "metadata": {
        "colab": {
          "base_uri": "https://localhost:8080/"
        },
        "id": "xGaNgiwUZ2mb",
        "outputId": "37785d97-bf73-4c9b-b594-3d6b3059ef2d"
      },
      "execution_count": 20,
      "outputs": [
        {
          "output_type": "execute_result",
          "data": {
            "text/plain": [
              "22"
            ]
          },
          "metadata": {},
          "execution_count": 20
        }
      ]
    },
    {
      "cell_type": "code",
      "source": [
        "def sum(x,y):\n",
        "  z = x+y\n",
        "  return z\n",
        "\n",
        "\n",
        "sum = sum(10,12)\n",
        "sum"
      ],
      "metadata": {
        "colab": {
          "base_uri": "https://localhost:8080/"
        },
        "id": "1vmUPur2Z6W0",
        "outputId": "aedfd417-a487-44d8-e49f-e3d77edcfb2e"
      },
      "execution_count": 28,
      "outputs": [
        {
          "output_type": "execute_result",
          "data": {
            "text/plain": [
              "22"
            ]
          },
          "metadata": {},
          "execution_count": 28
        }
      ]
    },
    {
      "cell_type": "code",
      "source": [
        "del sum"
      ],
      "metadata": {
        "id": "R0D5XKjPbDjm"
      },
      "execution_count": 31,
      "outputs": []
    },
    {
      "cell_type": "code",
      "source": [
        "def sum1(x,y):\n",
        "  z = x+y\n",
        "  return x,y,z\n",
        "\n",
        "\n",
        "sum2 = sum1(10,12)\n",
        "sum2"
      ],
      "metadata": {
        "colab": {
          "base_uri": "https://localhost:8080/"
        },
        "id": "9aSiHlswakT8",
        "outputId": "a7fd04d3-f39f-475c-b4b6-79e95f2680af"
      },
      "execution_count": 32,
      "outputs": [
        {
          "output_type": "execute_result",
          "data": {
            "text/plain": [
              "(10, 12, 22)"
            ]
          },
          "metadata": {},
          "execution_count": 32
        }
      ]
    },
    {
      "cell_type": "code",
      "source": [
        "r,q,p = sum1(10,12)\n",
        "print(r)\n"
      ],
      "metadata": {
        "colab": {
          "base_uri": "https://localhost:8080/"
        },
        "id": "t7_f_Up8aRII",
        "outputId": "80574d89-0a15-465a-d8b0-2de0a0326432"
      },
      "execution_count": 38,
      "outputs": [
        {
          "output_type": "stream",
          "name": "stdout",
          "text": [
            "10\n"
          ]
        }
      ]
    },
    {
      "cell_type": "code",
      "source": [
        "p,q = sum1(10,12)\n",
        "print(p,q)"
      ],
      "metadata": {
        "colab": {
          "base_uri": "https://localhost:8080/",
          "height": 159
        },
        "id": "QqUiVjS9bWHZ",
        "outputId": "ba410480-1ab1-48d8-ef56-a8e5f99ed1c5"
      },
      "execution_count": 35,
      "outputs": [
        {
          "output_type": "error",
          "ename": "ValueError",
          "evalue": "too many values to unpack (expected 2)",
          "traceback": [
            "\u001b[0;31m---------------------------------------------------------------------------\u001b[0m",
            "\u001b[0;31mValueError\u001b[0m                                Traceback (most recent call last)",
            "\u001b[0;32m<ipython-input-35-d8b2c60598b9>\u001b[0m in \u001b[0;36m<cell line: 0>\u001b[0;34m()\u001b[0m\n\u001b[0;32m----> 1\u001b[0;31m \u001b[0mp\u001b[0m\u001b[0;34m,\u001b[0m\u001b[0mq\u001b[0m \u001b[0;34m=\u001b[0m \u001b[0msum1\u001b[0m\u001b[0;34m(\u001b[0m\u001b[0;36m10\u001b[0m\u001b[0;34m,\u001b[0m\u001b[0;36m12\u001b[0m\u001b[0;34m)\u001b[0m\u001b[0;34m\u001b[0m\u001b[0;34m\u001b[0m\u001b[0m\n\u001b[0m\u001b[1;32m      2\u001b[0m \u001b[0mprint\u001b[0m\u001b[0;34m(\u001b[0m\u001b[0mp\u001b[0m\u001b[0;34m,\u001b[0m\u001b[0mq\u001b[0m\u001b[0;34m)\u001b[0m\u001b[0;34m\u001b[0m\u001b[0;34m\u001b[0m\u001b[0m\n",
            "\u001b[0;31mValueError\u001b[0m: too many values to unpack (expected 2)"
          ]
        }
      ]
    },
    {
      "cell_type": "code",
      "source": [
        "p,*q = sum1(10,12) #--- 10,12,22\n",
        "print(\"p value is - \",p)\n",
        "print(\"q value is - \",q)"
      ],
      "metadata": {
        "colab": {
          "base_uri": "https://localhost:8080/"
        },
        "id": "bt5BUbGAbrcS",
        "outputId": "78796b78-0167-4856-9b97-d9206abc9660"
      },
      "execution_count": 41,
      "outputs": [
        {
          "output_type": "stream",
          "name": "stdout",
          "text": [
            "p value is -  10\n",
            "q value is -  [12, 22]\n"
          ]
        }
      ]
    },
    {
      "cell_type": "code",
      "source": [
        "def sum2(x,y,z,p):\n",
        "  summ = x+y+z+p\n",
        "  return x,y,z,p,summ"
      ],
      "metadata": {
        "id": "6a2xJeCbdSVn"
      },
      "execution_count": 44,
      "outputs": []
    },
    {
      "cell_type": "code",
      "source": [
        "sum1 = sum2(1,2,3,4)\n",
        "sum1"
      ],
      "metadata": {
        "colab": {
          "base_uri": "https://localhost:8080/"
        },
        "id": "VUNDxjODdhDO",
        "outputId": "fb7fad1d-0a3c-464f-ce43-8571a251293e"
      },
      "execution_count": 45,
      "outputs": [
        {
          "output_type": "execute_result",
          "data": {
            "text/plain": [
              "(1, 2, 3, 4, 10)"
            ]
          },
          "metadata": {},
          "execution_count": 45
        }
      ]
    },
    {
      "cell_type": "code",
      "source": [
        "a,s,d,f,g = sum2(1,2,3,4)\n",
        "print(\"a value is - \",a)\n",
        "print(\"s value is - \",s)\n",
        "print(\"d value is - \",d)\n",
        "print(\"f value is - \",f)\n",
        "print(\"g value is - \",g)"
      ],
      "metadata": {
        "colab": {
          "base_uri": "https://localhost:8080/"
        },
        "id": "l6GBGxNmdqm2",
        "outputId": "cfb02851-4a76-4d1f-8c4d-325da6dc0721"
      },
      "execution_count": 47,
      "outputs": [
        {
          "output_type": "stream",
          "name": "stdout",
          "text": [
            "a value is -  1\n",
            "s value is -  2\n",
            "d value is -  3\n",
            "f value is -  4\n",
            "g value is -  10\n"
          ]
        }
      ]
    },
    {
      "cell_type": "code",
      "source": [
        "a,s,g,*d = sum2(1,2,3,4)\n",
        "print(\"a value is - \",a)\n",
        "print(\"s value is - \",s)\n",
        "print(\"g value is - \",g)\n",
        "print(\"d value is - \",d)"
      ],
      "metadata": {
        "colab": {
          "base_uri": "https://localhost:8080/"
        },
        "id": "xrbXyXlud8FL",
        "outputId": "c2dc2e68-4c87-48e3-80d1-6f7dbbb49210"
      },
      "execution_count": 48,
      "outputs": [
        {
          "output_type": "stream",
          "name": "stdout",
          "text": [
            "a value is -  1\n",
            "s value is -  2\n",
            "g value is -  3\n",
            "d value is -  [4, 10]\n"
          ]
        }
      ]
    },
    {
      "cell_type": "code",
      "source": [
        "*a,s,d = sum2(1,2,3,4)\n",
        "print(\"a value is - \",a)\n",
        "print(\"s value is - \",s)\n",
        "print(\"d value is - \",d)"
      ],
      "metadata": {
        "colab": {
          "base_uri": "https://localhost:8080/"
        },
        "id": "a3rcUoxBeEzL",
        "outputId": "b9b248a4-5c2d-46d6-95a1-3f7d3763e292"
      },
      "execution_count": 49,
      "outputs": [
        {
          "output_type": "stream",
          "name": "stdout",
          "text": [
            "a value is -  [1, 2, 3]\n",
            "s value is -  4\n",
            "d value is -  10\n"
          ]
        }
      ]
    },
    {
      "cell_type": "code",
      "source": [
        "a,b,*s,d = sum2(1,2,3,4)\n",
        "print(\"a value is - \",a)\n",
        "print(\"b value is - \",b)\n",
        "print(\"s value is - \",s)\n",
        "print(\"d value is - \",d)"
      ],
      "metadata": {
        "colab": {
          "base_uri": "https://localhost:8080/"
        },
        "id": "DOgqyMAbejib",
        "outputId": "59547adb-4785-495e-ab09-ca5a8a4b1378"
      },
      "execution_count": 52,
      "outputs": [
        {
          "output_type": "stream",
          "name": "stdout",
          "text": [
            "a value is -  1\n",
            "b value is -  2\n",
            "s value is -  [3, 4]\n",
            "d value is -  10\n"
          ]
        }
      ]
    },
    {
      "cell_type": "code",
      "source": [
        "def sum2(x,y,z,p):\n",
        "  summ = x+y+z+p\n",
        "  return x,y,z,p,summ\n",
        "\n",
        "\n",
        "sum2(\"a\",\"b\")"
      ],
      "metadata": {
        "colab": {
          "base_uri": "https://localhost:8080/",
          "height": 141
        },
        "id": "2hte0-8TezuS",
        "outputId": "e9df7335-26dc-42fa-eaf6-5df671a4460d"
      },
      "execution_count": 53,
      "outputs": [
        {
          "output_type": "error",
          "ename": "TypeError",
          "evalue": "sum2() missing 2 required positional arguments: 'z' and 'p'",
          "traceback": [
            "\u001b[0;31m---------------------------------------------------------------------------\u001b[0m",
            "\u001b[0;31mTypeError\u001b[0m                                 Traceback (most recent call last)",
            "\u001b[0;32m<ipython-input-53-4b6684d7b6a1>\u001b[0m in \u001b[0;36m<cell line: 0>\u001b[0;34m()\u001b[0m\n\u001b[0;32m----> 1\u001b[0;31m \u001b[0msum2\u001b[0m\u001b[0;34m(\u001b[0m\u001b[0;34m\"a\"\u001b[0m\u001b[0;34m,\u001b[0m\u001b[0;34m\"b\"\u001b[0m\u001b[0;34m)\u001b[0m\u001b[0;34m\u001b[0m\u001b[0;34m\u001b[0m\u001b[0m\n\u001b[0m",
            "\u001b[0;31mTypeError\u001b[0m: sum2() missing 2 required positional arguments: 'z' and 'p'"
          ]
        }
      ]
    },
    {
      "cell_type": "code",
      "source": [
        "sum2(\"a\",\"b\",\"c\",\"d\")"
      ],
      "metadata": {
        "colab": {
          "base_uri": "https://localhost:8080/"
        },
        "id": "94ZijZ_5fPz-",
        "outputId": "cdce0a28-57ac-4f8a-f474-96b5e65e9596"
      },
      "execution_count": 54,
      "outputs": [
        {
          "output_type": "execute_result",
          "data": {
            "text/plain": [
              "('a', 'b', 'c', 'd', 'abcd')"
            ]
          },
          "metadata": {},
          "execution_count": 54
        }
      ]
    },
    {
      "cell_type": "code",
      "source": [
        "\"a\"+3"
      ],
      "metadata": {
        "colab": {
          "base_uri": "https://localhost:8080/",
          "height": 141
        },
        "id": "XxmpZ75jfmNO",
        "outputId": "f3e2678f-3eb8-4b64-9a7e-18a75705bdec"
      },
      "execution_count": 55,
      "outputs": [
        {
          "output_type": "error",
          "ename": "TypeError",
          "evalue": "can only concatenate str (not \"int\") to str",
          "traceback": [
            "\u001b[0;31m---------------------------------------------------------------------------\u001b[0m",
            "\u001b[0;31mTypeError\u001b[0m                                 Traceback (most recent call last)",
            "\u001b[0;32m<ipython-input-55-af9b345d2bab>\u001b[0m in \u001b[0;36m<cell line: 0>\u001b[0;34m()\u001b[0m\n\u001b[0;32m----> 1\u001b[0;31m \u001b[0;34m\"a\"\u001b[0m\u001b[0;34m+\u001b[0m\u001b[0;36m3\u001b[0m\u001b[0;34m\u001b[0m\u001b[0;34m\u001b[0m\u001b[0m\n\u001b[0m",
            "\u001b[0;31mTypeError\u001b[0m: can only concatenate str (not \"int\") to str"
          ]
        }
      ]
    },
    {
      "cell_type": "code",
      "source": [
        "sum2(\"a\",\"b\",\"c\",3)"
      ],
      "metadata": {
        "colab": {
          "base_uri": "https://localhost:8080/",
          "height": 228
        },
        "id": "okX0ELKPfd8_",
        "outputId": "dbf8ac8f-3795-46d8-df6a-32af9d627ac9"
      },
      "execution_count": 56,
      "outputs": [
        {
          "output_type": "error",
          "ename": "TypeError",
          "evalue": "can only concatenate str (not \"int\") to str",
          "traceback": [
            "\u001b[0;31m---------------------------------------------------------------------------\u001b[0m",
            "\u001b[0;31mTypeError\u001b[0m                                 Traceback (most recent call last)",
            "\u001b[0;32m<ipython-input-56-40b6935f54b5>\u001b[0m in \u001b[0;36m<cell line: 0>\u001b[0;34m()\u001b[0m\n\u001b[0;32m----> 1\u001b[0;31m \u001b[0msum2\u001b[0m\u001b[0;34m(\u001b[0m\u001b[0;34m\"a\"\u001b[0m\u001b[0;34m,\u001b[0m\u001b[0;34m\"b\"\u001b[0m\u001b[0;34m,\u001b[0m\u001b[0;34m\"c\"\u001b[0m\u001b[0;34m,\u001b[0m\u001b[0;36m3\u001b[0m\u001b[0;34m)\u001b[0m\u001b[0;34m\u001b[0m\u001b[0;34m\u001b[0m\u001b[0m\n\u001b[0m",
            "\u001b[0;32m<ipython-input-44-6c0ffd412639>\u001b[0m in \u001b[0;36msum2\u001b[0;34m(x, y, z, p)\u001b[0m\n\u001b[1;32m      1\u001b[0m \u001b[0;32mdef\u001b[0m \u001b[0msum2\u001b[0m\u001b[0;34m(\u001b[0m\u001b[0mx\u001b[0m\u001b[0;34m,\u001b[0m\u001b[0my\u001b[0m\u001b[0;34m,\u001b[0m\u001b[0mz\u001b[0m\u001b[0;34m,\u001b[0m\u001b[0mp\u001b[0m\u001b[0;34m)\u001b[0m\u001b[0;34m:\u001b[0m\u001b[0;34m\u001b[0m\u001b[0;34m\u001b[0m\u001b[0m\n\u001b[0;32m----> 2\u001b[0;31m   \u001b[0msumm\u001b[0m \u001b[0;34m=\u001b[0m \u001b[0mx\u001b[0m\u001b[0;34m+\u001b[0m\u001b[0my\u001b[0m\u001b[0;34m+\u001b[0m\u001b[0mz\u001b[0m\u001b[0;34m+\u001b[0m\u001b[0mp\u001b[0m\u001b[0;34m\u001b[0m\u001b[0;34m\u001b[0m\u001b[0m\n\u001b[0m\u001b[1;32m      3\u001b[0m   \u001b[0;32mreturn\u001b[0m \u001b[0mx\u001b[0m\u001b[0;34m,\u001b[0m\u001b[0my\u001b[0m\u001b[0;34m,\u001b[0m\u001b[0mz\u001b[0m\u001b[0;34m,\u001b[0m\u001b[0mp\u001b[0m\u001b[0;34m,\u001b[0m\u001b[0msumm\u001b[0m\u001b[0;34m\u001b[0m\u001b[0;34m\u001b[0m\u001b[0m\n",
            "\u001b[0;31mTypeError\u001b[0m: can only concatenate str (not \"int\") to str"
          ]
        }
      ]
    },
    {
      "cell_type": "code",
      "source": [
        "sum2(1,2)"
      ],
      "metadata": {
        "colab": {
          "base_uri": "https://localhost:8080/",
          "height": 141
        },
        "id": "04Z8NtJef8gi",
        "outputId": "f99c04c9-0e83-49b6-f57d-8e1a07d9bed8"
      },
      "execution_count": 57,
      "outputs": [
        {
          "output_type": "error",
          "ename": "TypeError",
          "evalue": "sum2() missing 2 required positional arguments: 'z' and 'p'",
          "traceback": [
            "\u001b[0;31m---------------------------------------------------------------------------\u001b[0m",
            "\u001b[0;31mTypeError\u001b[0m                                 Traceback (most recent call last)",
            "\u001b[0;32m<ipython-input-57-a3a0f4d47e96>\u001b[0m in \u001b[0;36m<cell line: 0>\u001b[0;34m()\u001b[0m\n\u001b[0;32m----> 1\u001b[0;31m \u001b[0msum2\u001b[0m\u001b[0;34m(\u001b[0m\u001b[0;36m1\u001b[0m\u001b[0;34m,\u001b[0m\u001b[0;36m2\u001b[0m\u001b[0;34m)\u001b[0m\u001b[0;34m\u001b[0m\u001b[0;34m\u001b[0m\u001b[0m\n\u001b[0m",
            "\u001b[0;31mTypeError\u001b[0m: sum2() missing 2 required positional arguments: 'z' and 'p'"
          ]
        }
      ]
    },
    {
      "cell_type": "code",
      "source": [
        "def sum2(x,y):\n",
        "  print(\"x value is - \",x)\n",
        "  print(\"y value is - \",y)\n",
        "  summ = x+y\n",
        "  return summ\n",
        "\n",
        "\n",
        "sum2(1,2)"
      ],
      "metadata": {
        "colab": {
          "base_uri": "https://localhost:8080/"
        },
        "id": "IrirPmSagBeg",
        "outputId": "5789c652-dbb8-4f4a-9fc5-700087fc7686"
      },
      "execution_count": 58,
      "outputs": [
        {
          "output_type": "stream",
          "name": "stdout",
          "text": [
            "x value is -  1\n",
            "y value is -  2\n"
          ]
        },
        {
          "output_type": "execute_result",
          "data": {
            "text/plain": [
              "3"
            ]
          },
          "metadata": {},
          "execution_count": 58
        }
      ]
    },
    {
      "cell_type": "code",
      "source": [
        "sum2(2,1)"
      ],
      "metadata": {
        "colab": {
          "base_uri": "https://localhost:8080/"
        },
        "id": "9d7ys3-KgiYX",
        "outputId": "53c1fd9d-b8d1-469e-e3fb-f8ff6d2e27a0"
      },
      "execution_count": 59,
      "outputs": [
        {
          "output_type": "stream",
          "name": "stdout",
          "text": [
            "x value is -  2\n",
            "y value is -  1\n"
          ]
        },
        {
          "output_type": "execute_result",
          "data": {
            "text/plain": [
              "3"
            ]
          },
          "metadata": {},
          "execution_count": 59
        }
      ]
    },
    {
      "cell_type": "code",
      "source": [
        "def sum3(x,y,z=10):\n",
        "  print(\"x value is - \",x)\n",
        "  print(\"y value is - \",y)\n",
        "  print(\"z value is - \",z)\n",
        "  summ = x+y+z\n",
        "  return summ\n",
        "\n",
        "\n",
        "sum3(1,2)"
      ],
      "metadata": {
        "colab": {
          "base_uri": "https://localhost:8080/"
        },
        "id": "34_nzJg-gjxQ",
        "outputId": "2d9e225a-0396-4d6b-d917-698ff967c1d3"
      },
      "execution_count": 60,
      "outputs": [
        {
          "output_type": "stream",
          "name": "stdout",
          "text": [
            "x value is -  1\n",
            "y value is -  2\n",
            "z value is -  10\n"
          ]
        },
        {
          "output_type": "execute_result",
          "data": {
            "text/plain": [
              "13"
            ]
          },
          "metadata": {},
          "execution_count": 60
        }
      ]
    },
    {
      "cell_type": "code",
      "source": [
        "sum3(1,2,12)"
      ],
      "metadata": {
        "colab": {
          "base_uri": "https://localhost:8080/"
        },
        "id": "oxC0HHKAg7_2",
        "outputId": "890ebbed-7547-4dec-9d79-0c22cd73b3b7"
      },
      "execution_count": 63,
      "outputs": [
        {
          "output_type": "stream",
          "name": "stdout",
          "text": [
            "x value is -  1\n",
            "y value is -  2\n",
            "z value is -  12\n"
          ]
        },
        {
          "output_type": "execute_result",
          "data": {
            "text/plain": [
              "15"
            ]
          },
          "metadata": {},
          "execution_count": 63
        }
      ]
    },
    {
      "cell_type": "code",
      "source": [
        "# *args **kwargs\n",
        "# higher order functions map\n",
        "# decorators\n",
        "\n"
      ],
      "metadata": {
        "id": "YXvZXCawhSK6"
      },
      "execution_count": null,
      "outputs": []
    }
  ]
}