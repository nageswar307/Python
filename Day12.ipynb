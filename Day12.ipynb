{
  "nbformat": 4,
  "nbformat_minor": 0,
  "metadata": {
    "colab": {
      "provenance": [],
      "authorship_tag": "ABX9TyPjFC9h6dyL41B7YTjsfyU6",
      "include_colab_link": true
    },
    "kernelspec": {
      "name": "python3",
      "display_name": "Python 3"
    },
    "language_info": {
      "name": "python"
    }
  },
  "cells": [
    {
      "cell_type": "markdown",
      "metadata": {
        "id": "view-in-github",
        "colab_type": "text"
      },
      "source": [
        "<a href=\"https://colab.research.google.com/github/nageswar307/Python/blob/main/Day12.ipynb\" target=\"_parent\"><img src=\"https://colab.research.google.com/assets/colab-badge.svg\" alt=\"Open In Colab\"/></a>"
      ]
    },
    {
      "cell_type": "code",
      "source": [
        "import re"
      ],
      "metadata": {
        "id": "D1VsJu6Txcw6"
      },
      "execution_count": 2,
      "outputs": []
    },
    {
      "cell_type": "code",
      "execution_count": null,
      "metadata": {
        "id": "rZjDJnG2rgsr"
      },
      "outputs": [],
      "source": [
        "# a{2}\n",
        "# []"
      ]
    },
    {
      "cell_type": "code",
      "source": [
        "txt = \"The rain in Spain\"\n",
        "x = re.findall(\"[a-g]\", txt)\n",
        "x"
      ],
      "metadata": {
        "colab": {
          "base_uri": "https://localhost:8080/"
        },
        "id": "wbHqKS_4w3tF",
        "outputId": "a5c7f3f5-3b69-4719-abe6-e0e1571ccc4d"
      },
      "execution_count": 8,
      "outputs": [
        {
          "output_type": "execute_result",
          "data": {
            "text/plain": [
              "['e', 'a', 'a']"
            ]
          },
          "metadata": {},
          "execution_count": 8
        }
      ]
    },
    {
      "cell_type": "code",
      "source": [
        "txt = \"The rain in Spain m\"\n",
        "x = re.findall(\"[am]\", txt)\n",
        "x"
      ],
      "metadata": {
        "colab": {
          "base_uri": "https://localhost:8080/"
        },
        "id": "RKPxItxFxsQY",
        "outputId": "98cfa5b3-4b03-4b9c-800e-e6c01ff9b7fa"
      },
      "execution_count": 9,
      "outputs": [
        {
          "output_type": "execute_result",
          "data": {
            "text/plain": [
              "['a', 'a', 'm']"
            ]
          },
          "metadata": {},
          "execution_count": 9
        }
      ]
    },
    {
      "cell_type": "code",
      "source": [
        "# [a-zA-Z0-9]"
      ],
      "metadata": {
        "id": "mT90w_ffx_4q"
      },
      "execution_count": null,
      "outputs": []
    },
    {
      "cell_type": "code",
      "source": [
        "txt = \"paidd23\"\n",
        "\n",
        "re.findall(\"dd\", txt)"
      ],
      "metadata": {
        "colab": {
          "base_uri": "https://localhost:8080/"
        },
        "id": "IFnvZlRNyNGc",
        "outputId": "742ac133-624b-41ae-e0f0-c2e7773300c5"
      },
      "execution_count": 15,
      "outputs": [
        {
          "output_type": "execute_result",
          "data": {
            "text/plain": [
              "['dd']"
            ]
          },
          "metadata": {},
          "execution_count": 15
        }
      ]
    },
    {
      "cell_type": "code",
      "source": [
        "txt = \"paidd23\"\n",
        "\n",
        "re.findall(\"\\d\", txt)"
      ],
      "metadata": {
        "colab": {
          "base_uri": "https://localhost:8080/"
        },
        "id": "QqgnlcroyiyC",
        "outputId": "3d220c5d-44b8-4670-daba-103b6bd25c2d"
      },
      "execution_count": 14,
      "outputs": [
        {
          "output_type": "execute_result",
          "data": {
            "text/plain": [
              "['2', '3']"
            ]
          },
          "metadata": {},
          "execution_count": 14
        }
      ]
    },
    {
      "cell_type": "code",
      "source": [
        "txt = \"paidd23 6 93 djbsjbnbs 5326 dfjnsjf67\"\n",
        "\n",
        "re.findall(\"\\d\", txt)"
      ],
      "metadata": {
        "colab": {
          "base_uri": "https://localhost:8080/"
        },
        "id": "L3FBJyxozkKZ",
        "outputId": "efb106cc-340f-4758-dbb6-0b0549d3760e"
      },
      "execution_count": 23,
      "outputs": [
        {
          "output_type": "execute_result",
          "data": {
            "text/plain": [
              "['2', '3', '6', '9', '3', '5', '3', '2', '6', '6', '7']"
            ]
          },
          "metadata": {},
          "execution_count": 23
        }
      ]
    },
    {
      "cell_type": "code",
      "source": [
        "txt = ''' Heat\n",
        "Present-day climate change includes both global warming—the ongoing increase in global average temperature—and its wider effects on Earth's climate. Climate change in a broader sense also includes previous long-term changes to Earth's climate. The current rise in global temperatures is driven by human activities, especially fossil fuel burning since the Industrial Revolution.[3][4] Fossil fuel use, deforestation, and some agricultural and industrial practices release greenhouse gases.[5] These gases absorb some of the heat that the Earth radiates after it warms from sunlight, warming the lower atmosphere. Carbon dioxide, the primary greenhouse gas driving global warming, has grown by about 50% and is at levels not seen for millions of years.[6]\n",
        "\n",
        "Climate change has an increasingly large impact on the environment. Deserts are expanding, while heat waves and wildfires are becoming more common.[7] Amplified warming in the Arctic has contributed to thawing permafrost, retreat of glaciers and sea ice decline.[8] Higher temperatures are also causing more intense storms, droughts, and other weather extremes.[9] Rapid environmental change in mountains, coral reefs, and the Arctic is forcing many species to relocate or become extinct.[10] Even if efforts to minimize future warming are successful, some effects will continue for centuries. These include ocean heating, ocean acidification and sea level rise.[11]\n",
        "\n",
        "Climate change threatens people with increased flooding, extreme heat, increased food and water scarcity, more disease, and economic loss. Human migration and conflict can also be a result.[12] The World Health Organization calls climate change one of the biggest threats to global health in the 21st century.[13] Societies and ecosystems will experience more severe risks without action to limit warming.[14] Adapting to climate change through efforts like flood control measures or drought-resistant crops partially reduces climate change risks, although some limits to adaptation have already been reached.[15] Poorer communities are responsible for a small share of global emissions, yet have the least ability to adapt and are most vulnerable to climate change.[16][17]\n",
        "\n",
        "Bobcat Fire in Monrovia, CA, September 10, 2020\n",
        "Bleached colony of Acropora coral\n",
        "A dry lakebed in California, which is experiencing its worst megadrought in 1,200 years.[18]\n",
        "Examples of some effects of climate change: Wildfire intensified by heat and drought, bleaching of corals occurring more often due to marine heatwaves, and worsening droughts compromising water supplies.\n",
        "Many climate change impacts have been observed in the first decades of the 21st century, with 2023 the warmest on record at +1.48 °C (2.66 °F) since regular tracking began in 1850.[19][20] Additional warming will increase these impacts and can trigger tipping points, such as melting all of the Greenland ice sheet.[21] Under the 2015 Paris Agreement, nations collectively agreed to keep warming \"well under 2 °C\". However, with pledges made under the Agreement, global warming would still reach about 2.8 °C (5.0 °F) by the end of the century.[22] Limiting warming to 1.5 °C would require halving emissions by 2030 and achieving net-zero emissions by 2050.[23][24]\n",
        "\n",
        "Fossil fuel use can be phased out by conserving energy and switching to energy sources that do not produce significant carbon pollution. These energy sources include wind, solar, hydro, and nuclear power.[25] Cleanly generated electricity can replace fossil fuels for powering transportation, heating buildings, and running industrial processes.[26] Carbon can also be removed from the atmosphere, for instance by increasing forest cover and farming with methods that capture carbon in soil.[27]\n",
        "\n",
        "Terminology\n",
        "Before the 1980s it was unclear whether the warming effect of increased greenhouse gases was stronger than the cooling effect of airborne particulates in air pollution. Scientists used the term inadvertent climate modification to refer to human impacts on the climate at this time.[28] In the 1980s, the terms global warming and climate change became more common, often being used interchangeably.[29][30][31] Scientifically, global warming refers only to increased surface warming, while climate change describes both global warming and its effects on Earth's climate system, such as precipitation changes.[28]\n",
        "\n",
        "Climate change can also be used more broadly to include changes to the climate that have happened throughout Earth's history.[32] Global warming—used as early as 1975[33]—became the more popular term after NASA climate scientist James Hansen used it in his 1988 testimony in the U.S. Senate.[34] Since the 2000s, climate change has increased usage.[35] Various scientists, politicians and media may use the terms climate crisis or climate emergency to talk about climate change, and may use the term global heating instead of global warming.[36][37]\n",
        "\n",
        "Global temperature rise\n",
        "Further information: Global surface temperature\n",
        "Temperatures prior to present-day global warming\n",
        "Main articles: Climate variability and change; Temperature record of the last 2,000 years; and Paleoclimatology\n",
        "\n",
        "Global surface temperature reconstruction over the last 2000 years using proxy data from tree rings, corals, and ice cores in blue.[38] Directly observed data is in red.[39]\n",
        "Over the last few million years the climate cycled through ice ages. One of the hotter periods was the Last Interglacial, around 125,000 years ago, where temperatures were between 0.5 °C and 1.5 °C warmer than before the start of global warming.[40] This period saw sea levels 5 to 10 metres higher than today. The most recent glacial maximum 20,000 years ago was some 5–7 °C colder. This period has sea levels that were over 125 metres (410 ft) lower than today.[41]\n",
        "\n",
        "Temperatures stabilized in the current interglacial period beginning 11,700 years ago.[42] This period also saw the start of agriculture.[43] Historical patterns of warming and cooling, like the Medieval Warm Period and the Little Ice Age, did not occur at the same time across different regions. Temperatures may have reached as high as those of the late 20th century in a limited set of regions.[44][45] Climate information for that period comes from climate proxies, such as trees and ice cores.[46][47]\n",
        "'''"
      ],
      "metadata": {
        "id": "ZsB_vGwwyrmC"
      },
      "execution_count": 19,
      "outputs": []
    },
    {
      "cell_type": "code",
      "source": [
        "re.findall(\"heat\",txt,re.IGNORECASE)"
      ],
      "metadata": {
        "colab": {
          "base_uri": "https://localhost:8080/"
        },
        "id": "SI79OBv1zBw2",
        "outputId": "a75c5acb-72f6-418d-c68d-b92da0d4d1b4"
      },
      "execution_count": 22,
      "outputs": [
        {
          "output_type": "execute_result",
          "data": {
            "text/plain": [
              "['Heat', 'heat', 'heat', 'heat', 'heat', 'heat', 'heat', 'heat', 'heat']"
            ]
          },
          "metadata": {},
          "execution_count": 22
        }
      ]
    },
    {
      "cell_type": "code",
      "source": [
        "txt = \"paidd23 6 93 djbsjbnbs 5326 dfjnsjf67\"\n",
        "\n",
        "re.findall(\"\\d+\", txt)"
      ],
      "metadata": {
        "colab": {
          "base_uri": "https://localhost:8080/"
        },
        "id": "YGC9Ub1bzve5",
        "outputId": "524cac2c-b0c7-4cf1-8bd3-2456867cc343"
      },
      "execution_count": 26,
      "outputs": [
        {
          "output_type": "execute_result",
          "data": {
            "text/plain": [
              "['23', '6', '93', '5326', '67']"
            ]
          },
          "metadata": {},
          "execution_count": 26
        }
      ]
    },
    {
      "cell_type": "code",
      "source": [
        "txt = \"aaaaaa abb cccc\"\n",
        "\n",
        "re.findall(\"a+\", txt)"
      ],
      "metadata": {
        "colab": {
          "base_uri": "https://localhost:8080/"
        },
        "id": "b9Sfch730kTh",
        "outputId": "b2a93d4b-bf86-4c38-fd72-821c99f3fe13"
      },
      "execution_count": 33,
      "outputs": [
        {
          "output_type": "execute_result",
          "data": {
            "text/plain": [
              "['aaaaaa', 'a']"
            ]
          },
          "metadata": {},
          "execution_count": 33
        }
      ]
    },
    {
      "cell_type": "code",
      "source": [
        "txt = \"paidd23 6 93 djbs456jbnbs 5326 dfjnsjfd67\"\n",
        "\n",
        "re.findall(\"[a-z]\\d+\", txt)"
      ],
      "metadata": {
        "colab": {
          "base_uri": "https://localhost:8080/"
        },
        "id": "pBubW6YM0Os2",
        "outputId": "62937d0b-0adb-4813-adb9-3b65a51a113c"
      },
      "execution_count": 30,
      "outputs": [
        {
          "output_type": "execute_result",
          "data": {
            "text/plain": [
              "['d23', 's456', 'd67']"
            ]
          },
          "metadata": {},
          "execution_count": 30
        }
      ]
    },
    {
      "cell_type": "code",
      "source": [
        "txt = \"hello world hel4o\"\n",
        "\n",
        "re.findall(\"hel.?o\",txt)"
      ],
      "metadata": {
        "colab": {
          "base_uri": "https://localhost:8080/"
        },
        "id": "ySMlADJr1EQp",
        "outputId": "156fc10d-f613-43e0-a886-059d61f2464d"
      },
      "execution_count": 41,
      "outputs": [
        {
          "output_type": "execute_result",
          "data": {
            "text/plain": [
              "['hello', 'hel4o']"
            ]
          },
          "metadata": {},
          "execution_count": 41
        }
      ]
    },
    {
      "cell_type": "code",
      "source": [
        "txt = \"flower flow\"\n",
        "\n",
        "re.findall(\"flow[a-zA-Z]*\",txt)"
      ],
      "metadata": {
        "colab": {
          "base_uri": "https://localhost:8080/"
        },
        "id": "v0erDEoO1_aC",
        "outputId": "4a0c15f2-aa13-442f-8488-f06fb4a4629c"
      },
      "execution_count": 48,
      "outputs": [
        {
          "output_type": "execute_result",
          "data": {
            "text/plain": [
              "['flower', 'flow']"
            ]
          },
          "metadata": {},
          "execution_count": 48
        }
      ]
    },
    {
      "cell_type": "code",
      "source": [
        "# \\w\n",
        "\n",
        "txt = \"paidd23 6 93 djb@s456jbnbs 5326 dfjnsjfd67\"\n",
        "\n",
        "re.findall(\"\\w+\", txt)\n"
      ],
      "metadata": {
        "colab": {
          "base_uri": "https://localhost:8080/"
        },
        "id": "3UoK-8Hw2K3B",
        "outputId": "8a6af38a-25db-4a2e-fffa-369161d0c4a9"
      },
      "execution_count": 53,
      "outputs": [
        {
          "output_type": "execute_result",
          "data": {
            "text/plain": [
              "['paidd23', '6', '93', 'djb', 's456jbnbs', '5326', 'dfjnsjfd67']"
            ]
          },
          "metadata": {},
          "execution_count": 53
        }
      ]
    },
    {
      "cell_type": "code",
      "source": [
        "txt = \"my phone number is +91 9493133961 +91 9494567891\"\n",
        "\n",
        "re.findall(\"\\+91\\s\\d{10}\",txt)"
      ],
      "metadata": {
        "colab": {
          "base_uri": "https://localhost:8080/"
        },
        "id": "MO_NcQ0P3wHN",
        "outputId": "7cd80662-4f11-492a-f455-360bb8023795"
      },
      "execution_count": 64,
      "outputs": [
        {
          "output_type": "execute_result",
          "data": {
            "text/plain": [
              "['+91 9493133961', '+91 9494567891']"
            ]
          },
          "metadata": {},
          "execution_count": 64
        }
      ]
    },
    {
      "cell_type": "code",
      "source": [
        "txt = \"my phone number is +91 949313396901 +91 9494567891\"\n",
        "\n",
        "re.findall(\"\\+91\\s\\d+\",txt)"
      ],
      "metadata": {
        "colab": {
          "base_uri": "https://localhost:8080/"
        },
        "id": "kvZdykLN40n4",
        "outputId": "e77a2128-9a36-429d-ea5f-8f613d4cea1e"
      },
      "execution_count": 63,
      "outputs": [
        {
          "output_type": "execute_result",
          "data": {
            "text/plain": [
              "['+91 949313396901', '+91 9494567891']"
            ]
          },
          "metadata": {},
          "execution_count": 63
        }
      ]
    },
    {
      "cell_type": "code",
      "source": [
        "txt = \"my phone number is +91        9493133961 +91 9494567891 +919494567891\"\n",
        "\n",
        "re.findall(\"\\+91\\s*\\d{10}\",txt)"
      ],
      "metadata": {
        "colab": {
          "base_uri": "https://localhost:8080/"
        },
        "id": "8aoWB6Zd49QS",
        "outputId": "70096e4a-c2b5-49ad-9cd0-c0929a19ffdf"
      },
      "execution_count": 68,
      "outputs": [
        {
          "output_type": "execute_result",
          "data": {
            "text/plain": [
              "['+91        9493133961', '+91 9494567891', '+919494567891']"
            ]
          },
          "metadata": {},
          "execution_count": 68
        }
      ]
    },
    {
      "cell_type": "code",
      "source": [
        "txt = \"ip address is 192.158.1.42\"\n",
        "\n",
        "re.findall(r\"\\d{3}\\.\\d{3}\\.\\d{1}\\.\\d+\",txt)"
      ],
      "metadata": {
        "colab": {
          "base_uri": "https://localhost:8080/"
        },
        "id": "gP5U-_pN5YDZ",
        "outputId": "77bd0cd7-57e2-44ad-d7e1-cc7ddca5ab8e"
      },
      "execution_count": 73,
      "outputs": [
        {
          "output_type": "execute_result",
          "data": {
            "text/plain": [
              "['192.158.1.42']"
            ]
          },
          "metadata": {},
          "execution_count": 73
        }
      ]
    },
    {
      "cell_type": "code",
      "source": [
        "txt = \"ip address is 192q158q1#42\"\n",
        "\n",
        "re.findall(r\"\\d{3}.\\d{3}.\\d{1}.\\d+\",txt)"
      ],
      "metadata": {
        "colab": {
          "base_uri": "https://localhost:8080/"
        },
        "id": "iRQlokGR6TO8",
        "outputId": "a6cd8088-232b-4be3-8a7d-0810cf1ad494"
      },
      "execution_count": 75,
      "outputs": [
        {
          "output_type": "execute_result",
          "data": {
            "text/plain": [
              "['192q158q1#42']"
            ]
          },
          "metadata": {},
          "execution_count": 75
        }
      ]
    },
    {
      "cell_type": "code",
      "source": [
        "txt = \"ip address is 192.158.100.42355  hfhfghngf\"\n",
        "\n",
        "re.findall(r\"\\d{3}\\.\\d{3}\\.\\d{1,3}\\.\\d{2,4}\\b\",txt)"
      ],
      "metadata": {
        "colab": {
          "base_uri": "https://localhost:8080/"
        },
        "id": "43QtrQFu64gX",
        "outputId": "a28bf44c-ce1d-45a4-d56c-0156e5976796"
      },
      "execution_count": 95,
      "outputs": [
        {
          "output_type": "execute_result",
          "data": {
            "text/plain": [
              "[]"
            ]
          },
          "metadata": {},
          "execution_count": 95
        }
      ]
    },
    {
      "cell_type": "code",
      "source": [
        "txt = \"AI/ML is fun!\"\n",
        "\n",
        "re.findall(r\"\\w+\",txt)"
      ],
      "metadata": {
        "colab": {
          "base_uri": "https://localhost:8080/"
        },
        "id": "BAUxVcY0_QkT",
        "outputId": "f7e96ad3-c230-4584-9fb4-574d43e5c26b"
      },
      "execution_count": 97,
      "outputs": [
        {
          "output_type": "execute_result",
          "data": {
            "text/plain": [
              "['AI', 'ML', 'is', 'fun']"
            ]
          },
          "metadata": {},
          "execution_count": 97
        }
      ]
    },
    {
      "cell_type": "code",
      "source": [
        "text = \"The cat# is sitting with a category of caterpillars.\" # it will capture only if cat is followed  by  non word characters i.e anything excpet a-z 0-9\n",
        "pattern = r\"\\bcat\\b\"\n",
        "\n",
        "match = re.findall(pattern, text)\n",
        "print(match)\n"
      ],
      "metadata": {
        "colab": {
          "base_uri": "https://localhost:8080/"
        },
        "id": "LB3NiKwCAp1Z",
        "outputId": "2c2c019c-cf41-4552-dbf3-27e998da0c35"
      },
      "execution_count": 105,
      "outputs": [
        {
          "output_type": "stream",
          "name": "stdout",
          "text": [
            "['cat']\n"
          ]
        }
      ]
    },
    {
      "cell_type": "code",
      "source": [
        "txt = \"Today is 5/23/2025 and tomorrow is 06-01-2025\" #dates are in dd/mm/yyyy format\n",
        "\n",
        "re.findall(r\"\\d{1,2}[/-]\\d{1,2}[-/]\\d{4}\",txt)"
      ],
      "metadata": {
        "colab": {
          "base_uri": "https://localhost:8080/"
        },
        "id": "g1bY-dyABrzv",
        "outputId": "4e2e294e-6fb4-46f7-fc64-a06730282395"
      },
      "execution_count": 117,
      "outputs": [
        {
          "output_type": "execute_result",
          "data": {
            "text/plain": [
              "['5/23/2025', '06-01-2025']"
            ]
          },
          "metadata": {},
          "execution_count": 117
        }
      ]
    },
    {
      "cell_type": "code",
      "source": [
        "txt = \"Today is 5675/23/2025 and tomorrow is 06-01-2025\"  #dates are in dd/mm/yyyy format\n",
        "\n",
        "re.findall(r\"[0-9]+[/-][0-9]+[/-]\\d{4}\",txt)"
      ],
      "metadata": {
        "colab": {
          "base_uri": "https://localhost:8080/"
        },
        "id": "_d2MwFEGDVQa",
        "outputId": "d6d295ba-bd24-4768-84ee-20fd5a44dec1"
      },
      "execution_count": 123,
      "outputs": [
        {
          "output_type": "execute_result",
          "data": {
            "text/plain": [
              "['5675/23/2025', '06-01-2025']"
            ]
          },
          "metadata": {},
          "execution_count": 123
        }
      ]
    },
    {
      "cell_type": "code",
      "source": [
        "[0-9]"
      ],
      "metadata": {
        "id": "EFEJB-7XEr8U"
      },
      "execution_count": null,
      "outputs": []
    },
    {
      "cell_type": "code",
      "source": [],
      "metadata": {
        "id": "zPv75sMLFqNu"
      },
      "execution_count": null,
      "outputs": []
    },
    {
      "cell_type": "code",
      "source": [],
      "metadata": {
        "id": "TOZ2WhbKF21_"
      },
      "execution_count": null,
      "outputs": []
    },
    {
      "cell_type": "markdown",
      "source": [
        "## lists"
      ],
      "metadata": {
        "id": "UXaWh_8FGENY"
      }
    },
    {
      "cell_type": "code",
      "source": [
        "list1 = [\"abc\",123,12.89,1+3j, [1,23,45],{\"name\":\"abc\"}]\n",
        "# heterogenous collection of items\n",
        "# mutable\n",
        "# iterable\n",
        "# ordered"
      ],
      "metadata": {
        "id": "NIvKQkGOGGVl"
      },
      "execution_count": 124,
      "outputs": []
    },
    {
      "cell_type": "code",
      "source": [
        "list1[0] = \"hgf\" #mutable"
      ],
      "metadata": {
        "id": "GI4B4Dx1G6TZ"
      },
      "execution_count": 126,
      "outputs": []
    },
    {
      "cell_type": "code",
      "source": [
        "list1"
      ],
      "metadata": {
        "colab": {
          "base_uri": "https://localhost:8080/"
        },
        "id": "ilNu5N1LHEIs",
        "outputId": "56d339dd-76a0-4ea0-802b-11facd397a69"
      },
      "execution_count": 127,
      "outputs": [
        {
          "output_type": "execute_result",
          "data": {
            "text/plain": [
              "['hgf', 123, 12.89, (1+3j), [1, 23, 45], {'name': 'abc'}]"
            ]
          },
          "metadata": {},
          "execution_count": 127
        }
      ]
    },
    {
      "cell_type": "code",
      "source": [
        "string = \"abc\""
      ],
      "metadata": {
        "id": "EZCjRQqzHHf4"
      },
      "execution_count": 128,
      "outputs": []
    },
    {
      "cell_type": "code",
      "source": [
        "string[0]"
      ],
      "metadata": {
        "colab": {
          "base_uri": "https://localhost:8080/",
          "height": 35
        },
        "id": "jOoC6Q71HLAW",
        "outputId": "ee5600db-a1d5-44a0-d78a-20fcadbb3d16"
      },
      "execution_count": 129,
      "outputs": [
        {
          "output_type": "execute_result",
          "data": {
            "text/plain": [
              "'a'"
            ],
            "application/vnd.google.colaboratory.intrinsic+json": {
              "type": "string"
            }
          },
          "metadata": {},
          "execution_count": 129
        }
      ]
    },
    {
      "cell_type": "code",
      "source": [
        "string[0] = \"d\" #immutable"
      ],
      "metadata": {
        "colab": {
          "base_uri": "https://localhost:8080/",
          "height": 141
        },
        "id": "syJ7tA-SHNMm",
        "outputId": "47d48591-0b48-4cd4-8d1d-2830be87a570"
      },
      "execution_count": 131,
      "outputs": [
        {
          "output_type": "error",
          "ename": "TypeError",
          "evalue": "'str' object does not support item assignment",
          "traceback": [
            "\u001b[0;31m---------------------------------------------------------------------------\u001b[0m",
            "\u001b[0;31mTypeError\u001b[0m                                 Traceback (most recent call last)",
            "\u001b[0;32m<ipython-input-131-dd6d4b41f374>\u001b[0m in \u001b[0;36m<cell line: 1>\u001b[0;34m()\u001b[0m\n\u001b[0;32m----> 1\u001b[0;31m \u001b[0mstring\u001b[0m\u001b[0;34m[\u001b[0m\u001b[0;36m0\u001b[0m\u001b[0;34m]\u001b[0m \u001b[0;34m=\u001b[0m \u001b[0;34m\"d\"\u001b[0m\u001b[0;34m\u001b[0m\u001b[0;34m\u001b[0m\u001b[0m\n\u001b[0m",
            "\u001b[0;31mTypeError\u001b[0m: 'str' object does not support item assignment"
          ]
        }
      ]
    },
    {
      "cell_type": "code",
      "source": [
        "# iterable\n",
        "\n",
        "for item in list1:\n",
        "  print(item)"
      ],
      "metadata": {
        "colab": {
          "base_uri": "https://localhost:8080/"
        },
        "id": "P0fVcSCHHcQf",
        "outputId": "f9ae7981-4fb6-4980-a528-de246d3e82d1"
      },
      "execution_count": 132,
      "outputs": [
        {
          "output_type": "stream",
          "name": "stdout",
          "text": [
            "hgf\n",
            "123\n",
            "12.89\n",
            "(1+3j)\n",
            "[1, 23, 45]\n",
            "{'name': 'abc'}\n"
          ]
        }
      ]
    },
    {
      "cell_type": "code",
      "source": [
        "set1 = {1,2,3,4}\n",
        "\n",
        "set1[0]"
      ],
      "metadata": {
        "colab": {
          "base_uri": "https://localhost:8080/",
          "height": 176
        },
        "id": "qVLVyAUNHlUE",
        "outputId": "d21b5620-a2ec-4d80-ea19-e42eed14566f"
      },
      "execution_count": 140,
      "outputs": [
        {
          "output_type": "error",
          "ename": "TypeError",
          "evalue": "'set' object is not subscriptable",
          "traceback": [
            "\u001b[0;31m---------------------------------------------------------------------------\u001b[0m",
            "\u001b[0;31mTypeError\u001b[0m                                 Traceback (most recent call last)",
            "\u001b[0;32m<ipython-input-140-ed811c735845>\u001b[0m in \u001b[0;36m<cell line: 3>\u001b[0;34m()\u001b[0m\n\u001b[1;32m      1\u001b[0m \u001b[0mset1\u001b[0m \u001b[0;34m=\u001b[0m \u001b[0;34m{\u001b[0m\u001b[0;36m1\u001b[0m\u001b[0;34m,\u001b[0m\u001b[0;36m2\u001b[0m\u001b[0;34m,\u001b[0m\u001b[0;36m3\u001b[0m\u001b[0;34m,\u001b[0m\u001b[0;36m4\u001b[0m\u001b[0;34m}\u001b[0m\u001b[0;34m\u001b[0m\u001b[0;34m\u001b[0m\u001b[0m\n\u001b[1;32m      2\u001b[0m \u001b[0;34m\u001b[0m\u001b[0m\n\u001b[0;32m----> 3\u001b[0;31m \u001b[0mset1\u001b[0m\u001b[0;34m[\u001b[0m\u001b[0;36m0\u001b[0m\u001b[0;34m]\u001b[0m\u001b[0;34m\u001b[0m\u001b[0;34m\u001b[0m\u001b[0m\n\u001b[0m",
            "\u001b[0;31mTypeError\u001b[0m: 'set' object is not subscriptable"
          ]
        }
      ]
    },
    {
      "cell_type": "code",
      "source": [
        "{1,2,3,4} == {2,3,1,4}"
      ],
      "metadata": {
        "colab": {
          "base_uri": "https://localhost:8080/"
        },
        "id": "bxNUBkAMIV2m",
        "outputId": "d305050f-d3a0-4df6-9631-10dea7c366e4"
      },
      "execution_count": 141,
      "outputs": [
        {
          "output_type": "execute_result",
          "data": {
            "text/plain": [
              "True"
            ]
          },
          "metadata": {},
          "execution_count": 141
        }
      ]
    },
    {
      "cell_type": "code",
      "source": [
        "[1,2,3,4] == [2,3,1,4]"
      ],
      "metadata": {
        "colab": {
          "base_uri": "https://localhost:8080/"
        },
        "id": "Hel4TXstIeVd",
        "outputId": "3d741f21-10c1-42be-8d3f-d9e43640249d"
      },
      "execution_count": 142,
      "outputs": [
        {
          "output_type": "execute_result",
          "data": {
            "text/plain": [
              "False"
            ]
          },
          "metadata": {},
          "execution_count": 142
        }
      ]
    },
    {
      "cell_type": "markdown",
      "source": [
        "## Indexing and Slicing"
      ],
      "metadata": {
        "id": "szQO0K2ZHnRr"
      }
    },
    {
      "cell_type": "code",
      "source": [
        "lst = [1,2,3,4,5,6,7]"
      ],
      "metadata": {
        "id": "VoM_fi5kHplE"
      },
      "execution_count": 137,
      "outputs": []
    },
    {
      "cell_type": "code",
      "source": [
        "lst[2]"
      ],
      "metadata": {
        "colab": {
          "base_uri": "https://localhost:8080/"
        },
        "id": "DiiEI8qsIFrz",
        "outputId": "a7a2be5f-fca3-4ab0-a652-1ce30baf5258"
      },
      "execution_count": 139,
      "outputs": [
        {
          "output_type": "execute_result",
          "data": {
            "text/plain": [
              "3"
            ]
          },
          "metadata": {},
          "execution_count": 139
        }
      ]
    },
    {
      "cell_type": "code",
      "source": [
        "# lst[start:end:step]\n",
        "\n",
        "lst[0:3]"
      ],
      "metadata": {
        "colab": {
          "base_uri": "https://localhost:8080/"
        },
        "id": "qu-jTvWhIG5-",
        "outputId": "b47d11d8-2047-45b1-9236-e66dcad04b4d"
      },
      "execution_count": 143,
      "outputs": [
        {
          "output_type": "execute_result",
          "data": {
            "text/plain": [
              "[1, 2, 3]"
            ]
          },
          "metadata": {},
          "execution_count": 143
        }
      ]
    },
    {
      "cell_type": "code",
      "source": [
        "lst[0:7:2]"
      ],
      "metadata": {
        "colab": {
          "base_uri": "https://localhost:8080/"
        },
        "id": "KT0eOXdZI5fY",
        "outputId": "5a8df27a-6dad-4039-90d9-b817c3f3c68e"
      },
      "execution_count": 144,
      "outputs": [
        {
          "output_type": "execute_result",
          "data": {
            "text/plain": [
              "[1, 3, 5, 7]"
            ]
          },
          "metadata": {},
          "execution_count": 144
        }
      ]
    },
    {
      "cell_type": "code",
      "source": [],
      "metadata": {
        "id": "QsbX-M8GI-Hi"
      },
      "execution_count": null,
      "outputs": []
    },
    {
      "cell_type": "code",
      "source": [],
      "metadata": {
        "id": "hjTIdupEJCjY"
      },
      "execution_count": null,
      "outputs": []
    },
    {
      "cell_type": "markdown",
      "source": [
        "## list methods"
      ],
      "metadata": {
        "id": "vfAdQIVXJGqG"
      }
    },
    {
      "cell_type": "code",
      "source": [
        "lst = [1,2,3,4]\n",
        "lst1 = [4,5]\n",
        "\n",
        "# lst.extend(lst1)"
      ],
      "metadata": {
        "id": "aAglmADIJIb-"
      },
      "execution_count": 8,
      "outputs": []
    },
    {
      "cell_type": "markdown",
      "source": [],
      "metadata": {
        "id": "_cr3QDJMKr6H"
      }
    },
    {
      "cell_type": "code",
      "source": [
        "# del lst\n",
        "# del lst1"
      ],
      "metadata": {
        "id": "5xyQMvLbKI3j"
      },
      "execution_count": 160,
      "outputs": []
    },
    {
      "cell_type": "code",
      "source": [
        "lst+lst1"
      ],
      "metadata": {
        "colab": {
          "base_uri": "https://localhost:8080/"
        },
        "id": "ZLo6U91fKBSG",
        "outputId": "08e8a078-3ee3-4846-d65b-d021ca4256b9"
      },
      "execution_count": 3,
      "outputs": [
        {
          "output_type": "execute_result",
          "data": {
            "text/plain": [
              "[1, 2, 3, 4, 4, 5]"
            ]
          },
          "metadata": {},
          "execution_count": 3
        }
      ]
    },
    {
      "cell_type": "code",
      "source": [
        "lst.append(lst1)\n",
        "print(lst)"
      ],
      "metadata": {
        "colab": {
          "base_uri": "https://localhost:8080/"
        },
        "id": "ny3OQiJhJcbe",
        "outputId": "98a7311a-6eac-4246-d448-1679e864f80a"
      },
      "execution_count": 10,
      "outputs": [
        {
          "output_type": "stream",
          "name": "stdout",
          "text": [
            "[1, 2, 3, 4, [4, 5], [4, 5]]\n"
          ]
        }
      ]
    },
    {
      "cell_type": "code",
      "source": [
        "lst = [1,2,3,4]\n",
        "lst1 = [4,5]\n",
        "\n",
        "lst.extend(lst1)\n",
        "lst"
      ],
      "metadata": {
        "colab": {
          "base_uri": "https://localhost:8080/"
        },
        "id": "PB9Zwj70KiDF",
        "outputId": "2c1e0197-0cc4-411b-b8f3-823c866185af"
      },
      "execution_count": 13,
      "outputs": [
        {
          "output_type": "execute_result",
          "data": {
            "text/plain": [
              "[1, 2, 3, 4, 4, 5]"
            ]
          },
          "metadata": {},
          "execution_count": 13
        }
      ]
    },
    {
      "cell_type": "code",
      "source": [
        "# def modify_list(list1):\n",
        "#   list1.append(100)\n",
        "#   return None"
      ],
      "metadata": {
        "id": "K-YEwmorL24q"
      },
      "execution_count": 16,
      "outputs": []
    },
    {
      "cell_type": "code",
      "source": [
        "# x = modify_list(lst)"
      ],
      "metadata": {
        "id": "uGsxhvkcMyI5"
      },
      "execution_count": 17,
      "outputs": []
    },
    {
      "cell_type": "code",
      "source": [
        "lst = [1,2,3,4]\n",
        "\n",
        "lst.insert(2,100)\n",
        "lst"
      ],
      "metadata": {
        "colab": {
          "base_uri": "https://localhost:8080/"
        },
        "id": "JPDZDqIWMbCt",
        "outputId": "50838914-37b4-4b5b-c718-daddb8b04886"
      },
      "execution_count": 19,
      "outputs": [
        {
          "output_type": "execute_result",
          "data": {
            "text/plain": [
              "[1, 2, 100, 3, 4]"
            ]
          },
          "metadata": {},
          "execution_count": 19
        }
      ]
    },
    {
      "cell_type": "code",
      "source": [
        "lst.remove(100)"
      ],
      "metadata": {
        "id": "zyYXROL5NRiF"
      },
      "execution_count": 20,
      "outputs": []
    },
    {
      "cell_type": "code",
      "source": [
        "lst = [1, 2, 100, 3, 4,100]\n",
        "lst.remove(100)\n",
        "lst"
      ],
      "metadata": {
        "colab": {
          "base_uri": "https://localhost:8080/"
        },
        "id": "nGKxEUcMNa8m",
        "outputId": "1ce2b08d-0781-4c1f-a2bc-32967c9ad06e"
      },
      "execution_count": 23,
      "outputs": [
        {
          "output_type": "execute_result",
          "data": {
            "text/plain": [
              "[1, 2, 3, 4, 100]"
            ]
          },
          "metadata": {},
          "execution_count": 23
        }
      ]
    },
    {
      "cell_type": "code",
      "source": [
        "lst = [1,2,3,4]\n",
        "\n",
        "lst.append({5,6,7})\n",
        "lst"
      ],
      "metadata": {
        "colab": {
          "base_uri": "https://localhost:8080/"
        },
        "id": "o0ZIocCuNmXP",
        "outputId": "da9ecab8-077f-4ea8-b536-365984687b45"
      },
      "execution_count": 29,
      "outputs": [
        {
          "output_type": "execute_result",
          "data": {
            "text/plain": [
              "[1, 2, 3, 4, {5, 6, 7}]"
            ]
          },
          "metadata": {},
          "execution_count": 29
        }
      ]
    },
    {
      "cell_type": "code",
      "source": [
        "lst = [1,2,3,4]\n",
        "\n",
        "lst.extend({'a':1,'b':2})\n",
        "lst"
      ],
      "metadata": {
        "colab": {
          "base_uri": "https://localhost:8080/"
        },
        "id": "wWi81LhcN46x",
        "outputId": "dcf48f54-71ac-4138-983b-038cfd2380a9"
      },
      "execution_count": 32,
      "outputs": [
        {
          "output_type": "execute_result",
          "data": {
            "text/plain": [
              "[1, 2, 3, 4, 'a', 'b']"
            ]
          },
          "metadata": {},
          "execution_count": 32
        }
      ]
    },
    {
      "cell_type": "code",
      "source": [],
      "metadata": {
        "id": "oxMvHzgUOREV"
      },
      "execution_count": null,
      "outputs": []
    },
    {
      "cell_type": "code",
      "source": [
        "lst = [1,2,3,4,2,2]\n"
      ],
      "metadata": {
        "id": "bT6ZT5cFOW8c"
      },
      "execution_count": 35,
      "outputs": []
    },
    {
      "cell_type": "code",
      "source": [
        "lst.count(2)"
      ],
      "metadata": {
        "colab": {
          "base_uri": "https://localhost:8080/"
        },
        "id": "dVbNJ3f_O69G",
        "outputId": "803ce46a-d8ab-433c-a621-c143a061eb5f"
      },
      "execution_count": 36,
      "outputs": [
        {
          "output_type": "execute_result",
          "data": {
            "text/plain": [
              "3"
            ]
          },
          "metadata": {},
          "execution_count": 36
        }
      ]
    },
    {
      "cell_type": "code",
      "source": [
        "lst.index(3)"
      ],
      "metadata": {
        "colab": {
          "base_uri": "https://localhost:8080/"
        },
        "id": "hDm-5LtRPCdm",
        "outputId": "3c6135fe-a00a-4bab-97ed-98ec04585c22"
      },
      "execution_count": 37,
      "outputs": [
        {
          "output_type": "execute_result",
          "data": {
            "text/plain": [
              "2"
            ]
          },
          "metadata": {},
          "execution_count": 37
        }
      ]
    },
    {
      "cell_type": "code",
      "source": [
        "lst.sort()\n",
        "lst"
      ],
      "metadata": {
        "colab": {
          "base_uri": "https://localhost:8080/"
        },
        "id": "0MXzASbmPHmM",
        "outputId": "0ce958f8-f2da-4ac8-d45b-0c690df783cf"
      },
      "execution_count": 41,
      "outputs": [
        {
          "output_type": "execute_result",
          "data": {
            "text/plain": [
              "[1, 2, 2, 2, 3, 4]"
            ]
          },
          "metadata": {},
          "execution_count": 41
        }
      ]
    },
    {
      "cell_type": "code",
      "source": [
        "lst = [1,2,3,4,2,2]\n",
        "\n",
        "sorted_lst = sorted(lst)\n",
        "sorted_lst"
      ],
      "metadata": {
        "colab": {
          "base_uri": "https://localhost:8080/"
        },
        "id": "NXbVQW2gPYjS",
        "outputId": "c87b9264-c408-4a05-c610-1466b88cd500"
      },
      "execution_count": 44,
      "outputs": [
        {
          "output_type": "execute_result",
          "data": {
            "text/plain": [
              "[1, 2, 2, 2, 3, 4]"
            ]
          },
          "metadata": {},
          "execution_count": 44
        }
      ]
    },
    {
      "cell_type": "code",
      "source": [
        "lst"
      ],
      "metadata": {
        "colab": {
          "base_uri": "https://localhost:8080/"
        },
        "id": "FRbqZ_o1PhMh",
        "outputId": "b372e06a-3326-4dec-9bc5-e860357e54f6"
      },
      "execution_count": 43,
      "outputs": [
        {
          "output_type": "execute_result",
          "data": {
            "text/plain": [
              "[1, 2, 3, 4, 2, 2]"
            ]
          },
          "metadata": {},
          "execution_count": 43
        }
      ]
    },
    {
      "cell_type": "code",
      "source": [
        "lst = [1,2,3,4,2,2]\n"
      ],
      "metadata": {
        "id": "TFHt8eJ6PiHq"
      },
      "execution_count": 45,
      "outputs": []
    },
    {
      "cell_type": "code",
      "source": [
        "lst.pop()"
      ],
      "metadata": {
        "colab": {
          "base_uri": "https://localhost:8080/"
        },
        "id": "dV1nIEJLPtEH",
        "outputId": "e6538aaf-5ae5-4f7e-998e-a163d62e59dc"
      },
      "execution_count": 46,
      "outputs": [
        {
          "output_type": "execute_result",
          "data": {
            "text/plain": [
              "2"
            ]
          },
          "metadata": {},
          "execution_count": 46
        }
      ]
    },
    {
      "cell_type": "code",
      "source": [
        "lst.pop(2)"
      ],
      "metadata": {
        "colab": {
          "base_uri": "https://localhost:8080/"
        },
        "id": "uz2DxF-6PxXW",
        "outputId": "cc769284-7f90-432f-b76f-3621fbcc6514"
      },
      "execution_count": 47,
      "outputs": [
        {
          "output_type": "execute_result",
          "data": {
            "text/plain": [
              "3"
            ]
          },
          "metadata": {},
          "execution_count": 47
        }
      ]
    },
    {
      "cell_type": "code",
      "source": [
        "lst"
      ],
      "metadata": {
        "colab": {
          "base_uri": "https://localhost:8080/"
        },
        "id": "o7HERaOXQQQz",
        "outputId": "f8bb4949-14dd-4542-ea05-914690b81569"
      },
      "execution_count": 48,
      "outputs": [
        {
          "output_type": "execute_result",
          "data": {
            "text/plain": [
              "[1, 2, 4, 2]"
            ]
          },
          "metadata": {},
          "execution_count": 48
        }
      ]
    },
    {
      "cell_type": "code",
      "source": [
        "help(lst.pop)"
      ],
      "metadata": {
        "colab": {
          "base_uri": "https://localhost:8080/"
        },
        "id": "r7CQAzKbQUDb",
        "outputId": "dcaa8d13-55ed-429b-b546-9bb51cc7e26f"
      },
      "execution_count": 49,
      "outputs": [
        {
          "output_type": "stream",
          "name": "stdout",
          "text": [
            "Help on built-in function pop:\n",
            "\n",
            "pop(index=-1, /) method of builtins.list instance\n",
            "    Remove and return item at index (default last).\n",
            "    \n",
            "    Raises IndexError if list is empty or index is out of range.\n",
            "\n"
          ]
        }
      ]
    },
    {
      "cell_type": "code",
      "source": [
        "lst.pop()"
      ],
      "metadata": {
        "colab": {
          "base_uri": "https://localhost:8080/"
        },
        "id": "rEQYXdHZQlUc",
        "outputId": "5417a18b-cb66-4dbd-aac9-0d4fbc8f3da3"
      },
      "execution_count": 50,
      "outputs": [
        {
          "output_type": "execute_result",
          "data": {
            "text/plain": [
              "['__add__',\n",
              " '__class__',\n",
              " '__class_getitem__',\n",
              " '__contains__',\n",
              " '__delattr__',\n",
              " '__delitem__',\n",
              " '__dir__',\n",
              " '__doc__',\n",
              " '__eq__',\n",
              " '__format__',\n",
              " '__ge__',\n",
              " '__getattribute__',\n",
              " '__getitem__',\n",
              " '__gt__',\n",
              " '__hash__',\n",
              " '__iadd__',\n",
              " '__imul__',\n",
              " '__init__',\n",
              " '__init_subclass__',\n",
              " '__iter__',\n",
              " '__le__',\n",
              " '__len__',\n",
              " '__lt__',\n",
              " '__mul__',\n",
              " '__ne__',\n",
              " '__new__',\n",
              " '__reduce__',\n",
              " '__reduce_ex__',\n",
              " '__repr__',\n",
              " '__reversed__',\n",
              " '__rmul__',\n",
              " '__setattr__',\n",
              " '__setitem__',\n",
              " '__sizeof__',\n",
              " '__str__',\n",
              " '__subclasshook__',\n",
              " 'append',\n",
              " 'clear',\n",
              " 'copy',\n",
              " 'count',\n",
              " 'extend',\n",
              " 'index',\n",
              " 'insert',\n",
              " 'pop',\n",
              " 'remove',\n",
              " 'reverse',\n",
              " 'sort']"
            ]
          },
          "metadata": {},
          "execution_count": 50
        }
      ]
    },
    {
      "cell_type": "code",
      "source": [],
      "metadata": {
        "id": "KL666GkhQnca"
      },
      "execution_count": null,
      "outputs": []
    },
    {
      "cell_type": "markdown",
      "source": [
        "## list comprehensions"
      ],
      "metadata": {
        "id": "sSBNzqydQv29"
      }
    },
    {
      "cell_type": "code",
      "source": [
        "lst = [1,2,3,4,5,6,7]\n",
        "\n",
        "squares = []\n",
        "\n",
        "for item in lst:\n",
        "  # print(item)\n",
        "  square = item**2\n",
        "  squares.append(square)\n",
        "\n",
        "squares"
      ],
      "metadata": {
        "colab": {
          "base_uri": "https://localhost:8080/"
        },
        "id": "NBN4khNcQ1L5",
        "outputId": "36cec3ca-706b-431c-a097-4b177b68e1ab"
      },
      "execution_count": 52,
      "outputs": [
        {
          "output_type": "execute_result",
          "data": {
            "text/plain": [
              "[1, 4, 9, 16, 25, 36, 49]"
            ]
          },
          "metadata": {},
          "execution_count": 52
        }
      ]
    },
    {
      "cell_type": "code",
      "source": [
        "squared_list = [item**2 for item in lst] # [return loop]\n",
        "squared_list"
      ],
      "metadata": {
        "colab": {
          "base_uri": "https://localhost:8080/"
        },
        "id": "5a1ajyxRRSmp",
        "outputId": "6b2d0c42-f738-4c3a-cb5d-1532d82fa39c"
      },
      "execution_count": 53,
      "outputs": [
        {
          "output_type": "execute_result",
          "data": {
            "text/plain": [
              "[1, 4, 9, 16, 25, 36, 49]"
            ]
          },
          "metadata": {},
          "execution_count": 53
        }
      ]
    },
    {
      "cell_type": "code",
      "source": [
        "odd_nums = [item for item in squared_list if item%2 != 0] # [return for loop if condition]\n",
        "\n",
        "odd_nums"
      ],
      "metadata": {
        "colab": {
          "base_uri": "https://localhost:8080/"
        },
        "id": "GZu8V50NRhoq",
        "outputId": "8c7c6f9d-6dee-4d1a-cf02-5f74dedba117"
      },
      "execution_count": 55,
      "outputs": [
        {
          "output_type": "execute_result",
          "data": {
            "text/plain": [
              "[1, 9, 25, 49]"
            ]
          },
          "metadata": {},
          "execution_count": 55
        }
      ]
    },
    {
      "cell_type": "code",
      "source": [
        "[1, 4, 9, 16, 25, 36, 49]\n",
        "[odd,even,odd,even,odd,even,odd]"
      ],
      "metadata": {
        "id": "iDNhCCyzSFem"
      },
      "execution_count": null,
      "outputs": []
    },
    {
      "cell_type": "code",
      "source": [
        "lst1 = [\"odd\" if item%2 != 0 else \"even\" for item in squared_list] # [return if condition for loop]\n",
        "lst1"
      ],
      "metadata": {
        "colab": {
          "base_uri": "https://localhost:8080/"
        },
        "id": "ofw_gnGESnzK",
        "outputId": "a9e4fafd-0368-4690-dd7e-4c6191d42b20"
      },
      "execution_count": 57,
      "outputs": [
        {
          "output_type": "execute_result",
          "data": {
            "text/plain": [
              "['odd', 'even', 'odd', 'even', 'odd', 'even', 'odd']"
            ]
          },
          "metadata": {},
          "execution_count": 57
        }
      ]
    },
    {
      "cell_type": "code",
      "source": [
        "[1, 4, 9, 16, 25, 36, 49]\n",
        "[\"lessthan25\",\"lessthan25\",\"lessthan25\",\"lessthan25\",\"equalto25\",\"greaterthan25\",\"greaterthan25\"]"
      ],
      "metadata": {
        "id": "sgAFwLYkTjjd"
      },
      "execution_count": null,
      "outputs": []
    },
    {
      "cell_type": "code",
      "source": [
        "lst3 =[\"lessthan25\" if item<25 \"equalto25\" if item==25  else \"greaterthan25\" for item in squared_list]"
      ],
      "metadata": {
        "colab": {
          "base_uri": "https://localhost:8080/",
          "height": 106
        },
        "id": "bNLZx732T7eR",
        "outputId": "a230c8f7-f677-4976-afd3-da548b45571e"
      },
      "execution_count": 61,
      "outputs": [
        {
          "output_type": "error",
          "ename": "SyntaxError",
          "evalue": "expected 'else' after 'if' expression (<ipython-input-61-436cc79d0da6>, line 1)",
          "traceback": [
            "\u001b[0;36m  File \u001b[0;32m\"<ipython-input-61-436cc79d0da6>\"\u001b[0;36m, line \u001b[0;32m1\u001b[0m\n\u001b[0;31m    lst3 =[\"lessthan25\" if item<25 \"equalto25\" if item==25  else \"greaterthan25\" for item in squared_list]\u001b[0m\n\u001b[0m           ^\u001b[0m\n\u001b[0;31mSyntaxError\u001b[0m\u001b[0;31m:\u001b[0m expected 'else' after 'if' expression\n"
          ]
        }
      ]
    },
    {
      "cell_type": "code",
      "source": [
        "lst3 =[\"lessthan25\" if item<25 else \"equalto25\" if item==25  else \"greaterthan25\" for item in squared_list]\n",
        "lst3"
      ],
      "metadata": {
        "colab": {
          "base_uri": "https://localhost:8080/"
        },
        "id": "_qbcdbjWUn-w",
        "outputId": "81004c6e-f912-425d-b955-b39fad23216f"
      },
      "execution_count": 63,
      "outputs": [
        {
          "output_type": "execute_result",
          "data": {
            "text/plain": [
              "['lessthan25',\n",
              " 'lessthan25',\n",
              " 'lessthan25',\n",
              " 'lessthan25',\n",
              " 'equalto25',\n",
              " 'greaterthan25',\n",
              " 'greaterthan25']"
            ]
          },
          "metadata": {},
          "execution_count": 63
        }
      ]
    },
    {
      "cell_type": "code",
      "source": [],
      "metadata": {
        "id": "m-20nS5MUw6o"
      },
      "execution_count": null,
      "outputs": []
    },
    {
      "cell_type": "code",
      "source": [],
      "metadata": {
        "id": "bkUcrAQPVIu2"
      },
      "execution_count": null,
      "outputs": []
    }
  ]
}