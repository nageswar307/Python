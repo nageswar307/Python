{
  "nbformat": 4,
  "nbformat_minor": 0,
  "metadata": {
    "colab": {
      "provenance": [],
      "authorship_tag": "ABX9TyN06PjmAie8gqFCS3aePlFM",
      "include_colab_link": true
    },
    "kernelspec": {
      "name": "python3",
      "display_name": "Python 3"
    },
    "language_info": {
      "name": "python"
    }
  },
  "cells": [
    {
      "cell_type": "markdown",
      "metadata": {
        "id": "view-in-github",
        "colab_type": "text"
      },
      "source": [
        "<a href=\"https://colab.research.google.com/github/nageswar307/Python/blob/main/Print%2CBasic_Operations.ipynb\" target=\"_parent\"><img src=\"https://colab.research.google.com/assets/colab-badge.svg\" alt=\"Open In Colab\"/></a>"
      ]
    },
    {
      "cell_type": "code",
      "source": [
        "print(\"I love python\")"
      ],
      "metadata": {
        "colab": {
          "base_uri": "https://localhost:8080/"
        },
        "id": "9twdyDA9Rr-c",
        "outputId": "ded49f39-9bbd-498a-8a57-97ca738f3e96"
      },
      "execution_count": 12,
      "outputs": [
        {
          "output_type": "stream",
          "name": "stdout",
          "text": [
            "I love python\n"
          ]
        }
      ]
    },
    {
      "cell_type": "code",
      "source": [
        "print('''Python is being used majorly for AI ML Development\n",
        "and for web development''')"
      ],
      "metadata": {
        "colab": {
          "base_uri": "https://localhost:8080/"
        },
        "id": "_pYOmB5qTV6A",
        "outputId": "ce7888a5-6c56-4a84-e508-705eb780bf98"
      },
      "execution_count": 14,
      "outputs": [
        {
          "output_type": "stream",
          "name": "stdout",
          "text": [
            "Python is being used majorly for AI ML Development\n",
            "and for web development\n"
          ]
        }
      ]
    },
    {
      "cell_type": "code",
      "source": [
        "\\n,\\t"
      ],
      "metadata": {
        "id": "RBppe2K2UZMf"
      },
      "execution_count": null,
      "outputs": []
    },
    {
      "cell_type": "code",
      "source": [
        "print('''Python is \\'\\'\\' being used majorly for AI ML Development\n",
        "and for web development''')"
      ],
      "metadata": {
        "colab": {
          "base_uri": "https://localhost:8080/"
        },
        "id": "ETpDyAikTqgt",
        "outputId": "c86f4cbe-b36e-4291-8292-8398edcb2713"
      },
      "execution_count": 16,
      "outputs": [
        {
          "output_type": "stream",
          "name": "stdout",
          "text": [
            "Python is ''' being used majorly for AI ML Development\n",
            "and for web development\n"
          ]
        }
      ]
    },
    {
      "cell_type": "code",
      "source": [
        "print(\"Python is being used majorly for AI ML Development \\t and for web development\")"
      ],
      "metadata": {
        "colab": {
          "base_uri": "https://localhost:8080/"
        },
        "id": "rHjFNJUgUevg",
        "outputId": "f61bb206-154e-46e2-d8c6-120de97a65d2"
      },
      "execution_count": 19,
      "outputs": [
        {
          "output_type": "stream",
          "name": "stdout",
          "text": [
            "Python is being used majorly for AI ML Development \t and for web development\n"
          ]
        }
      ]
    },
    {
      "cell_type": "code",
      "source": [
        "print(\"Python is being used majorly for AI ML Development \\\\t and for web development\")"
      ],
      "metadata": {
        "colab": {
          "base_uri": "https://localhost:8080/"
        },
        "id": "APr6ArWWU25L",
        "outputId": "3f448c2c-0024-4796-9f52-5977b34c6e22"
      },
      "execution_count": 20,
      "outputs": [
        {
          "output_type": "stream",
          "name": "stdout",
          "text": [
            "Python is being used majorly for AI ML Development \\t and for web development\n"
          ]
        }
      ]
    },
    {
      "cell_type": "code",
      "source": [
        "print(\"I\",\"Love\",\"Python\")"
      ],
      "metadata": {
        "colab": {
          "base_uri": "https://localhost:8080/"
        },
        "id": "bWc5sSCpVFEG",
        "outputId": "3204580f-1d99-485e-bc1a-dc181bce7ac5"
      },
      "execution_count": 21,
      "outputs": [
        {
          "output_type": "stream",
          "name": "stdout",
          "text": [
            "I Love Python\n"
          ]
        }
      ]
    },
    {
      "cell_type": "code",
      "source": [
        "I-Love-Python"
      ],
      "metadata": {
        "colab": {
          "base_uri": "https://localhost:8080/",
          "height": 141
        },
        "id": "yvcwmwGcVb_N",
        "outputId": "10d37163-ae3e-487f-fbb0-d775d49785f9"
      },
      "execution_count": 22,
      "outputs": [
        {
          "output_type": "error",
          "ename": "NameError",
          "evalue": "name 'I' is not defined",
          "traceback": [
            "\u001b[0;31m---------------------------------------------------------------------------\u001b[0m",
            "\u001b[0;31mNameError\u001b[0m                                 Traceback (most recent call last)",
            "\u001b[0;32m<ipython-input-22-7c58ee7d7689>\u001b[0m in \u001b[0;36m<cell line: 1>\u001b[0;34m()\u001b[0m\n\u001b[0;32m----> 1\u001b[0;31m \u001b[0mI\u001b[0m\u001b[0;34m|\u001b[0m\u001b[0mLove\u001b[0m\u001b[0;34m|\u001b[0m\u001b[0mPython\u001b[0m\u001b[0;34m\u001b[0m\u001b[0;34m\u001b[0m\u001b[0m\n\u001b[0m",
            "\u001b[0;31mNameError\u001b[0m: name 'I' is not defined"
          ]
        }
      ]
    },
    {
      "cell_type": "code",
      "source": [
        "print(\"I\",\"Love\",\"Python\",sep = \"-\")"
      ],
      "metadata": {
        "colab": {
          "base_uri": "https://localhost:8080/"
        },
        "id": "80s-eYkqVa8o",
        "outputId": "1acafd9a-3e99-4c87-a147-9fcd3e22a212"
      },
      "execution_count": 23,
      "outputs": [
        {
          "output_type": "stream",
          "name": "stdout",
          "text": [
            "I-Love-Python\n"
          ]
        }
      ]
    },
    {
      "cell_type": "code",
      "source": [
        "print(\"I\",\"Love\",\"Python\",end = \"-\")"
      ],
      "metadata": {
        "colab": {
          "base_uri": "https://localhost:8080/"
        },
        "id": "el95-sSQVqb-",
        "outputId": "dbaecb2c-2363-4e7b-f102-73743bbe7251"
      },
      "execution_count": 24,
      "outputs": [
        {
          "output_type": "stream",
          "name": "stdout",
          "text": [
            "I Love Python-"
          ]
        }
      ]
    },
    {
      "cell_type": "code",
      "source": [
        "print(\"I love python\",end=\" and \")\n",
        "print(\"I love Java\")"
      ],
      "metadata": {
        "colab": {
          "base_uri": "https://localhost:8080/"
        },
        "id": "zoXCtJPZVzKj",
        "outputId": "27f9ddd7-caf4-4aee-daab-5c526e713249"
      },
      "execution_count": 28,
      "outputs": [
        {
          "output_type": "stream",
          "name": "stdout",
          "text": [
            "I love python and I love Java\n"
          ]
        }
      ]
    },
    {
      "cell_type": "markdown",
      "source": [
        "## Variable naming conventions & Assignement"
      ],
      "metadata": {
        "id": "TNQXibZCWMSn"
      }
    },
    {
      "cell_type": "code",
      "source": [
        "1name = \"nageswar\""
      ],
      "metadata": {
        "colab": {
          "base_uri": "https://localhost:8080/",
          "height": 106
        },
        "id": "pbDW5OcpWTxI",
        "outputId": "284949b7-1384-453e-c872-70a5c16c4cb7"
      },
      "execution_count": 29,
      "outputs": [
        {
          "output_type": "error",
          "ename": "SyntaxError",
          "evalue": "invalid decimal literal (<ipython-input-29-b864f6728219>, line 1)",
          "traceback": [
            "\u001b[0;36m  File \u001b[0;32m\"<ipython-input-29-b864f6728219>\"\u001b[0;36m, line \u001b[0;32m1\u001b[0m\n\u001b[0;31m    1name = \"nageswar\"\u001b[0m\n\u001b[0m    ^\u001b[0m\n\u001b[0;31mSyntaxError\u001b[0m\u001b[0;31m:\u001b[0m invalid decimal literal\n"
          ]
        }
      ]
    },
    {
      "cell_type": "code",
      "source": [
        "#name = \"nageswar\" bxfgchsjhg"
      ],
      "metadata": {
        "id": "Drk9YGpnWv6T"
      },
      "execution_count": 31,
      "outputs": []
    },
    {
      "cell_type": "code",
      "source": [
        "_name = \"nageswar\""
      ],
      "metadata": {
        "id": "5zzierWhW50Z"
      },
      "execution_count": 32,
      "outputs": []
    },
    {
      "cell_type": "code",
      "source": [
        "name2 = \"nageswar\""
      ],
      "metadata": {
        "id": "R1hRL_IaXBIm"
      },
      "execution_count": 34,
      "outputs": []
    },
    {
      "cell_type": "code",
      "source": [
        "prog_lang = \"python\""
      ],
      "metadata": {
        "id": "MuTZ0qLFXH9W"
      },
      "execution_count": 35,
      "outputs": []
    },
    {
      "cell_type": "code",
      "source": [
        "ProgLang = \"python\""
      ],
      "metadata": {
        "id": "uOWjhiBYXQLA"
      },
      "execution_count": 36,
      "outputs": []
    },
    {
      "cell_type": "code",
      "source": [
        "month = 12"
      ],
      "metadata": {
        "id": "bP-_y1k1XfMM"
      },
      "execution_count": 41,
      "outputs": []
    },
    {
      "cell_type": "code",
      "source": [
        "month"
      ],
      "metadata": {
        "colab": {
          "base_uri": "https://localhost:8080/"
        },
        "id": "pKzs7h9WX1AX",
        "outputId": "a23ca517-5ef1-43d2-cf1a-a3fc959cf597"
      },
      "execution_count": 42,
      "outputs": [
        {
          "output_type": "execute_result",
          "data": {
            "text/plain": [
              "12"
            ]
          },
          "metadata": {},
          "execution_count": 42
        }
      ]
    },
    {
      "cell_type": "code",
      "source": [
        "month = \"12\"\n",
        "month"
      ],
      "metadata": {
        "colab": {
          "base_uri": "https://localhost:8080/",
          "height": 35
        },
        "id": "Mleyov-AXl8l",
        "outputId": "7a70031a-df2f-4caa-e466-62b840e764d8"
      },
      "execution_count": 47,
      "outputs": [
        {
          "output_type": "execute_result",
          "data": {
            "text/plain": [
              "'12'"
            ],
            "application/vnd.google.colaboratory.intrinsic+json": {
              "type": "string"
            }
          },
          "metadata": {},
          "execution_count": 47
        }
      ]
    },
    {
      "cell_type": "code",
      "source": [
        "month = int(month)\n",
        "print(month)"
      ],
      "metadata": {
        "colab": {
          "base_uri": "https://localhost:8080/"
        },
        "id": "ChruvcazX4Kg",
        "outputId": "ff64b526-80f6-45da-8130-3b9f0d7a232d"
      },
      "execution_count": 48,
      "outputs": [
        {
          "output_type": "stream",
          "name": "stdout",
          "text": [
            "12\n"
          ]
        }
      ]
    },
    {
      "cell_type": "code",
      "source": [
        " price = 2.5\n",
        " price"
      ],
      "metadata": {
        "colab": {
          "base_uri": "https://localhost:8080/"
        },
        "id": "U9hnCreUYEBB",
        "outputId": "3c152fdc-5a9d-4ae3-9189-1608ed8ff22e"
      },
      "execution_count": 51,
      "outputs": [
        {
          "output_type": "execute_result",
          "data": {
            "text/plain": [
              "2.5"
            ]
          },
          "metadata": {},
          "execution_count": 51
        }
      ]
    },
    {
      "cell_type": "markdown",
      "source": [
        "## Basic Arithematic operations"
      ],
      "metadata": {
        "id": "IdDD0tuEYtvR"
      }
    },
    {
      "cell_type": "code",
      "source": [
        "a = 1\n",
        "b = 2"
      ],
      "metadata": {
        "id": "ECytb4keYkil"
      },
      "execution_count": 53,
      "outputs": []
    },
    {
      "cell_type": "code",
      "source": [
        "# adding two numbers\n",
        "print(f\"sum of {a} & {b} is \", a + b )\n",
        "# substract two numbers\n",
        "print(f\"difference of {a} & {b} is \", a - b )\n",
        "\n",
        "\n",
        "# division of two numbers\n",
        "print(f\"division of {a} & {b} is \", a / b )\n",
        "\n",
        "# integer division\n",
        "print(f\"integer division of {a} & {b} is \", a // b )\n",
        "\n",
        "# modulus of a number\n",
        "print(f\"modulus of {a} & {b} is \", a % b )\n",
        "\n",
        "\n",
        "# multiplication of two numbers\n",
        "print(f\"multiplication of {a} & {b} is \", a * b )\n",
        "# exponent of a number\n",
        "print(f\"exponent of {a} & {b} is \", a ** b )\n",
        "\n",
        "\n"
      ],
      "metadata": {
        "colab": {
          "base_uri": "https://localhost:8080/"
        },
        "id": "RQj9c34HY0sN",
        "outputId": "72895ef1-58bb-4c2e-8334-7dd9e9f1027a"
      },
      "execution_count": 65,
      "outputs": [
        {
          "output_type": "stream",
          "name": "stdout",
          "text": [
            "sum of 1 & 2 is  3\n",
            "difference of 1 & 2 is  -1\n",
            "division of 1 & 2 is  0.5\n",
            "integer division of 1 & 2 is  0\n",
            "modulus of 1 & 2 is  1\n",
            "multiplication of 1 & 2 is  2\n",
            "exponent of 1 & 2 is  1\n"
          ]
        }
      ]
    },
    {
      "cell_type": "code",
      "source": [
        "11//2"
      ],
      "metadata": {
        "colab": {
          "base_uri": "https://localhost:8080/"
        },
        "id": "WWe_azc4bZJY",
        "outputId": "625dcf93-3f66-4631-e6b7-fa926162d465"
      },
      "execution_count": 67,
      "outputs": [
        {
          "output_type": "execute_result",
          "data": {
            "text/plain": [
              "5"
            ]
          },
          "metadata": {},
          "execution_count": 67
        }
      ]
    },
    {
      "cell_type": "code",
      "source": [],
      "metadata": {
        "id": "V02G6ZF3baEV"
      },
      "execution_count": null,
      "outputs": []
    },
    {
      "cell_type": "code",
      "source": [],
      "metadata": {
        "id": "Gwi3pG_qbjRD"
      },
      "execution_count": null,
      "outputs": []
    },
    {
      "cell_type": "markdown",
      "source": [
        "## Print Statement"
      ],
      "metadata": {
        "id": "CB6mCDopbkhR"
      }
    },
    {
      "cell_type": "code",
      "source": [
        "prog_lang = \"python\""
      ],
      "metadata": {
        "id": "4t9zqenPbvts"
      },
      "execution_count": 69,
      "outputs": []
    },
    {
      "cell_type": "code",
      "source": [
        "print(\"programming language is\", prog_lang)"
      ],
      "metadata": {
        "colab": {
          "base_uri": "https://localhost:8080/"
        },
        "id": "TXEq57_6bovP",
        "outputId": "8bec96cc-a22c-4d7b-f73e-c786e843213d"
      },
      "execution_count": 70,
      "outputs": [
        {
          "output_type": "stream",
          "name": "stdout",
          "text": [
            "programming language is python\n"
          ]
        }
      ]
    },
    {
      "cell_type": "code",
      "source": [
        "print(f\"programming language is {prog_lang}\")"
      ],
      "metadata": {
        "colab": {
          "base_uri": "https://localhost:8080/"
        },
        "id": "ZCViqZB1cE3_",
        "outputId": "76383c83-a006-4c81-d85d-8acc86104080"
      },
      "execution_count": 71,
      "outputs": [
        {
          "output_type": "stream",
          "name": "stdout",
          "text": [
            "programming language is python\n"
          ]
        }
      ]
    },
    {
      "cell_type": "code",
      "source": [
        "print(\"programming language is {}\".format(prog_lang))"
      ],
      "metadata": {
        "colab": {
          "base_uri": "https://localhost:8080/"
        },
        "id": "QXEX18W6cPwQ",
        "outputId": "696793c3-43c4-49b1-dc03-acf666a200b7"
      },
      "execution_count": 72,
      "outputs": [
        {
          "output_type": "stream",
          "name": "stdout",
          "text": [
            "programming language is python\n"
          ]
        }
      ]
    },
    {
      "cell_type": "code",
      "source": [
        "print(\"programming language is %s\" % prog_lang)"
      ],
      "metadata": {
        "colab": {
          "base_uri": "https://localhost:8080/"
        },
        "id": "EuZYOKWKcsbg",
        "outputId": "7ea626bd-ec3a-4cb8-ad60-1e52ec8293d6"
      },
      "execution_count": 80,
      "outputs": [
        {
          "output_type": "stream",
          "name": "stdout",
          "text": [
            "programming language is python\n"
          ]
        }
      ]
    },
    {
      "cell_type": "code",
      "source": [],
      "metadata": {
        "id": "nSKFn81EdcQl"
      },
      "execution_count": null,
      "outputs": []
    },
    {
      "cell_type": "markdown",
      "source": [
        "## Input"
      ],
      "metadata": {
        "id": "fyqeln0vdcy-"
      }
    },
    {
      "cell_type": "code",
      "source": [
        "name = input(\"Enter your name\")"
      ],
      "metadata": {
        "colab": {
          "base_uri": "https://localhost:8080/"
        },
        "id": "KfBp29QNdgSS",
        "outputId": "42221a04-ea24-43df-a2b2-60191b1dc3e0"
      },
      "execution_count": 82,
      "outputs": [
        {
          "name": "stdout",
          "output_type": "stream",
          "text": [
            "Enter your namenageswar\n"
          ]
        }
      ]
    },
    {
      "cell_type": "code",
      "source": [
        "print(name)"
      ],
      "metadata": {
        "colab": {
          "base_uri": "https://localhost:8080/"
        },
        "id": "h5pxO0fedoSi",
        "outputId": "d58eaa0e-63c5-44ed-e047-fba5dc5ccde8"
      },
      "execution_count": 83,
      "outputs": [
        {
          "output_type": "stream",
          "name": "stdout",
          "text": [
            "nageswar\n"
          ]
        }
      ]
    }
  ]
}