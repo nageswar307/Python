{
  "nbformat": 4,
  "nbformat_minor": 0,
  "metadata": {
    "colab": {
      "provenance": [],
      "authorship_tag": "ABX9TyNuCj0XFp5TJNYKPZz3FHL1",
      "include_colab_link": true
    },
    "kernelspec": {
      "name": "python3",
      "display_name": "Python 3"
    },
    "language_info": {
      "name": "python"
    }
  },
  "cells": [
    {
      "cell_type": "markdown",
      "metadata": {
        "id": "view-in-github",
        "colab_type": "text"
      },
      "source": [
        "<a href=\"https://colab.research.google.com/github/nageswar307/Python/blob/main/Day16.ipynb\" target=\"_parent\"><img src=\"https://colab.research.google.com/assets/colab-badge.svg\" alt=\"Open In Colab\"/></a>"
      ]
    },
    {
      "cell_type": "code",
      "execution_count": 3,
      "metadata": {
        "id": "-82UV2sffZRJ"
      },
      "outputs": [],
      "source": [
        "def fun_name(arguments):\n",
        "  \"\"\"\n",
        "  docstring\n",
        "  \"\"\"\n",
        "  statement(s)\n",
        "  operations\n",
        "\n",
        "  return output"
      ]
    },
    {
      "cell_type": "code",
      "source": [
        "def sq_num(n):\n",
        "  return n**2"
      ],
      "metadata": {
        "id": "vYQayyZegD69"
      },
      "execution_count": 1,
      "outputs": []
    },
    {
      "cell_type": "code",
      "source": [
        "x = sq_num\n",
        "x(2)"
      ],
      "metadata": {
        "colab": {
          "base_uri": "https://localhost:8080/"
        },
        "id": "8ZKWYPL2gUdU",
        "outputId": "e03c81fd-e894-4456-8b62-b16edf94a379"
      },
      "execution_count": 10,
      "outputs": [
        {
          "output_type": "execute_result",
          "data": {
            "text/plain": [
              "4"
            ]
          },
          "metadata": {},
          "execution_count": 10
        }
      ]
    },
    {
      "cell_type": "code",
      "source": [
        "x(5)"
      ],
      "metadata": {
        "colab": {
          "base_uri": "https://localhost:8080/"
        },
        "id": "YWAciNV1hK2j",
        "outputId": "b66af739-50aa-4787-9abd-177752a32636"
      },
      "execution_count": 11,
      "outputs": [
        {
          "output_type": "execute_result",
          "data": {
            "text/plain": [
              "25"
            ]
          },
          "metadata": {},
          "execution_count": 11
        }
      ]
    },
    {
      "cell_type": "code",
      "source": [
        "x = sq_num(2)\n",
        "x"
      ],
      "metadata": {
        "colab": {
          "base_uri": "https://localhost:8080/"
        },
        "id": "SKAAmfrZgdd0",
        "outputId": "0857effe-9e89-4882-fdb2-8c5299207d2f"
      },
      "execution_count": 9,
      "outputs": [
        {
          "output_type": "execute_result",
          "data": {
            "text/plain": [
              "4"
            ]
          },
          "metadata": {},
          "execution_count": 9
        }
      ]
    },
    {
      "cell_type": "code",
      "source": [
        "def string_concat(string1,string2):\n",
        "  output = string1 +\" \" + string2\n",
        "  return output\n"
      ],
      "metadata": {
        "id": "fZgx2QWthNa_"
      },
      "execution_count": 14,
      "outputs": []
    },
    {
      "cell_type": "code",
      "source": [
        "st1 = \"Hello\"\n",
        "st2 = \"World\"\n",
        "string_concat(st1,st2)"
      ],
      "metadata": {
        "colab": {
          "base_uri": "https://localhost:8080/",
          "height": 35
        },
        "id": "RAnIaUnPhpxx",
        "outputId": "f68eca19-7b77-4ba3-9713-31e6ea50caaf"
      },
      "execution_count": 15,
      "outputs": [
        {
          "output_type": "execute_result",
          "data": {
            "text/plain": [
              "'Hello World'"
            ],
            "application/vnd.google.colaboratory.intrinsic+json": {
              "type": "string"
            }
          },
          "metadata": {},
          "execution_count": 15
        }
      ]
    },
    {
      "cell_type": "code",
      "source": [
        "string_concat(st2,st1)"
      ],
      "metadata": {
        "colab": {
          "base_uri": "https://localhost:8080/",
          "height": 35
        },
        "id": "3ERzCpSRh2oj",
        "outputId": "ada2ee30-3b8f-4d23-818b-188a026626ed"
      },
      "execution_count": 16,
      "outputs": [
        {
          "output_type": "execute_result",
          "data": {
            "text/plain": [
              "'World Hello'"
            ],
            "application/vnd.google.colaboratory.intrinsic+json": {
              "type": "string"
            }
          },
          "metadata": {},
          "execution_count": 16
        }
      ]
    },
    {
      "cell_type": "code",
      "source": [
        "def string_concat(string1,string2 = \"World\"):\n",
        "  output = string1 +\" \" + string2\n",
        "  return output"
      ],
      "metadata": {
        "id": "H7af50r9h-KL"
      },
      "execution_count": 17,
      "outputs": []
    },
    {
      "cell_type": "code",
      "source": [
        "string_concat(\"Hello\")"
      ],
      "metadata": {
        "colab": {
          "base_uri": "https://localhost:8080/",
          "height": 35
        },
        "id": "rDZ66tfkiKzY",
        "outputId": "520cd8f2-3312-4571-a793-2e278f5530fa"
      },
      "execution_count": 18,
      "outputs": [
        {
          "output_type": "execute_result",
          "data": {
            "text/plain": [
              "'Hello World'"
            ],
            "application/vnd.google.colaboratory.intrinsic+json": {
              "type": "string"
            }
          },
          "metadata": {},
          "execution_count": 18
        }
      ]
    },
    {
      "cell_type": "code",
      "source": [
        "string_concat(\"Hello\",\"Alice\")"
      ],
      "metadata": {
        "colab": {
          "base_uri": "https://localhost:8080/",
          "height": 35
        },
        "id": "eWgEmpDviO4V",
        "outputId": "30b28a09-9a30-45ec-ba57-155e93126c08"
      },
      "execution_count": 20,
      "outputs": [
        {
          "output_type": "execute_result",
          "data": {
            "text/plain": [
              "'Hello Alice'"
            ],
            "application/vnd.google.colaboratory.intrinsic+json": {
              "type": "string"
            }
          },
          "metadata": {},
          "execution_count": 20
        }
      ]
    },
    {
      "cell_type": "code",
      "source": [
        "def multiplier(*args):\n",
        "  mul = 2\n",
        "  print(args)\n",
        "  print(\"type of args is - \",type(args))\n",
        "  for num in args: #-- (2,3,4)\n",
        "    mul = mul *num\n",
        "\n",
        "  return mul\n"
      ],
      "metadata": {
        "id": "JSZj3acXiTmM"
      },
      "execution_count": 35,
      "outputs": []
    },
    {
      "cell_type": "code",
      "source": [
        "multiplier(2,3,4)"
      ],
      "metadata": {
        "colab": {
          "base_uri": "https://localhost:8080/"
        },
        "id": "6Olnxafejee-",
        "outputId": "abdec67d-80e6-4e7d-8e20-e7a0a04baa1b"
      },
      "execution_count": 36,
      "outputs": [
        {
          "output_type": "stream",
          "name": "stdout",
          "text": [
            "(2, 3, 4)\n",
            "type of args is -  <class 'tuple'>\n"
          ]
        },
        {
          "output_type": "execute_result",
          "data": {
            "text/plain": [
              "48"
            ]
          },
          "metadata": {},
          "execution_count": 36
        }
      ]
    },
    {
      "cell_type": "code",
      "source": [
        "lst = [1,2,3]\n",
        "lst*10"
      ],
      "metadata": {
        "colab": {
          "base_uri": "https://localhost:8080/"
        },
        "id": "Ejyze0h_klIU",
        "outputId": "f9512310-b49d-4d40-e8b7-93dcae30dd8d"
      },
      "execution_count": 42,
      "outputs": [
        {
          "output_type": "execute_result",
          "data": {
            "text/plain": [
              "[1,\n",
              " 2,\n",
              " 3,\n",
              " 1,\n",
              " 2,\n",
              " 3,\n",
              " 1,\n",
              " 2,\n",
              " 3,\n",
              " 1,\n",
              " 2,\n",
              " 3,\n",
              " 1,\n",
              " 2,\n",
              " 3,\n",
              " 1,\n",
              " 2,\n",
              " 3,\n",
              " 1,\n",
              " 2,\n",
              " 3,\n",
              " 1,\n",
              " 2,\n",
              " 3,\n",
              " 1,\n",
              " 2,\n",
              " 3,\n",
              " 1,\n",
              " 2,\n",
              " 3]"
            ]
          },
          "metadata": {},
          "execution_count": 42
        }
      ]
    },
    {
      "cell_type": "code",
      "source": [
        "(2,3,4) * 2"
      ],
      "metadata": {
        "colab": {
          "base_uri": "https://localhost:8080/"
        },
        "id": "dJAX5g2lkKK9",
        "outputId": "5b6ad021-f4b6-48c1-a435-ee7b84e24880"
      },
      "execution_count": 40,
      "outputs": [
        {
          "output_type": "execute_result",
          "data": {
            "text/plain": [
              "(2, 3, 4, 2, 3, 4)"
            ]
          },
          "metadata": {},
          "execution_count": 40
        }
      ]
    },
    {
      "cell_type": "code",
      "source": [
        "multiplier((2,3,4))"
      ],
      "metadata": {
        "colab": {
          "base_uri": "https://localhost:8080/"
        },
        "id": "1pNg8bdLi1do",
        "outputId": "ff481d45-097c-4013-cb3f-54744411c723"
      },
      "execution_count": 39,
      "outputs": [
        {
          "output_type": "stream",
          "name": "stdout",
          "text": [
            "((2, 3, 4),)\n",
            "type of args is -  <class 'tuple'>\n"
          ]
        },
        {
          "output_type": "execute_result",
          "data": {
            "text/plain": [
              "(2, 3, 4, 2, 3, 4)"
            ]
          },
          "metadata": {},
          "execution_count": 39
        }
      ]
    },
    {
      "cell_type": "code",
      "source": [
        "lst = [12,3,47,56]"
      ],
      "metadata": {
        "id": "R8BBZQV9k2BI"
      },
      "execution_count": 46,
      "outputs": []
    },
    {
      "cell_type": "code",
      "source": [
        "2*12* 3* 47* 56"
      ],
      "metadata": {
        "colab": {
          "base_uri": "https://localhost:8080/"
        },
        "id": "7ZrXW2sWlNkC",
        "outputId": "616eaf4e-99ae-43e0-b6e8-b84cc6607a8f"
      },
      "execution_count": 50,
      "outputs": [
        {
          "output_type": "execute_result",
          "data": {
            "text/plain": [
              "189504"
            ]
          },
          "metadata": {},
          "execution_count": 50
        }
      ]
    },
    {
      "cell_type": "code",
      "source": [
        "multiplier(*lst)"
      ],
      "metadata": {
        "colab": {
          "base_uri": "https://localhost:8080/"
        },
        "id": "pdjLAoASkXvY",
        "outputId": "14464b41-b217-4b1a-8321-d0f2920323d3"
      },
      "execution_count": 48,
      "outputs": [
        {
          "output_type": "stream",
          "name": "stdout",
          "text": [
            "(12, 3, 47, 56)\n",
            "type of args is -  <class 'tuple'>\n"
          ]
        },
        {
          "output_type": "execute_result",
          "data": {
            "text/plain": [
              "189504"
            ]
          },
          "metadata": {},
          "execution_count": 48
        }
      ]
    },
    {
      "cell_type": "code",
      "source": [
        "def double_dict(**kwargs):\n",
        "  output = {}\n",
        "  for key,value in kwargs.items():\n",
        "    output[key] = value*2\n",
        "  return output\n",
        ""
      ],
      "metadata": {
        "id": "vxXZ7sDKk8p0"
      },
      "execution_count": 52,
      "outputs": []
    },
    {
      "cell_type": "code",
      "source": [
        "double_dict(x=10,y=20)"
      ],
      "metadata": {
        "colab": {
          "base_uri": "https://localhost:8080/"
        },
        "id": "LFKMt2lblnk4",
        "outputId": "28940748-d639-4eb6-eb0b-49d93d79ac38"
      },
      "execution_count": 53,
      "outputs": [
        {
          "output_type": "execute_result",
          "data": {
            "text/plain": [
              "{'x': 20, 'y': 40}"
            ]
          },
          "metadata": {},
          "execution_count": 53
        }
      ]
    },
    {
      "cell_type": "code",
      "source": [
        "dict1 = {\"x\":10,\"y\":20}\n",
        "\n",
        "double_dict(**dict1)"
      ],
      "metadata": {
        "colab": {
          "base_uri": "https://localhost:8080/"
        },
        "id": "GjjszF5xmDQF",
        "outputId": "e902c615-adb3-40d2-a2b1-59a73103c28c"
      },
      "execution_count": 55,
      "outputs": [
        {
          "output_type": "execute_result",
          "data": {
            "text/plain": [
              "{'x': 20, 'y': 40}"
            ]
          },
          "metadata": {},
          "execution_count": 55
        }
      ]
    },
    {
      "cell_type": "code",
      "source": [
        "# order -- positional,keyword arguments *args,**kwargs"
      ],
      "metadata": {
        "id": "IzA1f8YdmawW"
      },
      "execution_count": null,
      "outputs": []
    },
    {
      "cell_type": "code",
      "source": [
        "def gen_fun(y,x=10):\n",
        "  return x+y"
      ],
      "metadata": {
        "id": "sFu9gvDUmXXS"
      },
      "execution_count": 57,
      "outputs": []
    },
    {
      "cell_type": "code",
      "source": [
        "gen_fun(50,5)"
      ],
      "metadata": {
        "colab": {
          "base_uri": "https://localhost:8080/"
        },
        "id": "KPzIhQW7m7LK",
        "outputId": "76213b9f-4308-4699-ccc9-534293ae3494"
      },
      "execution_count": 59,
      "outputs": [
        {
          "output_type": "execute_result",
          "data": {
            "text/plain": [
              "55"
            ]
          },
          "metadata": {},
          "execution_count": 59
        }
      ]
    },
    {
      "cell_type": "code",
      "source": [
        "mul = 1\n",
        "\n",
        "lst = [1,2,3]\n",
        "\n",
        "[]"
      ],
      "metadata": {
        "id": "3AXEbtwCpTV3"
      },
      "execution_count": null,
      "outputs": []
    },
    {
      "cell_type": "code",
      "source": [
        "def multiplier(x,y=10,*args,**kwrgs):\n",
        "  mul = x*y\n",
        "  print(args)\n",
        "  # print(\"type of args is - \",type(args))\n",
        "  # for num in args: #-- (2,3,4)\n",
        "  #   mul = mul *num\n",
        "  print(list(args))\n",
        "  output = [mul*item for item in list(args)]\n",
        "  print(output)\n",
        "  return output"
      ],
      "metadata": {
        "id": "y31_g3aDnDiE"
      },
      "execution_count": 80,
      "outputs": []
    },
    {
      "cell_type": "code",
      "source": [
        "multiplier(2,3,*[1,2,3,4])"
      ],
      "metadata": {
        "colab": {
          "base_uri": "https://localhost:8080/"
        },
        "id": "Is-J3NOYnsgo",
        "outputId": "44dc3cce-5743-4b7e-ccfc-076873a486f4"
      },
      "execution_count": 82,
      "outputs": [
        {
          "output_type": "stream",
          "name": "stdout",
          "text": [
            "(1, 2, 3, 4)\n",
            "[1, 2, 3, 4]\n",
            "[6, 12, 18, 24]\n"
          ]
        },
        {
          "output_type": "execute_result",
          "data": {
            "text/plain": [
              "[6, 12, 18, 24]"
            ]
          },
          "metadata": {},
          "execution_count": 82
        }
      ]
    },
    {
      "cell_type": "code",
      "source": [],
      "metadata": {
        "id": "fgTi0zX9oXZs"
      },
      "execution_count": null,
      "outputs": []
    },
    {
      "cell_type": "code",
      "source": [],
      "metadata": {
        "id": "pTHumtEKpiB2"
      },
      "execution_count": null,
      "outputs": []
    },
    {
      "cell_type": "code",
      "source": [
        "def greet(func):\n",
        "  print(func(\"Hello\"))\n",
        "\n",
        "def func(name):\n",
        "  return name"
      ],
      "metadata": {
        "id": "TNigqqovp5E2"
      },
      "execution_count": 84,
      "outputs": []
    },
    {
      "cell_type": "code",
      "source": [
        "greet(func)"
      ],
      "metadata": {
        "colab": {
          "base_uri": "https://localhost:8080/"
        },
        "id": "d7kKWiaCqUa8",
        "outputId": "6709d9e2-08e5-41cf-bb53-dea03100ea4d"
      },
      "execution_count": 86,
      "outputs": [
        {
          "output_type": "stream",
          "name": "stdout",
          "text": [
            "Hello\n"
          ]
        }
      ]
    },
    {
      "cell_type": "code",
      "source": [],
      "metadata": {
        "id": "Wm5FCeXXqske"
      },
      "execution_count": null,
      "outputs": []
    },
    {
      "cell_type": "code",
      "source": [
        "def sq_num(n):\n",
        "  return n**2\n",
        "\n",
        "def cube_num(n):\n",
        "  return n**3\n",
        "\n",
        "\n",
        "def list_func(lst,func):\n",
        "  output = []\n",
        "  for item in lst:\n",
        "    output.append(func(item))\n",
        "  return output"
      ],
      "metadata": {
        "id": "Q0t5h66vqs_N"
      },
      "execution_count": 87,
      "outputs": []
    },
    {
      "cell_type": "code",
      "source": [
        "list_func([1,2,3],cube_num)"
      ],
      "metadata": {
        "colab": {
          "base_uri": "https://localhost:8080/"
        },
        "id": "F_4sWGhqq8fL",
        "outputId": "ea5c7d64-bece-4cff-b911-7fe0c3992006"
      },
      "execution_count": 89,
      "outputs": [
        {
          "output_type": "execute_result",
          "data": {
            "text/plain": [
              "[1, 8, 27]"
            ]
          },
          "metadata": {},
          "execution_count": 89
        }
      ]
    },
    {
      "cell_type": "code",
      "source": [
        "# 5! = 5*4*3*2*1\n",
        "\n",
        "# 0,1,1,2,3,5,8,13,21,34\n"
      ],
      "metadata": {
        "id": "c54wLlRjrh_a"
      },
      "execution_count": null,
      "outputs": []
    }
  ]
}