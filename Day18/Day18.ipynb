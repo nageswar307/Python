{
  "nbformat": 4,
  "nbformat_minor": 0,
  "metadata": {
    "colab": {
      "provenance": []
    },
    "kernelspec": {
      "name": "python3",
      "display_name": "Python 3"
    },
    "language_info": {
      "name": "python"
    }
  },
  "cells": [
    {
      "cell_type": "code",
      "execution_count": 1,
      "metadata": {
        "id": "nRq-xl71zr83"
      },
      "outputs": [],
      "source": [
        "lst = [1,2,3,4]"
      ]
    },
    {
      "cell_type": "code",
      "source": [
        "lst.append(5)\n",
        "print(lst)"
      ],
      "metadata": {
        "colab": {
          "base_uri": "https://localhost:8080/"
        },
        "id": "j0bhxFNl28k8",
        "outputId": "4d5ecb76-77b9-4762-9de0-b2e6d2767f05"
      },
      "execution_count": 2,
      "outputs": [
        {
          "output_type": "stream",
          "name": "stdout",
          "text": [
            "[1, 2, 3, 4, 5]\n"
          ]
        }
      ]
    },
    {
      "cell_type": "code",
      "source": [
        "len.__doc__"
      ],
      "metadata": {
        "colab": {
          "base_uri": "https://localhost:8080/",
          "height": 35
        },
        "id": "j_06Y9bJ4CfZ",
        "outputId": "dfe6a651-b75f-45dc-8a86-dc9de2c05af9"
      },
      "execution_count": 13,
      "outputs": [
        {
          "output_type": "execute_result",
          "data": {
            "text/plain": [
              "'Return the number of items in a container.'"
            ],
            "application/vnd.google.colaboratory.intrinsic+json": {
              "type": "string"
            }
          },
          "metadata": {},
          "execution_count": 13
        }
      ]
    },
    {
      "cell_type": "code",
      "source": [
        "len.__name__"
      ],
      "metadata": {
        "colab": {
          "base_uri": "https://localhost:8080/",
          "height": 35
        },
        "id": "KtvdJUTS4LOp",
        "outputId": "b7967aa7-edb3-4419-d52a-51023c3a88f1"
      },
      "execution_count": 14,
      "outputs": [
        {
          "output_type": "execute_result",
          "data": {
            "text/plain": [
              "'len'"
            ],
            "application/vnd.google.colaboratory.intrinsic+json": {
              "type": "string"
            }
          },
          "metadata": {},
          "execution_count": 14
        }
      ]
    },
    {
      "cell_type": "code",
      "source": [
        "def add(a,b):\n",
        "  \"\"\"\n",
        "  This function adds two numbers\n",
        "  \"\"\"\n",
        "  return a+b"
      ],
      "metadata": {
        "id": "yxojeJl93DJQ"
      },
      "execution_count": 6,
      "outputs": []
    },
    {
      "cell_type": "code",
      "source": [
        "add.__name__"
      ],
      "metadata": {
        "colab": {
          "base_uri": "https://localhost:8080/",
          "height": 35
        },
        "id": "MIYvb38630p5",
        "outputId": "e6429d6a-116b-462e-fe1e-c28b6a772485"
      },
      "execution_count": 16,
      "outputs": [
        {
          "output_type": "execute_result",
          "data": {
            "text/plain": [
              "'add'"
            ],
            "application/vnd.google.colaboratory.intrinsic+json": {
              "type": "string"
            }
          },
          "metadata": {},
          "execution_count": 16
        }
      ]
    },
    {
      "cell_type": "code",
      "source": [
        "\n",
        "add.__doc__"
      ],
      "metadata": {
        "colab": {
          "base_uri": "https://localhost:8080/",
          "height": 35
        },
        "id": "WHWSDcGF3aEh",
        "outputId": "113c84ae-f91f-4756-feea-22c975258825"
      },
      "execution_count": 12,
      "outputs": [
        {
          "output_type": "execute_result",
          "data": {
            "text/plain": [
              "'\\n  This function adds two numbers\\n  '"
            ],
            "application/vnd.google.colaboratory.intrinsic+json": {
              "type": "string"
            }
          },
          "metadata": {},
          "execution_count": 12
        }
      ]
    },
    {
      "cell_type": "code",
      "source": [
        "dir(len)"
      ],
      "metadata": {
        "colab": {
          "base_uri": "https://localhost:8080/"
        },
        "id": "kTkZZrUM3iUD",
        "outputId": "a8974b2f-42fc-4a58-c0eb-64ad52811961"
      },
      "execution_count": 17,
      "outputs": [
        {
          "output_type": "execute_result",
          "data": {
            "text/plain": [
              "['__call__',\n",
              " '__class__',\n",
              " '__delattr__',\n",
              " '__dir__',\n",
              " '__doc__',\n",
              " '__eq__',\n",
              " '__format__',\n",
              " '__ge__',\n",
              " '__getattribute__',\n",
              " '__getstate__',\n",
              " '__gt__',\n",
              " '__hash__',\n",
              " '__init__',\n",
              " '__init_subclass__',\n",
              " '__le__',\n",
              " '__lt__',\n",
              " '__module__',\n",
              " '__name__',\n",
              " '__ne__',\n",
              " '__new__',\n",
              " '__qualname__',\n",
              " '__reduce__',\n",
              " '__reduce_ex__',\n",
              " '__repr__',\n",
              " '__self__',\n",
              " '__setattr__',\n",
              " '__sizeof__',\n",
              " '__str__',\n",
              " '__subclasshook__',\n",
              " '__text_signature__']"
            ]
          },
          "metadata": {},
          "execution_count": 17
        }
      ]
    },
    {
      "cell_type": "code",
      "source": [
        "# decorators\n",
        "# 1. modifying behaviour of original func\n",
        "# 2. extend behvaiour\n"
      ],
      "metadata": {
        "id": "rzVWC8Xd4nug"
      },
      "execution_count": null,
      "outputs": []
    },
    {
      "cell_type": "code",
      "source": [
        "def say_hello():\n",
        "  print(\"hello\")"
      ],
      "metadata": {
        "id": "fUKEj1ya5WXa"
      },
      "execution_count": 36,
      "outputs": []
    },
    {
      "cell_type": "code",
      "source": [
        "def say_hello():\n",
        "  print(\"hello\")"
      ],
      "metadata": {
        "id": "-LOAmcQB5pxy"
      },
      "execution_count": 57,
      "outputs": []
    },
    {
      "cell_type": "code",
      "source": [
        "def say_bye():\n",
        "  print(\"bye\")"
      ],
      "metadata": {
        "id": "kC_OpYNO53JJ"
      },
      "execution_count": 58,
      "outputs": []
    },
    {
      "cell_type": "code",
      "source": [
        "def custom_decorator(x):\n",
        "  def custom_wrapper():\n",
        "    print(\"Hi there, let's start\")\n",
        "    x()\n",
        "  return custom_wrapper"
      ],
      "metadata": {
        "id": "NTNNUSU66EAA"
      },
      "execution_count": 59,
      "outputs": []
    },
    {
      "cell_type": "code",
      "source": [
        "y = custom_decorator(say_hello)\n",
        "print(type(y))\n",
        "y() #--> wrapper()"
      ],
      "metadata": {
        "colab": {
          "base_uri": "https://localhost:8080/"
        },
        "id": "SPu5ThKa6jUA",
        "outputId": "4e0dca2d-fc3d-43c8-992a-359315a798e5"
      },
      "execution_count": 60,
      "outputs": [
        {
          "output_type": "stream",
          "name": "stdout",
          "text": [
            "<class 'function'>\n",
            "Hi there, let's start\n",
            "hello\n"
          ]
        }
      ]
    },
    {
      "cell_type": "code",
      "source": [
        "@custom_decorator\n",
        "def say_hello():\n",
        "  print(\"hello\")"
      ],
      "metadata": {
        "id": "Qr3Py2aD8nla"
      },
      "execution_count": 62,
      "outputs": []
    },
    {
      "cell_type": "code",
      "source": [
        "say_hello()"
      ],
      "metadata": {
        "colab": {
          "base_uri": "https://localhost:8080/"
        },
        "id": "-9R7BJwn8nYn",
        "outputId": "b4c7deb6-7940-443d-9354-cfc8401181eb"
      },
      "execution_count": 47,
      "outputs": [
        {
          "output_type": "stream",
          "name": "stdout",
          "text": [
            "Hi there, let's start\n",
            "hello\n"
          ]
        }
      ]
    },
    {
      "cell_type": "code",
      "source": [
        "def say_hello():\n",
        "  print(\"hello\")\n",
        "\n",
        "\n",
        "def decorator2(func):\n",
        "  print(\"Hi there, let's start\")\n",
        "  return func()\n"
      ],
      "metadata": {
        "id": "dNwOaks79cv-"
      },
      "execution_count": 67,
      "outputs": []
    },
    {
      "cell_type": "code",
      "source": [
        "decorator2(say_hello)"
      ],
      "metadata": {
        "colab": {
          "base_uri": "https://localhost:8080/"
        },
        "id": "0ADjFgfx9uo0",
        "outputId": "e1f95331-a3ef-4861-8968-fa4dc73be120"
      },
      "execution_count": 68,
      "outputs": [
        {
          "output_type": "stream",
          "name": "stdout",
          "text": [
            "Hi there, let's start\n",
            "hello\n"
          ]
        }
      ]
    },
    {
      "cell_type": "code",
      "source": [
        "del y"
      ],
      "metadata": {
        "id": "AgIAiNUZ9--q"
      },
      "execution_count": 104,
      "outputs": []
    },
    {
      "cell_type": "code",
      "source": [
        "def decorator(func):\n",
        "  def wrapper(*args):\n",
        "    return func(*args)+10\n",
        "  return wrapper\n",
        "\n",
        "@decorator\n",
        "def add(a,b):\n",
        "  return a+b"
      ],
      "metadata": {
        "id": "EPZ0zZVi-XVr"
      },
      "execution_count": 116,
      "outputs": []
    },
    {
      "cell_type": "code",
      "source": [
        "add(10,20)"
      ],
      "metadata": {
        "colab": {
          "base_uri": "https://localhost:8080/"
        },
        "id": "ib9VeH1vAAD0",
        "outputId": "e7794902-e199-4c00-f467-5587c614fce3"
      },
      "execution_count": 106,
      "outputs": [
        {
          "output_type": "execute_result",
          "data": {
            "text/plain": [
              "40"
            ]
          },
          "metadata": {},
          "execution_count": 106
        }
      ]
    },
    {
      "cell_type": "code",
      "source": [
        "y = decorator(add)\n",
        "y(10,20)"
      ],
      "metadata": {
        "colab": {
          "base_uri": "https://localhost:8080/"
        },
        "id": "719-VWU0-ypL",
        "outputId": "26f07514-0ac1-4e77-9c11-752bc33da43d"
      },
      "execution_count": 107,
      "outputs": [
        {
          "output_type": "execute_result",
          "data": {
            "text/plain": [
              "50"
            ]
          },
          "metadata": {},
          "execution_count": 107
        }
      ]
    },
    {
      "cell_type": "code",
      "source": [
        "def decorator(func):\n",
        "  def wrapper(*args,**kwargs):\n",
        "    return func(*args,**kwargs)+str(10)\n",
        "  return wrapper\n",
        "\n",
        "@decorator\n",
        "def add2(num1,num2,name=\"alice\"):\n",
        "  return str(num1)+str(num2)+name"
      ],
      "metadata": {
        "id": "WAiNZso0A2nR"
      },
      "execution_count": 123,
      "outputs": []
    },
    {
      "cell_type": "code",
      "source": [
        "add2(10,20)"
      ],
      "metadata": {
        "colab": {
          "base_uri": "https://localhost:8080/",
          "height": 35
        },
        "id": "Ld_evqY9BPdp",
        "outputId": "58ed87d7-9f3f-49c5-bf08-e70704dfb4c6"
      },
      "execution_count": 124,
      "outputs": [
        {
          "output_type": "execute_result",
          "data": {
            "text/plain": [
              "'1020alice10'"
            ],
            "application/vnd.google.colaboratory.intrinsic+json": {
              "type": "string"
            }
          },
          "metadata": {},
          "execution_count": 124
        }
      ]
    },
    {
      "cell_type": "code",
      "source": [
        "add2(10,20,name=\"bob\")"
      ],
      "metadata": {
        "colab": {
          "base_uri": "https://localhost:8080/",
          "height": 35
        },
        "id": "8WTlozZdCAbj",
        "outputId": "8f6a7c16-72ab-41f0-eb2a-bc6b4cdbbc3d"
      },
      "execution_count": 125,
      "outputs": [
        {
          "output_type": "execute_result",
          "data": {
            "text/plain": [
              "'1020bob10'"
            ],
            "application/vnd.google.colaboratory.intrinsic+json": {
              "type": "string"
            }
          },
          "metadata": {},
          "execution_count": 125
        }
      ]
    },
    {
      "cell_type": "code",
      "source": [
        "def summ(n,m):\n",
        "  return n+m"
      ],
      "metadata": {
        "id": "_JfzxaZUDJZM"
      },
      "execution_count": 126,
      "outputs": []
    },
    {
      "cell_type": "code",
      "source": [
        "import time\n",
        "\n",
        "t1 = time.time()\n",
        "summ(10,20)\n",
        "t2 = time.time()\n",
        "exc_time = t2-t1\n",
        "exc_time"
      ],
      "metadata": {
        "colab": {
          "base_uri": "https://localhost:8080/"
        },
        "id": "VGni2Tw6DXBc",
        "outputId": "f6407f25-7974-4a82-d5b7-b10e2047df19"
      },
      "execution_count": 130,
      "outputs": [
        {
          "output_type": "execute_result",
          "data": {
            "text/plain": [
              "8.344650268554688e-05"
            ]
          },
          "metadata": {},
          "execution_count": 130
        }
      ]
    },
    {
      "cell_type": "code",
      "source": [
        "def multi(p,q,r):\n",
        "  return p*q*r"
      ],
      "metadata": {
        "id": "YC0t5WnXDm6u"
      },
      "execution_count": 133,
      "outputs": []
    },
    {
      "cell_type": "code",
      "source": [
        "t1 = time.time()\n",
        "multi(10,20,30)\n",
        "t2 = time.time()\n",
        "exc_time = t2-t1\n",
        "exc_time"
      ],
      "metadata": {
        "colab": {
          "base_uri": "https://localhost:8080/"
        },
        "id": "6UGFYglmDsNr",
        "outputId": "1bc70a5d-ace1-41a6-bdaf-580cd45dcd8e"
      },
      "execution_count": 135,
      "outputs": [
        {
          "output_type": "execute_result",
          "data": {
            "text/plain": [
              "0.00010204315185546875"
            ]
          },
          "metadata": {},
          "execution_count": 135
        }
      ]
    },
    {
      "cell_type": "code",
      "source": [
        "def time_decorator(func):\n",
        "  def wrapper(*args,**kwargs):\n",
        "    t1 = time.time()\n",
        "    func(*args,**kwargs)\n",
        "    t2 = time.time()\n",
        "    exc_time = t2-t1\n",
        "    print(f\"execution time for function {func.__name__} is {exc_time}\")\n",
        "    return func(*args,**kwargs)\n",
        "  return wrapper"
      ],
      "metadata": {
        "id": "vK211DDUD2iU"
      },
      "execution_count": 156,
      "outputs": []
    },
    {
      "cell_type": "code",
      "source": [
        "def multi(p,q,r):\n",
        "  return p*q*r\n",
        "\n",
        "\n",
        "dec = time_decorator(multi)\n",
        "dec(10,20,30)"
      ],
      "metadata": {
        "colab": {
          "base_uri": "https://localhost:8080/"
        },
        "id": "_F_GlWSvFUVU",
        "outputId": "534b1b01-015b-4544-aa64-09ffdb38b7fb"
      },
      "execution_count": 157,
      "outputs": [
        {
          "output_type": "stream",
          "name": "stdout",
          "text": [
            "execution time for function multi is 1.6689300537109375e-06\n"
          ]
        },
        {
          "output_type": "execute_result",
          "data": {
            "text/plain": [
              "6000"
            ]
          },
          "metadata": {},
          "execution_count": 157
        }
      ]
    },
    {
      "cell_type": "code",
      "source": [
        "@time_decorator\n",
        "def multi(p,q,r):\n",
        "  return p*q*r"
      ],
      "metadata": {
        "id": "EdcY0D-PEgDU"
      },
      "execution_count": 158,
      "outputs": []
    },
    {
      "cell_type": "code",
      "source": [
        "multi(1,2,3)"
      ],
      "metadata": {
        "colab": {
          "base_uri": "https://localhost:8080/"
        },
        "id": "JOsuGdj5EjnU",
        "outputId": "5586b641-c08a-4d43-c5a2-be67f726cd3e"
      },
      "execution_count": 159,
      "outputs": [
        {
          "output_type": "stream",
          "name": "stdout",
          "text": [
            "execution time for function multi is 1.1920928955078125e-06\n"
          ]
        },
        {
          "output_type": "execute_result",
          "data": {
            "text/plain": [
              "6"
            ]
          },
          "metadata": {},
          "execution_count": 159
        }
      ]
    },
    {
      "cell_type": "code",
      "source": [
        "@time_decorator\n",
        "def summ(n,m):\n",
        "  return n+m\n",
        "\n",
        "\n",
        "summ(10,20)"
      ],
      "metadata": {
        "colab": {
          "base_uri": "https://localhost:8080/"
        },
        "id": "qiGFZRjOEmQu",
        "outputId": "0cdfc7c5-f1fc-4713-8d66-03e6b20959bf"
      },
      "execution_count": 160,
      "outputs": [
        {
          "output_type": "stream",
          "name": "stdout",
          "text": [
            "execution time for function summ is 9.5367431640625e-07\n"
          ]
        },
        {
          "output_type": "execute_result",
          "data": {
            "text/plain": [
              "30"
            ]
          },
          "metadata": {},
          "execution_count": 160
        }
      ]
    },
    {
      "cell_type": "code",
      "source": [
        "d = time_decorator(factorial)"
      ],
      "metadata": {
        "id": "yqyDgTONHjAS"
      },
      "execution_count": null,
      "outputs": []
    },
    {
      "cell_type": "code",
      "source": [
        "d -- wrapper\n",
        " fact\n",
        " wrapper"
      ],
      "metadata": {
        "id": "KQ0KxC5gJFty"
      },
      "execution_count": null,
      "outputs": []
    },
    {
      "cell_type": "code",
      "source": [
        "def time_decorator(func):\n",
        "  def wrapper(*args,**kwargs):\n",
        "    t1 = time.time()\n",
        "    func(*args,**kwargs)\n",
        "    t2 = time.time()\n",
        "    exc_time = t2-t1\n",
        "    print(f\"execution time for function {func.__name__} is {exc_time}\")\n",
        "    return func(*args,**kwargs)\n",
        "  return wrapper\n",
        "\n",
        "\n",
        "@time_decorator\n",
        "def factorial(n):\n",
        "  if n==0 or n==1:\n",
        "    return 1\n",
        "  else:\n",
        "    return n*factorial(n-1)\n",
        "\n",
        "factorial(4)"
      ],
      "metadata": {
        "colab": {
          "base_uri": "https://localhost:8080/"
        },
        "id": "Kqcwkn6zEsMg",
        "outputId": "9b5668e7-c8d0-4009-cf6a-3b98f81ea4f3"
      },
      "execution_count": 171,
      "outputs": [
        {
          "output_type": "stream",
          "name": "stdout",
          "text": [
            "execution time for function factorial is 7.152557373046875e-07\n",
            "execution time for function factorial is 0.00010514259338378906\n",
            "execution time for function factorial is 7.152557373046875e-07\n",
            "execution time for function factorial is 0.00016689300537109375\n",
            "execution time for function factorial is 4.76837158203125e-07\n",
            "execution time for function factorial is 4.124641418457031e-05\n",
            "execution time for function factorial is 9.5367431640625e-07\n",
            "execution time for function factorial is 0.0007460117340087891\n",
            "execution time for function factorial is 4.76837158203125e-07\n",
            "execution time for function factorial is 2.5033950805664062e-05\n",
            "execution time for function factorial is 4.76837158203125e-07\n",
            "execution time for function factorial is 0.005678415298461914\n",
            "execution time for function factorial is 9.5367431640625e-07\n",
            "execution time for function factorial is 4.029273986816406e-05\n",
            "execution time for function factorial is 4.76837158203125e-07\n"
          ]
        },
        {
          "output_type": "execute_result",
          "data": {
            "text/plain": [
              "24"
            ]
          },
          "metadata": {},
          "execution_count": 171
        }
      ]
    },
    {
      "cell_type": "code",
      "source": [
        "def factorial(n):\n",
        "  if n==0 or n==1:\n",
        "    print(\"print\")\n",
        "    return 1\n",
        "  else:\n",
        "    print(\"print2\")\n",
        "    return n*factorial(n-1)"
      ],
      "metadata": {
        "id": "TtGS3-eoE8E0"
      },
      "execution_count": 166,
      "outputs": []
    },
    {
      "cell_type": "code",
      "source": [
        "factorial(2)"
      ],
      "metadata": {
        "colab": {
          "base_uri": "https://localhost:8080/"
        },
        "id": "WZjgGQICIe2y",
        "outputId": "ae8116aa-c23d-4271-d596-2351606a0e14"
      },
      "execution_count": 167,
      "outputs": [
        {
          "output_type": "stream",
          "name": "stdout",
          "text": [
            "print2\n",
            "print\n"
          ]
        },
        {
          "output_type": "execute_result",
          "data": {
            "text/plain": [
              "2"
            ]
          },
          "metadata": {},
          "execution_count": 167
        }
      ]
    },
    {
      "cell_type": "code",
      "source": [
        "def time_decorator(func):\n",
        "  def wrapper(*args,**kwargs):\n",
        "    t1 = time.time()\n",
        "    func(*args,**kwargs)\n",
        "    t2 = time.time()\n",
        "    exc_time = t2-t1\n",
        "    print(f\"execution time for function {func.__name__} is {exc_time}\")\n",
        "    return func(*args,**kwargs)\n",
        "  return wrapper\n",
        "\n",
        "\n",
        "@time_decorator\n",
        "def add(n,m):\n",
        "  return n+m\n",
        "\n",
        "add(10,20)"
      ],
      "metadata": {
        "colab": {
          "base_uri": "https://localhost:8080/"
        },
        "id": "Zi7skKFbIq0K",
        "outputId": "6de47e75-a32f-41b3-814c-37db72413c42"
      },
      "execution_count": 183,
      "outputs": [
        {
          "output_type": "stream",
          "name": "stdout",
          "text": [
            "execution time for function add is 1.1920928955078125e-06\n"
          ]
        },
        {
          "output_type": "execute_result",
          "data": {
            "text/plain": [
              "30"
            ]
          },
          "metadata": {},
          "execution_count": 183
        }
      ]
    },
    {
      "cell_type": "code",
      "source": [
        "s = add(10,20)\n",
        "s"
      ],
      "metadata": {
        "colab": {
          "base_uri": "https://localhost:8080/"
        },
        "id": "atFwX12PLPGU",
        "outputId": "de0c8788-4300-4253-ac11-5ab699b6061a"
      },
      "execution_count": 184,
      "outputs": [
        {
          "output_type": "stream",
          "name": "stdout",
          "text": [
            "execution time for function add is 1.6689300537109375e-06\n"
          ]
        },
        {
          "output_type": "execute_result",
          "data": {
            "text/plain": [
              "30"
            ]
          },
          "metadata": {},
          "execution_count": 184
        }
      ]
    },
    {
      "cell_type": "code",
      "source": [
        "time_decorator(add(10,20))"
      ],
      "metadata": {
        "colab": {
          "base_uri": "https://localhost:8080/",
          "height": 121
        },
        "id": "ATBmQ6kCL7KP",
        "outputId": "6fe74595-52e7-4d3f-a307-87b2581bba46"
      },
      "execution_count": 185,
      "outputs": [
        {
          "output_type": "stream",
          "name": "stdout",
          "text": [
            "execution time for function add is 1.6689300537109375e-06\n"
          ]
        },
        {
          "output_type": "execute_result",
          "data": {
            "text/plain": [
              "<function __main__.time_decorator.<locals>.wrapper(*args, **kwargs)>"
            ],
            "text/html": [
              "<div style=\"max-width:800px; border: 1px solid var(--colab-border-color);\"><style>\n",
              "      pre.function-repr-contents {\n",
              "        overflow-x: auto;\n",
              "        padding: 8px 12px;\n",
              "        max-height: 500px;\n",
              "      }\n",
              "\n",
              "      pre.function-repr-contents.function-repr-contents-collapsed {\n",
              "        cursor: pointer;\n",
              "        max-height: 100px;\n",
              "      }\n",
              "    </style>\n",
              "    <pre style=\"white-space: initial; background:\n",
              "         var(--colab-secondary-surface-color); padding: 8px 12px;\n",
              "         border-bottom: 1px solid var(--colab-border-color);\"><b>time_decorator.&lt;locals&gt;.wrapper</b><br/>def wrapper(*args, **kwargs)</pre><pre class=\"function-repr-contents function-repr-contents-collapsed\" style=\"\"><a class=\"filepath\" style=\"display:none\" href=\"#\">/content/&lt;ipython-input-183-089e0fc67d39&gt;</a>&lt;no docstring&gt;</pre></div>"
            ]
          },
          "metadata": {},
          "execution_count": 185
        }
      ]
    },
    {
      "cell_type": "code",
      "source": [],
      "metadata": {
        "id": "4X9EWP73M4AC"
      },
      "execution_count": null,
      "outputs": []
    },
    {
      "cell_type": "code",
      "source": [
        "def dec(fun):\n",
        "  def wrapper(*args,**kwargs):\n",
        "    print(\"before\")\n",
        "    fun(*args,**kwargs)\n",
        "    print(\"after\")\n",
        "  return wrapper\n",
        "\n",
        "\n",
        "\n",
        "@dec\n",
        "def add(a,b):\n",
        "  print(a+b)\n",
        "\n",
        "\n",
        "add(10,20)"
      ],
      "metadata": {
        "colab": {
          "base_uri": "https://localhost:8080/"
        },
        "id": "WJMYeK5INCp7",
        "outputId": "449252a0-88cb-4f76-ee22-08a3d8a0d79b"
      },
      "execution_count": 186,
      "outputs": [
        {
          "output_type": "stream",
          "name": "stdout",
          "text": [
            "before\n",
            "30\n",
            "after\n"
          ]
        }
      ]
    },
    {
      "cell_type": "code",
      "source": [],
      "metadata": {
        "id": "3tLia_-uNhSK"
      },
      "execution_count": null,
      "outputs": []
    },
    {
      "cell_type": "code",
      "source": [
        "import logging"
      ],
      "metadata": {
        "id": "-xupIWgbNhpQ"
      },
      "execution_count": 187,
      "outputs": []
    },
    {
      "cell_type": "code",
      "source": [
        "def divide(n,m):\n",
        "  return n/m\n",
        "\n",
        "logging.basicConfig(level=logging.INFO,filename = \"test.log\")\n",
        "logging.info(\"this is info message\")\n",
        "\n"
      ],
      "metadata": {
        "id": "9vo7TLk2NsGd"
      },
      "execution_count": 190,
      "outputs": []
    }
  ]
}