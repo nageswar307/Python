{
  "nbformat": 4,
  "nbformat_minor": 0,
  "metadata": {
    "colab": {
      "provenance": [],
      "authorship_tag": "ABX9TyOkbv8MeC2q0VkAjhqhgedp",
      "include_colab_link": true
    },
    "kernelspec": {
      "name": "python3",
      "display_name": "Python 3"
    },
    "language_info": {
      "name": "python"
    }
  },
  "cells": [
    {
      "cell_type": "markdown",
      "metadata": {
        "id": "view-in-github",
        "colab_type": "text"
      },
      "source": [
        "<a href=\"https://colab.research.google.com/github/nageswar307/Python/blob/main/Day22.ipynb\" target=\"_parent\"><img src=\"https://colab.research.google.com/assets/colab-badge.svg\" alt=\"Open In Colab\"/></a>"
      ]
    },
    {
      "cell_type": "code",
      "execution_count": 1,
      "metadata": {
        "id": "1TRZ43HHkMs_"
      },
      "outputs": [],
      "source": [
        "# Modularity\n",
        "#Recusability\n",
        "#Scalability\n"
      ]
    },
    {
      "cell_type": "code",
      "source": [
        "class Animal: # Parent class, super class\n",
        "  def __init__(self):\n",
        "    print(\"Animal created\")\n",
        "\n",
        "  def speak(self):\n",
        "    print(\"Animal speaks\")\n",
        "\n",
        "class Dog(Animal): # child class, sub class\n",
        "  pass"
      ],
      "metadata": {
        "id": "vKtIMww3niMO"
      },
      "execution_count": 7,
      "outputs": []
    },
    {
      "cell_type": "code",
      "source": [
        "dog = Dog()\n",
        "dog.speak()"
      ],
      "metadata": {
        "colab": {
          "base_uri": "https://localhost:8080/"
        },
        "id": "PSsnNUn6oNo5",
        "outputId": "771ff98c-5486-4c69-af16-b0a05c99c82b"
      },
      "execution_count": 8,
      "outputs": [
        {
          "output_type": "stream",
          "name": "stdout",
          "text": [
            "Animal created\n",
            "Animal speaks\n"
          ]
        }
      ]
    },
    {
      "cell_type": "code",
      "source": [
        "class A:\n",
        "  def greetA(self):\n",
        "    print(\"Hello from class A\")\n",
        "\n",
        "class B:\n",
        "  def greetB(self):\n",
        "    print(\"Hello from class B\")\n",
        "\n",
        "class C(A,B):\n",
        "  pass\n",
        "\n",
        "c = C()\n",
        "c.greetA()"
      ],
      "metadata": {
        "colab": {
          "base_uri": "https://localhost:8080/"
        },
        "id": "tANZIyQxpMCr",
        "outputId": "080e171c-14a9-4e66-9a49-12fc572d4a54"
      },
      "execution_count": 9,
      "outputs": [
        {
          "output_type": "stream",
          "name": "stdout",
          "text": [
            "Hello from class A\n"
          ]
        }
      ]
    },
    {
      "cell_type": "code",
      "source": [
        "c.greetB()"
      ],
      "metadata": {
        "colab": {
          "base_uri": "https://localhost:8080/"
        },
        "id": "tc6tbPowpzJn",
        "outputId": "276780d6-0e7e-490d-a0c4-4de43391359d"
      },
      "execution_count": 10,
      "outputs": [
        {
          "output_type": "stream",
          "name": "stdout",
          "text": [
            "Hello from class B\n"
          ]
        }
      ]
    },
    {
      "cell_type": "code",
      "source": [
        "class A:\n",
        "  def greet(self):\n",
        "    print(\"Hello from class A\")\n",
        "\n",
        "class B:\n",
        "  def greet(self):\n",
        "    print(\"Hello from class B\")\n",
        "\n",
        "class C(A,B):\n",
        "  pass\n",
        "\n",
        "c = C()\n",
        "c.greet()"
      ],
      "metadata": {
        "colab": {
          "base_uri": "https://localhost:8080/"
        },
        "id": "L1yty0zyp4_q",
        "outputId": "f73a7f21-a07b-4b9f-a917-fc949df1fb51"
      },
      "execution_count": 11,
      "outputs": [
        {
          "output_type": "stream",
          "name": "stdout",
          "text": [
            "Hello from class A\n"
          ]
        }
      ]
    },
    {
      "cell_type": "code",
      "source": [
        "help(c)"
      ],
      "metadata": {
        "colab": {
          "base_uri": "https://localhost:8080/"
        },
        "id": "WqT5EfjfqL82",
        "outputId": "87f376b3-9114-4b48-92ce-3a7d80af6844"
      },
      "execution_count": 12,
      "outputs": [
        {
          "output_type": "stream",
          "name": "stdout",
          "text": [
            "Help on C in module __main__ object:\n",
            "\n",
            "class C(A, B)\n",
            " |  Method resolution order:\n",
            " |      C\n",
            " |      A\n",
            " |      B\n",
            " |      builtins.object\n",
            " |  \n",
            " |  Methods inherited from A:\n",
            " |  \n",
            " |  greet(self)\n",
            " |  \n",
            " |  ----------------------------------------------------------------------\n",
            " |  Data descriptors inherited from A:\n",
            " |  \n",
            " |  __dict__\n",
            " |      dictionary for instance variables\n",
            " |  \n",
            " |  __weakref__\n",
            " |      list of weak references to the object\n",
            "\n"
          ]
        }
      ]
    },
    {
      "cell_type": "code",
      "source": [
        "class A:\n",
        "  pass\n",
        "\n",
        "class B:\n",
        "  def greet(self):\n",
        "    print(\"Hello from class B\")\n",
        "\n",
        "class C(A,B):\n",
        "  pass\n",
        "\n",
        "c = C()\n",
        "c.greet()"
      ],
      "metadata": {
        "colab": {
          "base_uri": "https://localhost:8080/"
        },
        "id": "_9365Eu0qRk8",
        "outputId": "e31cc29b-7a15-439b-8ded-2774366988a1"
      },
      "execution_count": 15,
      "outputs": [
        {
          "output_type": "stream",
          "name": "stdout",
          "text": [
            "Hello from class B\n"
          ]
        }
      ]
    },
    {
      "cell_type": "code",
      "source": [
        "class A:\n",
        "  def greet(self):\n",
        "    print(\"Hello from class A\")\n",
        "\n",
        "class B(A):\n",
        "  pass\n",
        "\n",
        "class C(B):\n",
        "  pass\n",
        "\n",
        "c = C()\n",
        "c.greet()"
      ],
      "metadata": {
        "colab": {
          "base_uri": "https://localhost:8080/"
        },
        "id": "Os2cOEJDq92b",
        "outputId": "aeff9cd9-19ed-4cc5-935e-a0cb2681076e"
      },
      "execution_count": 2,
      "outputs": [
        {
          "output_type": "stream",
          "name": "stdout",
          "text": [
            "Hello from class A\n"
          ]
        }
      ]
    },
    {
      "cell_type": "code",
      "source": [
        "help(c)"
      ],
      "metadata": {
        "colab": {
          "base_uri": "https://localhost:8080/"
        },
        "id": "vwfvAupyrPIX",
        "outputId": "6598b1cd-78c9-4e10-e65a-0977fec9d0e4"
      },
      "execution_count": 17,
      "outputs": [
        {
          "output_type": "stream",
          "name": "stdout",
          "text": [
            "Help on C in module __main__ object:\n",
            "\n",
            "class C(B)\n",
            " |  Method resolution order:\n",
            " |      C\n",
            " |      B\n",
            " |      A\n",
            " |      builtins.object\n",
            " |  \n",
            " |  Data descriptors inherited from A:\n",
            " |  \n",
            " |  __dict__\n",
            " |      dictionary for instance variables\n",
            " |  \n",
            " |  __weakref__\n",
            " |      list of weak references to the object\n",
            "\n"
          ]
        }
      ]
    },
    {
      "cell_type": "code",
      "source": [
        "#\n",
        "2+3\n",
        "\"a\"+\"b\""
      ],
      "metadata": {
        "id": "6NN-Si3Irpq2"
      },
      "execution_count": null,
      "outputs": []
    },
    {
      "cell_type": "code",
      "source": [
        "class Dog:\n",
        "  def speak(self):\n",
        "    print(\"Woof!\")\n",
        "\n",
        "class Cat:\n",
        "  def speak(self):\n",
        "    print(\"Meow!\")\n",
        "\n",
        "dog = Dog()\n",
        "cat = Cat()"
      ],
      "metadata": {
        "id": "xzAl61_uspWY"
      },
      "execution_count": 4,
      "outputs": []
    },
    {
      "cell_type": "code",
      "source": [
        "def animal_sound(x):\n",
        "  x.speak()"
      ],
      "metadata": {
        "id": "oMIyKD-ss1pY"
      },
      "execution_count": 5,
      "outputs": []
    },
    {
      "cell_type": "code",
      "source": [
        "animal_sound(dog)\n",
        "animal_sound(cat)"
      ],
      "metadata": {
        "colab": {
          "base_uri": "https://localhost:8080/"
        },
        "id": "HJtL9D5xtKd7",
        "outputId": "bd8191d4-500a-423b-aac6-7b7b3b5a51fe"
      },
      "execution_count": 6,
      "outputs": [
        {
          "output_type": "stream",
          "name": "stdout",
          "text": [
            "Woof!\n",
            "Meow!\n"
          ]
        }
      ]
    },
    {
      "cell_type": "code",
      "source": [
        "animal_sound(10)"
      ],
      "metadata": {
        "colab": {
          "base_uri": "https://localhost:8080/",
          "height": 211
        },
        "id": "hyutGQCityi2",
        "outputId": "ea32b8c9-58da-46b9-885f-674a0ca7b0ca"
      },
      "execution_count": 7,
      "outputs": [
        {
          "output_type": "error",
          "ename": "AttributeError",
          "evalue": "'int' object has no attribute 'speak'",
          "traceback": [
            "\u001b[0;31m---------------------------------------------------------------------------\u001b[0m",
            "\u001b[0;31mAttributeError\u001b[0m                            Traceback (most recent call last)",
            "\u001b[0;32m<ipython-input-7-77e4d56cbc4c>\u001b[0m in \u001b[0;36m<cell line: 0>\u001b[0;34m()\u001b[0m\n\u001b[0;32m----> 1\u001b[0;31m \u001b[0manimal_sound\u001b[0m\u001b[0;34m(\u001b[0m\u001b[0;36m10\u001b[0m\u001b[0;34m)\u001b[0m\u001b[0;34m\u001b[0m\u001b[0;34m\u001b[0m\u001b[0m\n\u001b[0m",
            "\u001b[0;32m<ipython-input-5-a4e24601cd0c>\u001b[0m in \u001b[0;36manimal_sound\u001b[0;34m(x)\u001b[0m\n\u001b[1;32m      1\u001b[0m \u001b[0;32mdef\u001b[0m \u001b[0manimal_sound\u001b[0m\u001b[0;34m(\u001b[0m\u001b[0mx\u001b[0m\u001b[0;34m)\u001b[0m\u001b[0;34m:\u001b[0m\u001b[0;34m\u001b[0m\u001b[0;34m\u001b[0m\u001b[0m\n\u001b[0;32m----> 2\u001b[0;31m   \u001b[0mx\u001b[0m\u001b[0;34m.\u001b[0m\u001b[0mspeak\u001b[0m\u001b[0;34m(\u001b[0m\u001b[0;34m)\u001b[0m\u001b[0;34m\u001b[0m\u001b[0;34m\u001b[0m\u001b[0m\n\u001b[0m",
            "\u001b[0;31mAttributeError\u001b[0m: 'int' object has no attribute 'speak'"
          ]
        }
      ]
    },
    {
      "cell_type": "code",
      "source": [],
      "metadata": {
        "id": "_plcUHWBt6hc"
      },
      "execution_count": null,
      "outputs": []
    },
    {
      "cell_type": "code",
      "source": [
        "2+3"
      ],
      "metadata": {
        "colab": {
          "base_uri": "https://localhost:8080/"
        },
        "id": "P_2J4_gqucjW",
        "outputId": "e729c8fc-66d6-4a84-dc34-467720cea08d"
      },
      "execution_count": 8,
      "outputs": [
        {
          "output_type": "execute_result",
          "data": {
            "text/plain": [
              "5"
            ]
          },
          "metadata": {},
          "execution_count": 8
        }
      ]
    },
    {
      "cell_type": "code",
      "source": [
        "int.__add__(2,3)"
      ],
      "metadata": {
        "colab": {
          "base_uri": "https://localhost:8080/"
        },
        "id": "qS0cVqWQue1O",
        "outputId": "1a7f60c4-222a-4cdc-8527-35ace1b29021"
      },
      "execution_count": 10,
      "outputs": [
        {
          "output_type": "execute_result",
          "data": {
            "text/plain": [
              "5"
            ]
          },
          "metadata": {},
          "execution_count": 10
        }
      ]
    },
    {
      "cell_type": "code",
      "source": [
        "str.__add__(\"a\",\"b\")"
      ],
      "metadata": {
        "colab": {
          "base_uri": "https://localhost:8080/",
          "height": 35
        },
        "id": "Wyd94LlOupZH",
        "outputId": "0faa3e7f-025c-42d5-e6e2-c94c851b5081"
      },
      "execution_count": 11,
      "outputs": [
        {
          "output_type": "execute_result",
          "data": {
            "text/plain": [
              "'ab'"
            ],
            "application/vnd.google.colaboratory.intrinsic+json": {
              "type": "string"
            }
          },
          "metadata": {},
          "execution_count": 11
        }
      ]
    },
    {
      "cell_type": "code",
      "source": [
        "x = 10\n",
        "x.__str__() #str(x)"
      ],
      "metadata": {
        "colab": {
          "base_uri": "https://localhost:8080/",
          "height": 35
        },
        "id": "RLlSAstZu3Rz",
        "outputId": "85cd9ee1-bd57-44cd-8520-b4878b080406"
      },
      "execution_count": 12,
      "outputs": [
        {
          "output_type": "execute_result",
          "data": {
            "text/plain": [
              "'10'"
            ],
            "application/vnd.google.colaboratory.intrinsic+json": {
              "type": "string"
            }
          },
          "metadata": {},
          "execution_count": 12
        }
      ]
    },
    {
      "cell_type": "code",
      "source": [
        "class Dog:\n",
        "  def speak(self):\n",
        "    print(\"Woof!\")\n",
        "\n",
        "\n",
        "dog = Dog()\n"
      ],
      "metadata": {
        "id": "t-A-7mJ3u9vu"
      },
      "execution_count": 13,
      "outputs": []
    },
    {
      "cell_type": "code",
      "source": [
        "dog.__str__()"
      ],
      "metadata": {
        "colab": {
          "base_uri": "https://localhost:8080/",
          "height": 35
        },
        "id": "TeaEuRRAvIwU",
        "outputId": "38a68f0d-7042-4e82-babd-35380f0f4717"
      },
      "execution_count": 14,
      "outputs": [
        {
          "output_type": "execute_result",
          "data": {
            "text/plain": [
              "'<__main__.Dog object at 0x7934559ed550>'"
            ],
            "application/vnd.google.colaboratory.intrinsic+json": {
              "type": "string"
            }
          },
          "metadata": {},
          "execution_count": 14
        }
      ]
    },
    {
      "cell_type": "code",
      "source": [
        "class Dog:\n",
        "  def speak(self):\n",
        "    print(\"Woof!\")\n",
        "\n",
        "  def __str__(self):\n",
        "    return \"its an object of Dog class\"\n",
        "\n",
        "\n",
        "dog = Dog()\n"
      ],
      "metadata": {
        "id": "rMtR4wrDvVHn"
      },
      "execution_count": 15,
      "outputs": []
    },
    {
      "cell_type": "code",
      "source": [
        "dog.__str__()"
      ],
      "metadata": {
        "colab": {
          "base_uri": "https://localhost:8080/",
          "height": 35
        },
        "id": "WA__sf5Lvewe",
        "outputId": "2f576aa6-dad3-4d1a-dc31-42206fece5d4"
      },
      "execution_count": 16,
      "outputs": [
        {
          "output_type": "execute_result",
          "data": {
            "text/plain": [
              "'its an object of Dog class'"
            ],
            "application/vnd.google.colaboratory.intrinsic+json": {
              "type": "string"
            }
          },
          "metadata": {},
          "execution_count": 16
        }
      ]
    },
    {
      "cell_type": "code",
      "source": [
        "class Dog:\n",
        "  def speak(self):\n",
        "    print(\"Woof!\")\n",
        "\n",
        "\n",
        "dog = Dog()\n"
      ],
      "metadata": {
        "id": "y9wdRgnHvlYX"
      },
      "execution_count": 17,
      "outputs": []
    },
    {
      "cell_type": "code",
      "source": [
        "print(dog)"
      ],
      "metadata": {
        "colab": {
          "base_uri": "https://localhost:8080/"
        },
        "id": "hNnwUxkHvpoX",
        "outputId": "b1da370b-1ce6-492e-f6c0-c930b726d448"
      },
      "execution_count": 18,
      "outputs": [
        {
          "output_type": "stream",
          "name": "stdout",
          "text": [
            "<__main__.Dog object at 0x793455a04e50>\n"
          ]
        }
      ]
    },
    {
      "cell_type": "code",
      "source": [
        "class Dog:\n",
        "  def speak(self):\n",
        "    print(\"Woof!\")\n",
        "\n",
        "  def __str__(self):\n",
        "    return \"its an object of Dog class\"\n",
        "\n",
        "  def __repr__(self):\n",
        "    return f\"Dog()\"\n",
        "\n",
        "\n",
        "dog = Dog()\n",
        "print(dog)"
      ],
      "metadata": {
        "colab": {
          "base_uri": "https://localhost:8080/"
        },
        "id": "PAQ34KW3vrRk",
        "outputId": "1fcc02b3-dd24-4ce6-c17c-32d10fc33056"
      },
      "execution_count": 21,
      "outputs": [
        {
          "output_type": "stream",
          "name": "stdout",
          "text": [
            "its an object of Dog class\n"
          ]
        }
      ]
    },
    {
      "cell_type": "code",
      "source": [
        "dog.__repr__()"
      ],
      "metadata": {
        "colab": {
          "base_uri": "https://localhost:8080/",
          "height": 35
        },
        "id": "qTlr7hALv0Nr",
        "outputId": "4f351eca-07fc-48a0-dcf8-b066d8587f45"
      },
      "execution_count": 22,
      "outputs": [
        {
          "output_type": "execute_result",
          "data": {
            "text/plain": [
              "'Dog()'"
            ],
            "application/vnd.google.colaboratory.intrinsic+json": {
              "type": "string"
            }
          },
          "metadata": {},
          "execution_count": 22
        }
      ]
    },
    {
      "cell_type": "code",
      "source": [
        "2<3"
      ],
      "metadata": {
        "colab": {
          "base_uri": "https://localhost:8080/"
        },
        "id": "EiBjo9_GwLug",
        "outputId": "52f90b3b-c19e-4061-9eb9-f4de0e1f47ce"
      },
      "execution_count": 23,
      "outputs": [
        {
          "output_type": "execute_result",
          "data": {
            "text/plain": [
              "True"
            ]
          },
          "metadata": {},
          "execution_count": 23
        }
      ]
    },
    {
      "cell_type": "code",
      "source": [
        "int.__gt__(2,3)"
      ],
      "metadata": {
        "colab": {
          "base_uri": "https://localhost:8080/"
        },
        "id": "zm_eJAfbwMyt",
        "outputId": "9794d453-3f3b-4288-da29-fc649d0ee665"
      },
      "execution_count": 25,
      "outputs": [
        {
          "output_type": "execute_result",
          "data": {
            "text/plain": [
              "False"
            ]
          },
          "metadata": {},
          "execution_count": 25
        }
      ]
    },
    {
      "cell_type": "code",
      "source": [
        "class Number():\n",
        "  def __init__(self,num):\n",
        "    self.num = num\n",
        "\n",
        "  def __gt__(self,other):\n",
        "    if not isinstance(other,Number):\n",
        "      return NotImplemented\n",
        "    return self.num > other.num\n",
        "\n",
        "n1 = Number(10)\n",
        "n2 = \"abc\""
      ],
      "metadata": {
        "id": "6bcZMcTywVgh"
      },
      "execution_count": 34,
      "outputs": []
    },
    {
      "cell_type": "code",
      "source": [
        "def func(num1,num2):\n",
        "  if num1>num2:\n",
        "    return \"num1 is gt num2\"\n",
        "  return \"num2 is gt num1\""
      ],
      "metadata": {
        "id": "dENSFrYCxjIw"
      },
      "execution_count": 36,
      "outputs": []
    },
    {
      "cell_type": "code",
      "source": [
        "func(20,10)"
      ],
      "metadata": {
        "colab": {
          "base_uri": "https://localhost:8080/",
          "height": 35
        },
        "id": "ha6PosLEx0BP",
        "outputId": "4341c927-7a32-4aa1-c811-3d252a4ee655"
      },
      "execution_count": 38,
      "outputs": [
        {
          "output_type": "execute_result",
          "data": {
            "text/plain": [
              "'num1 is gt num2'"
            ],
            "application/vnd.google.colaboratory.intrinsic+json": {
              "type": "string"
            }
          },
          "metadata": {},
          "execution_count": 38
        }
      ]
    },
    {
      "cell_type": "code",
      "source": [
        "x = 30\n",
        "y = 20\n",
        "x if x>y else y"
      ],
      "metadata": {
        "colab": {
          "base_uri": "https://localhost:8080/"
        },
        "id": "GDtzRi5fyA-8",
        "outputId": "c705d22a-8ca0-49b2-998a-0741be9c8e8c"
      },
      "execution_count": 40,
      "outputs": [
        {
          "output_type": "execute_result",
          "data": {
            "text/plain": [
              "30"
            ]
          },
          "metadata": {},
          "execution_count": 40
        }
      ]
    },
    {
      "cell_type": "code",
      "source": [
        "n1>n2"
      ],
      "metadata": {
        "colab": {
          "base_uri": "https://localhost:8080/",
          "height": 141
        },
        "id": "Ysqrj3jIwuDb",
        "outputId": "a3cf4508-7af7-4e82-bca4-dc1b5b17c6ff"
      },
      "execution_count": 35,
      "outputs": [
        {
          "output_type": "error",
          "ename": "TypeError",
          "evalue": "'>' not supported between instances of 'Number' and 'str'",
          "traceback": [
            "\u001b[0;31m---------------------------------------------------------------------------\u001b[0m",
            "\u001b[0;31mTypeError\u001b[0m                                 Traceback (most recent call last)",
            "\u001b[0;32m<ipython-input-35-5a986787f547>\u001b[0m in \u001b[0;36m<cell line: 0>\u001b[0;34m()\u001b[0m\n\u001b[0;32m----> 1\u001b[0;31m \u001b[0mn1\u001b[0m\u001b[0;34m>\u001b[0m\u001b[0mn2\u001b[0m\u001b[0;34m\u001b[0m\u001b[0;34m\u001b[0m\u001b[0m\n\u001b[0m",
            "\u001b[0;31mTypeError\u001b[0m: '>' not supported between instances of 'Number' and 'str'"
          ]
        }
      ]
    },
    {
      "cell_type": "code",
      "source": [],
      "metadata": {
        "id": "D1yc-LqKxfPg"
      },
      "execution_count": null,
      "outputs": []
    },
    {
      "cell_type": "code",
      "source": [
        "class User:\n",
        "  def __init__(self,name,email):\n",
        "    self.name = name\n",
        "    self.email = email\n",
        "\n",
        "  def login(self):\n",
        "    print(f\"{self.name} is logged in\")\n",
        "\n",
        "  def logout(self):\n",
        "    print(f\"{self.name} is logged out\")\n",
        "\n",
        "\n",
        "class Admin(User):\n",
        "  def __init__(self,name,email,permissions):\n",
        "    super().__init__(name,email)\n",
        "    self.permissions = permissions\n",
        "\n",
        "  def manage_user(self):\n",
        "    print(f\"{self.name} is managing users with permissions {self.permissions}\")\n",
        "\n",
        "\n",
        "class Customer(User):\n",
        "  def __init__(self,name,email,purchase_history=None):\n",
        "    super().__init__(name,email)\n",
        "    if purchase_history is None:\n",
        "      self.purchase_history = []\n",
        "    self.purchase_history = purchase_history\n",
        "\n",
        "\n",
        "  def login(self):\n",
        "    print(f\"{self.name} is logged in from Customer\")\n",
        "\n",
        "\n",
        "  def purchase(self,product):\n",
        "    self.purchase_history.append(product)\n",
        "    print(f\"{self.name} has purchased {product}\")\n",
        "\n",
        "  def view_purchase_history(self):\n",
        "    if self.purchase_history:\n",
        "      print(f\"{self.name}'s purchase history is {self.purchase_history}\")\n",
        "    else:\n",
        "      print(f\"{self.name} has no purchase history \")"
      ],
      "metadata": {
        "id": "L1xQTsv6ybPV"
      },
      "execution_count": 54,
      "outputs": []
    },
    {
      "cell_type": "code",
      "source": [
        "admin = Admin(\"name1\",\"email1\",\"admin\")\n",
        "admin.logout()"
      ],
      "metadata": {
        "colab": {
          "base_uri": "https://localhost:8080/"
        },
        "id": "8PTE_NuKzrWi",
        "outputId": "01132c3e-9d60-40a5-b322-abc75e6f9c0a"
      },
      "execution_count": 48,
      "outputs": [
        {
          "output_type": "stream",
          "name": "stdout",
          "text": [
            "name1 is logged out\n"
          ]
        }
      ]
    },
    {
      "cell_type": "code",
      "source": [
        "customer = Customer(\"name2\",\"email2\",[\"a\",\"b\"])\n",
        "customer.login()"
      ],
      "metadata": {
        "colab": {
          "base_uri": "https://localhost:8080/"
        },
        "id": "K85bDCcz1fWt",
        "outputId": "05c9dc53-283e-4253-e426-891f1b55a2dd"
      },
      "execution_count": 55,
      "outputs": [
        {
          "output_type": "stream",
          "name": "stdout",
          "text": [
            "name2 is logged in from Customer\n"
          ]
        }
      ]
    },
    {
      "cell_type": "code",
      "source": [
        "help(customer)"
      ],
      "metadata": {
        "colab": {
          "base_uri": "https://localhost:8080/"
        },
        "id": "aNCIMYaC3mT9",
        "outputId": "64e900ff-edb0-4bb5-9724-c52f5cdc08c8"
      },
      "execution_count": 56,
      "outputs": [
        {
          "output_type": "stream",
          "name": "stdout",
          "text": [
            "Help on Customer in module __main__ object:\n",
            "\n",
            "class Customer(User)\n",
            " |  Customer(name, email, purchase_history=None)\n",
            " |  \n",
            " |  Method resolution order:\n",
            " |      Customer\n",
            " |      User\n",
            " |      builtins.object\n",
            " |  \n",
            " |  Methods defined here:\n",
            " |  \n",
            " |  __init__(self, name, email, purchase_history=None)\n",
            " |      Initialize self.  See help(type(self)) for accurate signature.\n",
            " |  \n",
            " |  login(self)\n",
            " |  \n",
            " |  purchase(self, product)\n",
            " |  \n",
            " |  view_purchase_history(self)\n",
            " |  \n",
            " |  ----------------------------------------------------------------------\n",
            " |  Methods inherited from User:\n",
            " |  \n",
            " |  logout(self)\n",
            " |  \n",
            " |  ----------------------------------------------------------------------\n",
            " |  Data descriptors inherited from User:\n",
            " |  \n",
            " |  __dict__\n",
            " |      dictionary for instance variables\n",
            " |  \n",
            " |  __weakref__\n",
            " |      list of weak references to the object\n",
            "\n"
          ]
        }
      ]
    },
    {
      "cell_type": "code",
      "source": [],
      "metadata": {
        "id": "iL0UorL43qmb"
      },
      "execution_count": null,
      "outputs": []
    }
  ]
}