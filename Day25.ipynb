{
  "nbformat": 4,
  "nbformat_minor": 0,
  "metadata": {
    "colab": {
      "provenance": [],
      "authorship_tag": "ABX9TyNJPN6KrG7tdhGQLfZFTk+x",
      "include_colab_link": true
    },
    "kernelspec": {
      "name": "python3",
      "display_name": "Python 3"
    },
    "language_info": {
      "name": "python"
    }
  },
  "cells": [
    {
      "cell_type": "markdown",
      "metadata": {
        "id": "view-in-github",
        "colab_type": "text"
      },
      "source": [
        "<a href=\"https://colab.research.google.com/github/nageswar307/Python/blob/main/Day25.ipynb\" target=\"_parent\"><img src=\"https://colab.research.google.com/assets/colab-badge.svg\" alt=\"Open In Colab\"/></a>"
      ]
    },
    {
      "cell_type": "code",
      "execution_count": 1,
      "metadata": {
        "id": "vRRIKGI3RhNF"
      },
      "outputs": [],
      "source": [
        "# Event -\n",
        "# Simple Event -  where we get only one possible output\n",
        "# 3,5\n",
        "# Independent Event - two events are independent if the occurance of one event doesn't effect occurance of other event\n",
        "# Dependent Event -\n",
        "# Mutually Exclusive Events - two events are called as mutually exclusive events if they can't occur at the same time\n",
        "# Impossible or Certain Event -"
      ]
    },
    {
      "cell_type": "code",
      "source": [
        "# Axioms of Probability\n",
        "# 1. Probability of any event can never be negative or it is always >=0\n",
        "# 2. P(all events) = 1\n",
        "# 3. in case of mutually exclusive events P(H or T) = P(H)+P(T)"
      ],
      "metadata": {
        "id": "8p69Tv3uVOng"
      },
      "execution_count": 2,
      "outputs": []
    },
    {
      "cell_type": "code",
      "source": [
        "# Conditional Probability\n",
        "# This represents prob of an event occuring given that another event has already occured\n",
        "# P(E/A) = P(E^A)/P(A)\n"
      ],
      "metadata": {
        "id": "K1UEwRfXW3OA"
      },
      "execution_count": 3,
      "outputs": []
    },
    {
      "cell_type": "code",
      "source": [
        "# Random Variable(X) is a function that maps all possible outcomes to real values\n",
        "# It takes outcomes of an experiment as input and gives real values as output using some logic,function\n"
      ],
      "metadata": {
        "id": "s6rcGnPeYH1v"
      },
      "execution_count": 7,
      "outputs": []
    },
    {
      "cell_type": "code",
      "source": [
        "# Probability Distribution\n",
        "# it is list of all possible outcomes along with their probabilities\n"
      ],
      "metadata": {
        "id": "mq790aUvamZk"
      },
      "execution_count": null,
      "outputs": []
    },
    {
      "cell_type": "code",
      "source": [
        "# Expectation : weighted sum of prob * outcomes /sum of prob - E(X) ="
      ],
      "metadata": {
        "id": "7gqo9WQodGOk"
      },
      "execution_count": null,
      "outputs": []
    },
    {
      "cell_type": "code",
      "source": [],
      "metadata": {
        "id": "0nVXtuRcdffn"
      },
      "execution_count": null,
      "outputs": []
    },
    {
      "cell_type": "code",
      "source": [
        "import random\n",
        "\n",
        "random.choice((1,6))"
      ],
      "metadata": {
        "colab": {
          "base_uri": "https://localhost:8080/"
        },
        "id": "nSCnp2Zfcohi",
        "outputId": "390d6830-c5fa-4bd2-fa0c-26893119c219"
      },
      "execution_count": 6,
      "outputs": [
        {
          "output_type": "execute_result",
          "data": {
            "text/plain": [
              "6"
            ]
          },
          "metadata": {},
          "execution_count": 6
        }
      ]
    },
    {
      "cell_type": "code",
      "source": [
        "outcome ="
      ],
      "metadata": {
        "id": "h48adngsctVK"
      },
      "execution_count": null,
      "outputs": []
    }
  ]
}