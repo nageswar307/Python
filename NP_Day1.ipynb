{
  "nbformat": 4,
  "nbformat_minor": 0,
  "metadata": {
    "colab": {
      "provenance": [],
      "authorship_tag": "ABX9TyNRnKn8l8fwIh2nFON/XQ8v",
      "include_colab_link": true
    },
    "kernelspec": {
      "name": "python3",
      "display_name": "Python 3"
    },
    "language_info": {
      "name": "python"
    }
  },
  "cells": [
    {
      "cell_type": "markdown",
      "metadata": {
        "id": "view-in-github",
        "colab_type": "text"
      },
      "source": [
        "<a href=\"https://colab.research.google.com/github/nageswar307/Python/blob/main/NP_Day1.ipynb\" target=\"_parent\"><img src=\"https://colab.research.google.com/assets/colab-badge.svg\" alt=\"Open In Colab\"/></a>"
      ]
    },
    {
      "cell_type": "code",
      "execution_count": 1,
      "metadata": {
        "id": "RrxuBBFMnleo"
      },
      "outputs": [],
      "source": [
        "lst = [1,3.5,\"string\",[1,2,3]]\n",
        "\n",
        "lst = [1,2,3,4,5]\n",
        "lst = [1.2,3.4,2.5,6.7]\n",
        "lst = [\"a\",\"d\",\"w\"]\n",
        "\n"
      ]
    },
    {
      "cell_type": "code",
      "source": [
        "# lists are ordered collection of heterogenous items\n",
        "# numpy arrays are ordered collection of homogenous items"
      ],
      "metadata": {
        "id": "VKvWT5CloyXK"
      },
      "execution_count": 2,
      "outputs": []
    },
    {
      "cell_type": "code",
      "source": [
        "# list(range(size))"
      ],
      "metadata": {
        "id": "Qgl7ZVgppCH3"
      },
      "execution_count": 5,
      "outputs": []
    },
    {
      "cell_type": "code",
      "source": [
        "size = 1000\n",
        "\n",
        "lst1 = list(range(size))\n",
        "lst2 = list(range(size))"
      ],
      "metadata": {
        "id": "omTWYUIvpH_w"
      },
      "execution_count": 3,
      "outputs": []
    },
    {
      "cell_type": "code",
      "source": [
        "import numpy as np"
      ],
      "metadata": {
        "id": "jdAPDB-RphFj"
      },
      "execution_count": 7,
      "outputs": []
    },
    {
      "cell_type": "code",
      "source": [
        "arr1 = np.arange(size)\n",
        "arr2 = np.arange(size)"
      ],
      "metadata": {
        "id": "D0chXrmUp23P"
      },
      "execution_count": 8,
      "outputs": []
    },
    {
      "cell_type": "code",
      "source": [],
      "metadata": {
        "id": "xvv8Jbq2p_V-"
      },
      "execution_count": 9,
      "outputs": []
    },
    {
      "cell_type": "code",
      "source": [
        "lst1=[1,2,3]\n",
        "lst2=[1,2,3] #[1+1,2+2,3+3] [2,4,6]"
      ],
      "metadata": {
        "id": "5DoSUO_kqAF2"
      },
      "execution_count": 10,
      "outputs": []
    },
    {
      "cell_type": "code",
      "source": [
        "lst1+lst2"
      ],
      "metadata": {
        "colab": {
          "base_uri": "https://localhost:8080/"
        },
        "id": "bq25yN4UqOnl",
        "outputId": "ff6dcd94-2e36-4bb7-de17-8a600871acad"
      },
      "execution_count": 11,
      "outputs": [
        {
          "output_type": "execute_result",
          "data": {
            "text/plain": [
              "[1, 2, 3, 1, 2, 3]"
            ]
          },
          "metadata": {},
          "execution_count": 11
        }
      ]
    },
    {
      "cell_type": "code",
      "source": [
        "output = []\n",
        "for i in range(len(lst1)):\n",
        "  output.append(lst1[i]+lst2[i])\n",
        "    # print(lst1[i]+lst2[i])"
      ],
      "metadata": {
        "id": "JTkauzEyqhaX"
      },
      "execution_count": 13,
      "outputs": []
    },
    {
      "cell_type": "code",
      "source": [
        "output"
      ],
      "metadata": {
        "colab": {
          "base_uri": "https://localhost:8080/"
        },
        "id": "lWeNTuw9qsLd",
        "outputId": "dea82403-c8be-4ad0-be98-200e4db3c28d"
      },
      "execution_count": 14,
      "outputs": [
        {
          "output_type": "execute_result",
          "data": {
            "text/plain": [
              "[2, 4, 6]"
            ]
          },
          "metadata": {},
          "execution_count": 14
        }
      ]
    },
    {
      "cell_type": "code",
      "source": [
        "output = [x+y for x,y in zip(lst1,lst2)]\n",
        "output"
      ],
      "metadata": {
        "colab": {
          "base_uri": "https://localhost:8080/"
        },
        "id": "HcLxyokWqtt5",
        "outputId": "ed9dcbe7-8862-4240-8ec0-111b6ca554f6"
      },
      "execution_count": 16,
      "outputs": [
        {
          "output_type": "execute_result",
          "data": {
            "text/plain": [
              "[2, 4, 6]"
            ]
          },
          "metadata": {},
          "execution_count": 16
        }
      ]
    },
    {
      "cell_type": "code",
      "source": [
        "size = 1000\n",
        "\n",
        "lst1 = list(range(size))\n",
        "lst2 = list(range(size))\n",
        "\n",
        "arr1 = np.arange(size)\n",
        "arr2 = np.arange(size)"
      ],
      "metadata": {
        "id": "hFl5Znzpq1c9"
      },
      "execution_count": 18,
      "outputs": []
    },
    {
      "cell_type": "code",
      "source": [
        "import timeit"
      ],
      "metadata": {
        "id": "3qZhg5ihrT5-"
      },
      "execution_count": 19,
      "outputs": []
    },
    {
      "cell_type": "code",
      "source": [
        "%timeit [x+y for x,y in zip(lst1,lst2)]\n"
      ],
      "metadata": {
        "colab": {
          "base_uri": "https://localhost:8080/"
        },
        "id": "X2h14qHlrBKL",
        "outputId": "0470b310-d637-43ea-d091-3f1e2402d291"
      },
      "execution_count": 20,
      "outputs": [
        {
          "output_type": "stream",
          "name": "stdout",
          "text": [
            "45.5 µs ± 854 ns per loop (mean ± std. dev. of 7 runs, 10000 loops each)\n"
          ]
        }
      ]
    },
    {
      "cell_type": "code",
      "source": [
        "%timeit arr1+arr2"
      ],
      "metadata": {
        "colab": {
          "base_uri": "https://localhost:8080/"
        },
        "id": "5WfWcwIZrWYK",
        "outputId": "47c78762-7116-488c-fe84-ab9d385b0d79"
      },
      "execution_count": 21,
      "outputs": [
        {
          "output_type": "stream",
          "name": "stdout",
          "text": [
            "1.24 µs ± 350 ns per loop (mean ± std. dev. of 7 runs, 1000000 loops each)\n"
          ]
        }
      ]
    },
    {
      "cell_type": "code",
      "source": [
        "nested_list = [[1,2,3],[4,5,6]]"
      ],
      "metadata": {
        "id": "ZKKxTROnrjpF"
      },
      "execution_count": 22,
      "outputs": []
    },
    {
      "cell_type": "code",
      "source": [
        "# Key features of Numpy\n",
        "\n",
        "# N-Dimensional array -  ndarray\n",
        "# Vectorization\n",
        "# Broadcasting\n",
        "# Mathematical functions\n",
        "# Random Module"
      ],
      "metadata": {
        "id": "u2U809D0tuJ6"
      },
      "execution_count": null,
      "outputs": []
    },
    {
      "cell_type": "code",
      "source": [],
      "metadata": {
        "id": "hs-dPGRUwXbk"
      },
      "execution_count": null,
      "outputs": []
    },
    {
      "cell_type": "code",
      "source": [],
      "metadata": {
        "id": "GzeZdCqMwXxS"
      },
      "execution_count": null,
      "outputs": []
    },
    {
      "cell_type": "code",
      "source": [
        "# creating numpy arrays\n",
        "\n",
        "arr1 = np.array([1,2,3,\"abc\"])"
      ],
      "metadata": {
        "id": "RbADsZ-sxCS-"
      },
      "execution_count": 25,
      "outputs": []
    },
    {
      "cell_type": "code",
      "source": [
        "arr1.dtype"
      ],
      "metadata": {
        "colab": {
          "base_uri": "https://localhost:8080/"
        },
        "id": "ylXRwNErxKfG",
        "outputId": "1f781778-5218-4040-8751-26b30e78cbc7"
      },
      "execution_count": 31,
      "outputs": [
        {
          "output_type": "execute_result",
          "data": {
            "text/plain": [
              "dtype('<U21')"
            ]
          },
          "metadata": {},
          "execution_count": 31
        }
      ]
    },
    {
      "cell_type": "code",
      "source": [
        "arr2 = np.array((1,2,3,4,5,6,\"abc\"))\n",
        "arr2.dtype"
      ],
      "metadata": {
        "colab": {
          "base_uri": "https://localhost:8080/"
        },
        "id": "wumS0CYixLSs",
        "outputId": "eb4cefdf-4ae6-4935-b347-48c3b83aa68f"
      },
      "execution_count": 33,
      "outputs": [
        {
          "output_type": "execute_result",
          "data": {
            "text/plain": [
              "dtype('<U21')"
            ]
          },
          "metadata": {},
          "execution_count": 33
        }
      ]
    },
    {
      "cell_type": "code",
      "source": [
        "arr3 = np.arange(1,100,2)\n",
        "arr3"
      ],
      "metadata": {
        "colab": {
          "base_uri": "https://localhost:8080/"
        },
        "id": "K3Vovo0ixrQd",
        "outputId": "8890e54c-94dc-4254-c4e1-ce49aabd6005"
      },
      "execution_count": 30,
      "outputs": [
        {
          "output_type": "execute_result",
          "data": {
            "text/plain": [
              "array([ 1,  3,  5,  7,  9, 11, 13, 15, 17, 19, 21, 23, 25, 27, 29, 31, 33,\n",
              "       35, 37, 39, 41, 43, 45, 47, 49, 51, 53, 55, 57, 59, 61, 63, 65, 67,\n",
              "       69, 71, 73, 75, 77, 79, 81, 83, 85, 87, 89, 91, 93, 95, 97, 99])"
            ]
          },
          "metadata": {},
          "execution_count": 30
        }
      ]
    },
    {
      "cell_type": "code",
      "source": [
        "arr4 = np.linspace(0,10,5)\n",
        "arr4"
      ],
      "metadata": {
        "colab": {
          "base_uri": "https://localhost:8080/"
        },
        "id": "ay_KNU8Ix1Ab",
        "outputId": "aca21b62-eaad-4281-8569-aa7452bdf1b8"
      },
      "execution_count": 36,
      "outputs": [
        {
          "output_type": "execute_result",
          "data": {
            "text/plain": [
              "array([ 0. ,  2.5,  5. ,  7.5, 10. ])"
            ]
          },
          "metadata": {},
          "execution_count": 36
        }
      ]
    },
    {
      "cell_type": "code",
      "source": [
        "arr4 = np.linspace(0,100,5)\n",
        "arr4"
      ],
      "metadata": {
        "colab": {
          "base_uri": "https://localhost:8080/"
        },
        "id": "fs3FcHA4yzAk",
        "outputId": "06bd9ee3-04ec-4e8f-85fd-8713da7f9a48"
      },
      "execution_count": 37,
      "outputs": [
        {
          "output_type": "execute_result",
          "data": {
            "text/plain": [
              "array([  0.,  25.,  50.,  75., 100.])"
            ]
          },
          "metadata": {},
          "execution_count": 37
        }
      ]
    },
    {
      "cell_type": "code",
      "source": [
        "arr5 = np.zeros((5,3))\n",
        "arr5"
      ],
      "metadata": {
        "colab": {
          "base_uri": "https://localhost:8080/"
        },
        "id": "4phrRVbVy8KD",
        "outputId": "fd78ffa3-a1ad-475a-9dd3-3be5f3e03103"
      },
      "execution_count": 58,
      "outputs": [
        {
          "output_type": "execute_result",
          "data": {
            "text/plain": [
              "array([[0., 0., 0.],\n",
              "       [0., 0., 0.],\n",
              "       [0., 0., 0.],\n",
              "       [0., 0., 0.],\n",
              "       [0., 0., 0.]])"
            ]
          },
          "metadata": {},
          "execution_count": 58
        }
      ]
    },
    {
      "cell_type": "code",
      "source": [
        "arr6 = np.ones((5,3))\n",
        "arr6"
      ],
      "metadata": {
        "colab": {
          "base_uri": "https://localhost:8080/"
        },
        "id": "-cAaYHuJzIyK",
        "outputId": "bc116918-c307-419a-f707-59505d4a9f9b"
      },
      "execution_count": 41,
      "outputs": [
        {
          "output_type": "execute_result",
          "data": {
            "text/plain": [
              "array([[1., 1., 1.],\n",
              "       [1., 1., 1.],\n",
              "       [1., 1., 1.],\n",
              "       [1., 1., 1.],\n",
              "       [1., 1., 1.]])"
            ]
          },
          "metadata": {},
          "execution_count": 41
        }
      ]
    },
    {
      "cell_type": "code",
      "source": [
        "arr7 = np.eye(6,5)\n",
        "arr7"
      ],
      "metadata": {
        "colab": {
          "base_uri": "https://localhost:8080/"
        },
        "id": "6rybJsBgzcA_",
        "outputId": "a0e7e9a7-af3c-48f0-a17f-d47c0494f2b9"
      },
      "execution_count": 59,
      "outputs": [
        {
          "output_type": "execute_result",
          "data": {
            "text/plain": [
              "array([[1., 0., 0., 0., 0.],\n",
              "       [0., 1., 0., 0., 0.],\n",
              "       [0., 0., 1., 0., 0.],\n",
              "       [0., 0., 0., 1., 0.],\n",
              "       [0., 0., 0., 0., 1.],\n",
              "       [0., 0., 0., 0., 0.]])"
            ]
          },
          "metadata": {},
          "execution_count": 59
        }
      ]
    },
    {
      "cell_type": "code",
      "source": [
        "arr8 = np.full((5,3),5)\n",
        "arr8"
      ],
      "metadata": {
        "colab": {
          "base_uri": "https://localhost:8080/"
        },
        "id": "oomZ6IZ_zfXb",
        "outputId": "37f0ca41-b714-4295-dd92-517ea2829f51"
      },
      "execution_count": 50,
      "outputs": [
        {
          "output_type": "execute_result",
          "data": {
            "text/plain": [
              "array([[5, 5, 5],\n",
              "       [5, 5, 5],\n",
              "       [5, 5, 5],\n",
              "       [5, 5, 5],\n",
              "       [5, 5, 5]])"
            ]
          },
          "metadata": {},
          "execution_count": 50
        }
      ]
    },
    {
      "cell_type": "code",
      "source": [
        "arr9 = np.random.random((5,3))\n",
        "arr9"
      ],
      "metadata": {
        "colab": {
          "base_uri": "https://localhost:8080/"
        },
        "id": "PXObHkjI02FA",
        "outputId": "57d227d3-c666-4dc5-aa5b-8c88399c81d2"
      },
      "execution_count": 60,
      "outputs": [
        {
          "output_type": "execute_result",
          "data": {
            "text/plain": [
              "array([[0.67581188, 0.97610173, 0.21216721],\n",
              "       [0.70238495, 0.67251557, 0.98502154],\n",
              "       [0.85474657, 0.7189817 , 0.8156991 ],\n",
              "       [0.87660123, 0.95943831, 0.56074636],\n",
              "       [0.4396171 , 0.82987495, 0.23746026]])"
            ]
          },
          "metadata": {},
          "execution_count": 60
        }
      ]
    },
    {
      "cell_type": "code",
      "source": [
        "arr10 = np.random.randint(-100,100,(5,3))\n",
        "arr10"
      ],
      "metadata": {
        "colab": {
          "base_uri": "https://localhost:8080/"
        },
        "id": "LV-J10v007lU",
        "outputId": "6a0c1ec9-161e-4dfc-bad8-d22eb10bc3ef"
      },
      "execution_count": 62,
      "outputs": [
        {
          "output_type": "execute_result",
          "data": {
            "text/plain": [
              "array([[-44,  35,  10],\n",
              "       [-78, -92,  31],\n",
              "       [-82, -42, -58],\n",
              "       [ -5, -20, -31],\n",
              "       [ 77,   8, -51]])"
            ]
          },
          "metadata": {},
          "execution_count": 62
        }
      ]
    },
    {
      "cell_type": "code",
      "source": [
        "arr11 = np.random.randn(5,3)\n",
        "arr11"
      ],
      "metadata": {
        "colab": {
          "base_uri": "https://localhost:8080/"
        },
        "id": "KxJkmtLX1F7O",
        "outputId": "d2eb389b-607e-4996-b03e-6295ae494fcf"
      },
      "execution_count": 63,
      "outputs": [
        {
          "output_type": "execute_result",
          "data": {
            "text/plain": [
              "array([[ 0.74162282,  0.19626611, -1.35638148],\n",
              "       [ 0.95639218,  0.04548583, -0.82233954],\n",
              "       [ 0.83959934,  0.99607309, -0.0790971 ],\n",
              "       [ 0.3090566 ,  1.47469395, -1.26684832],\n",
              "       [-1.05762353, -0.21496344, -0.89538432]])"
            ]
          },
          "metadata": {},
          "execution_count": 63
        }
      ]
    },
    {
      "cell_type": "code",
      "source": [
        "arr12 = np.random.rand(3,3)\n",
        "arr12"
      ],
      "metadata": {
        "colab": {
          "base_uri": "https://localhost:8080/"
        },
        "id": "To6_lgMH1UJX",
        "outputId": "adaadc30-fe31-4e72-b813-f0e10982946a"
      },
      "execution_count": 65,
      "outputs": [
        {
          "output_type": "execute_result",
          "data": {
            "text/plain": [
              "array([[0.77301143, 0.3017427 , 0.77214152],\n",
              "       [0.35437696, 0.1573893 , 0.98214979],\n",
              "       [0.01716261, 0.0373725 , 0.67615833]])"
            ]
          },
          "metadata": {},
          "execution_count": 65
        }
      ]
    },
    {
      "cell_type": "code",
      "source": [],
      "metadata": {
        "id": "S_-5ebRB1aE1"
      },
      "execution_count": null,
      "outputs": []
    },
    {
      "cell_type": "code",
      "source": [
        "arr13 = np.empty((3,3))\n",
        "arr13"
      ],
      "metadata": {
        "colab": {
          "base_uri": "https://localhost:8080/"
        },
        "id": "Apiu9yYr1pDL",
        "outputId": "371214ec-7e2e-49ac-cfc3-390fc375e76e"
      },
      "execution_count": 68,
      "outputs": [
        {
          "output_type": "execute_result",
          "data": {
            "text/plain": [
              "array([[0.48023839, 0.41919757, 0.60552487],\n",
              "       [0.84323113, 0.59230088, 0.42360803],\n",
              "       [0.14355699, 0.81264647, 0.98778562]])"
            ]
          },
          "metadata": {},
          "execution_count": 68
        }
      ]
    },
    {
      "cell_type": "code",
      "source": [],
      "metadata": {
        "id": "_bVXSdB81tp4"
      },
      "execution_count": null,
      "outputs": []
    }
  ]
}