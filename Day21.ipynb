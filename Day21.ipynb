{
  "nbformat": 4,
  "nbformat_minor": 0,
  "metadata": {
    "colab": {
      "provenance": [],
      "authorship_tag": "ABX9TyPwCrBQihwKuXAv1sF9dV46",
      "include_colab_link": true
    },
    "kernelspec": {
      "name": "python3",
      "display_name": "Python 3"
    },
    "language_info": {
      "name": "python"
    }
  },
  "cells": [
    {
      "cell_type": "markdown",
      "metadata": {
        "id": "view-in-github",
        "colab_type": "text"
      },
      "source": [
        "<a href=\"https://colab.research.google.com/github/nageswar307/Python/blob/main/Day21.ipynb\" target=\"_parent\"><img src=\"https://colab.research.google.com/assets/colab-badge.svg\" alt=\"Open In Colab\"/></a>"
      ]
    },
    {
      "cell_type": "code",
      "execution_count": 2,
      "metadata": {
        "id": "eBdMnyi2WOOv"
      },
      "outputs": [],
      "source": [
        "# class def\n",
        "# object\n",
        "# class has attributes and methods\n",
        "# what does self refers to"
      ]
    },
    {
      "cell_type": "code",
      "source": [
        "# class & instance attributes\n",
        "# class & instance Methods - @classmethod,instance & @staticmethod\n",
        "# Encapsulation - @property\n",
        "# getters and setters"
      ],
      "metadata": {
        "id": "pjqSFrtiXn8x"
      },
      "execution_count": 3,
      "outputs": []
    },
    {
      "cell_type": "code",
      "source": [
        "class Test:\n",
        "    def __init__(self,a,b):\n",
        "        self.a = a\n",
        "        self.b = b\n",
        "\n",
        "    def add(self,a,b):\n",
        "        return self.a + self.b"
      ],
      "metadata": {
        "id": "ZfuSZMv5Yi_q"
      },
      "execution_count": 9,
      "outputs": []
    },
    {
      "cell_type": "code",
      "source": [
        "test1 = Test(1,2)"
      ],
      "metadata": {
        "id": "hh7kmkb0Y75x"
      },
      "execution_count": 10,
      "outputs": []
    },
    {
      "cell_type": "code",
      "source": [
        "test1.a"
      ],
      "metadata": {
        "colab": {
          "base_uri": "https://localhost:8080/"
        },
        "id": "wB1eJ4eMZA35",
        "outputId": "9aa6be0f-dce5-45dc-ef7b-83b9052f8907"
      },
      "execution_count": 11,
      "outputs": [
        {
          "output_type": "execute_result",
          "data": {
            "text/plain": [
              "1"
            ]
          },
          "metadata": {},
          "execution_count": 11
        }
      ]
    },
    {
      "cell_type": "code",
      "source": [
        "test1.add()"
      ],
      "metadata": {
        "colab": {
          "base_uri": "https://localhost:8080/",
          "height": 141
        },
        "id": "CB2AfJfiZDXw",
        "outputId": "8d0b9301-d310-4dab-aa1d-5c5183db30f4"
      },
      "execution_count": 12,
      "outputs": [
        {
          "output_type": "error",
          "ename": "TypeError",
          "evalue": "Test.add() missing 2 required positional arguments: 'a' and 'b'",
          "traceback": [
            "\u001b[0;31m---------------------------------------------------------------------------\u001b[0m",
            "\u001b[0;31mTypeError\u001b[0m                                 Traceback (most recent call last)",
            "\u001b[0;32m<ipython-input-12-6db885b691a9>\u001b[0m in \u001b[0;36m<cell line: 0>\u001b[0;34m()\u001b[0m\n\u001b[0;32m----> 1\u001b[0;31m \u001b[0mtest1\u001b[0m\u001b[0;34m.\u001b[0m\u001b[0madd\u001b[0m\u001b[0;34m(\u001b[0m\u001b[0;34m)\u001b[0m\u001b[0;34m\u001b[0m\u001b[0;34m\u001b[0m\u001b[0m\n\u001b[0m",
            "\u001b[0;31mTypeError\u001b[0m: Test.add() missing 2 required positional arguments: 'a' and 'b'"
          ]
        }
      ]
    },
    {
      "cell_type": "code",
      "source": [
        "class Test:\n",
        "    def __init__(self,a,b):\n",
        "        self.a = a\n",
        "        self.b = b\n",
        "\n",
        "    def add(self,x,y):\n",
        "      return x+y\n",
        "\n",
        "\n",
        "test1 = Test(1,2)\n",
        "print(\"self.a and self.b values are \",test1.a,test1.b)\n",
        "\n",
        "test1.add(10,20)"
      ],
      "metadata": {
        "colab": {
          "base_uri": "https://localhost:8080/"
        },
        "id": "4bSPdtHJZePA",
        "outputId": "37f717d8-7433-4c44-bc1e-30009d43a621"
      },
      "execution_count": 25,
      "outputs": [
        {
          "output_type": "stream",
          "name": "stdout",
          "text": [
            "self.a and self.b values are  1 2\n"
          ]
        },
        {
          "output_type": "execute_result",
          "data": {
            "text/plain": [
              "30"
            ]
          },
          "metadata": {},
          "execution_count": 25
        }
      ]
    },
    {
      "cell_type": "code",
      "source": [
        "lst = [1,2,3]\n",
        "lst.append(\"c\")\n",
        "lst"
      ],
      "metadata": {
        "colab": {
          "base_uri": "https://localhost:8080/"
        },
        "id": "qvGn42x7bt96",
        "outputId": "685e316d-7d0a-45b6-bd47-a86cc5f0043f"
      },
      "execution_count": 22,
      "outputs": [
        {
          "output_type": "execute_result",
          "data": {
            "text/plain": [
              "[1, 2, 3, 'c']"
            ]
          },
          "metadata": {},
          "execution_count": 22
        }
      ]
    },
    {
      "cell_type": "code",
      "source": [
        "test2 = Test(10,20)\n",
        "test2.add(100,200)"
      ],
      "metadata": {
        "colab": {
          "base_uri": "https://localhost:8080/"
        },
        "id": "6TOXitpPb17_",
        "outputId": "98696f1e-6c73-4d39-8e40-8f7f2d777cfa"
      },
      "execution_count": 27,
      "outputs": [
        {
          "output_type": "execute_result",
          "data": {
            "text/plain": [
              "300"
            ]
          },
          "metadata": {},
          "execution_count": 27
        }
      ]
    },
    {
      "cell_type": "code",
      "source": [],
      "metadata": {
        "id": "4ObeSvKRcwbl"
      },
      "execution_count": null,
      "outputs": []
    },
    {
      "cell_type": "code",
      "source": [
        "class Test:\n",
        "    def __init__(self,a,b):\n",
        "        self.a = a\n",
        "        self.b = b\n",
        "\n",
        "    def add(self): #instance method\n",
        "        return self.a + self.b\n",
        "\n",
        "obj1 = Test(10,20)\n",
        "obj2 = Test(100,200)"
      ],
      "metadata": {
        "id": "bF1t-Wvpc7KS"
      },
      "execution_count": 37,
      "outputs": []
    },
    {
      "cell_type": "code",
      "source": [
        "obj1.add()"
      ],
      "metadata": {
        "colab": {
          "base_uri": "https://localhost:8080/"
        },
        "id": "I3lDARO4dNdY",
        "outputId": "8656c783-2456-4d56-ec7d-f51f0700ce8e"
      },
      "execution_count": 38,
      "outputs": [
        {
          "output_type": "execute_result",
          "data": {
            "text/plain": [
              "30"
            ]
          },
          "metadata": {},
          "execution_count": 38
        }
      ]
    },
    {
      "cell_type": "code",
      "source": [
        "obj2.add()"
      ],
      "metadata": {
        "colab": {
          "base_uri": "https://localhost:8080/"
        },
        "id": "GFzEWcBvdQEq",
        "outputId": "77626759-5faf-426f-ca3d-7cff2ca9b1e2"
      },
      "execution_count": 39,
      "outputs": [
        {
          "output_type": "execute_result",
          "data": {
            "text/plain": [
              "300"
            ]
          },
          "metadata": {},
          "execution_count": 39
        }
      ]
    },
    {
      "cell_type": "code",
      "source": [
        "Test.add() # need to pass instance object\n",
        "Test.add()"
      ],
      "metadata": {
        "colab": {
          "base_uri": "https://localhost:8080/",
          "height": 159
        },
        "id": "NwnG1Pb8dSEY",
        "outputId": "bbc2e837-3191-4f70-f1c3-3947daee4770"
      },
      "execution_count": 40,
      "outputs": [
        {
          "output_type": "error",
          "ename": "TypeError",
          "evalue": "Test.add() missing 1 required positional argument: 'self'",
          "traceback": [
            "\u001b[0;31m---------------------------------------------------------------------------\u001b[0m",
            "\u001b[0;31mTypeError\u001b[0m                                 Traceback (most recent call last)",
            "\u001b[0;32m<ipython-input-40-fc1ae1f19768>\u001b[0m in \u001b[0;36m<cell line: 0>\u001b[0;34m()\u001b[0m\n\u001b[0;32m----> 1\u001b[0;31m \u001b[0mTest\u001b[0m\u001b[0;34m.\u001b[0m\u001b[0madd\u001b[0m\u001b[0;34m(\u001b[0m\u001b[0;34m)\u001b[0m\u001b[0;34m\u001b[0m\u001b[0;34m\u001b[0m\u001b[0m\n\u001b[0m\u001b[1;32m      2\u001b[0m \u001b[0mTest\u001b[0m\u001b[0;34m.\u001b[0m\u001b[0madd\u001b[0m\u001b[0;34m(\u001b[0m\u001b[0;34m)\u001b[0m\u001b[0;34m\u001b[0m\u001b[0;34m\u001b[0m\u001b[0m\n",
            "\u001b[0;31mTypeError\u001b[0m: Test.add() missing 1 required positional argument: 'self'"
          ]
        }
      ]
    },
    {
      "cell_type": "code",
      "source": [
        "class Test:\n",
        "    def __init__(self,a,b):\n",
        "        self.a = a\n",
        "        self.b = b\n",
        "\n",
        "    def add(self): #instance method\n",
        "        return self.a + self.b\n",
        "\n",
        "    @classmethod #class method\n",
        "    def explains_class(cls):\n",
        "        print(f\"value of self is {cls}\")\n",
        "        print(\"this is a class that takes two arguments and has method to find their sum\")\n",
        "\n",
        "obj1 = Test(10,20)\n",
        "obj2 = Test(100,200)"
      ],
      "metadata": {
        "id": "hNT2h3wbeY3J"
      },
      "execution_count": 56,
      "outputs": []
    },
    {
      "cell_type": "code",
      "source": [
        "obj3 = Test(10,20)\n",
        "obj3.explains_class()"
      ],
      "metadata": {
        "colab": {
          "base_uri": "https://localhost:8080/"
        },
        "id": "UMSf82bQeing",
        "outputId": "8551543a-b98f-45b3-8f44-04eb664b49d5"
      },
      "execution_count": 57,
      "outputs": [
        {
          "output_type": "stream",
          "name": "stdout",
          "text": [
            "value of self is <class '__main__.Test'>\n",
            "this is a class that takes two arguments and has method to find their sum\n"
          ]
        }
      ]
    },
    {
      "cell_type": "code",
      "source": [
        "Test.explains_class()"
      ],
      "metadata": {
        "colab": {
          "base_uri": "https://localhost:8080/"
        },
        "id": "sELANQatfL95",
        "outputId": "4cec61b6-41cc-4f60-8763-5f2e3b11cf59"
      },
      "execution_count": 58,
      "outputs": [
        {
          "output_type": "stream",
          "name": "stdout",
          "text": [
            "value of self is <class '__main__.Test'>\n",
            "this is a class that takes two arguments and has method to find their sum\n"
          ]
        }
      ]
    },
    {
      "cell_type": "code",
      "source": [
        "obj3.explains_class()"
      ],
      "metadata": {
        "colab": {
          "base_uri": "https://localhost:8080/"
        },
        "id": "i7wOMXmZfwYQ",
        "outputId": "44753bde-4db5-4234-b9c0-834392572388"
      },
      "execution_count": 59,
      "outputs": [
        {
          "output_type": "stream",
          "name": "stdout",
          "text": [
            "value of self is <class '__main__.Test'>\n",
            "this is a class that takes two arguments and has method to find their sum\n"
          ]
        }
      ]
    },
    {
      "cell_type": "code",
      "source": [
        "obj3.a"
      ],
      "metadata": {
        "colab": {
          "base_uri": "https://localhost:8080/"
        },
        "id": "M9imouT-f9pZ",
        "outputId": "6c2e8f1f-3c55-4ff9-cd31-7b37b2348e5e"
      },
      "execution_count": 60,
      "outputs": [
        {
          "output_type": "execute_result",
          "data": {
            "text/plain": [
              "10"
            ]
          },
          "metadata": {},
          "execution_count": 60
        }
      ]
    },
    {
      "cell_type": "code",
      "source": [
        "obj2"
      ],
      "metadata": {
        "colab": {
          "base_uri": "https://localhost:8080/",
          "height": 141
        },
        "id": "Gto5GwYbgJ-B",
        "outputId": "99d30a47-86b9-4030-d57a-3ac364696c84"
      },
      "execution_count": 1,
      "outputs": [
        {
          "output_type": "error",
          "ename": "NameError",
          "evalue": "name 'obj2' is not defined",
          "traceback": [
            "\u001b[0;31m---------------------------------------------------------------------------\u001b[0m",
            "\u001b[0;31mNameError\u001b[0m                                 Traceback (most recent call last)",
            "\u001b[0;32m<ipython-input-1-6481e7da1414>\u001b[0m in \u001b[0;36m<cell line: 0>\u001b[0;34m()\u001b[0m\n\u001b[0;32m----> 1\u001b[0;31m \u001b[0mobj2\u001b[0m\u001b[0;34m\u001b[0m\u001b[0;34m\u001b[0m\u001b[0m\n\u001b[0m",
            "\u001b[0;31mNameError\u001b[0m: name 'obj2' is not defined"
          ]
        }
      ]
    },
    {
      "cell_type": "code",
      "source": [
        "class Test:\n",
        "    def __init__(self,a,b):\n",
        "        self.a = a\n",
        "        self.b = b\n",
        "\n",
        "    def add(self): #instance method\n",
        "        return self.a + self.b\n",
        "\n",
        "    @classmethod              #class method\n",
        "    def explains_class(cls):\n",
        "        print(f\"value of self is {cls}\")\n",
        "        print(\"this is a class that takes two arguments and has method to find their sum\")\n",
        "\n",
        "obj1 = Test(10,20)\n",
        "obj2 = Test(100,200)"
      ],
      "metadata": {
        "id": "wpPFV9zGgaeU"
      },
      "execution_count": 16,
      "outputs": []
    },
    {
      "cell_type": "code",
      "source": [
        "obj1.explains_class()"
      ],
      "metadata": {
        "colab": {
          "base_uri": "https://localhost:8080/"
        },
        "id": "2CTKk8segpJY",
        "outputId": "296cda6c-2e73-467f-e1a9-5d4712e91c42"
      },
      "execution_count": 17,
      "outputs": [
        {
          "output_type": "stream",
          "name": "stdout",
          "text": [
            "value of self is <class '__main__.Test'>\n",
            "this is a class that takes two arguments and has method to find their sum\n"
          ]
        }
      ]
    },
    {
      "cell_type": "code",
      "source": [
        "Test.explains_class()"
      ],
      "metadata": {
        "colab": {
          "base_uri": "https://localhost:8080/"
        },
        "id": "bbBickSDhNCD",
        "outputId": "981cb6a2-ccbb-4e3c-e398-e7b0300a01e2"
      },
      "execution_count": 18,
      "outputs": [
        {
          "output_type": "stream",
          "name": "stdout",
          "text": [
            "value of self is <class '__main__.Test'>\n",
            "this is a class that takes two arguments and has method to find their sum\n"
          ]
        }
      ]
    },
    {
      "cell_type": "code",
      "source": [
        "Test.add()"
      ],
      "metadata": {
        "colab": {
          "base_uri": "https://localhost:8080/",
          "height": 141
        },
        "id": "VOm4Z4R7hnnh",
        "outputId": "35c218ee-80d5-4832-d335-703302db9e90"
      },
      "execution_count": 20,
      "outputs": [
        {
          "output_type": "error",
          "ename": "TypeError",
          "evalue": "Test.add() missing 1 required positional argument: 'self'",
          "traceback": [
            "\u001b[0;31m---------------------------------------------------------------------------\u001b[0m",
            "\u001b[0;31mTypeError\u001b[0m                                 Traceback (most recent call last)",
            "\u001b[0;32m<ipython-input-20-c0b7ad8433e4>\u001b[0m in \u001b[0;36m<cell line: 0>\u001b[0;34m()\u001b[0m\n\u001b[0;32m----> 1\u001b[0;31m \u001b[0mTest\u001b[0m\u001b[0;34m.\u001b[0m\u001b[0madd\u001b[0m\u001b[0;34m(\u001b[0m\u001b[0;34m)\u001b[0m\u001b[0;34m\u001b[0m\u001b[0;34m\u001b[0m\u001b[0m\n\u001b[0m",
            "\u001b[0;31mTypeError\u001b[0m: Test.add() missing 1 required positional argument: 'self'"
          ]
        }
      ]
    },
    {
      "cell_type": "code",
      "source": [
        "# class methods work on both instance objects and classes\n",
        "# whereas instance methods works only on instance objects"
      ],
      "metadata": {
        "id": "HZTvNNzdhaXy"
      },
      "execution_count": 19,
      "outputs": []
    },
    {
      "cell_type": "code",
      "source": [
        "class Test:\n",
        "    class_variable = 100 # class attribute\n",
        "    def __init__(self,a,b):\n",
        "        self.a = a #instance attributes a,b\n",
        "        self.b = b\n",
        "\n",
        "    def add(self): #instance method\n",
        "        return self.a + self.b\n",
        "\n",
        "    @classmethod #class method\n",
        "    def explains_class(cls):\n",
        "        print(f\"value of self is {cls}\")\n",
        "        print(\"this is a class that takes two arguments and has method to find their sum\")\n",
        "\n",
        "obj1 = Test(10,20)\n",
        "obj2 = Test(100,200)"
      ],
      "metadata": {
        "id": "mp7CB09lhlFD"
      },
      "execution_count": 21,
      "outputs": []
    },
    {
      "cell_type": "code",
      "source": [
        "obj1.a ,obj1.b"
      ],
      "metadata": {
        "colab": {
          "base_uri": "https://localhost:8080/"
        },
        "id": "cZhsBK3th3eJ",
        "outputId": "bee7ecad-8a85-4b20-a2a2-f0ddf6579112"
      },
      "execution_count": 22,
      "outputs": [
        {
          "output_type": "execute_result",
          "data": {
            "text/plain": [
              "(10, 20)"
            ]
          },
          "metadata": {},
          "execution_count": 22
        }
      ]
    },
    {
      "cell_type": "code",
      "source": [
        "obj2.a ,obj2.b"
      ],
      "metadata": {
        "colab": {
          "base_uri": "https://localhost:8080/"
        },
        "id": "61nIfy1Ih8xF",
        "outputId": "e2d902db-42bf-4336-f831-b64162a7ecd2"
      },
      "execution_count": 23,
      "outputs": [
        {
          "output_type": "execute_result",
          "data": {
            "text/plain": [
              "(100, 200)"
            ]
          },
          "metadata": {},
          "execution_count": 23
        }
      ]
    },
    {
      "cell_type": "code",
      "source": [
        "Test.a,Test.b"
      ],
      "metadata": {
        "colab": {
          "base_uri": "https://localhost:8080/",
          "height": 141
        },
        "id": "lWBNpsuYiBsJ",
        "outputId": "76339f86-9498-4223-919e-b1821e4fc200"
      },
      "execution_count": 24,
      "outputs": [
        {
          "output_type": "error",
          "ename": "AttributeError",
          "evalue": "type object 'Test' has no attribute 'a'",
          "traceback": [
            "\u001b[0;31m---------------------------------------------------------------------------\u001b[0m",
            "\u001b[0;31mAttributeError\u001b[0m                            Traceback (most recent call last)",
            "\u001b[0;32m<ipython-input-24-1cb4e7fa965e>\u001b[0m in \u001b[0;36m<cell line: 0>\u001b[0;34m()\u001b[0m\n\u001b[0;32m----> 1\u001b[0;31m \u001b[0mTest\u001b[0m\u001b[0;34m.\u001b[0m\u001b[0ma\u001b[0m\u001b[0;34m,\u001b[0m\u001b[0mTest\u001b[0m\u001b[0;34m.\u001b[0m\u001b[0mb\u001b[0m\u001b[0;34m\u001b[0m\u001b[0;34m\u001b[0m\u001b[0m\n\u001b[0m",
            "\u001b[0;31mAttributeError\u001b[0m: type object 'Test' has no attribute 'a'"
          ]
        }
      ]
    },
    {
      "cell_type": "code",
      "source": [
        "Test.class_variable"
      ],
      "metadata": {
        "colab": {
          "base_uri": "https://localhost:8080/"
        },
        "id": "vEKVGmTkiIFp",
        "outputId": "408e0eaa-4a65-4531-eae5-8b7e9664a175"
      },
      "execution_count": 25,
      "outputs": [
        {
          "output_type": "execute_result",
          "data": {
            "text/plain": [
              "100"
            ]
          },
          "metadata": {},
          "execution_count": 25
        }
      ]
    },
    {
      "cell_type": "code",
      "source": [
        "obj1.class_variable"
      ],
      "metadata": {
        "colab": {
          "base_uri": "https://localhost:8080/"
        },
        "id": "VhxzyWhziRRD",
        "outputId": "7d4be9f2-5377-4994-edf2-843cf8f5e2ce"
      },
      "execution_count": 26,
      "outputs": [
        {
          "output_type": "execute_result",
          "data": {
            "text/plain": [
              "100"
            ]
          },
          "metadata": {},
          "execution_count": 26
        }
      ]
    },
    {
      "cell_type": "code",
      "source": [
        "obj2.class_variable"
      ],
      "metadata": {
        "colab": {
          "base_uri": "https://localhost:8080/"
        },
        "id": "fU0LcPbpiWQ2",
        "outputId": "62c00c48-5d20-4be8-978c-6189d1a44cb0"
      },
      "execution_count": 27,
      "outputs": [
        {
          "output_type": "execute_result",
          "data": {
            "text/plain": [
              "100"
            ]
          },
          "metadata": {},
          "execution_count": 27
        }
      ]
    },
    {
      "cell_type": "code",
      "source": [
        "class Test:\n",
        "    class_variable = 100 # class attribute\n",
        "    def __init__(self,a,b):\n",
        "        self.a = a #instance attributes a,b\n",
        "        self.class_variable = b\n",
        "\n",
        "    def add(self): #instance method\n",
        "        return self.a + self.class_variable\n",
        "\n",
        "    @classmethod #class method\n",
        "    def explains_class(cls):\n",
        "        print(f\"value of self is {cls}\")\n",
        "        print(\"this is a class that takes two arguments and has method to find their sum\")\n",
        "\n",
        "obj1 = Test(10,20)\n",
        "obj2 = Test(100,200)"
      ],
      "metadata": {
        "id": "igNTTh5hicsG"
      },
      "execution_count": 30,
      "outputs": []
    },
    {
      "cell_type": "code",
      "source": [
        "obj1.__dict__"
      ],
      "metadata": {
        "colab": {
          "base_uri": "https://localhost:8080/"
        },
        "id": "AGwWPZecikwR",
        "outputId": "3894a103-5b74-4b88-87e8-9f1d1fbc7b4b"
      },
      "execution_count": 31,
      "outputs": [
        {
          "output_type": "execute_result",
          "data": {
            "text/plain": [
              "{'a': 10, 'class_variable': 20}"
            ]
          },
          "metadata": {},
          "execution_count": 31
        }
      ]
    },
    {
      "cell_type": "code",
      "source": [
        "#MRO -- Method Resolution Order"
      ],
      "metadata": {
        "id": "9rk_Qs2fixkJ"
      },
      "execution_count": 32,
      "outputs": []
    },
    {
      "cell_type": "code",
      "source": [
        "obj1.class_variable"
      ],
      "metadata": {
        "colab": {
          "base_uri": "https://localhost:8080/"
        },
        "id": "Sp7NqpL-i2y5",
        "outputId": "3edfe97a-1fc4-4b4e-e186-c732fb7acb8d"
      },
      "execution_count": 33,
      "outputs": [
        {
          "output_type": "execute_result",
          "data": {
            "text/plain": [
              "20"
            ]
          },
          "metadata": {},
          "execution_count": 33
        }
      ]
    },
    {
      "cell_type": "code",
      "source": [
        "class Test:\n",
        "    class_variable = 100 # class attribute\n",
        "    def __init__(self,a,b):\n",
        "        self.a = a #instance attributes a,b\n",
        "        self.class_variable = b\n",
        "\n",
        "    def add(self): #instance method\n",
        "        return self.a + self.class_variable\n",
        "\n",
        "    @classmethod #class method\n",
        "    def explains_class(cls):\n",
        "        print(f\"value of self is {cls}\")\n",
        "        print(\"this is a class that takes two arguments and has method to find their sum\")\n",
        "\n",
        "    @staticmethod\n",
        "    def static_method():\n",
        "        print(\"this is a static method\")\n",
        "\n",
        "obj1 = Test(10,20)\n",
        "obj2 = Test(100,200)"
      ],
      "metadata": {
        "id": "lGHQAZ_QjTqd"
      },
      "execution_count": 38,
      "outputs": []
    },
    {
      "cell_type": "code",
      "source": [
        "obj1.static_method()"
      ],
      "metadata": {
        "colab": {
          "base_uri": "https://localhost:8080/"
        },
        "id": "KNODG4uKjkkT",
        "outputId": "4708fb8a-792d-414b-8c88-151e5e211538"
      },
      "execution_count": 39,
      "outputs": [
        {
          "output_type": "stream",
          "name": "stdout",
          "text": [
            "this is a static method\n"
          ]
        }
      ]
    },
    {
      "cell_type": "code",
      "source": [
        "Test.static_method()"
      ],
      "metadata": {
        "colab": {
          "base_uri": "https://localhost:8080/"
        },
        "id": "nzUXUvC3j26L",
        "outputId": "4ae5ab45-eaec-47f8-ab06-34a28606b27c"
      },
      "execution_count": 40,
      "outputs": [
        {
          "output_type": "stream",
          "name": "stdout",
          "text": [
            "this is a static method\n"
          ]
        }
      ]
    },
    {
      "cell_type": "code",
      "source": [
        "static_method(obj1)"
      ],
      "metadata": {
        "colab": {
          "base_uri": "https://localhost:8080/",
          "height": 141
        },
        "id": "jbZTER4ej8Fz",
        "outputId": "4e2ae1b7-3eae-44fc-d680-f2d48b5fbb2a"
      },
      "execution_count": 42,
      "outputs": [
        {
          "output_type": "error",
          "ename": "NameError",
          "evalue": "name 'static_method' is not defined",
          "traceback": [
            "\u001b[0;31m---------------------------------------------------------------------------\u001b[0m",
            "\u001b[0;31mNameError\u001b[0m                                 Traceback (most recent call last)",
            "\u001b[0;32m<ipython-input-42-5a2acaf8d0ec>\u001b[0m in \u001b[0;36m<cell line: 0>\u001b[0;34m()\u001b[0m\n\u001b[0;32m----> 1\u001b[0;31m \u001b[0mstatic_method\u001b[0m\u001b[0;34m(\u001b[0m\u001b[0mobj1\u001b[0m\u001b[0;34m)\u001b[0m\u001b[0;34m\u001b[0m\u001b[0;34m\u001b[0m\u001b[0m\n\u001b[0m",
            "\u001b[0;31mNameError\u001b[0m: name 'static_method' is not defined"
          ]
        }
      ]
    },
    {
      "cell_type": "code",
      "source": [],
      "metadata": {
        "id": "aX1p9NGlkxwy"
      },
      "execution_count": null,
      "outputs": []
    },
    {
      "cell_type": "code",
      "source": [
        "class Student:\n",
        "    def __init__(self,name,age):\n",
        "        self.name = name\n",
        "        self.age = age\n",
        "\n",
        "\n",
        "student = Student(\"John\",20)\n",
        "print(student.name,student.age)"
      ],
      "metadata": {
        "colab": {
          "base_uri": "https://localhost:8080/"
        },
        "id": "c6WjsRJOlIwE",
        "outputId": "16ebe5b1-e7cd-4cf6-cd72-c30c219624b0"
      },
      "execution_count": 44,
      "outputs": [
        {
          "output_type": "stream",
          "name": "stdout",
          "text": [
            "John 20\n"
          ]
        }
      ]
    },
    {
      "cell_type": "code",
      "source": [
        "student.age =25"
      ],
      "metadata": {
        "id": "MG5nfjK7lRXz"
      },
      "execution_count": 45,
      "outputs": []
    },
    {
      "cell_type": "code",
      "source": [
        "student.__dict__"
      ],
      "metadata": {
        "colab": {
          "base_uri": "https://localhost:8080/"
        },
        "id": "x1i78Jajlayx",
        "outputId": "c23f911e-b80a-463e-d0df-f133a037e1ee"
      },
      "execution_count": 46,
      "outputs": [
        {
          "output_type": "execute_result",
          "data": {
            "text/plain": [
              "{'name': 'John', 'age': 25}"
            ]
          },
          "metadata": {},
          "execution_count": 46
        }
      ]
    },
    {
      "cell_type": "code",
      "source": [],
      "metadata": {
        "id": "9dSdtbLhleh7"
      },
      "execution_count": null,
      "outputs": []
    },
    {
      "cell_type": "code",
      "source": [
        "class Student:\n",
        "    def __init__(self,name,age):\n",
        "        self._name = name\n",
        "        self._age = age\n",
        "\n",
        "\n",
        "student = Student(\"John\",20)\n",
        "print(student._name,student._age)"
      ],
      "metadata": {
        "colab": {
          "base_uri": "https://localhost:8080/"
        },
        "id": "cGbaC14Hlgei",
        "outputId": "9bed1023-777e-49cc-bdda-e7172cbae64f"
      },
      "execution_count": 49,
      "outputs": [
        {
          "output_type": "stream",
          "name": "stdout",
          "text": [
            "John 20\n"
          ]
        }
      ]
    },
    {
      "cell_type": "code",
      "source": [
        "student._age =25\n",
        "student.__dict__"
      ],
      "metadata": {
        "colab": {
          "base_uri": "https://localhost:8080/"
        },
        "id": "D6foDEtUmJur",
        "outputId": "6c523d38-48c2-4314-ad2b-f0d8f226bfc2"
      },
      "execution_count": 51,
      "outputs": [
        {
          "output_type": "execute_result",
          "data": {
            "text/plain": [
              "{'_name': 'John', '_age': 25}"
            ]
          },
          "metadata": {},
          "execution_count": 51
        }
      ]
    },
    {
      "cell_type": "code",
      "source": [
        "class Student:\n",
        "    def __init__(self,name,age):\n",
        "        self._name = name\n",
        "        self._age = age\n",
        "\n",
        "\n",
        "student = Student(\"John\",20)\n",
        "print(student._name,student._age)"
      ],
      "metadata": {
        "colab": {
          "base_uri": "https://localhost:8080/"
        },
        "id": "yTxhNEcfmgUa",
        "outputId": "bb5f8366-608f-406c-878d-7938ad736ab6"
      },
      "execution_count": 60,
      "outputs": [
        {
          "output_type": "stream",
          "name": "stdout",
          "text": [
            "John 20\n"
          ]
        }
      ]
    },
    {
      "cell_type": "code",
      "source": [
        "student._name = 25\n",
        "student.__dict__"
      ],
      "metadata": {
        "colab": {
          "base_uri": "https://localhost:8080/"
        },
        "id": "ZzaAULD7nEhT",
        "outputId": "98a3a2aa-0fcd-402d-8596-69cd1f10050e"
      },
      "execution_count": 61,
      "outputs": [
        {
          "output_type": "execute_result",
          "data": {
            "text/plain": [
              "{'_name': 25, '_age': 20}"
            ]
          },
          "metadata": {},
          "execution_count": 61
        }
      ]
    },
    {
      "cell_type": "code",
      "source": [
        "student.age = -5"
      ],
      "metadata": {
        "id": "N7nqDsehnIW9"
      },
      "execution_count": 62,
      "outputs": []
    },
    {
      "cell_type": "code",
      "source": [
        "student.name = \"\""
      ],
      "metadata": {
        "id": "edxZ1xsdo6hE"
      },
      "execution_count": 63,
      "outputs": []
    },
    {
      "cell_type": "code",
      "source": [],
      "metadata": {
        "id": "1snu1TeppZRe"
      },
      "execution_count": null,
      "outputs": []
    },
    {
      "cell_type": "code",
      "source": [
        "# getter ---> create a method for attribute with attribute name and use @property --- this method's return value should be self,_attribute\n",
        "# setter ---> create a method for attribute with attribute name and use @attribute_name.setter decorator --- this method's return value should be self._attribute after validation"
      ],
      "metadata": {
        "id": "rgARRqKipZOk"
      },
      "execution_count": null,
      "outputs": []
    },
    {
      "cell_type": "code",
      "source": [
        "class Student:\n",
        "    def __init__(self,name,age):\n",
        "        self._name = name\n",
        "        self._age = age\n",
        "\n",
        "    @property # GETTER or Accessor\n",
        "    def name(self):\n",
        "        return self._name\n",
        "\n",
        "    @name.setter  # SETTER or MUTATOR\n",
        "    def name(self,value):\n",
        "      if not value:\n",
        "        raise ValueError(\"name cannot be empty\")\n",
        "        self._name = name\n",
        "\n",
        "    @property\n",
        "    def age(self):\n",
        "        return self._age\n",
        "\n",
        "    @age.setter\n",
        "    def age(self,value):\n",
        "      if value < 0:\n",
        "        raise ValueError(\"age cannot be negative\")\n",
        "        self._age = age\n",
        "\n",
        "student = Student(\"John\",20)\n",
        "print(student.__dict__)"
      ],
      "metadata": {
        "colab": {
          "base_uri": "https://localhost:8080/"
        },
        "id": "keYRTSgapZID",
        "outputId": "adb46858-3f10-49fa-9f1f-b9b53a69ac2d"
      },
      "execution_count": 7,
      "outputs": [
        {
          "output_type": "stream",
          "name": "stdout",
          "text": [
            "{'_name': 'John', '_age': 20}\n"
          ]
        }
      ]
    },
    {
      "cell_type": "code",
      "source": [],
      "metadata": {
        "id": "-aaSn2PEt87H"
      },
      "execution_count": 7,
      "outputs": []
    },
    {
      "cell_type": "code",
      "source": [
        "student._name = \"\"\n",
        "student.__dict__"
      ],
      "metadata": {
        "colab": {
          "base_uri": "https://localhost:8080/",
          "height": 280
        },
        "id": "B8LY48XnqaDk",
        "outputId": "a8c9b077-27f7-42f2-9452-7632de8eeb9e"
      },
      "execution_count": 5,
      "outputs": [
        {
          "output_type": "error",
          "ename": "ValueError",
          "evalue": "name cannot be empty",
          "traceback": [
            "\u001b[0;31m---------------------------------------------------------------------------\u001b[0m",
            "\u001b[0;31mValueError\u001b[0m                                Traceback (most recent call last)",
            "\u001b[0;32m<ipython-input-5-fcf9d8e03560>\u001b[0m in \u001b[0;36m<cell line: 0>\u001b[0;34m()\u001b[0m\n\u001b[0;32m----> 1\u001b[0;31m \u001b[0mstudent\u001b[0m\u001b[0;34m.\u001b[0m\u001b[0mname\u001b[0m \u001b[0;34m=\u001b[0m \u001b[0;34m\"\"\u001b[0m\u001b[0;34m\u001b[0m\u001b[0;34m\u001b[0m\u001b[0m\n\u001b[0m\u001b[1;32m      2\u001b[0m \u001b[0mstudent\u001b[0m\u001b[0;34m.\u001b[0m\u001b[0m__dict__\u001b[0m\u001b[0;34m\u001b[0m\u001b[0;34m\u001b[0m\u001b[0m\n",
            "\u001b[0;32m<ipython-input-2-0e38f9748338>\u001b[0m in \u001b[0;36mname\u001b[0;34m(self, value)\u001b[0m\n\u001b[1;32m     11\u001b[0m     \u001b[0;32mdef\u001b[0m \u001b[0mname\u001b[0m\u001b[0;34m(\u001b[0m\u001b[0mself\u001b[0m\u001b[0;34m,\u001b[0m\u001b[0mvalue\u001b[0m\u001b[0;34m)\u001b[0m\u001b[0;34m:\u001b[0m\u001b[0;34m\u001b[0m\u001b[0;34m\u001b[0m\u001b[0m\n\u001b[1;32m     12\u001b[0m       \u001b[0;32mif\u001b[0m \u001b[0;32mnot\u001b[0m \u001b[0mvalue\u001b[0m\u001b[0;34m:\u001b[0m\u001b[0;34m\u001b[0m\u001b[0;34m\u001b[0m\u001b[0m\n\u001b[0;32m---> 13\u001b[0;31m         \u001b[0;32mraise\u001b[0m \u001b[0mValueError\u001b[0m\u001b[0;34m(\u001b[0m\u001b[0;34m\"name cannot be empty\"\u001b[0m\u001b[0;34m)\u001b[0m\u001b[0;34m\u001b[0m\u001b[0;34m\u001b[0m\u001b[0m\n\u001b[0m\u001b[1;32m     14\u001b[0m         \u001b[0mself\u001b[0m\u001b[0;34m.\u001b[0m\u001b[0m_name\u001b[0m \u001b[0;34m=\u001b[0m \u001b[0mname\u001b[0m\u001b[0;34m\u001b[0m\u001b[0;34m\u001b[0m\u001b[0m\n\u001b[1;32m     15\u001b[0m \u001b[0;34m\u001b[0m\u001b[0m\n",
            "\u001b[0;31mValueError\u001b[0m: name cannot be empty"
          ]
        }
      ]
    },
    {
      "cell_type": "code",
      "source": [
        "class Student:\n",
        "    def __init__(self,name,age):\n",
        "        self._name = name\n",
        "        self._age = age"
      ],
      "metadata": {
        "id": "R00vhWsZrPfn"
      },
      "execution_count": 80,
      "outputs": []
    },
    {
      "cell_type": "code",
      "source": [
        "student = Student(\"John\",20)\n",
        "student.__dict__"
      ],
      "metadata": {
        "colab": {
          "base_uri": "https://localhost:8080/"
        },
        "id": "TOE5d062rfvM",
        "outputId": "4c03a65c-2979-4adc-8270-203d157bdd57"
      },
      "execution_count": 81,
      "outputs": [
        {
          "output_type": "execute_result",
          "data": {
            "text/plain": [
              "{'_name': 'John', '_age': 20}"
            ]
          },
          "metadata": {},
          "execution_count": 81
        }
      ]
    },
    {
      "cell_type": "code",
      "source": [
        "student.name = \"bob\"\n",
        "student.__dict__"
      ],
      "metadata": {
        "colab": {
          "base_uri": "https://localhost:8080/"
        },
        "id": "Hs9Atl_8rlQd",
        "outputId": "f6463521-33a8-42aa-ee3f-48e3de316645"
      },
      "execution_count": 82,
      "outputs": [
        {
          "output_type": "execute_result",
          "data": {
            "text/plain": [
              "{'_name': 'John', '_age': 20, 'name': 'bob'}"
            ]
          },
          "metadata": {},
          "execution_count": 82
        }
      ]
    },
    {
      "cell_type": "code",
      "source": [],
      "metadata": {
        "id": "xuJQg2vTrpPa"
      },
      "execution_count": null,
      "outputs": []
    },
    {
      "cell_type": "code",
      "source": [
        "#Inheritance\n",
        "#Method & Operator overloading"
      ],
      "metadata": {
        "id": "SXvYjUSLtfvM"
      },
      "execution_count": null,
      "outputs": []
    },
    {
      "cell_type": "code",
      "source": [
        "# classes & object"
      ],
      "metadata": {
        "id": "vwKTXQzuuQ5l"
      },
      "execution_count": null,
      "outputs": []
    }
  ]
}